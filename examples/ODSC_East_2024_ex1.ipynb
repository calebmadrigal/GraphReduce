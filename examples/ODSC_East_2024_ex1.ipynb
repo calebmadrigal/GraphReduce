{
 "cells": [
  {
   "cell_type": "code",
   "execution_count": 1,
   "id": "49158885",
   "metadata": {},
   "outputs": [
    {
     "name": "stderr",
     "output_type": "stream",
     "text": [
      "/Users/wesmadrigal/projects/graphreduce/venv/lib/python3.9/site-packages/dask/dataframe/_pyarrow_compat.py:23: UserWarning: You are using pyarrow version 8.0.0 which is known to be insecure. See https://www.cve.org/CVERecord?id=CVE-2023-47248 for further details. Please upgrade to pyarrow>=14.0.1 or install pyarrow-hotfix to patch your current version.\n",
      "  warnings.warn(\n"
     ]
    }
   ],
   "source": [
    "import pandas as pd\n",
    "import numpy as np\n",
    "import dask.dataframe as dd\n",
    "import matplotlib.pyplot as plt\n",
    "import seaborn as sns\n",
    "\n",
    "# feature selection\n",
    "from sklearn.decomposition import TruncatedSVD\n",
    "# classifier\n",
    "from sklearn.ensemble import RandomForestClassifier\n",
    "# tuning\n",
    "from sklearn.model_selection import GridSearchCV"
   ]
  },
  {
   "cell_type": "code",
   "execution_count": 2,
   "id": "9b9e976e",
   "metadata": {},
   "outputs": [],
   "source": [
    "%load_ext watermark"
   ]
  },
  {
   "cell_type": "code",
   "execution_count": 3,
   "id": "52a31f4b",
   "metadata": {},
   "outputs": [
    {
     "name": "stdout",
     "output_type": "stream",
     "text": [
      "Last updated: 2024-04-23T08:29:33.909999-04:00\n",
      "\n",
      "Python implementation: CPython\n",
      "Python version       : 3.9.18\n",
      "IPython version      : 8.3.0\n",
      "\n",
      "Compiler    : Clang 15.0.0 (clang-1500.1.0.2.5)\n",
      "OS          : Darwin\n",
      "Release     : 23.1.0\n",
      "Machine     : arm64\n",
      "Processor   : arm\n",
      "CPU cores   : 16\n",
      "Architecture: 64bit\n",
      "\n"
     ]
    }
   ],
   "source": [
    "%watermark"
   ]
  },
  {
   "cell_type": "code",
   "execution_count": 4,
   "id": "a3be27e5",
   "metadata": {},
   "outputs": [
    {
     "name": "stdout",
     "output_type": "stream",
     "text": [
      "total 48\r\n",
      "-rw-r--r--  1 wesmadrigal  staff   37 Apr 22 20:09 cust.csv\r\n",
      "-rw-r--r--  1 wesmadrigal  staff   50 Apr 22 20:09 notification_interaction_types.csv\r\n",
      "-rw-r--r--  1 wesmadrigal  staff  492 Apr 22 20:09 notification_interactions.csv\r\n",
      "-rw-r--r--  1 wesmadrigal  staff  307 Apr 22 20:09 notifications.csv\r\n",
      "-rw-r--r--  1 wesmadrigal  staff  147 Apr 22 20:09 order_products.csv\r\n",
      "-rw-r--r--  1 wesmadrigal  staff  153 Apr 22 20:09 orders.csv\r\n"
     ]
    }
   ],
   "source": [
    "!ls -l /Users/wesmadrigal/projects/graphreduce/tests/data/cust_data/"
   ]
  },
  {
   "cell_type": "code",
   "execution_count": 5,
   "id": "cfb750b5",
   "metadata": {},
   "outputs": [
    {
     "name": "stdout",
     "output_type": "stream",
     "text": [
      "id,name\r\n",
      "1,wes\r\n"
     ]
    }
   ],
   "source": [
    "!head -2 /Users/wesmadrigal/projects/graphreduce/tests/data/cust_data/cust.csv"
   ]
  },
  {
   "cell_type": "code",
   "execution_count": 6,
   "id": "0bd9b406",
   "metadata": {},
   "outputs": [
    {
     "name": "stdout",
     "output_type": "stream",
     "text": [
      "id,name\r\n",
      "1500,viewed\r\n"
     ]
    }
   ],
   "source": [
    "!head -2 /Users/wesmadrigal/projects/graphreduce/tests/data/cust_data/notification_interaction_types.csv"
   ]
  },
  {
   "cell_type": "code",
   "execution_count": 7,
   "id": "371b6afd",
   "metadata": {},
   "outputs": [
    {
     "name": "stdout",
     "output_type": "stream",
     "text": [
      "id,notification_id,interaction_type_id,ts\r\n",
      "1000,101,1500,2022-08-06\r\n"
     ]
    }
   ],
   "source": [
    "!head -2 /Users/wesmadrigal/projects/graphreduce/tests/data/cust_data/notification_interactions.csv"
   ]
  },
  {
   "cell_type": "code",
   "execution_count": 8,
   "id": "f031b4ba",
   "metadata": {},
   "outputs": [
    {
     "name": "stdout",
     "output_type": "stream",
     "text": [
      "id,customer_id,ts\r\n",
      "101,1,2022-08-05\r\n"
     ]
    }
   ],
   "source": [
    "!head -2 /Users/wesmadrigal/projects/graphreduce/tests/data/cust_data/notifications.csv"
   ]
  },
  {
   "cell_type": "code",
   "execution_count": 9,
   "id": "aeb92902",
   "metadata": {},
   "outputs": [
    {
     "name": "stdout",
     "output_type": "stream",
     "text": [
      "id,order_id,product_id\r\n",
      "1,1,1\r\n"
     ]
    }
   ],
   "source": [
    "!head -2 /Users/wesmadrigal/projects/graphreduce/tests/data/cust_data/order_products.csv"
   ]
  },
  {
   "cell_type": "code",
   "execution_count": 10,
   "id": "6335bfb6",
   "metadata": {},
   "outputs": [
    {
     "name": "stdout",
     "output_type": "stream",
     "text": [
      "id,customer_id,ts\r\n",
      "1,1,2023-05-12\r\n"
     ]
    }
   ],
   "source": [
    "!head -2 /Users/wesmadrigal/projects/graphreduce/tests/data/cust_data/orders.csv"
   ]
  },
  {
   "cell_type": "markdown",
   "id": "9012e41f",
   "metadata": {},
   "source": [
    "# Load the data frames and join the files together at the Customer level"
   ]
  },
  {
   "cell_type": "code",
   "execution_count": 11,
   "id": "59fddb31",
   "metadata": {},
   "outputs": [],
   "source": [
    "cust = pd.read_csv('/Users/wesmadrigal/projects/graphreduce/tests/data/cust_data/cust.csv')\n",
    "orders = pd.read_csv('/Users/wesmadrigal/projects/graphreduce/tests/data/cust_data/orders.csv')\n",
    "notif = pd.read_csv('/Users/wesmadrigal/projects/graphreduce/tests/data/cust_data/notifications.csv')\n",
    "ni = pd.read_csv('/Users/wesmadrigal/projects/graphreduce/tests/data/cust_data/notification_interactions.csv')\n",
    "nit = pd.read_csv('/Users/wesmadrigal/projects/graphreduce/tests/data/cust_data/notification_interaction_types.csv')\n",
    "op = pd.read_csv('/Users/wesmadrigal/projects/graphreduce/tests/data/cust_data/order_products.csv')\n"
   ]
  },
  {
   "cell_type": "code",
   "execution_count": 12,
   "id": "06a61ff7",
   "metadata": {},
   "outputs": [
    {
     "data": {
      "text/html": [
       "<div>\n",
       "<style scoped>\n",
       "    .dataframe tbody tr th:only-of-type {\n",
       "        vertical-align: middle;\n",
       "    }\n",
       "\n",
       "    .dataframe tbody tr th {\n",
       "        vertical-align: top;\n",
       "    }\n",
       "\n",
       "    .dataframe thead th {\n",
       "        text-align: right;\n",
       "    }\n",
       "</style>\n",
       "<table border=\"1\" class=\"dataframe\">\n",
       "  <thead>\n",
       "    <tr style=\"text-align: right;\">\n",
       "      <th></th>\n",
       "      <th>id</th>\n",
       "      <th>name</th>\n",
       "    </tr>\n",
       "  </thead>\n",
       "  <tbody>\n",
       "    <tr>\n",
       "      <th>0</th>\n",
       "      <td>1</td>\n",
       "      <td>wes</td>\n",
       "    </tr>\n",
       "    <tr>\n",
       "      <th>1</th>\n",
       "      <td>2</td>\n",
       "      <td>john</td>\n",
       "    </tr>\n",
       "  </tbody>\n",
       "</table>\n",
       "</div>"
      ],
      "text/plain": [
       "   id  name\n",
       "0   1   wes\n",
       "1   2  john"
      ]
     },
     "execution_count": 12,
     "metadata": {},
     "output_type": "execute_result"
    }
   ],
   "source": [
    "cust.head(2)"
   ]
  },
  {
   "cell_type": "code",
   "execution_count": 13,
   "id": "08831ccd",
   "metadata": {},
   "outputs": [],
   "source": [
    "# 5 joins:\n",
    "\n",
    "# notification interaction types references notification interactions\n",
    "# notification interactions references notifications\n",
    "# notifications references customers\n",
    "# order products references orders\n",
    "# orders references customers"
   ]
  },
  {
   "cell_type": "markdown",
   "id": "57446d96",
   "metadata": {},
   "source": [
    "## Merge notification_interaction_types.csv with notification_interactions.csv"
   ]
  },
  {
   "cell_type": "code",
   "execution_count": 14,
   "id": "1923dad7",
   "metadata": {},
   "outputs": [
    {
     "data": {
      "text/html": [
       "<div>\n",
       "<style scoped>\n",
       "    .dataframe tbody tr th:only-of-type {\n",
       "        vertical-align: middle;\n",
       "    }\n",
       "\n",
       "    .dataframe tbody tr th {\n",
       "        vertical-align: top;\n",
       "    }\n",
       "\n",
       "    .dataframe thead th {\n",
       "        text-align: right;\n",
       "    }\n",
       "</style>\n",
       "<table border=\"1\" class=\"dataframe\">\n",
       "  <thead>\n",
       "    <tr style=\"text-align: right;\">\n",
       "      <th></th>\n",
       "      <th>id</th>\n",
       "      <th>notification_id</th>\n",
       "      <th>interaction_type_id</th>\n",
       "      <th>ts</th>\n",
       "    </tr>\n",
       "  </thead>\n",
       "  <tbody>\n",
       "    <tr>\n",
       "      <th>0</th>\n",
       "      <td>1000</td>\n",
       "      <td>101</td>\n",
       "      <td>1500</td>\n",
       "      <td>2022-08-06</td>\n",
       "    </tr>\n",
       "    <tr>\n",
       "      <th>1</th>\n",
       "      <td>1001</td>\n",
       "      <td>101</td>\n",
       "      <td>1600</td>\n",
       "      <td>2022-08-07</td>\n",
       "    </tr>\n",
       "  </tbody>\n",
       "</table>\n",
       "</div>"
      ],
      "text/plain": [
       "     id  notification_id  interaction_type_id          ts\n",
       "0  1000              101                 1500  2022-08-06\n",
       "1  1001              101                 1600  2022-08-07"
      ]
     },
     "execution_count": 14,
     "metadata": {},
     "output_type": "execute_result"
    }
   ],
   "source": [
    "ni.head(2)"
   ]
  },
  {
   "cell_type": "code",
   "execution_count": 15,
   "id": "8db357c4",
   "metadata": {},
   "outputs": [
    {
     "data": {
      "text/plain": [
       "18"
      ]
     },
     "execution_count": 15,
     "metadata": {},
     "output_type": "execute_result"
    }
   ],
   "source": [
    "len(ni)"
   ]
  },
  {
   "cell_type": "code",
   "execution_count": 16,
   "id": "789b0cc3",
   "metadata": {},
   "outputs": [],
   "source": [
    "\n",
    "ni = ni.merge(nit, left_on='interaction_type_id',\n",
    "              right_on='id',\n",
    "                how='left', suffixes=('', '_y'))\n",
    "\n",
    "ni.drop(ni.filter(regex='_y$').columns, axis=1, inplace=True)"
   ]
  },
  {
   "cell_type": "code",
   "execution_count": 17,
   "id": "b863c54d",
   "metadata": {},
   "outputs": [
    {
     "data": {
      "text/html": [
       "<div>\n",
       "<style scoped>\n",
       "    .dataframe tbody tr th:only-of-type {\n",
       "        vertical-align: middle;\n",
       "    }\n",
       "\n",
       "    .dataframe tbody tr th {\n",
       "        vertical-align: top;\n",
       "    }\n",
       "\n",
       "    .dataframe thead th {\n",
       "        text-align: right;\n",
       "    }\n",
       "</style>\n",
       "<table border=\"1\" class=\"dataframe\">\n",
       "  <thead>\n",
       "    <tr style=\"text-align: right;\">\n",
       "      <th></th>\n",
       "      <th>id</th>\n",
       "      <th>notification_id</th>\n",
       "      <th>interaction_type_id</th>\n",
       "      <th>ts</th>\n",
       "      <th>name</th>\n",
       "    </tr>\n",
       "  </thead>\n",
       "  <tbody>\n",
       "    <tr>\n",
       "      <th>0</th>\n",
       "      <td>1000</td>\n",
       "      <td>101</td>\n",
       "      <td>1500</td>\n",
       "      <td>2022-08-06</td>\n",
       "      <td>viewed</td>\n",
       "    </tr>\n",
       "    <tr>\n",
       "      <th>1</th>\n",
       "      <td>1001</td>\n",
       "      <td>101</td>\n",
       "      <td>1600</td>\n",
       "      <td>2022-08-07</td>\n",
       "      <td>opened</td>\n",
       "    </tr>\n",
       "  </tbody>\n",
       "</table>\n",
       "</div>"
      ],
      "text/plain": [
       "     id  notification_id  interaction_type_id          ts    name\n",
       "0  1000              101                 1500  2022-08-06  viewed\n",
       "1  1001              101                 1600  2022-08-07  opened"
      ]
     },
     "execution_count": 17,
     "metadata": {},
     "output_type": "execute_result"
    }
   ],
   "source": [
    "ni.head(2)"
   ]
  },
  {
   "cell_type": "code",
   "execution_count": 18,
   "id": "80836857",
   "metadata": {},
   "outputs": [
    {
     "data": {
      "text/plain": [
       "18"
      ]
     },
     "execution_count": 18,
     "metadata": {},
     "output_type": "execute_result"
    }
   ],
   "source": [
    "len(ni)"
   ]
  },
  {
   "cell_type": "markdown",
   "id": "6d4795f6",
   "metadata": {},
   "source": [
    "## Merge notification_interactions.csv with notifications.csv"
   ]
  },
  {
   "cell_type": "code",
   "execution_count": 19,
   "id": "c29893df",
   "metadata": {},
   "outputs": [
    {
     "data": {
      "text/html": [
       "<div>\n",
       "<style scoped>\n",
       "    .dataframe tbody tr th:only-of-type {\n",
       "        vertical-align: middle;\n",
       "    }\n",
       "\n",
       "    .dataframe tbody tr th {\n",
       "        vertical-align: top;\n",
       "    }\n",
       "\n",
       "    .dataframe thead th {\n",
       "        text-align: right;\n",
       "    }\n",
       "</style>\n",
       "<table border=\"1\" class=\"dataframe\">\n",
       "  <thead>\n",
       "    <tr style=\"text-align: right;\">\n",
       "      <th></th>\n",
       "      <th>id</th>\n",
       "      <th>customer_id</th>\n",
       "      <th>ts</th>\n",
       "    </tr>\n",
       "  </thead>\n",
       "  <tbody>\n",
       "    <tr>\n",
       "      <th>0</th>\n",
       "      <td>101</td>\n",
       "      <td>1</td>\n",
       "      <td>2022-08-05</td>\n",
       "    </tr>\n",
       "    <tr>\n",
       "      <th>1</th>\n",
       "      <td>102</td>\n",
       "      <td>1</td>\n",
       "      <td>2023-01-01</td>\n",
       "    </tr>\n",
       "  </tbody>\n",
       "</table>\n",
       "</div>"
      ],
      "text/plain": [
       "    id  customer_id          ts\n",
       "0  101            1  2022-08-05\n",
       "1  102            1  2023-01-01"
      ]
     },
     "execution_count": 19,
     "metadata": {},
     "output_type": "execute_result"
    }
   ],
   "source": [
    "notif.head(2)"
   ]
  },
  {
   "cell_type": "code",
   "execution_count": 20,
   "id": "3507c709",
   "metadata": {},
   "outputs": [
    {
     "data": {
      "text/plain": [
       "17"
      ]
     },
     "execution_count": 20,
     "metadata": {},
     "output_type": "execute_result"
    }
   ],
   "source": [
    "len(notif)"
   ]
  },
  {
   "cell_type": "code",
   "execution_count": 21,
   "id": "d7235b3a",
   "metadata": {},
   "outputs": [],
   "source": [
    "notif = notif.merge(ni,\n",
    "           left_on='id',\n",
    "           right_on='notification_id',\n",
    "           suffixes=('','_y'),\n",
    "           how='left'\n",
    "           )\n"
   ]
  },
  {
   "cell_type": "code",
   "execution_count": 22,
   "id": "9fab6a2f",
   "metadata": {},
   "outputs": [],
   "source": [
    "notif.drop(notif.filter(regex='_y$').columns, axis=1, inplace=True)"
   ]
  },
  {
   "cell_type": "code",
   "execution_count": 23,
   "id": "1b76a49d",
   "metadata": {},
   "outputs": [
    {
     "data": {
      "text/html": [
       "<div>\n",
       "<style scoped>\n",
       "    .dataframe tbody tr th:only-of-type {\n",
       "        vertical-align: middle;\n",
       "    }\n",
       "\n",
       "    .dataframe tbody tr th {\n",
       "        vertical-align: top;\n",
       "    }\n",
       "\n",
       "    .dataframe thead th {\n",
       "        text-align: right;\n",
       "    }\n",
       "</style>\n",
       "<table border=\"1\" class=\"dataframe\">\n",
       "  <thead>\n",
       "    <tr style=\"text-align: right;\">\n",
       "      <th></th>\n",
       "      <th>id</th>\n",
       "      <th>customer_id</th>\n",
       "      <th>ts</th>\n",
       "      <th>notification_id</th>\n",
       "      <th>interaction_type_id</th>\n",
       "      <th>name</th>\n",
       "    </tr>\n",
       "  </thead>\n",
       "  <tbody>\n",
       "    <tr>\n",
       "      <th>0</th>\n",
       "      <td>101</td>\n",
       "      <td>1</td>\n",
       "      <td>2022-08-05</td>\n",
       "      <td>101.0</td>\n",
       "      <td>1500.0</td>\n",
       "      <td>viewed</td>\n",
       "    </tr>\n",
       "    <tr>\n",
       "      <th>1</th>\n",
       "      <td>101</td>\n",
       "      <td>1</td>\n",
       "      <td>2022-08-05</td>\n",
       "      <td>101.0</td>\n",
       "      <td>1600.0</td>\n",
       "      <td>opened</td>\n",
       "    </tr>\n",
       "  </tbody>\n",
       "</table>\n",
       "</div>"
      ],
      "text/plain": [
       "    id  customer_id          ts  notification_id  interaction_type_id    name\n",
       "0  101            1  2022-08-05            101.0               1500.0  viewed\n",
       "1  101            1  2022-08-05            101.0               1600.0  opened"
      ]
     },
     "execution_count": 23,
     "metadata": {},
     "output_type": "execute_result"
    }
   ],
   "source": [
    "notif.head(2)"
   ]
  },
  {
   "cell_type": "code",
   "execution_count": 24,
   "id": "d14164bf",
   "metadata": {},
   "outputs": [
    {
     "data": {
      "text/plain": [
       "25"
      ]
     },
     "execution_count": 24,
     "metadata": {},
     "output_type": "execute_result"
    }
   ],
   "source": [
    "len(notif)"
   ]
  },
  {
   "cell_type": "markdown",
   "id": "0d803797",
   "metadata": {},
   "source": [
    "## Merge notifications.csv with cust.csv"
   ]
  },
  {
   "cell_type": "code",
   "execution_count": 25,
   "id": "2b9b9f7f",
   "metadata": {},
   "outputs": [
    {
     "data": {
      "text/plain": [
       "4"
      ]
     },
     "execution_count": 25,
     "metadata": {},
     "output_type": "execute_result"
    }
   ],
   "source": [
    "len(cust)"
   ]
  },
  {
   "cell_type": "code",
   "execution_count": 26,
   "id": "a8996924",
   "metadata": {},
   "outputs": [
    {
     "data": {
      "text/html": [
       "<div>\n",
       "<style scoped>\n",
       "    .dataframe tbody tr th:only-of-type {\n",
       "        vertical-align: middle;\n",
       "    }\n",
       "\n",
       "    .dataframe tbody tr th {\n",
       "        vertical-align: top;\n",
       "    }\n",
       "\n",
       "    .dataframe thead th {\n",
       "        text-align: right;\n",
       "    }\n",
       "</style>\n",
       "<table border=\"1\" class=\"dataframe\">\n",
       "  <thead>\n",
       "    <tr style=\"text-align: right;\">\n",
       "      <th></th>\n",
       "      <th>id</th>\n",
       "      <th>name</th>\n",
       "    </tr>\n",
       "  </thead>\n",
       "  <tbody>\n",
       "    <tr>\n",
       "      <th>0</th>\n",
       "      <td>1</td>\n",
       "      <td>wes</td>\n",
       "    </tr>\n",
       "    <tr>\n",
       "      <th>1</th>\n",
       "      <td>2</td>\n",
       "      <td>john</td>\n",
       "    </tr>\n",
       "  </tbody>\n",
       "</table>\n",
       "</div>"
      ],
      "text/plain": [
       "   id  name\n",
       "0   1   wes\n",
       "1   2  john"
      ]
     },
     "execution_count": 26,
     "metadata": {},
     "output_type": "execute_result"
    }
   ],
   "source": [
    "cust.head(2)"
   ]
  },
  {
   "cell_type": "code",
   "execution_count": 27,
   "id": "d7501ffc",
   "metadata": {},
   "outputs": [],
   "source": [
    "cust = cust.merge(notif,\n",
    "           left_on='id',\n",
    "           right_on='customer_id',\n",
    "           suffixes=('','_y'),\n",
    "           how='left'\n",
    "           )\n",
    "cust.drop(cust.filter(regex='_y$').columns, axis=1, inplace=True)"
   ]
  },
  {
   "cell_type": "code",
   "execution_count": 28,
   "id": "9a8a9a44",
   "metadata": {},
   "outputs": [
    {
     "data": {
      "text/plain": [
       "25"
      ]
     },
     "execution_count": 28,
     "metadata": {},
     "output_type": "execute_result"
    }
   ],
   "source": [
    "len(cust)"
   ]
  },
  {
   "cell_type": "code",
   "execution_count": 29,
   "id": "d3d81ab2",
   "metadata": {},
   "outputs": [
    {
     "data": {
      "text/html": [
       "<div>\n",
       "<style scoped>\n",
       "    .dataframe tbody tr th:only-of-type {\n",
       "        vertical-align: middle;\n",
       "    }\n",
       "\n",
       "    .dataframe tbody tr th {\n",
       "        vertical-align: top;\n",
       "    }\n",
       "\n",
       "    .dataframe thead th {\n",
       "        text-align: right;\n",
       "    }\n",
       "</style>\n",
       "<table border=\"1\" class=\"dataframe\">\n",
       "  <thead>\n",
       "    <tr style=\"text-align: right;\">\n",
       "      <th></th>\n",
       "      <th>id</th>\n",
       "      <th>name</th>\n",
       "      <th>customer_id</th>\n",
       "      <th>ts</th>\n",
       "      <th>notification_id</th>\n",
       "      <th>interaction_type_id</th>\n",
       "    </tr>\n",
       "  </thead>\n",
       "  <tbody>\n",
       "    <tr>\n",
       "      <th>0</th>\n",
       "      <td>1</td>\n",
       "      <td>wes</td>\n",
       "      <td>1</td>\n",
       "      <td>2022-08-05</td>\n",
       "      <td>101.0</td>\n",
       "      <td>1500.0</td>\n",
       "    </tr>\n",
       "    <tr>\n",
       "      <th>1</th>\n",
       "      <td>1</td>\n",
       "      <td>wes</td>\n",
       "      <td>1</td>\n",
       "      <td>2022-08-05</td>\n",
       "      <td>101.0</td>\n",
       "      <td>1600.0</td>\n",
       "    </tr>\n",
       "  </tbody>\n",
       "</table>\n",
       "</div>"
      ],
      "text/plain": [
       "   id name  customer_id          ts  notification_id  interaction_type_id\n",
       "0   1  wes            1  2022-08-05            101.0               1500.0\n",
       "1   1  wes            1  2022-08-05            101.0               1600.0"
      ]
     },
     "execution_count": 29,
     "metadata": {},
     "output_type": "execute_result"
    }
   ],
   "source": [
    "cust.head(2)"
   ]
  },
  {
   "cell_type": "markdown",
   "id": "91be632a",
   "metadata": {},
   "source": [
    "## Merge order_products.csv with orders.csv"
   ]
  },
  {
   "cell_type": "code",
   "execution_count": 30,
   "id": "46508337",
   "metadata": {},
   "outputs": [
    {
     "data": {
      "text/html": [
       "<div>\n",
       "<style scoped>\n",
       "    .dataframe tbody tr th:only-of-type {\n",
       "        vertical-align: middle;\n",
       "    }\n",
       "\n",
       "    .dataframe tbody tr th {\n",
       "        vertical-align: top;\n",
       "    }\n",
       "\n",
       "    .dataframe thead th {\n",
       "        text-align: right;\n",
       "    }\n",
       "</style>\n",
       "<table border=\"1\" class=\"dataframe\">\n",
       "  <thead>\n",
       "    <tr style=\"text-align: right;\">\n",
       "      <th></th>\n",
       "      <th>id</th>\n",
       "      <th>order_id</th>\n",
       "      <th>product_id</th>\n",
       "    </tr>\n",
       "  </thead>\n",
       "  <tbody>\n",
       "    <tr>\n",
       "      <th>0</th>\n",
       "      <td>1</td>\n",
       "      <td>1</td>\n",
       "      <td>1</td>\n",
       "    </tr>\n",
       "    <tr>\n",
       "      <th>1</th>\n",
       "      <td>2</td>\n",
       "      <td>1</td>\n",
       "      <td>2</td>\n",
       "    </tr>\n",
       "  </tbody>\n",
       "</table>\n",
       "</div>"
      ],
      "text/plain": [
       "   id  order_id  product_id\n",
       "0   1         1           1\n",
       "1   2         1           2"
      ]
     },
     "execution_count": 30,
     "metadata": {},
     "output_type": "execute_result"
    }
   ],
   "source": [
    "op.head(2)"
   ]
  },
  {
   "cell_type": "code",
   "execution_count": 31,
   "id": "451f9634",
   "metadata": {},
   "outputs": [
    {
     "data": {
      "text/html": [
       "<div>\n",
       "<style scoped>\n",
       "    .dataframe tbody tr th:only-of-type {\n",
       "        vertical-align: middle;\n",
       "    }\n",
       "\n",
       "    .dataframe tbody tr th {\n",
       "        vertical-align: top;\n",
       "    }\n",
       "\n",
       "    .dataframe thead th {\n",
       "        text-align: right;\n",
       "    }\n",
       "</style>\n",
       "<table border=\"1\" class=\"dataframe\">\n",
       "  <thead>\n",
       "    <tr style=\"text-align: right;\">\n",
       "      <th></th>\n",
       "      <th>id</th>\n",
       "      <th>customer_id</th>\n",
       "      <th>ts</th>\n",
       "    </tr>\n",
       "  </thead>\n",
       "  <tbody>\n",
       "    <tr>\n",
       "      <th>0</th>\n",
       "      <td>1</td>\n",
       "      <td>1</td>\n",
       "      <td>2023-05-12</td>\n",
       "    </tr>\n",
       "    <tr>\n",
       "      <th>1</th>\n",
       "      <td>2</td>\n",
       "      <td>1</td>\n",
       "      <td>2023-06-01</td>\n",
       "    </tr>\n",
       "  </tbody>\n",
       "</table>\n",
       "</div>"
      ],
      "text/plain": [
       "   id  customer_id          ts\n",
       "0   1            1  2023-05-12\n",
       "1   2            1  2023-06-01"
      ]
     },
     "execution_count": 31,
     "metadata": {},
     "output_type": "execute_result"
    }
   ],
   "source": [
    "orders.head(2)"
   ]
  },
  {
   "cell_type": "code",
   "execution_count": 32,
   "id": "876d7ff0",
   "metadata": {},
   "outputs": [
    {
     "data": {
      "text/plain": [
       "9"
      ]
     },
     "execution_count": 32,
     "metadata": {},
     "output_type": "execute_result"
    }
   ],
   "source": [
    "len(orders)"
   ]
  },
  {
   "cell_type": "code",
   "execution_count": 33,
   "id": "8c4605ae",
   "metadata": {},
   "outputs": [],
   "source": [
    "orders = orders.merge(\n",
    "    op,\n",
    "    how='left',\n",
    "    left_on='id',\n",
    "    right_on='order_id',\n",
    "    suffixes=('','_y')\n",
    ")"
   ]
  },
  {
   "cell_type": "code",
   "execution_count": 34,
   "id": "da3f9d7a",
   "metadata": {},
   "outputs": [
    {
     "data": {
      "text/plain": [
       "22"
      ]
     },
     "execution_count": 34,
     "metadata": {},
     "output_type": "execute_result"
    }
   ],
   "source": [
    "len(orders)"
   ]
  },
  {
   "cell_type": "code",
   "execution_count": 35,
   "id": "0689e4b6",
   "metadata": {},
   "outputs": [],
   "source": [
    "orders.drop(orders.filter(regex='_y$').columns, axis=1, inplace=True)"
   ]
  },
  {
   "cell_type": "code",
   "execution_count": 36,
   "id": "dcb678aa",
   "metadata": {},
   "outputs": [
    {
     "data": {
      "text/html": [
       "<div>\n",
       "<style scoped>\n",
       "    .dataframe tbody tr th:only-of-type {\n",
       "        vertical-align: middle;\n",
       "    }\n",
       "\n",
       "    .dataframe tbody tr th {\n",
       "        vertical-align: top;\n",
       "    }\n",
       "\n",
       "    .dataframe thead th {\n",
       "        text-align: right;\n",
       "    }\n",
       "</style>\n",
       "<table border=\"1\" class=\"dataframe\">\n",
       "  <thead>\n",
       "    <tr style=\"text-align: right;\">\n",
       "      <th></th>\n",
       "      <th>id</th>\n",
       "      <th>customer_id</th>\n",
       "      <th>ts</th>\n",
       "      <th>order_id</th>\n",
       "      <th>product_id</th>\n",
       "    </tr>\n",
       "  </thead>\n",
       "  <tbody>\n",
       "    <tr>\n",
       "      <th>0</th>\n",
       "      <td>1</td>\n",
       "      <td>1</td>\n",
       "      <td>2023-05-12</td>\n",
       "      <td>1.0</td>\n",
       "      <td>1.0</td>\n",
       "    </tr>\n",
       "    <tr>\n",
       "      <th>1</th>\n",
       "      <td>1</td>\n",
       "      <td>1</td>\n",
       "      <td>2023-05-12</td>\n",
       "      <td>1.0</td>\n",
       "      <td>2.0</td>\n",
       "    </tr>\n",
       "  </tbody>\n",
       "</table>\n",
       "</div>"
      ],
      "text/plain": [
       "   id  customer_id          ts  order_id  product_id\n",
       "0   1            1  2023-05-12       1.0         1.0\n",
       "1   1            1  2023-05-12       1.0         2.0"
      ]
     },
     "execution_count": 36,
     "metadata": {},
     "output_type": "execute_result"
    }
   ],
   "source": [
    "orders.head(2)"
   ]
  },
  {
   "cell_type": "markdown",
   "id": "70d7c2ff",
   "metadata": {},
   "source": [
    "## Merge orders.csv with cust.csv"
   ]
  },
  {
   "cell_type": "code",
   "execution_count": 37,
   "id": "dac8d539",
   "metadata": {},
   "outputs": [
    {
     "data": {
      "text/html": [
       "<div>\n",
       "<style scoped>\n",
       "    .dataframe tbody tr th:only-of-type {\n",
       "        vertical-align: middle;\n",
       "    }\n",
       "\n",
       "    .dataframe tbody tr th {\n",
       "        vertical-align: top;\n",
       "    }\n",
       "\n",
       "    .dataframe thead th {\n",
       "        text-align: right;\n",
       "    }\n",
       "</style>\n",
       "<table border=\"1\" class=\"dataframe\">\n",
       "  <thead>\n",
       "    <tr style=\"text-align: right;\">\n",
       "      <th></th>\n",
       "      <th>id</th>\n",
       "      <th>name</th>\n",
       "      <th>customer_id</th>\n",
       "      <th>ts</th>\n",
       "      <th>notification_id</th>\n",
       "      <th>interaction_type_id</th>\n",
       "      <th>id_y</th>\n",
       "      <th>customer_id_y</th>\n",
       "      <th>ts_y</th>\n",
       "      <th>order_id</th>\n",
       "      <th>product_id</th>\n",
       "    </tr>\n",
       "  </thead>\n",
       "  <tbody>\n",
       "    <tr>\n",
       "      <th>0</th>\n",
       "      <td>1</td>\n",
       "      <td>wes</td>\n",
       "      <td>1</td>\n",
       "      <td>2022-08-05</td>\n",
       "      <td>101.0</td>\n",
       "      <td>1500.0</td>\n",
       "      <td>1</td>\n",
       "      <td>1</td>\n",
       "      <td>2023-05-12</td>\n",
       "      <td>1.0</td>\n",
       "      <td>1.0</td>\n",
       "    </tr>\n",
       "    <tr>\n",
       "      <th>1</th>\n",
       "      <td>1</td>\n",
       "      <td>wes</td>\n",
       "      <td>1</td>\n",
       "      <td>2022-08-05</td>\n",
       "      <td>101.0</td>\n",
       "      <td>1500.0</td>\n",
       "      <td>1</td>\n",
       "      <td>1</td>\n",
       "      <td>2023-05-12</td>\n",
       "      <td>1.0</td>\n",
       "      <td>2.0</td>\n",
       "    </tr>\n",
       "    <tr>\n",
       "      <th>2</th>\n",
       "      <td>1</td>\n",
       "      <td>wes</td>\n",
       "      <td>1</td>\n",
       "      <td>2022-08-05</td>\n",
       "      <td>101.0</td>\n",
       "      <td>1500.0</td>\n",
       "      <td>1</td>\n",
       "      <td>1</td>\n",
       "      <td>2023-05-12</td>\n",
       "      <td>1.0</td>\n",
       "      <td>3.0</td>\n",
       "    </tr>\n",
       "    <tr>\n",
       "      <th>3</th>\n",
       "      <td>1</td>\n",
       "      <td>wes</td>\n",
       "      <td>1</td>\n",
       "      <td>2022-08-05</td>\n",
       "      <td>101.0</td>\n",
       "      <td>1500.0</td>\n",
       "      <td>1</td>\n",
       "      <td>1</td>\n",
       "      <td>2023-05-12</td>\n",
       "      <td>1.0</td>\n",
       "      <td>4.0</td>\n",
       "    </tr>\n",
       "    <tr>\n",
       "      <th>4</th>\n",
       "      <td>1</td>\n",
       "      <td>wes</td>\n",
       "      <td>1</td>\n",
       "      <td>2022-08-05</td>\n",
       "      <td>101.0</td>\n",
       "      <td>1500.0</td>\n",
       "      <td>2</td>\n",
       "      <td>1</td>\n",
       "      <td>2023-06-01</td>\n",
       "      <td>2.0</td>\n",
       "      <td>1.0</td>\n",
       "    </tr>\n",
       "    <tr>\n",
       "      <th>...</th>\n",
       "      <td>...</td>\n",
       "      <td>...</td>\n",
       "      <td>...</td>\n",
       "      <td>...</td>\n",
       "      <td>...</td>\n",
       "      <td>...</td>\n",
       "      <td>...</td>\n",
       "      <td>...</td>\n",
       "      <td>...</td>\n",
       "      <td>...</td>\n",
       "      <td>...</td>\n",
       "    </tr>\n",
       "    <tr>\n",
       "      <th>204</th>\n",
       "      <td>3</td>\n",
       "      <td>ryan</td>\n",
       "      <td>3</td>\n",
       "      <td>2023-09-01</td>\n",
       "      <td>NaN</td>\n",
       "      <td>NaN</td>\n",
       "      <td>5</td>\n",
       "      <td>3</td>\n",
       "      <td>2023-06-01</td>\n",
       "      <td>5.0</td>\n",
       "      <td>2.0</td>\n",
       "    </tr>\n",
       "    <tr>\n",
       "      <th>205</th>\n",
       "      <td>4</td>\n",
       "      <td>tianji</td>\n",
       "      <td>4</td>\n",
       "      <td>2024-02-01</td>\n",
       "      <td>NaN</td>\n",
       "      <td>NaN</td>\n",
       "      <td>8</td>\n",
       "      <td>4</td>\n",
       "      <td>2024-01-01</td>\n",
       "      <td>NaN</td>\n",
       "      <td>NaN</td>\n",
       "    </tr>\n",
       "    <tr>\n",
       "      <th>206</th>\n",
       "      <td>4</td>\n",
       "      <td>tianji</td>\n",
       "      <td>4</td>\n",
       "      <td>2024-02-01</td>\n",
       "      <td>NaN</td>\n",
       "      <td>NaN</td>\n",
       "      <td>9</td>\n",
       "      <td>4</td>\n",
       "      <td>2024-02-01</td>\n",
       "      <td>NaN</td>\n",
       "      <td>NaN</td>\n",
       "    </tr>\n",
       "    <tr>\n",
       "      <th>207</th>\n",
       "      <td>4</td>\n",
       "      <td>tianji</td>\n",
       "      <td>4</td>\n",
       "      <td>2024-02-15</td>\n",
       "      <td>NaN</td>\n",
       "      <td>NaN</td>\n",
       "      <td>8</td>\n",
       "      <td>4</td>\n",
       "      <td>2024-01-01</td>\n",
       "      <td>NaN</td>\n",
       "      <td>NaN</td>\n",
       "    </tr>\n",
       "    <tr>\n",
       "      <th>208</th>\n",
       "      <td>4</td>\n",
       "      <td>tianji</td>\n",
       "      <td>4</td>\n",
       "      <td>2024-02-15</td>\n",
       "      <td>NaN</td>\n",
       "      <td>NaN</td>\n",
       "      <td>9</td>\n",
       "      <td>4</td>\n",
       "      <td>2024-02-01</td>\n",
       "      <td>NaN</td>\n",
       "      <td>NaN</td>\n",
       "    </tr>\n",
       "  </tbody>\n",
       "</table>\n",
       "<p>209 rows × 11 columns</p>\n",
       "</div>"
      ],
      "text/plain": [
       "     id    name  customer_id          ts  notification_id  \\\n",
       "0     1     wes            1  2022-08-05            101.0   \n",
       "1     1     wes            1  2022-08-05            101.0   \n",
       "2     1     wes            1  2022-08-05            101.0   \n",
       "3     1     wes            1  2022-08-05            101.0   \n",
       "4     1     wes            1  2022-08-05            101.0   \n",
       "..   ..     ...          ...         ...              ...   \n",
       "204   3    ryan            3  2023-09-01              NaN   \n",
       "205   4  tianji            4  2024-02-01              NaN   \n",
       "206   4  tianji            4  2024-02-01              NaN   \n",
       "207   4  tianji            4  2024-02-15              NaN   \n",
       "208   4  tianji            4  2024-02-15              NaN   \n",
       "\n",
       "     interaction_type_id  id_y  customer_id_y        ts_y  order_id  \\\n",
       "0                 1500.0     1              1  2023-05-12       1.0   \n",
       "1                 1500.0     1              1  2023-05-12       1.0   \n",
       "2                 1500.0     1              1  2023-05-12       1.0   \n",
       "3                 1500.0     1              1  2023-05-12       1.0   \n",
       "4                 1500.0     2              1  2023-06-01       2.0   \n",
       "..                   ...   ...            ...         ...       ...   \n",
       "204                  NaN     5              3  2023-06-01       5.0   \n",
       "205                  NaN     8              4  2024-01-01       NaN   \n",
       "206                  NaN     9              4  2024-02-01       NaN   \n",
       "207                  NaN     8              4  2024-01-01       NaN   \n",
       "208                  NaN     9              4  2024-02-01       NaN   \n",
       "\n",
       "     product_id  \n",
       "0           1.0  \n",
       "1           2.0  \n",
       "2           3.0  \n",
       "3           4.0  \n",
       "4           1.0  \n",
       "..          ...  \n",
       "204         2.0  \n",
       "205         NaN  \n",
       "206         NaN  \n",
       "207         NaN  \n",
       "208         NaN  \n",
       "\n",
       "[209 rows x 11 columns]"
      ]
     },
     "execution_count": 37,
     "metadata": {},
     "output_type": "execute_result"
    }
   ],
   "source": [
    "cust.merge(orders,\n",
    "          how='left',\n",
    "          left_on='id',\n",
    "          right_on='customer_id',\n",
    "          suffixes=('','_y'))"
   ]
  },
  {
   "cell_type": "code",
   "execution_count": 38,
   "id": "b67dbff1",
   "metadata": {},
   "outputs": [],
   "source": [
    "cust = cust.merge(orders,\n",
    "          how='left',\n",
    "          left_on='id',\n",
    "          right_on='customer_id',\n",
    "          suffixes=('','_y'))\n",
    "cust.drop(cust.filter(regex='_y$').columns, axis=1, inplace=True)"
   ]
  },
  {
   "cell_type": "code",
   "execution_count": 39,
   "id": "40dc0836",
   "metadata": {},
   "outputs": [
    {
     "data": {
      "text/html": [
       "<div>\n",
       "<style scoped>\n",
       "    .dataframe tbody tr th:only-of-type {\n",
       "        vertical-align: middle;\n",
       "    }\n",
       "\n",
       "    .dataframe tbody tr th {\n",
       "        vertical-align: top;\n",
       "    }\n",
       "\n",
       "    .dataframe thead th {\n",
       "        text-align: right;\n",
       "    }\n",
       "</style>\n",
       "<table border=\"1\" class=\"dataframe\">\n",
       "  <thead>\n",
       "    <tr style=\"text-align: right;\">\n",
       "      <th></th>\n",
       "      <th>id</th>\n",
       "      <th>name</th>\n",
       "      <th>customer_id</th>\n",
       "      <th>ts</th>\n",
       "      <th>notification_id</th>\n",
       "      <th>interaction_type_id</th>\n",
       "      <th>order_id</th>\n",
       "      <th>product_id</th>\n",
       "    </tr>\n",
       "  </thead>\n",
       "  <tbody>\n",
       "    <tr>\n",
       "      <th>0</th>\n",
       "      <td>1</td>\n",
       "      <td>wes</td>\n",
       "      <td>1</td>\n",
       "      <td>2022-08-05</td>\n",
       "      <td>101.0</td>\n",
       "      <td>1500.0</td>\n",
       "      <td>1.0</td>\n",
       "      <td>1.0</td>\n",
       "    </tr>\n",
       "    <tr>\n",
       "      <th>1</th>\n",
       "      <td>1</td>\n",
       "      <td>wes</td>\n",
       "      <td>1</td>\n",
       "      <td>2022-08-05</td>\n",
       "      <td>101.0</td>\n",
       "      <td>1500.0</td>\n",
       "      <td>1.0</td>\n",
       "      <td>2.0</td>\n",
       "    </tr>\n",
       "  </tbody>\n",
       "</table>\n",
       "</div>"
      ],
      "text/plain": [
       "   id name  customer_id          ts  notification_id  interaction_type_id  \\\n",
       "0   1  wes            1  2022-08-05            101.0               1500.0   \n",
       "1   1  wes            1  2022-08-05            101.0               1500.0   \n",
       "\n",
       "   order_id  product_id  \n",
       "0       1.0         1.0  \n",
       "1       1.0         2.0  "
      ]
     },
     "execution_count": 39,
     "metadata": {},
     "output_type": "execute_result"
    }
   ],
   "source": [
    "cust.head(2)"
   ]
  },
  {
   "cell_type": "code",
   "execution_count": 40,
   "id": "89fa8881",
   "metadata": {},
   "outputs": [
    {
     "data": {
      "text/plain": [
       "209"
      ]
     },
     "execution_count": 40,
     "metadata": {},
     "output_type": "execute_result"
    }
   ],
   "source": [
    "len(cust)"
   ]
  },
  {
   "cell_type": "markdown",
   "id": "91560159",
   "metadata": {},
   "source": [
    "## This isn't right...\n",
    "## There shouldn't be 209 rows there are only 4 customers\n",
    "## We have to be sure to aggregate before each join"
   ]
  },
  {
   "cell_type": "code",
   "execution_count": 41,
   "id": "bd35d270",
   "metadata": {},
   "outputs": [],
   "source": [
    "# notification_interaction_types.csv and join to notification_interactions.csv"
   ]
  },
  {
   "cell_type": "code",
   "execution_count": 42,
   "id": "c15a0b53",
   "metadata": {},
   "outputs": [],
   "source": [
    "cust = pd.read_csv('/Users/wesmadrigal/projects/graphreduce/tests/data/cust_data/cust.csv')\n",
    "orders = pd.read_csv('/Users/wesmadrigal/projects/graphreduce/tests/data/cust_data/orders.csv')\n",
    "notif = pd.read_csv('/Users/wesmadrigal/projects/graphreduce/tests/data/cust_data/notifications.csv')\n",
    "ni = pd.read_csv('/Users/wesmadrigal/projects/graphreduce/tests/data/cust_data/notification_interactions.csv')\n",
    "nit = pd.read_csv('/Users/wesmadrigal/projects/graphreduce/tests/data/cust_data/notification_interaction_types.csv')\n",
    "op = pd.read_csv('/Users/wesmadrigal/projects/graphreduce/tests/data/cust_data/order_products.csv')\n"
   ]
  },
  {
   "cell_type": "code",
   "execution_count": 43,
   "id": "326e500c",
   "metadata": {},
   "outputs": [
    {
     "data": {
      "text/plain": [
       "3"
      ]
     },
     "execution_count": 43,
     "metadata": {},
     "output_type": "execute_result"
    }
   ],
   "source": [
    "len(nit)"
   ]
  },
  {
   "cell_type": "code",
   "execution_count": 44,
   "id": "5028e492",
   "metadata": {},
   "outputs": [
    {
     "data": {
      "text/plain": [
       "18"
      ]
     },
     "execution_count": 44,
     "metadata": {},
     "output_type": "execute_result"
    }
   ],
   "source": [
    "len(ni)"
   ]
  },
  {
   "cell_type": "code",
   "execution_count": 45,
   "id": "3984621b",
   "metadata": {},
   "outputs": [],
   "source": [
    "ni = ni.merge(nit, left_on='interaction_type_id',\n",
    "              right_on='id',\n",
    "                how='left', suffixes=('', '_y'))\n",
    "\n",
    "ni.drop(ni.filter(regex='_y$').columns, axis=1, inplace=True)"
   ]
  },
  {
   "cell_type": "code",
   "execution_count": 46,
   "id": "973b4975",
   "metadata": {},
   "outputs": [
    {
     "data": {
      "text/plain": [
       "18"
      ]
     },
     "execution_count": 46,
     "metadata": {},
     "output_type": "execute_result"
    }
   ],
   "source": [
    "len(ni)\n"
   ]
  },
  {
   "cell_type": "code",
   "execution_count": 47,
   "id": "22ba9b38",
   "metadata": {},
   "outputs": [],
   "source": [
    "# notification_interaction_types.csv doesn't need to be aggregated"
   ]
  },
  {
   "cell_type": "code",
   "execution_count": 48,
   "id": "63dcc7c2",
   "metadata": {},
   "outputs": [],
   "source": [
    "# aggregate notification_interactions.csv and join to notifications.csv"
   ]
  },
  {
   "cell_type": "code",
   "execution_count": 49,
   "id": "adb1668a",
   "metadata": {},
   "outputs": [
    {
     "data": {
      "text/html": [
       "<div>\n",
       "<style scoped>\n",
       "    .dataframe tbody tr th:only-of-type {\n",
       "        vertical-align: middle;\n",
       "    }\n",
       "\n",
       "    .dataframe tbody tr th {\n",
       "        vertical-align: top;\n",
       "    }\n",
       "\n",
       "    .dataframe thead th {\n",
       "        text-align: right;\n",
       "    }\n",
       "</style>\n",
       "<table border=\"1\" class=\"dataframe\">\n",
       "  <thead>\n",
       "    <tr style=\"text-align: right;\">\n",
       "      <th></th>\n",
       "      <th>id</th>\n",
       "      <th>notification_id</th>\n",
       "      <th>interaction_type_id</th>\n",
       "      <th>ts</th>\n",
       "      <th>name</th>\n",
       "    </tr>\n",
       "  </thead>\n",
       "  <tbody>\n",
       "    <tr>\n",
       "      <th>0</th>\n",
       "      <td>1000</td>\n",
       "      <td>101</td>\n",
       "      <td>1500</td>\n",
       "      <td>2022-08-06</td>\n",
       "      <td>viewed</td>\n",
       "    </tr>\n",
       "    <tr>\n",
       "      <th>1</th>\n",
       "      <td>1001</td>\n",
       "      <td>101</td>\n",
       "      <td>1600</td>\n",
       "      <td>2022-08-07</td>\n",
       "      <td>opened</td>\n",
       "    </tr>\n",
       "  </tbody>\n",
       "</table>\n",
       "</div>"
      ],
      "text/plain": [
       "     id  notification_id  interaction_type_id          ts    name\n",
       "0  1000              101                 1500  2022-08-06  viewed\n",
       "1  1001              101                 1600  2022-08-07  opened"
      ]
     },
     "execution_count": 49,
     "metadata": {},
     "output_type": "execute_result"
    }
   ],
   "source": [
    "ni.head(2)"
   ]
  },
  {
   "cell_type": "code",
   "execution_count": 50,
   "id": "4a1e6c3a",
   "metadata": {},
   "outputs": [
    {
     "data": {
      "text/html": [
       "<div>\n",
       "<style scoped>\n",
       "    .dataframe tbody tr th:only-of-type {\n",
       "        vertical-align: middle;\n",
       "    }\n",
       "\n",
       "    .dataframe tbody tr th {\n",
       "        vertical-align: top;\n",
       "    }\n",
       "\n",
       "    .dataframe thead th {\n",
       "        text-align: right;\n",
       "    }\n",
       "</style>\n",
       "<table border=\"1\" class=\"dataframe\">\n",
       "  <thead>\n",
       "    <tr style=\"text-align: right;\">\n",
       "      <th></th>\n",
       "      <th>notification_id</th>\n",
       "      <th>num_interactions</th>\n",
       "      <th>first_interaction</th>\n",
       "      <th>last_interaction</th>\n",
       "    </tr>\n",
       "  </thead>\n",
       "  <tbody>\n",
       "    <tr>\n",
       "      <th>0</th>\n",
       "      <td>101</td>\n",
       "      <td>3</td>\n",
       "      <td>2022-08-06</td>\n",
       "      <td>2022-08-08</td>\n",
       "    </tr>\n",
       "    <tr>\n",
       "      <th>1</th>\n",
       "      <td>102</td>\n",
       "      <td>3</td>\n",
       "      <td>2023-01-01</td>\n",
       "      <td>2023-01-03</td>\n",
       "    </tr>\n",
       "    <tr>\n",
       "      <th>2</th>\n",
       "      <td>103</td>\n",
       "      <td>3</td>\n",
       "      <td>2023-05-05</td>\n",
       "      <td>2023-05-07</td>\n",
       "    </tr>\n",
       "    <tr>\n",
       "      <th>3</th>\n",
       "      <td>104</td>\n",
       "      <td>2</td>\n",
       "      <td>2023-05-10</td>\n",
       "      <td>2023-05-11</td>\n",
       "    </tr>\n",
       "    <tr>\n",
       "      <th>4</th>\n",
       "      <td>105</td>\n",
       "      <td>2</td>\n",
       "      <td>2023-05-11</td>\n",
       "      <td>2023-05-11</td>\n",
       "    </tr>\n",
       "  </tbody>\n",
       "</table>\n",
       "</div>"
      ],
      "text/plain": [
       "   notification_id  num_interactions first_interaction last_interaction\n",
       "0              101                 3        2022-08-06       2022-08-08\n",
       "1              102                 3        2023-01-01       2023-01-03\n",
       "2              103                 3        2023-05-05       2023-05-07\n",
       "3              104                 2        2023-05-10       2023-05-11\n",
       "4              105                 2        2023-05-11       2023-05-11"
      ]
     },
     "execution_count": 50,
     "metadata": {},
     "output_type": "execute_result"
    }
   ],
   "source": [
    "ni.groupby('notification_id').agg(**{\n",
    "    'num_interactions': pd.NamedAgg(column='id', aggfunc='count'),\n",
    "    'first_interaction':pd.NamedAgg(column='ts', aggfunc='min'),\n",
    "    'last_interaction':pd.NamedAgg(column='ts',aggfunc='max')\n",
    "}).reset_index().head()"
   ]
  },
  {
   "cell_type": "code",
   "execution_count": 51,
   "id": "a55ceb85",
   "metadata": {},
   "outputs": [
    {
     "data": {
      "text/html": [
       "<div>\n",
       "<style scoped>\n",
       "    .dataframe tbody tr th:only-of-type {\n",
       "        vertical-align: middle;\n",
       "    }\n",
       "\n",
       "    .dataframe tbody tr th {\n",
       "        vertical-align: top;\n",
       "    }\n",
       "\n",
       "    .dataframe thead th {\n",
       "        text-align: right;\n",
       "    }\n",
       "</style>\n",
       "<table border=\"1\" class=\"dataframe\">\n",
       "  <thead>\n",
       "    <tr style=\"text-align: right;\">\n",
       "      <th></th>\n",
       "      <th>id</th>\n",
       "      <th>customer_id</th>\n",
       "      <th>ts</th>\n",
       "    </tr>\n",
       "  </thead>\n",
       "  <tbody>\n",
       "    <tr>\n",
       "      <th>0</th>\n",
       "      <td>101</td>\n",
       "      <td>1</td>\n",
       "      <td>2022-08-05</td>\n",
       "    </tr>\n",
       "    <tr>\n",
       "      <th>1</th>\n",
       "      <td>102</td>\n",
       "      <td>1</td>\n",
       "      <td>2023-01-01</td>\n",
       "    </tr>\n",
       "  </tbody>\n",
       "</table>\n",
       "</div>"
      ],
      "text/plain": [
       "    id  customer_id          ts\n",
       "0  101            1  2022-08-05\n",
       "1  102            1  2023-01-01"
      ]
     },
     "execution_count": 51,
     "metadata": {},
     "output_type": "execute_result"
    }
   ],
   "source": [
    "notif.head(2)"
   ]
  },
  {
   "cell_type": "code",
   "execution_count": 52,
   "id": "4956a2cf",
   "metadata": {},
   "outputs": [
    {
     "data": {
      "text/plain": [
       "17"
      ]
     },
     "execution_count": 52,
     "metadata": {},
     "output_type": "execute_result"
    }
   ],
   "source": [
    "len(notif)"
   ]
  },
  {
   "cell_type": "code",
   "execution_count": 53,
   "id": "da5dfe12",
   "metadata": {},
   "outputs": [],
   "source": [
    "notif = notif.merge(\n",
    "        ni.groupby('notification_id').agg(**{\n",
    "        'num_interactions': pd.NamedAgg(column='id', aggfunc='count'),\n",
    "        'first_interaction':pd.NamedAgg(column='ts', aggfunc='min'),\n",
    "        'last_interaction':pd.NamedAgg(column='ts',aggfunc='max')\n",
    "        }).reset_index(),\n",
    "        how='left',\n",
    "        left_on='id',\n",
    "        right_on='notification_id'\n",
    ")"
   ]
  },
  {
   "cell_type": "code",
   "execution_count": 54,
   "id": "616a2834",
   "metadata": {},
   "outputs": [
    {
     "data": {
      "text/plain": [
       "17"
      ]
     },
     "execution_count": 54,
     "metadata": {},
     "output_type": "execute_result"
    }
   ],
   "source": [
    "len(notif)"
   ]
  },
  {
   "cell_type": "code",
   "execution_count": 55,
   "id": "72b1715b",
   "metadata": {},
   "outputs": [
    {
     "data": {
      "text/html": [
       "<div>\n",
       "<style scoped>\n",
       "    .dataframe tbody tr th:only-of-type {\n",
       "        vertical-align: middle;\n",
       "    }\n",
       "\n",
       "    .dataframe tbody tr th {\n",
       "        vertical-align: top;\n",
       "    }\n",
       "\n",
       "    .dataframe thead th {\n",
       "        text-align: right;\n",
       "    }\n",
       "</style>\n",
       "<table border=\"1\" class=\"dataframe\">\n",
       "  <thead>\n",
       "    <tr style=\"text-align: right;\">\n",
       "      <th></th>\n",
       "      <th>id</th>\n",
       "      <th>customer_id</th>\n",
       "      <th>ts</th>\n",
       "      <th>notification_id</th>\n",
       "      <th>num_interactions</th>\n",
       "      <th>first_interaction</th>\n",
       "      <th>last_interaction</th>\n",
       "    </tr>\n",
       "  </thead>\n",
       "  <tbody>\n",
       "    <tr>\n",
       "      <th>0</th>\n",
       "      <td>101</td>\n",
       "      <td>1</td>\n",
       "      <td>2022-08-05</td>\n",
       "      <td>101.0</td>\n",
       "      <td>3.0</td>\n",
       "      <td>2022-08-06</td>\n",
       "      <td>2022-08-08</td>\n",
       "    </tr>\n",
       "    <tr>\n",
       "      <th>1</th>\n",
       "      <td>102</td>\n",
       "      <td>1</td>\n",
       "      <td>2023-01-01</td>\n",
       "      <td>102.0</td>\n",
       "      <td>3.0</td>\n",
       "      <td>2023-01-01</td>\n",
       "      <td>2023-01-03</td>\n",
       "    </tr>\n",
       "  </tbody>\n",
       "</table>\n",
       "</div>"
      ],
      "text/plain": [
       "    id  customer_id          ts  notification_id  num_interactions  \\\n",
       "0  101            1  2022-08-05            101.0               3.0   \n",
       "1  102            1  2023-01-01            102.0               3.0   \n",
       "\n",
       "  first_interaction last_interaction  \n",
       "0        2022-08-06       2022-08-08  \n",
       "1        2023-01-01       2023-01-03  "
      ]
     },
     "execution_count": 55,
     "metadata": {},
     "output_type": "execute_result"
    }
   ],
   "source": [
    "notif.head(2)\n"
   ]
  },
  {
   "cell_type": "code",
   "execution_count": 56,
   "id": "04dfb5c7",
   "metadata": {},
   "outputs": [],
   "source": [
    "# aggregate notifications and join to customers"
   ]
  },
  {
   "cell_type": "code",
   "execution_count": 57,
   "id": "a4c63056",
   "metadata": {},
   "outputs": [
    {
     "data": {
      "text/html": [
       "<div>\n",
       "<style scoped>\n",
       "    .dataframe tbody tr th:only-of-type {\n",
       "        vertical-align: middle;\n",
       "    }\n",
       "\n",
       "    .dataframe tbody tr th {\n",
       "        vertical-align: top;\n",
       "    }\n",
       "\n",
       "    .dataframe thead th {\n",
       "        text-align: right;\n",
       "    }\n",
       "</style>\n",
       "<table border=\"1\" class=\"dataframe\">\n",
       "  <thead>\n",
       "    <tr style=\"text-align: right;\">\n",
       "      <th></th>\n",
       "      <th>customer_id</th>\n",
       "      <th>num_notifications</th>\n",
       "      <th>num_interactions</th>\n",
       "      <th>first_notification</th>\n",
       "      <th>last_notification</th>\n",
       "    </tr>\n",
       "  </thead>\n",
       "  <tbody>\n",
       "    <tr>\n",
       "      <th>0</th>\n",
       "      <td>1</td>\n",
       "      <td>6</td>\n",
       "      <td>14.0</td>\n",
       "      <td>2022-08-05</td>\n",
       "      <td>2023-06-23</td>\n",
       "    </tr>\n",
       "    <tr>\n",
       "      <th>1</th>\n",
       "      <td>2</td>\n",
       "      <td>4</td>\n",
       "      <td>4.0</td>\n",
       "      <td>2022-09-05</td>\n",
       "      <td>2023-05-22</td>\n",
       "    </tr>\n",
       "    <tr>\n",
       "      <th>2</th>\n",
       "      <td>3</td>\n",
       "      <td>0</td>\n",
       "      <td>0.0</td>\n",
       "      <td>2023-06-12</td>\n",
       "      <td>2023-09-01</td>\n",
       "    </tr>\n",
       "    <tr>\n",
       "      <th>3</th>\n",
       "      <td>4</td>\n",
       "      <td>0</td>\n",
       "      <td>0.0</td>\n",
       "      <td>2024-02-01</td>\n",
       "      <td>2024-02-15</td>\n",
       "    </tr>\n",
       "  </tbody>\n",
       "</table>\n",
       "</div>"
      ],
      "text/plain": [
       "   customer_id  num_notifications  num_interactions first_notification  \\\n",
       "0            1                  6              14.0         2022-08-05   \n",
       "1            2                  4               4.0         2022-09-05   \n",
       "2            3                  0               0.0         2023-06-12   \n",
       "3            4                  0               0.0         2024-02-01   \n",
       "\n",
       "  last_notification  \n",
       "0        2023-06-23  \n",
       "1        2023-05-22  \n",
       "2        2023-09-01  \n",
       "3        2024-02-15  "
      ]
     },
     "execution_count": 57,
     "metadata": {},
     "output_type": "execute_result"
    }
   ],
   "source": [
    "notif.groupby('customer_id').agg(**{\n",
    "    'num_notifications': pd.NamedAgg(column='notification_id',aggfunc='count'),\n",
    "    'num_interactions': pd.NamedAgg(column='num_interactions', aggfunc='sum'),\n",
    "    'first_notification': pd.NamedAgg(column='ts', aggfunc='min'),\n",
    "    'last_notification':pd.NamedAgg(column='ts',aggfunc='max')\n",
    "}).reset_index()"
   ]
  },
  {
   "cell_type": "code",
   "execution_count": 58,
   "id": "ff4390a8",
   "metadata": {},
   "outputs": [],
   "source": [
    "cust = cust.merge(\n",
    "    notif.groupby('customer_id').agg(**{\n",
    "    'num_notifications': pd.NamedAgg(column='notification_id',aggfunc='count'),\n",
    "    'num_interactions': pd.NamedAgg(column='num_interactions', aggfunc='sum'),\n",
    "    'first_notification': pd.NamedAgg(column='ts', aggfunc='min'),\n",
    "    'last_notification':pd.NamedAgg(column='ts',aggfunc='max')\n",
    "}).reset_index(),\n",
    "    how='left',\n",
    "    left_on='id',\n",
    "    right_on='customer_id'\n",
    ")"
   ]
  },
  {
   "cell_type": "code",
   "execution_count": 59,
   "id": "ca76e3f1",
   "metadata": {},
   "outputs": [
    {
     "data": {
      "text/plain": [
       "4"
      ]
     },
     "execution_count": 59,
     "metadata": {},
     "output_type": "execute_result"
    }
   ],
   "source": [
    "len(cust)"
   ]
  },
  {
   "cell_type": "code",
   "execution_count": 60,
   "id": "6ccfb63b",
   "metadata": {},
   "outputs": [
    {
     "data": {
      "text/html": [
       "<div>\n",
       "<style scoped>\n",
       "    .dataframe tbody tr th:only-of-type {\n",
       "        vertical-align: middle;\n",
       "    }\n",
       "\n",
       "    .dataframe tbody tr th {\n",
       "        vertical-align: top;\n",
       "    }\n",
       "\n",
       "    .dataframe thead th {\n",
       "        text-align: right;\n",
       "    }\n",
       "</style>\n",
       "<table border=\"1\" class=\"dataframe\">\n",
       "  <thead>\n",
       "    <tr style=\"text-align: right;\">\n",
       "      <th></th>\n",
       "      <th>id</th>\n",
       "      <th>name</th>\n",
       "      <th>customer_id</th>\n",
       "      <th>num_notifications</th>\n",
       "      <th>num_interactions</th>\n",
       "      <th>first_notification</th>\n",
       "      <th>last_notification</th>\n",
       "    </tr>\n",
       "  </thead>\n",
       "  <tbody>\n",
       "    <tr>\n",
       "      <th>0</th>\n",
       "      <td>1</td>\n",
       "      <td>wes</td>\n",
       "      <td>1</td>\n",
       "      <td>6</td>\n",
       "      <td>14.0</td>\n",
       "      <td>2022-08-05</td>\n",
       "      <td>2023-06-23</td>\n",
       "    </tr>\n",
       "    <tr>\n",
       "      <th>1</th>\n",
       "      <td>2</td>\n",
       "      <td>john</td>\n",
       "      <td>2</td>\n",
       "      <td>4</td>\n",
       "      <td>4.0</td>\n",
       "      <td>2022-09-05</td>\n",
       "      <td>2023-05-22</td>\n",
       "    </tr>\n",
       "  </tbody>\n",
       "</table>\n",
       "</div>"
      ],
      "text/plain": [
       "   id  name  customer_id  num_notifications  num_interactions  \\\n",
       "0   1   wes            1                  6              14.0   \n",
       "1   2  john            2                  4               4.0   \n",
       "\n",
       "  first_notification last_notification  \n",
       "0         2022-08-05        2023-06-23  \n",
       "1         2022-09-05        2023-05-22  "
      ]
     },
     "execution_count": 60,
     "metadata": {},
     "output_type": "execute_result"
    }
   ],
   "source": [
    "cust.head(2)"
   ]
  },
  {
   "cell_type": "code",
   "execution_count": 61,
   "id": "813a10ed",
   "metadata": {},
   "outputs": [],
   "source": [
    "# aggregate order_products.csv and join to orders.csv"
   ]
  },
  {
   "cell_type": "code",
   "execution_count": 62,
   "id": "61f14e0a",
   "metadata": {},
   "outputs": [
    {
     "data": {
      "text/plain": [
       "19"
      ]
     },
     "execution_count": 62,
     "metadata": {},
     "output_type": "execute_result"
    }
   ],
   "source": [
    "len(op)"
   ]
  },
  {
   "cell_type": "code",
   "execution_count": 63,
   "id": "fe107b80",
   "metadata": {},
   "outputs": [
    {
     "data": {
      "text/plain": [
       "9"
      ]
     },
     "execution_count": 63,
     "metadata": {},
     "output_type": "execute_result"
    }
   ],
   "source": [
    "len(orders)"
   ]
  },
  {
   "cell_type": "code",
   "execution_count": 64,
   "id": "eb274230",
   "metadata": {},
   "outputs": [
    {
     "data": {
      "text/html": [
       "<div>\n",
       "<style scoped>\n",
       "    .dataframe tbody tr th:only-of-type {\n",
       "        vertical-align: middle;\n",
       "    }\n",
       "\n",
       "    .dataframe tbody tr th {\n",
       "        vertical-align: top;\n",
       "    }\n",
       "\n",
       "    .dataframe thead th {\n",
       "        text-align: right;\n",
       "    }\n",
       "</style>\n",
       "<table border=\"1\" class=\"dataframe\">\n",
       "  <thead>\n",
       "    <tr style=\"text-align: right;\">\n",
       "      <th></th>\n",
       "      <th>id</th>\n",
       "      <th>order_id</th>\n",
       "      <th>product_id</th>\n",
       "    </tr>\n",
       "  </thead>\n",
       "  <tbody>\n",
       "    <tr>\n",
       "      <th>0</th>\n",
       "      <td>1</td>\n",
       "      <td>1</td>\n",
       "      <td>1</td>\n",
       "    </tr>\n",
       "    <tr>\n",
       "      <th>1</th>\n",
       "      <td>2</td>\n",
       "      <td>1</td>\n",
       "      <td>2</td>\n",
       "    </tr>\n",
       "  </tbody>\n",
       "</table>\n",
       "</div>"
      ],
      "text/plain": [
       "   id  order_id  product_id\n",
       "0   1         1           1\n",
       "1   2         1           2"
      ]
     },
     "execution_count": 64,
     "metadata": {},
     "output_type": "execute_result"
    }
   ],
   "source": [
    "op.head(2)"
   ]
  },
  {
   "cell_type": "code",
   "execution_count": 65,
   "id": "23fce176",
   "metadata": {},
   "outputs": [
    {
     "data": {
      "text/html": [
       "<div>\n",
       "<style scoped>\n",
       "    .dataframe tbody tr th:only-of-type {\n",
       "        vertical-align: middle;\n",
       "    }\n",
       "\n",
       "    .dataframe tbody tr th {\n",
       "        vertical-align: top;\n",
       "    }\n",
       "\n",
       "    .dataframe thead th {\n",
       "        text-align: right;\n",
       "    }\n",
       "</style>\n",
       "<table border=\"1\" class=\"dataframe\">\n",
       "  <thead>\n",
       "    <tr style=\"text-align: right;\">\n",
       "      <th></th>\n",
       "      <th>order_id</th>\n",
       "      <th>num_products</th>\n",
       "    </tr>\n",
       "  </thead>\n",
       "  <tbody>\n",
       "    <tr>\n",
       "      <th>0</th>\n",
       "      <td>1</td>\n",
       "      <td>4</td>\n",
       "    </tr>\n",
       "    <tr>\n",
       "      <th>1</th>\n",
       "      <td>2</td>\n",
       "      <td>4</td>\n",
       "    </tr>\n",
       "    <tr>\n",
       "      <th>2</th>\n",
       "      <td>3</td>\n",
       "      <td>4</td>\n",
       "    </tr>\n",
       "    <tr>\n",
       "      <th>3</th>\n",
       "      <td>4</td>\n",
       "      <td>4</td>\n",
       "    </tr>\n",
       "    <tr>\n",
       "      <th>4</th>\n",
       "      <td>5</td>\n",
       "      <td>1</td>\n",
       "    </tr>\n",
       "  </tbody>\n",
       "</table>\n",
       "</div>"
      ],
      "text/plain": [
       "   order_id  num_products\n",
       "0         1             4\n",
       "1         2             4\n",
       "2         3             4\n",
       "3         4             4\n",
       "4         5             1"
      ]
     },
     "execution_count": 65,
     "metadata": {},
     "output_type": "execute_result"
    }
   ],
   "source": [
    "op.groupby('order_id').agg(**{\n",
    "    'num_products': pd.NamedAgg(column='product_id',aggfunc='count')\n",
    "}).reset_index().head()"
   ]
  },
  {
   "cell_type": "code",
   "execution_count": 66,
   "id": "3a6ac818",
   "metadata": {},
   "outputs": [],
   "source": [
    "orders = orders.merge(\n",
    "    op.groupby('order_id').agg(**{\n",
    "    'num_products': pd.NamedAgg(column='product_id',aggfunc='count')\n",
    "    }).reset_index(),\n",
    "    how='left',\n",
    "    left_on='id',\n",
    "    right_on='order_id'\n",
    ")"
   ]
  },
  {
   "cell_type": "code",
   "execution_count": 67,
   "id": "0b3cfb71",
   "metadata": {},
   "outputs": [
    {
     "data": {
      "text/plain": [
       "9"
      ]
     },
     "execution_count": 67,
     "metadata": {},
     "output_type": "execute_result"
    }
   ],
   "source": [
    "len(orders)"
   ]
  },
  {
   "cell_type": "code",
   "execution_count": 68,
   "id": "6890cdad",
   "metadata": {},
   "outputs": [],
   "source": [
    "# aggregate orders.csv and join to cust.csv"
   ]
  },
  {
   "cell_type": "code",
   "execution_count": 69,
   "id": "f72acc20",
   "metadata": {},
   "outputs": [
    {
     "data": {
      "text/html": [
       "<div>\n",
       "<style scoped>\n",
       "    .dataframe tbody tr th:only-of-type {\n",
       "        vertical-align: middle;\n",
       "    }\n",
       "\n",
       "    .dataframe tbody tr th {\n",
       "        vertical-align: top;\n",
       "    }\n",
       "\n",
       "    .dataframe thead th {\n",
       "        text-align: right;\n",
       "    }\n",
       "</style>\n",
       "<table border=\"1\" class=\"dataframe\">\n",
       "  <thead>\n",
       "    <tr style=\"text-align: right;\">\n",
       "      <th></th>\n",
       "      <th>id</th>\n",
       "      <th>customer_id</th>\n",
       "      <th>ts</th>\n",
       "      <th>order_id</th>\n",
       "      <th>num_products</th>\n",
       "    </tr>\n",
       "  </thead>\n",
       "  <tbody>\n",
       "    <tr>\n",
       "      <th>0</th>\n",
       "      <td>1</td>\n",
       "      <td>1</td>\n",
       "      <td>2023-05-12</td>\n",
       "      <td>1.0</td>\n",
       "      <td>4.0</td>\n",
       "    </tr>\n",
       "    <tr>\n",
       "      <th>1</th>\n",
       "      <td>2</td>\n",
       "      <td>1</td>\n",
       "      <td>2023-06-01</td>\n",
       "      <td>2.0</td>\n",
       "      <td>4.0</td>\n",
       "    </tr>\n",
       "  </tbody>\n",
       "</table>\n",
       "</div>"
      ],
      "text/plain": [
       "   id  customer_id          ts  order_id  num_products\n",
       "0   1            1  2023-05-12       1.0           4.0\n",
       "1   2            1  2023-06-01       2.0           4.0"
      ]
     },
     "execution_count": 69,
     "metadata": {},
     "output_type": "execute_result"
    }
   ],
   "source": [
    "orders.head(2)"
   ]
  },
  {
   "cell_type": "code",
   "execution_count": 70,
   "id": "b8f3dfa7",
   "metadata": {},
   "outputs": [
    {
     "data": {
      "text/html": [
       "<div>\n",
       "<style scoped>\n",
       "    .dataframe tbody tr th:only-of-type {\n",
       "        vertical-align: middle;\n",
       "    }\n",
       "\n",
       "    .dataframe tbody tr th {\n",
       "        vertical-align: top;\n",
       "    }\n",
       "\n",
       "    .dataframe thead th {\n",
       "        text-align: right;\n",
       "    }\n",
       "</style>\n",
       "<table border=\"1\" class=\"dataframe\">\n",
       "  <thead>\n",
       "    <tr style=\"text-align: right;\">\n",
       "      <th></th>\n",
       "      <th>customer_id</th>\n",
       "      <th>num_orders</th>\n",
       "      <th>num_products_ordered</th>\n",
       "      <th>first_order</th>\n",
       "      <th>last_order</th>\n",
       "    </tr>\n",
       "  </thead>\n",
       "  <tbody>\n",
       "    <tr>\n",
       "      <th>0</th>\n",
       "      <td>1</td>\n",
       "      <td>3</td>\n",
       "      <td>10.0</td>\n",
       "      <td>2023-05-12</td>\n",
       "      <td>2023-09-02</td>\n",
       "    </tr>\n",
       "    <tr>\n",
       "      <th>1</th>\n",
       "      <td>2</td>\n",
       "      <td>2</td>\n",
       "      <td>8.0</td>\n",
       "      <td>2022-08-05</td>\n",
       "      <td>2023-10-15</td>\n",
       "    </tr>\n",
       "    <tr>\n",
       "      <th>2</th>\n",
       "      <td>3</td>\n",
       "      <td>1</td>\n",
       "      <td>1.0</td>\n",
       "      <td>2023-06-01</td>\n",
       "      <td>2023-06-01</td>\n",
       "    </tr>\n",
       "    <tr>\n",
       "      <th>3</th>\n",
       "      <td>4</td>\n",
       "      <td>0</td>\n",
       "      <td>0.0</td>\n",
       "      <td>2024-01-01</td>\n",
       "      <td>2024-02-01</td>\n",
       "    </tr>\n",
       "  </tbody>\n",
       "</table>\n",
       "</div>"
      ],
      "text/plain": [
       "   customer_id  num_orders  num_products_ordered first_order  last_order\n",
       "0            1           3                  10.0  2023-05-12  2023-09-02\n",
       "1            2           2                   8.0  2022-08-05  2023-10-15\n",
       "2            3           1                   1.0  2023-06-01  2023-06-01\n",
       "3            4           0                   0.0  2024-01-01  2024-02-01"
      ]
     },
     "execution_count": 70,
     "metadata": {},
     "output_type": "execute_result"
    }
   ],
   "source": [
    "orders.groupby('customer_id').agg(**{\n",
    "    'num_orders': pd.NamedAgg(column='order_id',aggfunc='count'),\n",
    "    'num_products_ordered': pd.NamedAgg(column='num_products', aggfunc='sum'),\n",
    "    'first_order': pd.NamedAgg(column='ts', aggfunc='min'),\n",
    "    'last_order': pd.NamedAgg(column='ts', aggfunc='max')\n",
    "}).reset_index()"
   ]
  },
  {
   "cell_type": "code",
   "execution_count": 71,
   "id": "f2c418c0",
   "metadata": {},
   "outputs": [
    {
     "data": {
      "text/plain": [
       "4"
      ]
     },
     "execution_count": 71,
     "metadata": {},
     "output_type": "execute_result"
    }
   ],
   "source": [
    "len(cust)"
   ]
  },
  {
   "cell_type": "code",
   "execution_count": 72,
   "id": "d39066c2",
   "metadata": {},
   "outputs": [],
   "source": [
    "cust = cust.merge(\n",
    "    orders.groupby('customer_id').agg(**{\n",
    "    'num_orders': pd.NamedAgg(column='order_id',aggfunc='count'),\n",
    "    'num_products_ordered': pd.NamedAgg(column='num_products', aggfunc='sum'),\n",
    "    'first_order': pd.NamedAgg(column='ts', aggfunc='min'),\n",
    "    'last_order': pd.NamedAgg(column='ts', aggfunc='max')\n",
    "}).reset_index(),\n",
    "    how='left',\n",
    "    left_on='id',\n",
    "    right_on='customer_id'\n",
    ")"
   ]
  },
  {
   "cell_type": "code",
   "execution_count": 73,
   "id": "6e3493fa",
   "metadata": {},
   "outputs": [
    {
     "data": {
      "text/plain": [
       "4"
      ]
     },
     "execution_count": 73,
     "metadata": {},
     "output_type": "execute_result"
    }
   ],
   "source": [
    "len(cust)\n"
   ]
  },
  {
   "cell_type": "code",
   "execution_count": 74,
   "id": "f8df027d",
   "metadata": {},
   "outputs": [
    {
     "data": {
      "text/html": [
       "<div>\n",
       "<style scoped>\n",
       "    .dataframe tbody tr th:only-of-type {\n",
       "        vertical-align: middle;\n",
       "    }\n",
       "\n",
       "    .dataframe tbody tr th {\n",
       "        vertical-align: top;\n",
       "    }\n",
       "\n",
       "    .dataframe thead th {\n",
       "        text-align: right;\n",
       "    }\n",
       "</style>\n",
       "<table border=\"1\" class=\"dataframe\">\n",
       "  <thead>\n",
       "    <tr style=\"text-align: right;\">\n",
       "      <th></th>\n",
       "      <th>id</th>\n",
       "      <th>name</th>\n",
       "      <th>customer_id_x</th>\n",
       "      <th>num_notifications</th>\n",
       "      <th>num_interactions</th>\n",
       "      <th>first_notification</th>\n",
       "      <th>last_notification</th>\n",
       "      <th>customer_id_y</th>\n",
       "      <th>num_orders</th>\n",
       "      <th>num_products_ordered</th>\n",
       "      <th>first_order</th>\n",
       "      <th>last_order</th>\n",
       "    </tr>\n",
       "  </thead>\n",
       "  <tbody>\n",
       "    <tr>\n",
       "      <th>0</th>\n",
       "      <td>1</td>\n",
       "      <td>wes</td>\n",
       "      <td>1</td>\n",
       "      <td>6</td>\n",
       "      <td>14.0</td>\n",
       "      <td>2022-08-05</td>\n",
       "      <td>2023-06-23</td>\n",
       "      <td>1</td>\n",
       "      <td>3</td>\n",
       "      <td>10.0</td>\n",
       "      <td>2023-05-12</td>\n",
       "      <td>2023-09-02</td>\n",
       "    </tr>\n",
       "    <tr>\n",
       "      <th>1</th>\n",
       "      <td>2</td>\n",
       "      <td>john</td>\n",
       "      <td>2</td>\n",
       "      <td>4</td>\n",
       "      <td>4.0</td>\n",
       "      <td>2022-09-05</td>\n",
       "      <td>2023-05-22</td>\n",
       "      <td>2</td>\n",
       "      <td>2</td>\n",
       "      <td>8.0</td>\n",
       "      <td>2022-08-05</td>\n",
       "      <td>2023-10-15</td>\n",
       "    </tr>\n",
       "    <tr>\n",
       "      <th>2</th>\n",
       "      <td>3</td>\n",
       "      <td>ryan</td>\n",
       "      <td>3</td>\n",
       "      <td>0</td>\n",
       "      <td>0.0</td>\n",
       "      <td>2023-06-12</td>\n",
       "      <td>2023-09-01</td>\n",
       "      <td>3</td>\n",
       "      <td>1</td>\n",
       "      <td>1.0</td>\n",
       "      <td>2023-06-01</td>\n",
       "      <td>2023-06-01</td>\n",
       "    </tr>\n",
       "    <tr>\n",
       "      <th>3</th>\n",
       "      <td>4</td>\n",
       "      <td>tianji</td>\n",
       "      <td>4</td>\n",
       "      <td>0</td>\n",
       "      <td>0.0</td>\n",
       "      <td>2024-02-01</td>\n",
       "      <td>2024-02-15</td>\n",
       "      <td>4</td>\n",
       "      <td>0</td>\n",
       "      <td>0.0</td>\n",
       "      <td>2024-01-01</td>\n",
       "      <td>2024-02-01</td>\n",
       "    </tr>\n",
       "  </tbody>\n",
       "</table>\n",
       "</div>"
      ],
      "text/plain": [
       "   id    name  customer_id_x  num_notifications  num_interactions  \\\n",
       "0   1     wes              1                  6              14.0   \n",
       "1   2    john              2                  4               4.0   \n",
       "2   3    ryan              3                  0               0.0   \n",
       "3   4  tianji              4                  0               0.0   \n",
       "\n",
       "  first_notification last_notification  customer_id_y  num_orders  \\\n",
       "0         2022-08-05        2023-06-23              1           3   \n",
       "1         2022-09-05        2023-05-22              2           2   \n",
       "2         2023-06-12        2023-09-01              3           1   \n",
       "3         2024-02-01        2024-02-15              4           0   \n",
       "\n",
       "   num_products_ordered first_order  last_order  \n",
       "0                  10.0  2023-05-12  2023-09-02  \n",
       "1                   8.0  2022-08-05  2023-10-15  \n",
       "2                   1.0  2023-06-01  2023-06-01  \n",
       "3                   0.0  2024-01-01  2024-02-01  "
      ]
     },
     "execution_count": 74,
     "metadata": {},
     "output_type": "execute_result"
    }
   ],
   "source": [
    "cust.head()"
   ]
  },
  {
   "cell_type": "markdown",
   "id": "b5181d29",
   "metadata": {},
   "source": [
    "## How about filtering dates? \n",
    "## What if I want to train models up until Jan 2024 and predict from Jan 2024 - now?"
   ]
  },
  {
   "cell_type": "markdown",
   "id": "84658ce1",
   "metadata": {},
   "source": [
    "## Issues encountered\n",
    "* prefixing data, where do all the columns come from?\n",
    "* data duplication - 1:many, 1:1, many:1 relationships\n",
    "* time\n",
    "* repetitive operations such as joins\n"
   ]
  },
  {
   "cell_type": "code",
   "execution_count": null,
   "id": "873fcd63",
   "metadata": {},
   "outputs": [],
   "source": []
  }
 ],
 "metadata": {
  "kernelspec": {
   "display_name": "Python 3 (ipykernel)",
   "language": "python",
   "name": "python3"
  },
  "language_info": {
   "codemirror_mode": {
    "name": "ipython",
    "version": 3
   },
   "file_extension": ".py",
   "mimetype": "text/x-python",
   "name": "python",
   "nbconvert_exporter": "python",
   "pygments_lexer": "ipython3",
   "version": "3.9.18"
  }
 },
 "nbformat": 4,
 "nbformat_minor": 5
}

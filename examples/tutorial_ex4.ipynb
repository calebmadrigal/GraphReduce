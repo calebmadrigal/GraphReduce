{
 "cells": [
  {
   "cell_type": "code",
   "execution_count": 1,
   "id": "627b16b4-569d-4573-8457-1049ca553f79",
   "metadata": {},
   "outputs": [
    {
     "name": "stderr",
     "output_type": "stream",
     "text": [
      "/Users/wesmadrigal/projects/graphreduce/venv/lib/python3.9/site-packages/pyspark/pandas/__init__.py:50: UserWarning: 'PYARROW_IGNORE_TIMEZONE' environment variable was not set. It is required to set this environment variable to '1' in both driver and executor sides if you use pyarrow>=2.0.0. pandas-on-Spark will set it for you but it does not work if there is a Spark context already launched.\n",
      "  warnings.warn(\n"
     ]
    }
   ],
   "source": [
    "import datetime\n",
    "import subprocess\n",
    "import os\n",
    "\n",
    "import pandas as pd\n",
    "from graphreduce.node import DynamicNode\n",
    "from graphreduce.graph_reduce import GraphReduce\n",
    "from graphreduce.enum import ComputeLayerEnum, PeriodUnit"
   ]
  },
  {
   "cell_type": "code",
   "execution_count": 2,
   "id": "079b4592-d049-44a6-86c0-bebcbe4e1db4",
   "metadata": {},
   "outputs": [
    {
     "name": "stderr",
     "output_type": "stream",
     "text": [
      "--2024-08-30 13:52:35--  https://raw.githubusercontent.com/wesmadrigal/GraphReduce/master/tests/data/cust_data/cust.csv\n",
      "Resolving raw.githubusercontent.com (raw.githubusercontent.com)... 185.199.111.133, 185.199.109.133, 185.199.108.133, ...\n",
      "Connecting to raw.githubusercontent.com (raw.githubusercontent.com)|185.199.111.133|:443... connected.\n",
      "HTTP request sent, awaiting response... 200 OK\n",
      "Length: 35 [text/plain]\n",
      "Saving to: ‘cust.csv’\n",
      "\n",
      "     0K                                                       100% 4.77M=0s\n",
      "\n",
      "2024-08-30 13:52:36 (4.77 MB/s) - ‘cust.csv’ saved [35/35]\n",
      "\n",
      "--2024-08-30 13:52:36--  https://raw.githubusercontent.com/wesmadrigal/GraphReduce/master/tests/data/cust_data/orders.csv\n",
      "Resolving raw.githubusercontent.com (raw.githubusercontent.com)... 185.199.111.133, 185.199.109.133, 185.199.108.133, ...\n",
      "Connecting to raw.githubusercontent.com (raw.githubusercontent.com)|185.199.111.133|:443... connected.\n",
      "HTTP request sent, awaiting response... 200 OK\n",
      "Length: 191 [text/plain]\n",
      "Saving to: ‘orders.csv’\n",
      "\n",
      "     0K                                                       100% 18.2M=0s\n",
      "\n",
      "2024-08-30 13:52:36 (18.2 MB/s) - ‘orders.csv’ saved [191/191]\n",
      "\n"
     ]
    }
   ],
   "source": [
    "files = [\n",
    "    'https://raw.githubusercontent.com/wesmadrigal/GraphReduce/master/tests/data/cust_data/cust.csv',\n",
    "    'https://raw.githubusercontent.com/wesmadrigal/GraphReduce/master/tests/data/cust_data/orders.csv',\n",
    "]\n",
    "\n",
    "for f in os.listdir(os.getcwd()):\n",
    "    for _f in files:\n",
    "        _fname = _f.split('/')[-1]\n",
    "        if _fname == f or _fname in f:\n",
    "            os.remove(f)\n",
    "\n",
    "for f in files:\n",
    "  subprocess.run(['wget', f])"
   ]
  },
  {
   "cell_type": "code",
   "execution_count": 3,
   "id": "0d3666ec-aaf7-444e-a694-536de1323c75",
   "metadata": {},
   "outputs": [],
   "source": [
    "# Need unique prefixes for all nodes\n",
    "# so when columns are merged we know\n",
    "# where they originate from.\n",
    "prefixes = {\n",
    "    'cust.csv' : {'prefix':'cu'},\n",
    "    'orders.csv':{'prefix':'ord'}\n",
    "}"
   ]
  },
  {
   "cell_type": "code",
   "execution_count": 14,
   "id": "ed89db35-42ed-4a68-9fef-3947f597a220",
   "metadata": {},
   "outputs": [
    {
     "name": "stdout",
     "output_type": "stream",
     "text": [
      "2024-08-30 14:57:55 [warning  ] no `date_key` set for <GraphReduceNode: fpath=cust.csv fmt=csv>\n",
      "2024-08-30 14:57:55 [warning  ] no `date_key` set for <GraphReduceNode: fpath=orders.csv fmt=csv>\n"
     ]
    }
   ],
   "source": [
    "# create graph reduce nodes\n",
    "gr_nodes = {\n",
    "    f.split('/')[-1]: DynamicNode(\n",
    "        fpath=f,\n",
    "        fmt='csv',\n",
    "        pk='id',\n",
    "        prefix=prefixes[f]['prefix'],\n",
    "        date_key=None,\n",
    "        compute_layer=ComputeLayerEnum.pandas,\n",
    "        compute_period_val=730,\n",
    "        compute_period_unit=PeriodUnit.day,\n",
    "    )\n",
    "    for f in prefixes.keys()\n",
    "}"
   ]
  },
  {
   "cell_type": "code",
   "execution_count": 15,
   "id": "9fd2e082-f6ef-4f74-b549-c63e5f7fc72f",
   "metadata": {},
   "outputs": [],
   "source": [
    "gr_nodes['cust.csv'].do_data()"
   ]
  },
  {
   "cell_type": "code",
   "execution_count": 16,
   "id": "8e4e5376-18da-40fe-8561-f35d4dbf65e3",
   "metadata": {},
   "outputs": [
    {
     "data": {
      "text/plain": [
       "pandas.core.frame.DataFrame"
      ]
     },
     "execution_count": 16,
     "metadata": {},
     "output_type": "execute_result"
    }
   ],
   "source": [
    "type(gr_nodes['cust.csv'].df)"
   ]
  },
  {
   "cell_type": "code",
   "execution_count": null,
   "id": "0e25c496-aff2-4ed3-bb54-35611387498a",
   "metadata": {},
   "outputs": [],
   "source": []
  },
  {
   "cell_type": "code",
   "execution_count": 17,
   "id": "63156018-69d7-4fa2-8ccb-764d19870faf",
   "metadata": {},
   "outputs": [
    {
     "name": "stdout",
     "output_type": "stream",
     "text": [
      "2024-08-30 14:58:05 [warning  ] no `date_key` set for <GraphReduceNode: fpath=cust.csv fmt=csv>\n",
      "2024-08-30 14:58:05 [warning  ] no `date_key` set for <GraphReduceNode: fpath=orders.csv fmt=csv>\n"
     ]
    }
   ],
   "source": [
    "# Use dask now\n",
    "# create graph reduce nodes\n",
    "gr_nodes = {\n",
    "    f.split('/')[-1]: DynamicNode(\n",
    "        fpath=f,\n",
    "        fmt='csv',\n",
    "        pk='id',\n",
    "        prefix=prefixes[f]['prefix'],\n",
    "        date_key=None,\n",
    "        compute_layer=ComputeLayerEnum.dask,\n",
    "        compute_period_val=730,\n",
    "        compute_period_unit=PeriodUnit.day,\n",
    "    )\n",
    "    for f in prefixes.keys()\n",
    "}"
   ]
  },
  {
   "cell_type": "code",
   "execution_count": 19,
   "id": "96e4daeb-476e-4131-b812-ba7460b399c3",
   "metadata": {},
   "outputs": [],
   "source": [
    "gr_nodes['cust.csv'].do_data()"
   ]
  },
  {
   "cell_type": "code",
   "execution_count": 20,
   "id": "3ebffee3-4d36-4cae-b08e-0dbace14e562",
   "metadata": {},
   "outputs": [
    {
     "data": {
      "text/plain": [
       "dask.dataframe.core.DataFrame"
      ]
     },
     "execution_count": 20,
     "metadata": {},
     "output_type": "execute_result"
    }
   ],
   "source": [
    "type(gr_nodes['cust.csv'].df)"
   ]
  },
  {
   "cell_type": "code",
   "execution_count": 21,
   "id": "c77dae0b-0d5d-46bf-9d86-5dd96bbe1589",
   "metadata": {},
   "outputs": [],
   "source": [
    "# This will not run unless you have access to a spark context\n"
   ]
  },
  {
   "cell_type": "code",
   "execution_count": null,
   "id": "2d2fdbd4-479c-484a-b4ea-5084d79ebb44",
   "metadata": {},
   "outputs": [],
   "source": []
  }
 ],
 "metadata": {
  "kernelspec": {
   "display_name": "Python 3 (ipykernel)",
   "language": "python",
   "name": "python3"
  },
  "language_info": {
   "codemirror_mode": {
    "name": "ipython",
    "version": 3
   },
   "file_extension": ".py",
   "mimetype": "text/x-python",
   "name": "python",
   "nbconvert_exporter": "python",
   "pygments_lexer": "ipython3",
   "version": "3.9.19"
  }
 },
 "nbformat": 4,
 "nbformat_minor": 5
}

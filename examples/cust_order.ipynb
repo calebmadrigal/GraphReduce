{
 "cells": [
  {
   "cell_type": "code",
   "execution_count": 1,
   "id": "34ebe7fa",
   "metadata": {},
   "outputs": [],
   "source": [
    "import pandas as pd\n",
    "import datetime\n",
    "import pyvis\n",
    "\n",
    "\n",
    "\n",
    "from graphreduce.node import GraphReduceNode\n",
    "from graphreduce.enum import ComputeLayerEnum, PeriodUnit\n",
    "from graphreduce.graph_reduce import GraphReduce"
   ]
  },
  {
   "cell_type": "markdown",
   "id": "83a9ede7",
   "metadata": {},
   "source": [
    "# define the Node-level feature implementations, if any"
   ]
  },
  {
   "cell_type": "code",
   "execution_count": 2,
   "id": "01352f5a",
   "metadata": {},
   "outputs": [],
   "source": [
    "class CustomerNode(GraphReduceNode):\n",
    "    def do_annotate(self):\n",
    "        pass\n",
    "    \n",
    "    def do_filters(self):\n",
    "        pass\n",
    "    \n",
    "    def do_clip_cols(self):\n",
    "        pass\n",
    "    \n",
    "    def do_slice_data(self):\n",
    "        pass\n",
    "    \n",
    "    def do_post_join_annotate(self):\n",
    "        pass\n",
    "    \n",
    "    def do_reduce(self, reduce_key, *args, **kwargs):\n",
    "        pass\n",
    "    \n",
    "    def do_labels(self, reduce_key, *args, **kwargs):\n",
    "        pass\n",
    "    "
   ]
  },
  {
   "cell_type": "code",
   "execution_count": 3,
   "id": "fc9ea1cc",
   "metadata": {},
   "outputs": [],
   "source": [
    "class OrderNode(GraphReduceNode):\n",
    "    def do_annotate(self):\n",
    "        pass\n",
    "    \n",
    "    def do_filters(self):\n",
    "        pass\n",
    "    \n",
    "    def do_clip_cols(self):\n",
    "        pass\n",
    "    \n",
    "    def do_slice_data(self):\n",
    "        pass\n",
    "    \n",
    "    def do_post_join_annotate(self):\n",
    "        pass\n",
    "    \n",
    "    def do_reduce(self, reduce_key):\n",
    "        return self.prep_for_features().groupby(self.colabbr(reduce_key)).agg(\n",
    "            **{\n",
    "                self.colabbr(f'{self.pk}_count') : pd.NamedAgg(column=self.colabbr(self.pk), aggfunc='count')\n",
    "            }\n",
    "        ).reset_index()\n",
    "    \n",
    "    def do_labels(self, key):\n",
    "        pass"
   ]
  },
  {
   "cell_type": "markdown",
   "id": "19919765",
   "metadata": {},
   "source": [
    "# instantiate the nodes\n",
    "# - specify primary keys\n",
    "# - specify prefixes for columns\n",
    "# - specify paths to data\n",
    "# - specify file format\n",
    "# - select a compute layer\n",
    "# - NOTE: if spark, need a Spark Context object"
   ]
  },
  {
   "cell_type": "code",
   "execution_count": 4,
   "id": "f8253c7a",
   "metadata": {},
   "outputs": [],
   "source": [
    "cust = CustomerNode(pk='id', prefix='cust',fpath='dat/cust.csv', fmt='csv', compute_layer=ComputeLayerEnum.pandas)\n",
    "order = OrderNode(pk='id', prefix='order', fpath='dat/orders.csv', fmt='csv',compute_layer=ComputeLayerEnum.pandas)\n"
   ]
  },
  {
   "cell_type": "markdown",
   "id": "ad2ad137",
   "metadata": {},
   "source": [
    "# instantiate the graph reduce object"
   ]
  },
  {
   "cell_type": "code",
   "execution_count": 5,
   "id": "5bc8fa4e",
   "metadata": {},
   "outputs": [],
   "source": [
    "gr = GraphReduce(\n",
    "    cut_date=datetime.datetime(2023, 5, 6),\n",
    "    compute_period_val=365,\n",
    "    compute_period_unit=PeriodUnit.day,\n",
    "    parent_node=cust,\n",
    "    compute_layer=ComputeLayerEnum.pandas,\n",
    "    has_labels=False,\n",
    "    label_period_val=30,\n",
    "    label_period_unit=PeriodUnit.day,\n",
    "    dynamic_propagation=True\n",
    ")"
   ]
  },
  {
   "cell_type": "code",
   "execution_count": 6,
   "id": "2ce4c282",
   "metadata": {},
   "outputs": [
    {
     "data": {
      "text/plain": [
       "<graphreduce.graph_reduce.GraphReduce at 0x13447bd60>"
      ]
     },
     "execution_count": 6,
     "metadata": {},
     "output_type": "execute_result"
    }
   ],
   "source": [
    "gr"
   ]
  },
  {
   "cell_type": "code",
   "execution_count": 7,
   "id": "0e74c724",
   "metadata": {},
   "outputs": [],
   "source": [
    "gr.add_node(cust)\n",
    "gr.add_node(order)\n",
    "\n",
    "gr.add_entity_edge(\n",
    "    parent_node=cust,\n",
    "    relation_node=order,\n",
    "    parent_key='id',\n",
    "    relation_key='customer_id',\n",
    "    relation_type='parent_child',\n",
    "    reduce=True\n",
    ")"
   ]
  },
  {
   "cell_type": "code",
   "execution_count": 9,
   "id": "ca20c59f",
   "metadata": {},
   "outputs": [
    {
     "name": "stdout",
     "output_type": "stream",
     "text": [
      "2023-07-22 14:26:40 [info     ] plotted graph at cust_order.html\n"
     ]
    }
   ],
   "source": [
    "gr.plot_graph('cust_order.html',  notebook=True)"
   ]
  },
  {
   "cell_type": "code",
   "execution_count": 10,
   "id": "c38549d0",
   "metadata": {},
   "outputs": [],
   "source": [
    "!open cust_order.html"
   ]
  },
  {
   "cell_type": "code",
   "execution_count": 12,
   "id": "78e624a6",
   "metadata": {},
   "outputs": [
    {
     "name": "stdout",
     "output_type": "stream",
     "text": [
      "2023-07-22 14:38:03 [info     ] hydrating graph attributes\n",
      "2023-07-22 14:38:03 [info     ] hydrating attributes for CustomerNode\n",
      "2023-07-22 14:38:03 [info     ] hydrating attributes for OrderNode\n",
      "2023-07-22 14:38:03 [info     ] hydrating graph data\n",
      "2023-07-22 14:38:03 [info     ] checking for prefix uniqueness\n",
      "2023-07-22 14:38:03 [info     ] running filters, clip cols, and annotations for CustomerNode\n",
      "2023-07-22 14:38:03 [info     ] running filters, clip cols, and annotations for OrderNode\n",
      "2023-07-22 14:38:03 [info     ] depth-first traversal through the graph from source: CustomerNode\n",
      "2023-07-22 14:38:03 [info     ] reducing relation OrderNode\n",
      "2023-07-22 14:38:03 [info     ] doing dynamic propagation on node OrderNode\n",
      "2023-07-22 14:38:03 [info     ] joining OrderNode to CustomerNode\n"
     ]
    }
   ],
   "source": [
    "gr.do_transformations()"
   ]
  },
  {
   "cell_type": "raw",
   "id": "7512f0d2",
   "metadata": {},
   "source": []
  },
  {
   "cell_type": "code",
   "execution_count": 13,
   "id": "749ecade",
   "metadata": {},
   "outputs": [
    {
     "data": {
      "text/html": [
       "<div>\n",
       "<style scoped>\n",
       "    .dataframe tbody tr th:only-of-type {\n",
       "        vertical-align: middle;\n",
       "    }\n",
       "\n",
       "    .dataframe tbody tr th {\n",
       "        vertical-align: top;\n",
       "    }\n",
       "\n",
       "    .dataframe thead th {\n",
       "        text-align: right;\n",
       "    }\n",
       "</style>\n",
       "<table border=\"1\" class=\"dataframe\">\n",
       "  <thead>\n",
       "    <tr style=\"text-align: right;\">\n",
       "      <th></th>\n",
       "      <th>cust_id</th>\n",
       "      <th>cust_name</th>\n",
       "      <th>order_customer_id</th>\n",
       "      <th>order_id_count</th>\n",
       "      <th>order_id_min</th>\n",
       "      <th>order_id_max</th>\n",
       "      <th>order_id_sum</th>\n",
       "      <th>order_customer_id_min</th>\n",
       "      <th>order_customer_id_max</th>\n",
       "      <th>order_customer_id_sum</th>\n",
       "      <th>order_ts_first</th>\n",
       "    </tr>\n",
       "  </thead>\n",
       "  <tbody>\n",
       "    <tr>\n",
       "      <th>0</th>\n",
       "      <td>1</td>\n",
       "      <td>wes</td>\n",
       "      <td>1</td>\n",
       "      <td>2</td>\n",
       "      <td>1</td>\n",
       "      <td>2</td>\n",
       "      <td>3</td>\n",
       "      <td>1</td>\n",
       "      <td>1</td>\n",
       "      <td>2</td>\n",
       "      <td>2023-05-12</td>\n",
       "    </tr>\n",
       "    <tr>\n",
       "      <th>1</th>\n",
       "      <td>2</td>\n",
       "      <td>john</td>\n",
       "      <td>2</td>\n",
       "      <td>2</td>\n",
       "      <td>3</td>\n",
       "      <td>4</td>\n",
       "      <td>7</td>\n",
       "      <td>2</td>\n",
       "      <td>2</td>\n",
       "      <td>4</td>\n",
       "      <td>2023-01-01</td>\n",
       "    </tr>\n",
       "  </tbody>\n",
       "</table>\n",
       "</div>"
      ],
      "text/plain": [
       "   cust_id cust_name  order_customer_id  order_id_count  order_id_min  \\\n",
       "0        1       wes                  1               2             1   \n",
       "1        2      john                  2               2             3   \n",
       "\n",
       "   order_id_max  order_id_sum  order_customer_id_min  order_customer_id_max  \\\n",
       "0             2             3                      1                      1   \n",
       "1             4             7                      2                      2   \n",
       "\n",
       "   order_customer_id_sum order_ts_first  \n",
       "0                      2     2023-05-12  \n",
       "1                      4     2023-01-01  "
      ]
     },
     "execution_count": 13,
     "metadata": {},
     "output_type": "execute_result"
    }
   ],
   "source": [
    "gr.parent_node.df"
   ]
  },
  {
   "cell_type": "code",
   "execution_count": null,
   "id": "a675a4b8",
   "metadata": {},
   "outputs": [],
   "source": []
  }
 ],
 "metadata": {
  "kernelspec": {
   "display_name": "Python 3 (ipykernel)",
   "language": "python",
   "name": "python3"
  },
  "language_info": {
   "codemirror_mode": {
    "name": "ipython",
    "version": 3
   },
   "file_extension": ".py",
   "mimetype": "text/x-python",
   "name": "python",
   "nbconvert_exporter": "python",
   "pygments_lexer": "ipython3",
   "version": "3.9.17"
  }
 },
 "nbformat": 4,
 "nbformat_minor": 5
}

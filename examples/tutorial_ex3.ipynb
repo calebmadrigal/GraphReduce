{
 "cells": [
  {
   "cell_type": "code",
   "execution_count": 1,
   "id": "8904606a-4ce3-4533-812b-26d2d0e08a5c",
   "metadata": {},
   "outputs": [
    {
     "name": "stderr",
     "output_type": "stream",
     "text": [
      "/Users/wesmadrigal/projects/graphreduce/venv/lib/python3.9/site-packages/pyspark/pandas/__init__.py:50: UserWarning: 'PYARROW_IGNORE_TIMEZONE' environment variable was not set. It is required to set this environment variable to '1' in both driver and executor sides if you use pyarrow>=2.0.0. pandas-on-Spark will set it for you but it does not work if there is a Spark context already launched.\n",
      "  warnings.warn(\n"
     ]
    }
   ],
   "source": [
    "import datetime\n",
    "import subprocess\n",
    "import os\n",
    "\n",
    "import pandas as pd\n",
    "from graphreduce.node import GraphReduceNode, DynamicNode\n",
    "from graphreduce.graph_reduce import GraphReduce\n",
    "from graphreduce.enum import ComputeLayerEnum, PeriodUnit"
   ]
  },
  {
   "cell_type": "code",
   "execution_count": 2,
   "id": "cd12bd3d-f8f8-4df8-8ab7-a7869e31b2ce",
   "metadata": {},
   "outputs": [
    {
     "name": "stderr",
     "output_type": "stream",
     "text": [
      "--2024-08-30 13:00:47--  https://raw.githubusercontent.com/wesmadrigal/GraphReduce/master/tests/data/cust_data/cust.csv\n",
      "Resolving raw.githubusercontent.com (raw.githubusercontent.com)... 185.199.110.133, 185.199.109.133, 185.199.108.133, ...\n",
      "Connecting to raw.githubusercontent.com (raw.githubusercontent.com)|185.199.110.133|:443... connected.\n",
      "HTTP request sent, awaiting response... 200 OK\n",
      "Length: 35 [text/plain]\n",
      "Saving to: ‘cust.csv’\n",
      "\n",
      "     0K                                                       100% 3.34M=0s\n",
      "\n",
      "2024-08-30 13:00:47 (3.34 MB/s) - ‘cust.csv’ saved [35/35]\n",
      "\n",
      "--2024-08-30 13:00:47--  https://raw.githubusercontent.com/wesmadrigal/GraphReduce/master/tests/data/cust_data/orders.csv\n",
      "Resolving raw.githubusercontent.com (raw.githubusercontent.com)... 185.199.110.133, 185.199.109.133, 185.199.108.133, ...\n",
      "Connecting to raw.githubusercontent.com (raw.githubusercontent.com)|185.199.110.133|:443... connected.\n",
      "HTTP request sent, awaiting response... 200 OK\n",
      "Length: 191 [text/plain]\n",
      "Saving to: ‘orders.csv’\n",
      "\n",
      "     0K                                                       100% 11.4M=0s\n",
      "\n",
      "2024-08-30 13:00:47 (11.4 MB/s) - ‘orders.csv’ saved [191/191]\n",
      "\n"
     ]
    }
   ],
   "source": [
    "files = [\n",
    "    'https://raw.githubusercontent.com/wesmadrigal/GraphReduce/master/tests/data/cust_data/cust.csv',\n",
    "    'https://raw.githubusercontent.com/wesmadrigal/GraphReduce/master/tests/data/cust_data/orders.csv',\n",
    "]\n",
    "\n",
    "for f in os.listdir(os.getcwd()):\n",
    "    for _f in files:\n",
    "        _fname = _f.split('/')[-1]\n",
    "        if _fname == f or _fname in f:\n",
    "            os.remove(f)\n",
    "\n",
    "for f in files:\n",
    "  subprocess.run(['wget', f])"
   ]
  },
  {
   "cell_type": "code",
   "execution_count": null,
   "id": "b12ff6c0-5518-4ac0-87e2-9aa388cb0976",
   "metadata": {},
   "outputs": [],
   "source": []
  },
  {
   "cell_type": "code",
   "execution_count": 3,
   "id": "e810d7c4-3ff6-4439-a464-8eaf708ff216",
   "metadata": {},
   "outputs": [],
   "source": [
    "# Let's define some custom nodes\n",
    "# and custom operations"
   ]
  },
  {
   "cell_type": "code",
   "execution_count": 27,
   "id": "2d758c91-51db-4e0d-8e12-62a06e8f17b5",
   "metadata": {},
   "outputs": [],
   "source": [
    "class OrderNode(GraphReduceNode):\n",
    "    def do_filters(self):\n",
    "        self.df = self.df[self.df[self.colabbr('amount')] < 100000]\n",
    "\n",
    "    def do_annotate(self):\n",
    "        pass\n",
    "\n",
    "    def do_normalize(self):\n",
    "        pass\n",
    "\n",
    "    def do_reduce(self, reduce_key):\n",
    "        return self.prep_for_features().groupby(self.colabbr(reduce_key)).agg(\n",
    "            **{\n",
    "                self.colabbr('num_orders'): pd.NamedAgg(column=self.colabbr(self.pk), aggfunc='count'),\n",
    "                self.colabbr('max_amount'): pd.NamedAgg(column=self.colabbr('amount'), aggfunc='max'),\n",
    "                self.colabbr('min_amount'): pd.NamedAgg(column=self.colabbr('amount'), aggfunc='min')\n",
    "            }\n",
    "        )\n",
    "\n",
    "    def do_labels(self, reduce_key):\n",
    "        label_df = self.prep_for_labels().groupby(self.colabbr(reduce_key)).agg(\n",
    "            **{\n",
    "                # We can subsequently turn this into a boolean\n",
    "                self.colabbr('label_orders'): pd.NamedAgg(column=self.colabbr(self.pk), aggfunc='count')\n",
    "            }\n",
    "        )\n",
    "        label_df[self.colabbr('label_had_order')] = label_df[self.colabbr('label_orders')].apply(lambda x: 1 if x > 0 else 0)\n",
    "        return label_df\n",
    "\n",
    "    def do_post_join_annotate(self):\n",
    "        pass\n",
    "\n",
    "    def do_post_join_filters(self):\n",
    "        pass"
   ]
  },
  {
   "cell_type": "code",
   "execution_count": 19,
   "id": "5830d1c8-a346-44bc-b83c-3733ebe46394",
   "metadata": {},
   "outputs": [],
   "source": [
    "class CustomerNode(GraphReduceNode):\n",
    "    def do_filters(self):\n",
    "        pass\n",
    "    def do_annotate(self):\n",
    "        pass\n",
    "    def do_normalize(self):\n",
    "        pass\n",
    "    def do_reduce(self, reduce_key):\n",
    "        pass\n",
    "    def do_labels(self, reduce_key):\n",
    "        pass\n",
    "    def do_post_join_annotate(self):\n",
    "        pass\n",
    "    def do_post_join_filters(self):\n",
    "        pass"
   ]
  },
  {
   "cell_type": "code",
   "execution_count": 20,
   "id": "551f26a9-601d-4569-9717-d79dfad05164",
   "metadata": {},
   "outputs": [],
   "source": [
    "# Instantiate order node"
   ]
  },
  {
   "cell_type": "code",
   "execution_count": 28,
   "id": "20fcdfce-e194-40e1-82e8-c4664fd9a4f0",
   "metadata": {},
   "outputs": [],
   "source": [
    "order = OrderNode(\n",
    "    fpath='orders.csv',\n",
    "    prefix='ord',\n",
    "    date_key='ts',\n",
    "    pk='id',\n",
    "    fmt='csv',\n",
    "    compute_layer=ComputeLayerEnum.pandas,\n",
    "    compute_period_val=180,\n",
    "    compute_period_unit=PeriodUnit.day,\n",
    "    cut_date=datetime.datetime(2023,10,1),\n",
    "    label_period_val=30,\n",
    "    label_period_unit=PeriodUnit.day\n",
    ")"
   ]
  },
  {
   "cell_type": "code",
   "execution_count": 30,
   "id": "2e77f119-24f2-4b06-8fcb-722a8a65bf7d",
   "metadata": {},
   "outputs": [],
   "source": [
    "order.do_data()"
   ]
  },
  {
   "cell_type": "code",
   "execution_count": 31,
   "id": "5c08b6c1-0fb5-463d-855b-db2a2e9b11be",
   "metadata": {
    "scrolled": true
   },
   "outputs": [
    {
     "data": {
      "text/html": [
       "<div>\n",
       "<style scoped>\n",
       "    .dataframe tbody tr th:only-of-type {\n",
       "        vertical-align: middle;\n",
       "    }\n",
       "\n",
       "    .dataframe tbody tr th {\n",
       "        vertical-align: top;\n",
       "    }\n",
       "\n",
       "    .dataframe thead th {\n",
       "        text-align: right;\n",
       "    }\n",
       "</style>\n",
       "<table border=\"1\" class=\"dataframe\">\n",
       "  <thead>\n",
       "    <tr style=\"text-align: right;\">\n",
       "      <th></th>\n",
       "      <th>ord_num_orders</th>\n",
       "      <th>ord_max_amount</th>\n",
       "      <th>ord_min_amount</th>\n",
       "    </tr>\n",
       "    <tr>\n",
       "      <th>ord_customer_id</th>\n",
       "      <th></th>\n",
       "      <th></th>\n",
       "      <th></th>\n",
       "    </tr>\n",
       "  </thead>\n",
       "  <tbody>\n",
       "    <tr>\n",
       "      <th>1</th>\n",
       "      <td>3</td>\n",
       "      <td>1200</td>\n",
       "      <td>10</td>\n",
       "    </tr>\n",
       "    <tr>\n",
       "      <th>3</th>\n",
       "      <td>1</td>\n",
       "      <td>220</td>\n",
       "      <td>220</td>\n",
       "    </tr>\n",
       "  </tbody>\n",
       "</table>\n",
       "</div>"
      ],
      "text/plain": [
       "                 ord_num_orders  ord_max_amount  ord_min_amount\n",
       "ord_customer_id                                                \n",
       "1                             3            1200              10\n",
       "3                             1             220             220"
      ]
     },
     "execution_count": 31,
     "metadata": {},
     "output_type": "execute_result"
    }
   ],
   "source": [
    "order.do_reduce('customer_id')"
   ]
  },
  {
   "cell_type": "code",
   "execution_count": 32,
   "id": "a662419f-eff6-47f9-870c-69adbdf6b236",
   "metadata": {},
   "outputs": [
    {
     "data": {
      "text/html": [
       "<div>\n",
       "<style scoped>\n",
       "    .dataframe tbody tr th:only-of-type {\n",
       "        vertical-align: middle;\n",
       "    }\n",
       "\n",
       "    .dataframe tbody tr th {\n",
       "        vertical-align: top;\n",
       "    }\n",
       "\n",
       "    .dataframe thead th {\n",
       "        text-align: right;\n",
       "    }\n",
       "</style>\n",
       "<table border=\"1\" class=\"dataframe\">\n",
       "  <thead>\n",
       "    <tr style=\"text-align: right;\">\n",
       "      <th></th>\n",
       "      <th>ord_label_orders</th>\n",
       "      <th>ord_label_had_order</th>\n",
       "    </tr>\n",
       "    <tr>\n",
       "      <th>ord_customer_id</th>\n",
       "      <th></th>\n",
       "      <th></th>\n",
       "    </tr>\n",
       "  </thead>\n",
       "  <tbody>\n",
       "    <tr>\n",
       "      <th>2</th>\n",
       "      <td>1</td>\n",
       "      <td>1</td>\n",
       "    </tr>\n",
       "  </tbody>\n",
       "</table>\n",
       "</div>"
      ],
      "text/plain": [
       "                 ord_label_orders  ord_label_had_order\n",
       "ord_customer_id                                       \n",
       "2                               1                    1"
      ]
     },
     "execution_count": 32,
     "metadata": {},
     "output_type": "execute_result"
    }
   ],
   "source": [
    "order.do_labels('customer_id')"
   ]
  },
  {
   "cell_type": "code",
   "execution_count": null,
   "id": "c15a14f8-9f49-4c27-922f-e6fbaa8618d4",
   "metadata": {},
   "outputs": [],
   "source": []
  }
 ],
 "metadata": {
  "kernelspec": {
   "display_name": "Python 3 (ipykernel)",
   "language": "python",
   "name": "python3"
  },
  "language_info": {
   "codemirror_mode": {
    "name": "ipython",
    "version": 3
   },
   "file_extension": ".py",
   "mimetype": "text/x-python",
   "name": "python",
   "nbconvert_exporter": "python",
   "pygments_lexer": "ipython3",
   "version": "3.9.19"
  }
 },
 "nbformat": 4,
 "nbformat_minor": 5
}

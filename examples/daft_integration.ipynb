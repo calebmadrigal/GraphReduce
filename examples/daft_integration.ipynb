{
 "cells": [
  {
   "cell_type": "code",
   "execution_count": 1,
   "id": "33873af7-023e-4af9-9cb8-6b753903a825",
   "metadata": {},
   "outputs": [],
   "source": [
    "import daft"
   ]
  },
  {
   "cell_type": "code",
   "execution_count": 4,
   "id": "5fa439e9-1f8a-455e-b3ca-c26685a15c58",
   "metadata": {},
   "outputs": [],
   "source": [
    "cust = daft.read_deltalake('/usr/local/lake/unity/kurve_integration/cust_data/cust/')\n"
   ]
  },
  {
   "cell_type": "code",
   "execution_count": 5,
   "id": "2c097c5e-881c-4e87-89ef-7b0c062eebe8",
   "metadata": {},
   "outputs": [],
   "source": [
    "orders = daft.read_deltalake('/usr/local/lake/unity/kurve_integration/cust_data/orders')"
   ]
  },
  {
   "cell_type": "code",
   "execution_count": 8,
   "id": "060e3364-7af1-4a7f-948b-d3abab4a055f",
   "metadata": {},
   "outputs": [
    {
     "data": {
      "text/html": [
       "<div>\n",
       "<table class=\"dataframe\">\n",
       "<thead><tr><th style=\"text-wrap: nowrap; max-width:192px; overflow:auto; text-align:left\">id<br />Int32</th><th style=\"text-wrap: nowrap; max-width:192px; overflow:auto; text-align:left\">customer_id<br />Int32</th><th style=\"text-wrap: nowrap; max-width:192px; overflow:auto; text-align:left\">ts<br />Date</th></tr></thead>\n",
       "<tbody>\n",
       "<tr><td><div style=\"text-align:left; max-width:192px; max-height:64px; overflow:auto\">1</div></td><td><div style=\"text-align:left; max-width:192px; max-height:64px; overflow:auto\">1</div></td><td><div style=\"text-align:left; max-width:192px; max-height:64px; overflow:auto\">2023-05-12</div></td></tr>\n",
       "<tr><td><div style=\"text-align:left; max-width:192px; max-height:64px; overflow:auto\">2</div></td><td><div style=\"text-align:left; max-width:192px; max-height:64px; overflow:auto\">1</div></td><td><div style=\"text-align:left; max-width:192px; max-height:64px; overflow:auto\">2023-06-01</div></td></tr>\n",
       "</tbody>\n",
       "</table>\n",
       "<small>(Showing first 2 rows)</small>\n",
       "</div>"
      ],
      "text/plain": [
       "╭───────┬─────────────┬────────────╮\n",
       "│ id    ┆ customer_id ┆ ts         │\n",
       "│ ---   ┆ ---         ┆ ---        │\n",
       "│ Int32 ┆ Int32       ┆ Date       │\n",
       "╞═══════╪═════════════╪════════════╡\n",
       "│ 1     ┆ 1           ┆ 2023-05-12 │\n",
       "├╌╌╌╌╌╌╌┼╌╌╌╌╌╌╌╌╌╌╌╌╌┼╌╌╌╌╌╌╌╌╌╌╌╌┤\n",
       "│ 2     ┆ 1           ┆ 2023-06-01 │\n",
       "╰───────┴─────────────┴────────────╯\n",
       "\n",
       "(Showing first 2 rows)"
      ]
     },
     "metadata": {},
     "output_type": "display_data"
    }
   ],
   "source": [
    "orders.show(2)"
   ]
  },
  {
   "cell_type": "code",
   "execution_count": 21,
   "id": "04e1e023-4e51-4a55-9bb8-cbcfb30f9b4b",
   "metadata": {},
   "outputs": [
    {
     "data": {
      "text/html": [
       "<div>\n",
       "<table class=\"dataframe\">\n",
       "<thead><tr><th style=\"text-wrap: nowrap; max-width:192px; overflow:auto; text-align:left\">customer_id<br />Int32</th><th style=\"text-wrap: nowrap; max-width:192px; overflow:auto; text-align:left\">num_orders<br />UInt64</th><th style=\"text-wrap: nowrap; max-width:192px; overflow:auto; text-align:left\">ord_min<br />Date</th></tr></thead>\n",
       "<tbody>\n",
       "<tr><td><div style=\"text-align:left; max-width:192px; max-height:64px; overflow:auto\">1</div></td><td><div style=\"text-align:left; max-width:192px; max-height:64px; overflow:auto\">3</div></td><td><div style=\"text-align:left; max-width:192px; max-height:64px; overflow:auto\">2023-05-12</div></td></tr>\n",
       "<tr><td><div style=\"text-align:left; max-width:192px; max-height:64px; overflow:auto\">4</div></td><td><div style=\"text-align:left; max-width:192px; max-height:64px; overflow:auto\">2</div></td><td><div style=\"text-align:left; max-width:192px; max-height:64px; overflow:auto\">2024-01-01</div></td></tr>\n",
       "<tr><td><div style=\"text-align:left; max-width:192px; max-height:64px; overflow:auto\">2</div></td><td><div style=\"text-align:left; max-width:192px; max-height:64px; overflow:auto\">3</div></td><td><div style=\"text-align:left; max-width:192px; max-height:64px; overflow:auto\">2022-08-05</div></td></tr>\n",
       "<tr><td><div style=\"text-align:left; max-width:192px; max-height:64px; overflow:auto\">3</div></td><td><div style=\"text-align:left; max-width:192px; max-height:64px; overflow:auto\">1</div></td><td><div style=\"text-align:left; max-width:192px; max-height:64px; overflow:auto\">2023-06-01</div></td></tr>\n",
       "</tbody>\n",
       "</table>\n",
       "<small>(Showing first 4 of 4 rows)</small>\n",
       "</div>"
      ],
      "text/plain": [
       "╭─────────────┬────────────┬────────────╮\n",
       "│ customer_id ┆ num_orders ┆ ord_min    │\n",
       "│ ---         ┆ ---        ┆ ---        │\n",
       "│ Int32       ┆ UInt64     ┆ Date       │\n",
       "╞═════════════╪════════════╪════════════╡\n",
       "│ 1           ┆ 3          ┆ 2023-05-12 │\n",
       "├╌╌╌╌╌╌╌╌╌╌╌╌╌┼╌╌╌╌╌╌╌╌╌╌╌╌┼╌╌╌╌╌╌╌╌╌╌╌╌┤\n",
       "│ 4           ┆ 2          ┆ 2024-01-01 │\n",
       "├╌╌╌╌╌╌╌╌╌╌╌╌╌┼╌╌╌╌╌╌╌╌╌╌╌╌┼╌╌╌╌╌╌╌╌╌╌╌╌┤\n",
       "│ 2           ┆ 3          ┆ 2022-08-05 │\n",
       "├╌╌╌╌╌╌╌╌╌╌╌╌╌┼╌╌╌╌╌╌╌╌╌╌╌╌┼╌╌╌╌╌╌╌╌╌╌╌╌┤\n",
       "│ 3           ┆ 1          ┆ 2023-06-01 │\n",
       "╰─────────────┴────────────┴────────────╯\n",
       "\n",
       "(Showing first 4 of 4 rows)"
      ]
     },
     "execution_count": 21,
     "metadata": {},
     "output_type": "execute_result"
    }
   ],
   "source": [
    "orders.groupby('customer_id').agg(\n",
    "    *[\n",
    "        orders['id'].count().alias('num_orders'),\n",
    "        orders['ts'].min().alias('ord_min')\n",
    "    ]\n",
    ").collect()"
   ]
  },
  {
   "cell_type": "code",
   "execution_count": 24,
   "id": "2ed934f3-3aad-45dd-a2fc-31098bf89090",
   "metadata": {},
   "outputs": [
    {
     "name": "stdout",
     "output_type": "stream",
     "text": [
      "id\n",
      "name\n"
     ]
    }
   ],
   "source": [
    "for c in cust.columns:\n",
    "    print(c.name())"
   ]
  },
  {
   "cell_type": "code",
   "execution_count": 26,
   "id": "859d7315-cace-45e0-a565-8a5ddaf0b145",
   "metadata": {},
   "outputs": [
    {
     "name": "stdout",
     "output_type": "stream",
     "text": [
      "Help on method with_column in module daft.dataframe.dataframe:\n",
      "\n",
      "with_column(column_name: str, expr: daft.expressions.expressions.Expression) -> 'DataFrame' method of daft.dataframe.dataframe.DataFrame instance\n",
      "    Adds a column to the current DataFrame with an Expression, equivalent to a ``select`` with all current columns and the new one.\n",
      "    \n",
      "    Example:\n",
      "        >>> import daft\n",
      "        >>> df = daft.from_pydict({\"x\": [1, 2, 3]})\n",
      "        >>> new_df = df.with_column(\"x+1\", col(\"x\") + 1)\n",
      "        >>> new_df.show()\n",
      "        ╭───────┬───────╮\n",
      "        │ x     ┆ x+1   │\n",
      "        │ ---   ┆ ---   │\n",
      "        │ Int64 ┆ Int64 │\n",
      "        ╞═══════╪═══════╡\n",
      "        │ 1     ┆ 2     │\n",
      "        ├╌╌╌╌╌╌╌┼╌╌╌╌╌╌╌┤\n",
      "        │ 2     ┆ 3     │\n",
      "        ├╌╌╌╌╌╌╌┼╌╌╌╌╌╌╌┤\n",
      "        │ 3     ┆ 4     │\n",
      "        ╰───────┴───────╯\n",
      "        <BLANKLINE>\n",
      "        (Showing first 3 of 3 rows)\n",
      "    \n",
      "    Args:\n",
      "        column_name (str): name of new column\n",
      "        expr (Expression): expression of the new column.\n",
      "    \n",
      "    Returns:\n",
      "        DataFrame: DataFrame with new column.\n",
      "\n"
     ]
    }
   ],
   "source": [
    "help(cust.with_column)"
   ]
  },
  {
   "cell_type": "code",
   "execution_count": 27,
   "id": "82e1fffa-1310-420d-8e83-64c7bd20ca66",
   "metadata": {},
   "outputs": [],
   "source": [
    "for col in cust.columns:\n",
    "    cust = cust.with_column(f\"cust_{col.name()}\", col)"
   ]
  },
  {
   "cell_type": "code",
   "execution_count": 28,
   "id": "ca3f07b0-ba90-4051-9cd5-9348ceb0cc97",
   "metadata": {},
   "outputs": [
    {
     "data": {
      "text/plain": [
       "[col(id), col(name), col(cust_id), col(cust_name)]"
      ]
     },
     "execution_count": 28,
     "metadata": {},
     "output_type": "execute_result"
    }
   ],
   "source": [
    "cust.columns"
   ]
  },
  {
   "cell_type": "code",
   "execution_count": 31,
   "id": "5de9c219-30e6-4033-b275-5e33a7114cf6",
   "metadata": {},
   "outputs": [
    {
     "data": {
      "text/html": [
       "<div>\n",
       "<table class=\"dataframe\">\n",
       "<thead><tr><th style=\"text-wrap: nowrap; max-width:192px; overflow:auto; text-align:left\">cust_id<br />Int32</th><th style=\"text-wrap: nowrap; max-width:192px; overflow:auto; text-align:left\">cust_name<br />Utf8</th></tr></thead>\n",
       "<tbody>\n",
       "<tr><td><div style=\"text-align:left; max-width:192px; max-height:64px; overflow:auto\">1</div></td><td><div style=\"text-align:left; max-width:192px; max-height:64px; overflow:auto\">wes</div></td></tr>\n",
       "<tr><td><div style=\"text-align:left; max-width:192px; max-height:64px; overflow:auto\">2</div></td><td><div style=\"text-align:left; max-width:192px; max-height:64px; overflow:auto\">john</div></td></tr>\n",
       "<tr><td><div style=\"text-align:left; max-width:192px; max-height:64px; overflow:auto\">3</div></td><td><div style=\"text-align:left; max-width:192px; max-height:64px; overflow:auto\">ryan</div></td></tr>\n",
       "<tr><td><div style=\"text-align:left; max-width:192px; max-height:64px; overflow:auto\">4</div></td><td><div style=\"text-align:left; max-width:192px; max-height:64px; overflow:auto\">tianji</div></td></tr>\n",
       "</tbody>\n",
       "</table>\n",
       "<small>(Showing first 4 of 4 rows)</small>\n",
       "</div>"
      ],
      "text/plain": [
       "╭─────────┬───────────╮\n",
       "│ cust_id ┆ cust_name │\n",
       "│ ---     ┆ ---       │\n",
       "│ Int32   ┆ Utf8      │\n",
       "╞═════════╪═══════════╡\n",
       "│ 1       ┆ wes       │\n",
       "├╌╌╌╌╌╌╌╌╌┼╌╌╌╌╌╌╌╌╌╌╌┤\n",
       "│ 2       ┆ john      │\n",
       "├╌╌╌╌╌╌╌╌╌┼╌╌╌╌╌╌╌╌╌╌╌┤\n",
       "│ 3       ┆ ryan      │\n",
       "├╌╌╌╌╌╌╌╌╌┼╌╌╌╌╌╌╌╌╌╌╌┤\n",
       "│ 4       ┆ tianji    │\n",
       "╰─────────┴───────────╯\n",
       "\n",
       "(Showing first 4 of 4 rows)"
      ]
     },
     "metadata": {},
     "output_type": "display_data"
    }
   ],
   "source": [
    "cust.select(\"cust_id\", \"cust_name\").show()"
   ]
  },
  {
   "cell_type": "code",
   "execution_count": 32,
   "id": "de19bbb3-eb20-4c15-bb29-dd9b94f76590",
   "metadata": {},
   "outputs": [
    {
     "data": {
      "text/plain": [
       "[col(id), col(name), col(cust_id), col(cust_name)]"
      ]
     },
     "execution_count": 32,
     "metadata": {},
     "output_type": "execute_result"
    }
   ],
   "source": [
    "cust.columns"
   ]
  },
  {
   "cell_type": "code",
   "execution_count": 35,
   "id": "d8acb3d5-ddbb-4118-b12f-254b040dca62",
   "metadata": {},
   "outputs": [],
   "source": [
    "from torch_frame.utils import infer_df_stype\n",
    "\n"
   ]
  },
  {
   "cell_type": "code",
   "execution_count": 36,
   "id": "989d4062-1f71-4fd9-b607-8d637973bbe8",
   "metadata": {},
   "outputs": [
    {
     "name": "stdout",
     "output_type": "stream",
     "text": [
      "Help on function infer_df_stype in module torch_frame.utils.infer_stype:\n",
      "\n",
      "infer_df_stype(df: 'DataFrame') -> 'dict[str, stype]'\n",
      "    Infer :obj:`col_to_stype` given :class:`DataFrame` object.\n",
      "    \n",
      "    Args:\n",
      "        df (DataFrame): Input data frame.\n",
      "    \n",
      "    Returns:\n",
      "        col_to_stype: Inferred :obj:`col_to_stype`, mapping a column name to\n",
      "            its inferred :obj:`stype`.\n",
      "\n"
     ]
    }
   ],
   "source": [
    "help(infer_df_stype)"
   ]
  },
  {
   "cell_type": "code",
   "execution_count": 38,
   "id": "68988a9c-dfd5-4c20-b1c8-b3441aca8bc4",
   "metadata": {},
   "outputs": [
    {
     "data": {
      "text/plain": [
       "['_DataFrame__builder',\n",
       " '_DataFrame__column_input_to_expression',\n",
       " '__class__',\n",
       " '__contains__',\n",
       " '__delattr__',\n",
       " '__dict__',\n",
       " '__dir__',\n",
       " '__doc__',\n",
       " '__eq__',\n",
       " '__format__',\n",
       " '__ge__',\n",
       " '__getattribute__',\n",
       " '__getitem__',\n",
       " '__gt__',\n",
       " '__hash__',\n",
       " '__init__',\n",
       " '__init_subclass__',\n",
       " '__iter__',\n",
       " '__le__',\n",
       " '__len__',\n",
       " '__lt__',\n",
       " '__module__',\n",
       " '__ne__',\n",
       " '__new__',\n",
       " '__reduce__',\n",
       " '__reduce_ex__',\n",
       " '__repr__',\n",
       " '__setattr__',\n",
       " '__sizeof__',\n",
       " '__str__',\n",
       " '__subclasshook__',\n",
       " '__weakref__',\n",
       " '_add_monotonically_increasing_id',\n",
       " '_agg',\n",
       " '_apply_agg_fn',\n",
       " '_builder',\n",
       " '_column_inputs_to_expressions',\n",
       " '_construct_show_display',\n",
       " '_from_arrow',\n",
       " '_from_dask_dataframe',\n",
       " '_from_pandas',\n",
       " '_from_pydict',\n",
       " '_from_pylist',\n",
       " '_from_ray_dataset',\n",
       " '_from_tables',\n",
       " '_get_current_builder',\n",
       " '_is_column_input',\n",
       " '_map_agg_string_to_expr',\n",
       " '_map_groups',\n",
       " '_materialize_results',\n",
       " '_num_preview_rows',\n",
       " '_populate_preview',\n",
       " '_preview',\n",
       " '_repr_html_',\n",
       " '_result',\n",
       " '_result_cache',\n",
       " '_wildcard_inputs_to_expressions',\n",
       " 'agg',\n",
       " 'agg_concat',\n",
       " 'agg_list',\n",
       " 'any_value',\n",
       " 'collect',\n",
       " 'column_names',\n",
       " 'columns',\n",
       " 'concat',\n",
       " 'count',\n",
       " 'count_rows',\n",
       " 'distinct',\n",
       " 'drop_nan',\n",
       " 'drop_null',\n",
       " 'exclude',\n",
       " 'explain',\n",
       " 'explode',\n",
       " 'filter',\n",
       " 'groupby',\n",
       " 'intersect',\n",
       " 'into_partitions',\n",
       " 'iter_partitions',\n",
       " 'iter_rows',\n",
       " 'join',\n",
       " 'limit',\n",
       " 'max',\n",
       " 'mean',\n",
       " 'melt',\n",
       " 'min',\n",
       " 'num_partitions',\n",
       " 'pivot',\n",
       " 'repartition',\n",
       " 'sample',\n",
       " 'schema',\n",
       " 'select',\n",
       " 'show',\n",
       " 'sort',\n",
       " 'stddev',\n",
       " 'sum',\n",
       " 'to_arrow',\n",
       " 'to_arrow_iter',\n",
       " 'to_dask_dataframe',\n",
       " 'to_pandas',\n",
       " 'to_pydict',\n",
       " 'to_pylist',\n",
       " 'to_ray_dataset',\n",
       " 'to_torch_iter_dataset',\n",
       " 'to_torch_map_dataset',\n",
       " 'transform',\n",
       " 'unpivot',\n",
       " 'where',\n",
       " 'with_column',\n",
       " 'with_columns',\n",
       " 'write_csv',\n",
       " 'write_deltalake',\n",
       " 'write_iceberg',\n",
       " 'write_lance',\n",
       " 'write_parquet']"
      ]
     },
     "execution_count": 38,
     "metadata": {},
     "output_type": "execute_result"
    }
   ],
   "source": [
    "dir(cust)"
   ]
  },
  {
   "cell_type": "code",
   "execution_count": 43,
   "id": "0e4f8fea-47f7-4d14-86ad-40142578570b",
   "metadata": {},
   "outputs": [
    {
     "data": {
      "text/html": [
       "<div>\n",
       "<table class=\"dataframe\">\n",
       "<thead><tr><th style=\"text-wrap: nowrap; max-width:192px; overflow:auto; text-align:left\">id<br />Int32</th><th style=\"text-wrap: nowrap; max-width:192px; overflow:auto; text-align:left\">name<br />Utf8</th><th style=\"text-wrap: nowrap; max-width:192px; overflow:auto; text-align:left\">cust_id<br />Int32</th><th style=\"text-wrap: nowrap; max-width:192px; overflow:auto; text-align:left\">cust_name<br />Utf8</th></tr></thead>\n",
       "<tbody>\n",
       "<tr><td><div style=\"text-align:left; max-width:192px; max-height:64px; overflow:auto\">4</div></td><td><div style=\"text-align:left; max-width:192px; max-height:64px; overflow:auto\">tianji</div></td><td><div style=\"text-align:left; max-width:192px; max-height:64px; overflow:auto\">4</div></td><td><div style=\"text-align:left; max-width:192px; max-height:64px; overflow:auto\">tianji</div></td></tr>\n",
       "<tr><td><div style=\"text-align:left; max-width:192px; max-height:64px; overflow:auto\">3</div></td><td><div style=\"text-align:left; max-width:192px; max-height:64px; overflow:auto\">ryan</div></td><td><div style=\"text-align:left; max-width:192px; max-height:64px; overflow:auto\">3</div></td><td><div style=\"text-align:left; max-width:192px; max-height:64px; overflow:auto\">ryan</div></td></tr>\n",
       "</tbody>\n",
       "</table>\n",
       "<small>(Showing first 2 of 2 rows)</small>\n",
       "</div>"
      ],
      "text/plain": [
       "╭───────┬────────┬─────────┬───────────╮\n",
       "│ id    ┆ name   ┆ cust_id ┆ cust_name │\n",
       "│ ---   ┆ ---    ┆ ---     ┆ ---       │\n",
       "│ Int32 ┆ Utf8   ┆ Int32   ┆ Utf8      │\n",
       "╞═══════╪════════╪═════════╪═══════════╡\n",
       "│ 4     ┆ tianji ┆ 4       ┆ tianji    │\n",
       "├╌╌╌╌╌╌╌┼╌╌╌╌╌╌╌╌┼╌╌╌╌╌╌╌╌╌┼╌╌╌╌╌╌╌╌╌╌╌┤\n",
       "│ 3     ┆ ryan   ┆ 3       ┆ ryan      │\n",
       "╰───────┴────────┴─────────┴───────────╯\n",
       "\n",
       "(Showing first 2 of 2 rows)"
      ]
     },
     "metadata": {},
     "output_type": "display_data"
    }
   ],
   "source": [
    "cust.sample(0.5).show()"
   ]
  },
  {
   "cell_type": "code",
   "execution_count": 44,
   "id": "b5b2ce02-d11e-4c62-8966-0a169a135a7f",
   "metadata": {},
   "outputs": [],
   "source": [
    "m = 100"
   ]
  },
  {
   "cell_type": "code",
   "execution_count": 45,
   "id": "49433b72-768c-4076-b769-3d2b816f4912",
   "metadata": {},
   "outputs": [],
   "source": [
    "n = orders.count_rows()"
   ]
  },
  {
   "cell_type": "code",
   "execution_count": 46,
   "id": "9bbd637f-6228-459b-ade1-2d2238fd5bca",
   "metadata": {},
   "outputs": [
    {
     "data": {
      "text/plain": [
       "9"
      ]
     },
     "execution_count": 46,
     "metadata": {},
     "output_type": "execute_result"
    }
   ],
   "source": [
    "n"
   ]
  },
  {
   "cell_type": "code",
   "execution_count": 50,
   "id": "a38963b5-1293-4706-b525-69991574b5f8",
   "metadata": {},
   "outputs": [],
   "source": [
    "frac = m / n if m / n < 1 else 1.0"
   ]
  },
  {
   "cell_type": "code",
   "execution_count": 51,
   "id": "29a5c0e3-2a34-454e-8dad-fb689e5446cb",
   "metadata": {},
   "outputs": [
    {
     "data": {
      "text/plain": [
       "1.0"
      ]
     },
     "execution_count": 51,
     "metadata": {},
     "output_type": "execute_result"
    }
   ],
   "source": [
    "frac"
   ]
  },
  {
   "cell_type": "code",
   "execution_count": 52,
   "id": "b2cd6c9a-c91f-4ec3-86e4-43dfad2d7a42",
   "metadata": {},
   "outputs": [],
   "source": [
    "stypes = infer_df_stype(orders.sample(frac).to_pandas())"
   ]
  },
  {
   "cell_type": "code",
   "execution_count": 53,
   "id": "1a4975fd-6b1e-4a8e-ab55-29d8d77de672",
   "metadata": {},
   "outputs": [
    {
     "data": {
      "text/plain": [
       "{'id': <stype.numerical: 'numerical'>,\n",
       " 'customer_id': <stype.numerical: 'numerical'>,\n",
       " 'ts': <stype.timestamp: 'timestamp'>}"
      ]
     },
     "execution_count": 53,
     "metadata": {},
     "output_type": "execute_result"
    }
   ],
   "source": [
    "stypes"
   ]
  },
  {
   "cell_type": "code",
   "execution_count": 54,
   "id": "b67b4332-8bee-4693-8f01-53041485d55f",
   "metadata": {},
   "outputs": [
    {
     "data": {
      "text/html": [
       "<div>\n",
       "<table class=\"dataframe\">\n",
       "<thead><tr><th style=\"text-wrap: nowrap; max-width:192px; overflow:auto; text-align:left\">id<br />Int32</th><th style=\"text-wrap: nowrap; max-width:192px; overflow:auto; text-align:left\">customer_id<br />Int32</th><th style=\"text-wrap: nowrap; max-width:192px; overflow:auto; text-align:left\">ts<br />Date</th></tr></thead>\n",
       "</table>\n",
       "<small>(No data to display: Dataframe not materialized)</small>\n",
       "</div>"
      ],
      "text/plain": [
       "╭───────┬─────────────┬──────╮\n",
       "│ id    ┆ customer_id ┆ ts   │\n",
       "│ ---   ┆ ---         ┆ ---  │\n",
       "│ Int32 ┆ Int32       ┆ Date │\n",
       "╰───────┴─────────────┴──────╯\n",
       "\n",
       "(No data to display: Dataframe not materialized)"
      ]
     },
     "execution_count": 54,
     "metadata": {},
     "output_type": "execute_result"
    }
   ],
   "source": [
    "orders"
   ]
  },
  {
   "cell_type": "code",
   "execution_count": 55,
   "id": "95cee55a-d1ac-43dd-bfba-837dc7f20791",
   "metadata": {},
   "outputs": [
    {
     "data": {
      "text/plain": [
       "9"
      ]
     },
     "execution_count": 55,
     "metadata": {},
     "output_type": "execute_result"
    }
   ],
   "source": [
    "orders.count_rows()"
   ]
  },
  {
   "cell_type": "code",
   "execution_count": 56,
   "id": "47a48562-8025-4849-9776-c1f70fa4ddeb",
   "metadata": {},
   "outputs": [
    {
     "data": {
      "text/html": [
       "<div>\n",
       "<table class=\"dataframe\">\n",
       "<thead><tr><th style=\"text-wrap: nowrap; max-width:192px; overflow:auto; text-align:left\">id<br />Int32</th><th style=\"text-wrap: nowrap; max-width:192px; overflow:auto; text-align:left\">customer_id<br />Int32</th><th style=\"text-wrap: nowrap; max-width:192px; overflow:auto; text-align:left\">ts<br />Date</th></tr></thead>\n",
       "<tbody>\n",
       "<tr><td><div style=\"text-align:left; max-width:192px; max-height:64px; overflow:auto\">1</div></td><td><div style=\"text-align:left; max-width:192px; max-height:64px; overflow:auto\">1</div></td><td><div style=\"text-align:left; max-width:192px; max-height:64px; overflow:auto\">2023-05-12</div></td></tr>\n",
       "<tr><td><div style=\"text-align:left; max-width:192px; max-height:64px; overflow:auto\">2</div></td><td><div style=\"text-align:left; max-width:192px; max-height:64px; overflow:auto\">1</div></td><td><div style=\"text-align:left; max-width:192px; max-height:64px; overflow:auto\">2023-06-01</div></td></tr>\n",
       "<tr><td><div style=\"text-align:left; max-width:192px; max-height:64px; overflow:auto\">3</div></td><td><div style=\"text-align:left; max-width:192px; max-height:64px; overflow:auto\">2</div></td><td><div style=\"text-align:left; max-width:192px; max-height:64px; overflow:auto\">2023-01-01</div></td></tr>\n",
       "<tr><td><div style=\"text-align:left; max-width:192px; max-height:64px; overflow:auto\">4</div></td><td><div style=\"text-align:left; max-width:192px; max-height:64px; overflow:auto\">2</div></td><td><div style=\"text-align:left; max-width:192px; max-height:64px; overflow:auto\">2022-08-05</div></td></tr>\n",
       "<tr><td><div style=\"text-align:left; max-width:192px; max-height:64px; overflow:auto\">5</div></td><td><div style=\"text-align:left; max-width:192px; max-height:64px; overflow:auto\">3</div></td><td><div style=\"text-align:left; max-width:192px; max-height:64px; overflow:auto\">2023-06-01</div></td></tr>\n",
       "<tr><td><div style=\"text-align:left; max-width:192px; max-height:64px; overflow:auto\">6</div></td><td><div style=\"text-align:left; max-width:192px; max-height:64px; overflow:auto\">1</div></td><td><div style=\"text-align:left; max-width:192px; max-height:64px; overflow:auto\">2023-09-02</div></td></tr>\n",
       "<tr><td><div style=\"text-align:left; max-width:192px; max-height:64px; overflow:auto\">7</div></td><td><div style=\"text-align:left; max-width:192px; max-height:64px; overflow:auto\">2</div></td><td><div style=\"text-align:left; max-width:192px; max-height:64px; overflow:auto\">2023-10-15</div></td></tr>\n",
       "<tr><td><div style=\"text-align:left; max-width:192px; max-height:64px; overflow:auto\">8</div></td><td><div style=\"text-align:left; max-width:192px; max-height:64px; overflow:auto\">4</div></td><td><div style=\"text-align:left; max-width:192px; max-height:64px; overflow:auto\">2024-01-01</div></td></tr>\n",
       "</tbody>\n",
       "</table>\n",
       "<small>(Showing first 8 rows)</small>\n",
       "</div>"
      ],
      "text/plain": [
       "╭───────┬─────────────┬────────────╮\n",
       "│ id    ┆ customer_id ┆ ts         │\n",
       "│ ---   ┆ ---         ┆ ---        │\n",
       "│ Int32 ┆ Int32       ┆ Date       │\n",
       "╞═══════╪═════════════╪════════════╡\n",
       "│ 1     ┆ 1           ┆ 2023-05-12 │\n",
       "├╌╌╌╌╌╌╌┼╌╌╌╌╌╌╌╌╌╌╌╌╌┼╌╌╌╌╌╌╌╌╌╌╌╌┤\n",
       "│ 2     ┆ 1           ┆ 2023-06-01 │\n",
       "├╌╌╌╌╌╌╌┼╌╌╌╌╌╌╌╌╌╌╌╌╌┼╌╌╌╌╌╌╌╌╌╌╌╌┤\n",
       "│ 3     ┆ 2           ┆ 2023-01-01 │\n",
       "├╌╌╌╌╌╌╌┼╌╌╌╌╌╌╌╌╌╌╌╌╌┼╌╌╌╌╌╌╌╌╌╌╌╌┤\n",
       "│ 4     ┆ 2           ┆ 2022-08-05 │\n",
       "├╌╌╌╌╌╌╌┼╌╌╌╌╌╌╌╌╌╌╌╌╌┼╌╌╌╌╌╌╌╌╌╌╌╌┤\n",
       "│ 5     ┆ 3           ┆ 2023-06-01 │\n",
       "├╌╌╌╌╌╌╌┼╌╌╌╌╌╌╌╌╌╌╌╌╌┼╌╌╌╌╌╌╌╌╌╌╌╌┤\n",
       "│ 6     ┆ 1           ┆ 2023-09-02 │\n",
       "├╌╌╌╌╌╌╌┼╌╌╌╌╌╌╌╌╌╌╌╌╌┼╌╌╌╌╌╌╌╌╌╌╌╌┤\n",
       "│ 7     ┆ 2           ┆ 2023-10-15 │\n",
       "├╌╌╌╌╌╌╌┼╌╌╌╌╌╌╌╌╌╌╌╌╌┼╌╌╌╌╌╌╌╌╌╌╌╌┤\n",
       "│ 8     ┆ 4           ┆ 2024-01-01 │\n",
       "╰───────┴─────────────┴────────────╯\n",
       "\n",
       "(Showing first 8 rows)"
      ]
     },
     "metadata": {},
     "output_type": "display_data"
    }
   ],
   "source": [
    "orders.show()"
   ]
  },
  {
   "cell_type": "code",
   "execution_count": 61,
   "id": "d9b50e69-f5d7-4129-b382-423e7b2c92d2",
   "metadata": {},
   "outputs": [],
   "source": [
    "import datetime"
   ]
  },
  {
   "cell_type": "code",
   "execution_count": 62,
   "id": "fa8f5987-3b69-4da9-9686-703463bd28b9",
   "metadata": {},
   "outputs": [],
   "source": [
    "cut_date = datetime.datetime(2023, 9, 1)"
   ]
  },
  {
   "cell_type": "code",
   "execution_count": null,
   "id": "5d9aab64-ab79-4c31-94f9-2d37f29fbdb4",
   "metadata": {},
   "outputs": [],
   "source": []
  },
  {
   "cell_type": "code",
   "execution_count": 60,
   "id": "d67e8874-c8a7-4673-94ba-6f07dc6d8456",
   "metadata": {},
   "outputs": [
    {
     "data": {
      "text/plain": [
       "6"
      ]
     },
     "execution_count": 60,
     "metadata": {},
     "output_type": "execute_result"
    }
   ],
   "source": [
    "orders.where(\n",
    "    (orders['ts']>= '2023-06-01')\n",
    "    |\n",
    "    (orders['ts'].is_null())\n",
    ").count_rows()"
   ]
  },
  {
   "cell_type": "code",
   "execution_count": 74,
   "id": "b837e9c5-9ced-41bb-b1dd-2aab916da933",
   "metadata": {},
   "outputs": [
    {
     "data": {
      "text/html": [
       "<div>\n",
       "<table class=\"dataframe\">\n",
       "<thead><tr><th style=\"text-wrap: nowrap; max-width:192px; overflow:auto; text-align:left\">customer_id<br />Int32</th><th style=\"text-wrap: nowrap; max-width:192px; overflow:auto; text-align:left\">record_count<br />UInt64</th></tr></thead>\n",
       "<tbody>\n",
       "<tr><td><div style=\"text-align:left; max-width:192px; max-height:64px; overflow:auto\">1</div></td><td><div style=\"text-align:left; max-width:192px; max-height:64px; overflow:auto\">2</div></td></tr>\n",
       "<tr><td><div style=\"text-align:left; max-width:192px; max-height:64px; overflow:auto\">3</div></td><td><div style=\"text-align:left; max-width:192px; max-height:64px; overflow:auto\">1</div></td></tr>\n",
       "<tr><td><div style=\"text-align:left; max-width:192px; max-height:64px; overflow:auto\">2</div></td><td><div style=\"text-align:left; max-width:192px; max-height:64px; overflow:auto\">1</div></td></tr>\n",
       "</tbody>\n",
       "</table>\n",
       "<small>(Showing first 3 of 3 rows)</small>\n",
       "</div>"
      ],
      "text/plain": [
       "╭─────────────┬──────────────╮\n",
       "│ customer_id ┆ record_count │\n",
       "│ ---         ┆ ---          │\n",
       "│ Int32       ┆ UInt64       │\n",
       "╞═════════════╪══════════════╡\n",
       "│ 1           ┆ 2            │\n",
       "├╌╌╌╌╌╌╌╌╌╌╌╌╌┼╌╌╌╌╌╌╌╌╌╌╌╌╌╌┤\n",
       "│ 3           ┆ 1            │\n",
       "├╌╌╌╌╌╌╌╌╌╌╌╌╌┼╌╌╌╌╌╌╌╌╌╌╌╌╌╌┤\n",
       "│ 2           ┆ 1            │\n",
       "╰─────────────┴──────────────╯\n",
       "\n",
       "(Showing first 3 of 3 rows)"
      ]
     },
     "metadata": {},
     "output_type": "display_data"
    }
   ],
   "source": [
    "aggcol = daft.col('id')\n",
    "\n",
    "orders.filter(\n",
    "    (\n",
    "        (orders['ts'] > (cut_date - datetime.timedelta(days=365)))\n",
    "        &\n",
    "        (orders['ts'] < cut_date)\n",
    "    )\n",
    "    |\n",
    "    (orders['ts'].is_null())\n",
    ").groupby('customer_id').agg(\n",
    "    getattr(aggcol, 'count')().alias('record_count')\n",
    ").show()"
   ]
  },
  {
   "cell_type": "code",
   "execution_count": 65,
   "id": "767f5c90-e59a-4d91-9bd3-da3f7b2b4081",
   "metadata": {},
   "outputs": [
    {
     "data": {
      "text/plain": [
       "<function daft.expressions.expressions.col(name: 'str') -> 'Expression'>"
      ]
     },
     "execution_count": 65,
     "metadata": {},
     "output_type": "execute_result"
    }
   ],
   "source": [
    "daft.col"
   ]
  },
  {
   "cell_type": "code",
   "execution_count": 71,
   "id": "f5568f60-b73a-43e1-a5f6-75e70c832057",
   "metadata": {},
   "outputs": [
    {
     "data": {
      "text/html": [
       "<div>\n",
       "<table class=\"dataframe\">\n",
       "<thead><tr><th style=\"text-wrap: nowrap; max-width:192px; overflow:auto; text-align:left\">customer_id<br />Int32</th><th style=\"text-wrap: nowrap; max-width:192px; overflow:auto; text-align:left\">record_count<br />UInt64</th></tr></thead>\n",
       "<tbody>\n",
       "<tr><td><div style=\"text-align:left; max-width:192px; max-height:64px; overflow:auto\">1</div></td><td><div style=\"text-align:left; max-width:192px; max-height:64px; overflow:auto\">3</div></td></tr>\n",
       "<tr><td><div style=\"text-align:left; max-width:192px; max-height:64px; overflow:auto\">4</div></td><td><div style=\"text-align:left; max-width:192px; max-height:64px; overflow:auto\">2</div></td></tr>\n",
       "<tr><td><div style=\"text-align:left; max-width:192px; max-height:64px; overflow:auto\">2</div></td><td><div style=\"text-align:left; max-width:192px; max-height:64px; overflow:auto\">3</div></td></tr>\n",
       "<tr><td><div style=\"text-align:left; max-width:192px; max-height:64px; overflow:auto\">3</div></td><td><div style=\"text-align:left; max-width:192px; max-height:64px; overflow:auto\">1</div></td></tr>\n",
       "</tbody>\n",
       "</table>\n",
       "<small>(Showing first 4 of 4 rows)</small>\n",
       "</div>"
      ],
      "text/plain": [
       "╭─────────────┬──────────────╮\n",
       "│ customer_id ┆ record_count │\n",
       "│ ---         ┆ ---          │\n",
       "│ Int32       ┆ UInt64       │\n",
       "╞═════════════╪══════════════╡\n",
       "│ 1           ┆ 3            │\n",
       "├╌╌╌╌╌╌╌╌╌╌╌╌╌┼╌╌╌╌╌╌╌╌╌╌╌╌╌╌┤\n",
       "│ 4           ┆ 2            │\n",
       "├╌╌╌╌╌╌╌╌╌╌╌╌╌┼╌╌╌╌╌╌╌╌╌╌╌╌╌╌┤\n",
       "│ 2           ┆ 3            │\n",
       "├╌╌╌╌╌╌╌╌╌╌╌╌╌┼╌╌╌╌╌╌╌╌╌╌╌╌╌╌┤\n",
       "│ 3           ┆ 1            │\n",
       "╰─────────────┴──────────────╯\n",
       "\n",
       "(Showing first 4 of 4 rows)"
      ]
     },
     "metadata": {},
     "output_type": "display_data"
    }
   ],
   "source": [
    "aggcol = daft.col('id')\n",
    "orders.groupby('customer_id').agg(\n",
    "    getattr(aggcol, 'count')().alias('record_count')\n",
    ").show()"
   ]
  },
  {
   "cell_type": "code",
   "execution_count": 83,
   "id": "665e93a4-8b91-4af3-841a-7bf1c1669f61",
   "metadata": {},
   "outputs": [
    {
     "data": {
      "text/html": [
       "<div>\n",
       "<table class=\"dataframe\">\n",
       "<thead><tr><th style=\"text-wrap: nowrap; max-width:192px; overflow:auto; text-align:left\">id<br />Int32</th><th style=\"text-wrap: nowrap; max-width:192px; overflow:auto; text-align:left\">name<br />Utf8</th><th style=\"text-wrap: nowrap; max-width:192px; overflow:auto; text-align:left\">cust_id<br />Int32</th><th style=\"text-wrap: nowrap; max-width:192px; overflow:auto; text-align:left\">cust_name<br />Utf8</th><th style=\"text-wrap: nowrap; max-width:192px; overflow:auto; text-align:left\">id_right<br />Int32</th><th style=\"text-wrap: nowrap; max-width:192px; overflow:auto; text-align:left\">customer_id<br />Int32</th><th style=\"text-wrap: nowrap; max-width:192px; overflow:auto; text-align:left\">ts<br />Date</th></tr></thead>\n",
       "<tbody>\n",
       "<tr><td><div style=\"text-align:left; max-width:192px; max-height:64px; overflow:auto\">1</div></td><td><div style=\"text-align:left; max-width:192px; max-height:64px; overflow:auto\">wes</div></td><td><div style=\"text-align:left; max-width:192px; max-height:64px; overflow:auto\">1</div></td><td><div style=\"text-align:left; max-width:192px; max-height:64px; overflow:auto\">wes</div></td><td><div style=\"text-align:left; max-width:192px; max-height:64px; overflow:auto\">1</div></td><td><div style=\"text-align:left; max-width:192px; max-height:64px; overflow:auto\">1</div></td><td><div style=\"text-align:left; max-width:192px; max-height:64px; overflow:auto\">2023-05-12</div></td></tr>\n",
       "<tr><td><div style=\"text-align:left; max-width:192px; max-height:64px; overflow:auto\">1</div></td><td><div style=\"text-align:left; max-width:192px; max-height:64px; overflow:auto\">wes</div></td><td><div style=\"text-align:left; max-width:192px; max-height:64px; overflow:auto\">1</div></td><td><div style=\"text-align:left; max-width:192px; max-height:64px; overflow:auto\">wes</div></td><td><div style=\"text-align:left; max-width:192px; max-height:64px; overflow:auto\">2</div></td><td><div style=\"text-align:left; max-width:192px; max-height:64px; overflow:auto\">1</div></td><td><div style=\"text-align:left; max-width:192px; max-height:64px; overflow:auto\">2023-06-01</div></td></tr>\n",
       "<tr><td><div style=\"text-align:left; max-width:192px; max-height:64px; overflow:auto\">2</div></td><td><div style=\"text-align:left; max-width:192px; max-height:64px; overflow:auto\">john</div></td><td><div style=\"text-align:left; max-width:192px; max-height:64px; overflow:auto\">2</div></td><td><div style=\"text-align:left; max-width:192px; max-height:64px; overflow:auto\">john</div></td><td><div style=\"text-align:left; max-width:192px; max-height:64px; overflow:auto\">3</div></td><td><div style=\"text-align:left; max-width:192px; max-height:64px; overflow:auto\">2</div></td><td><div style=\"text-align:left; max-width:192px; max-height:64px; overflow:auto\">2023-01-01</div></td></tr>\n",
       "<tr><td><div style=\"text-align:left; max-width:192px; max-height:64px; overflow:auto\">2</div></td><td><div style=\"text-align:left; max-width:192px; max-height:64px; overflow:auto\">john</div></td><td><div style=\"text-align:left; max-width:192px; max-height:64px; overflow:auto\">2</div></td><td><div style=\"text-align:left; max-width:192px; max-height:64px; overflow:auto\">john</div></td><td><div style=\"text-align:left; max-width:192px; max-height:64px; overflow:auto\">4</div></td><td><div style=\"text-align:left; max-width:192px; max-height:64px; overflow:auto\">2</div></td><td><div style=\"text-align:left; max-width:192px; max-height:64px; overflow:auto\">2022-08-05</div></td></tr>\n",
       "<tr><td><div style=\"text-align:left; max-width:192px; max-height:64px; overflow:auto\">3</div></td><td><div style=\"text-align:left; max-width:192px; max-height:64px; overflow:auto\">ryan</div></td><td><div style=\"text-align:left; max-width:192px; max-height:64px; overflow:auto\">3</div></td><td><div style=\"text-align:left; max-width:192px; max-height:64px; overflow:auto\">ryan</div></td><td><div style=\"text-align:left; max-width:192px; max-height:64px; overflow:auto\">5</div></td><td><div style=\"text-align:left; max-width:192px; max-height:64px; overflow:auto\">3</div></td><td><div style=\"text-align:left; max-width:192px; max-height:64px; overflow:auto\">2023-06-01</div></td></tr>\n",
       "<tr><td><div style=\"text-align:left; max-width:192px; max-height:64px; overflow:auto\">1</div></td><td><div style=\"text-align:left; max-width:192px; max-height:64px; overflow:auto\">wes</div></td><td><div style=\"text-align:left; max-width:192px; max-height:64px; overflow:auto\">1</div></td><td><div style=\"text-align:left; max-width:192px; max-height:64px; overflow:auto\">wes</div></td><td><div style=\"text-align:left; max-width:192px; max-height:64px; overflow:auto\">6</div></td><td><div style=\"text-align:left; max-width:192px; max-height:64px; overflow:auto\">1</div></td><td><div style=\"text-align:left; max-width:192px; max-height:64px; overflow:auto\">2023-09-02</div></td></tr>\n",
       "<tr><td><div style=\"text-align:left; max-width:192px; max-height:64px; overflow:auto\">2</div></td><td><div style=\"text-align:left; max-width:192px; max-height:64px; overflow:auto\">john</div></td><td><div style=\"text-align:left; max-width:192px; max-height:64px; overflow:auto\">2</div></td><td><div style=\"text-align:left; max-width:192px; max-height:64px; overflow:auto\">john</div></td><td><div style=\"text-align:left; max-width:192px; max-height:64px; overflow:auto\">7</div></td><td><div style=\"text-align:left; max-width:192px; max-height:64px; overflow:auto\">2</div></td><td><div style=\"text-align:left; max-width:192px; max-height:64px; overflow:auto\">2023-10-15</div></td></tr>\n",
       "<tr><td><div style=\"text-align:left; max-width:192px; max-height:64px; overflow:auto\">4</div></td><td><div style=\"text-align:left; max-width:192px; max-height:64px; overflow:auto\">tianji</div></td><td><div style=\"text-align:left; max-width:192px; max-height:64px; overflow:auto\">4</div></td><td><div style=\"text-align:left; max-width:192px; max-height:64px; overflow:auto\">tianji</div></td><td><div style=\"text-align:left; max-width:192px; max-height:64px; overflow:auto\">8</div></td><td><div style=\"text-align:left; max-width:192px; max-height:64px; overflow:auto\">4</div></td><td><div style=\"text-align:left; max-width:192px; max-height:64px; overflow:auto\">2024-01-01</div></td></tr>\n",
       "</tbody>\n",
       "</table>\n",
       "<small>(Showing first 8 rows)</small>\n",
       "</div>"
      ],
      "text/plain": [
       "╭───────┬────────┬─────────┬────────────┬──────────┬─────────────┬────────────╮\n",
       "│ id    ┆ name   ┆ cust_id ┆      …     ┆ id_right ┆ customer_id ┆ ts         │\n",
       "│ ---   ┆ ---    ┆ ---     ┆            ┆ ---      ┆ ---         ┆ ---        │\n",
       "│ Int32 ┆ Utf8   ┆ Int32   ┆ (1 hidden) ┆ Int32    ┆ Int32       ┆ Date       │\n",
       "╞═══════╪════════╪═════════╪════════════╪══════════╪═════════════╪════════════╡\n",
       "│ 1     ┆ wes    ┆ 1       ┆ …          ┆ 1        ┆ 1           ┆ 2023-05-12 │\n",
       "├╌╌╌╌╌╌╌┼╌╌╌╌╌╌╌╌┼╌╌╌╌╌╌╌╌╌┼╌╌╌╌╌╌╌╌╌╌╌╌┼╌╌╌╌╌╌╌╌╌╌┼╌╌╌╌╌╌╌╌╌╌╌╌╌┼╌╌╌╌╌╌╌╌╌╌╌╌┤\n",
       "│ 1     ┆ wes    ┆ 1       ┆ …          ┆ 2        ┆ 1           ┆ 2023-06-01 │\n",
       "├╌╌╌╌╌╌╌┼╌╌╌╌╌╌╌╌┼╌╌╌╌╌╌╌╌╌┼╌╌╌╌╌╌╌╌╌╌╌╌┼╌╌╌╌╌╌╌╌╌╌┼╌╌╌╌╌╌╌╌╌╌╌╌╌┼╌╌╌╌╌╌╌╌╌╌╌╌┤\n",
       "│ 2     ┆ john   ┆ 2       ┆ …          ┆ 3        ┆ 2           ┆ 2023-01-01 │\n",
       "├╌╌╌╌╌╌╌┼╌╌╌╌╌╌╌╌┼╌╌╌╌╌╌╌╌╌┼╌╌╌╌╌╌╌╌╌╌╌╌┼╌╌╌╌╌╌╌╌╌╌┼╌╌╌╌╌╌╌╌╌╌╌╌╌┼╌╌╌╌╌╌╌╌╌╌╌╌┤\n",
       "│ 2     ┆ john   ┆ 2       ┆ …          ┆ 4        ┆ 2           ┆ 2022-08-05 │\n",
       "├╌╌╌╌╌╌╌┼╌╌╌╌╌╌╌╌┼╌╌╌╌╌╌╌╌╌┼╌╌╌╌╌╌╌╌╌╌╌╌┼╌╌╌╌╌╌╌╌╌╌┼╌╌╌╌╌╌╌╌╌╌╌╌╌┼╌╌╌╌╌╌╌╌╌╌╌╌┤\n",
       "│ 3     ┆ ryan   ┆ 3       ┆ …          ┆ 5        ┆ 3           ┆ 2023-06-01 │\n",
       "├╌╌╌╌╌╌╌┼╌╌╌╌╌╌╌╌┼╌╌╌╌╌╌╌╌╌┼╌╌╌╌╌╌╌╌╌╌╌╌┼╌╌╌╌╌╌╌╌╌╌┼╌╌╌╌╌╌╌╌╌╌╌╌╌┼╌╌╌╌╌╌╌╌╌╌╌╌┤\n",
       "│ 1     ┆ wes    ┆ 1       ┆ …          ┆ 6        ┆ 1           ┆ 2023-09-02 │\n",
       "├╌╌╌╌╌╌╌┼╌╌╌╌╌╌╌╌┼╌╌╌╌╌╌╌╌╌┼╌╌╌╌╌╌╌╌╌╌╌╌┼╌╌╌╌╌╌╌╌╌╌┼╌╌╌╌╌╌╌╌╌╌╌╌╌┼╌╌╌╌╌╌╌╌╌╌╌╌┤\n",
       "│ 2     ┆ john   ┆ 2       ┆ …          ┆ 7        ┆ 2           ┆ 2023-10-15 │\n",
       "├╌╌╌╌╌╌╌┼╌╌╌╌╌╌╌╌┼╌╌╌╌╌╌╌╌╌┼╌╌╌╌╌╌╌╌╌╌╌╌┼╌╌╌╌╌╌╌╌╌╌┼╌╌╌╌╌╌╌╌╌╌╌╌╌┼╌╌╌╌╌╌╌╌╌╌╌╌┤\n",
       "│ 4     ┆ tianji ┆ 4       ┆ …          ┆ 8        ┆ 4           ┆ 2024-01-01 │\n",
       "╰───────┴────────┴─────────┴────────────┴──────────┴─────────────┴────────────╯\n",
       "\n",
       "(Showing first 8 rows)"
      ]
     },
     "metadata": {},
     "output_type": "display_data"
    }
   ],
   "source": [
    "cust.join(orders,left_on='id',right_on='customer_id', suffix='_right').show()"
   ]
  },
  {
   "cell_type": "code",
   "execution_count": 84,
   "id": "910b2757-4133-4cf9-bed9-2e6f6d08c11c",
   "metadata": {},
   "outputs": [],
   "source": [
    "fmt = 'csv'\n",
    "df = getattr(daft, f\"read_{fmt}\")('/usr/local/lake/cust_data/cust.csv')\n"
   ]
  },
  {
   "cell_type": "code",
   "execution_count": 85,
   "id": "cc7d0d18-c7b9-4780-ad9c-2c41cb5f6ce4",
   "metadata": {},
   "outputs": [
    {
     "data": {
      "text/html": [
       "<div>\n",
       "<table class=\"dataframe\">\n",
       "<thead><tr><th style=\"text-wrap: nowrap; max-width:192px; overflow:auto; text-align:left\">id<br />Int64</th><th style=\"text-wrap: nowrap; max-width:192px; overflow:auto; text-align:left\">name<br />Utf8</th></tr></thead>\n",
       "</table>\n",
       "<small>(No data to display: Dataframe not materialized)</small>\n",
       "</div>"
      ],
      "text/plain": [
       "╭───────┬──────╮\n",
       "│ id    ┆ name │\n",
       "│ ---   ┆ ---  │\n",
       "│ Int64 ┆ Utf8 │\n",
       "╰───────┴──────╯\n",
       "\n",
       "(No data to display: Dataframe not materialized)"
      ]
     },
     "execution_count": 85,
     "metadata": {},
     "output_type": "execute_result"
    }
   ],
   "source": [
    "df"
   ]
  },
  {
   "cell_type": "code",
   "execution_count": 87,
   "id": "33e810b9-d938-4b7f-b316-321417aac9b1",
   "metadata": {},
   "outputs": [
    {
     "data": {
      "text/html": [
       "<div>\n",
       "<table class=\"dataframe\">\n",
       "<thead><tr><th style=\"text-wrap: nowrap; max-width:192px; overflow:auto; text-align:left\">id<br />Int32</th><th style=\"text-wrap: nowrap; max-width:192px; overflow:auto; text-align:left\">customer_id<br />Int32</th><th style=\"text-wrap: nowrap; max-width:192px; overflow:auto; text-align:left\">ts<br />Date</th></tr></thead>\n",
       "<tbody>\n",
       "<tr><td><div style=\"text-align:left; max-width:192px; max-height:64px; overflow:auto\">1</div></td><td><div style=\"text-align:left; max-width:192px; max-height:64px; overflow:auto\">1</div></td><td><div style=\"text-align:left; max-width:192px; max-height:64px; overflow:auto\">2023-05-12</div></td></tr>\n",
       "<tr><td><div style=\"text-align:left; max-width:192px; max-height:64px; overflow:auto\">2</div></td><td><div style=\"text-align:left; max-width:192px; max-height:64px; overflow:auto\">1</div></td><td><div style=\"text-align:left; max-width:192px; max-height:64px; overflow:auto\">2023-06-01</div></td></tr>\n",
       "<tr><td><div style=\"text-align:left; max-width:192px; max-height:64px; overflow:auto\">3</div></td><td><div style=\"text-align:left; max-width:192px; max-height:64px; overflow:auto\">2</div></td><td><div style=\"text-align:left; max-width:192px; max-height:64px; overflow:auto\">2023-01-01</div></td></tr>\n",
       "<tr><td><div style=\"text-align:left; max-width:192px; max-height:64px; overflow:auto\">4</div></td><td><div style=\"text-align:left; max-width:192px; max-height:64px; overflow:auto\">2</div></td><td><div style=\"text-align:left; max-width:192px; max-height:64px; overflow:auto\">2022-08-05</div></td></tr>\n",
       "<tr><td><div style=\"text-align:left; max-width:192px; max-height:64px; overflow:auto\">5</div></td><td><div style=\"text-align:left; max-width:192px; max-height:64px; overflow:auto\">3</div></td><td><div style=\"text-align:left; max-width:192px; max-height:64px; overflow:auto\">2023-06-01</div></td></tr>\n",
       "<tr><td><div style=\"text-align:left; max-width:192px; max-height:64px; overflow:auto\">6</div></td><td><div style=\"text-align:left; max-width:192px; max-height:64px; overflow:auto\">1</div></td><td><div style=\"text-align:left; max-width:192px; max-height:64px; overflow:auto\">2023-09-02</div></td></tr>\n",
       "<tr><td><div style=\"text-align:left; max-width:192px; max-height:64px; overflow:auto\">7</div></td><td><div style=\"text-align:left; max-width:192px; max-height:64px; overflow:auto\">2</div></td><td><div style=\"text-align:left; max-width:192px; max-height:64px; overflow:auto\">2023-10-15</div></td></tr>\n",
       "<tr><td><div style=\"text-align:left; max-width:192px; max-height:64px; overflow:auto\">8</div></td><td><div style=\"text-align:left; max-width:192px; max-height:64px; overflow:auto\">4</div></td><td><div style=\"text-align:left; max-width:192px; max-height:64px; overflow:auto\">2024-01-01</div></td></tr>\n",
       "</tbody>\n",
       "</table>\n",
       "<small>(Showing first 8 rows)</small>\n",
       "</div>"
      ],
      "text/plain": [
       "╭───────┬─────────────┬────────────╮\n",
       "│ id    ┆ customer_id ┆ ts         │\n",
       "│ ---   ┆ ---         ┆ ---        │\n",
       "│ Int32 ┆ Int32       ┆ Date       │\n",
       "╞═══════╪═════════════╪════════════╡\n",
       "│ 1     ┆ 1           ┆ 2023-05-12 │\n",
       "├╌╌╌╌╌╌╌┼╌╌╌╌╌╌╌╌╌╌╌╌╌┼╌╌╌╌╌╌╌╌╌╌╌╌┤\n",
       "│ 2     ┆ 1           ┆ 2023-06-01 │\n",
       "├╌╌╌╌╌╌╌┼╌╌╌╌╌╌╌╌╌╌╌╌╌┼╌╌╌╌╌╌╌╌╌╌╌╌┤\n",
       "│ 3     ┆ 2           ┆ 2023-01-01 │\n",
       "├╌╌╌╌╌╌╌┼╌╌╌╌╌╌╌╌╌╌╌╌╌┼╌╌╌╌╌╌╌╌╌╌╌╌┤\n",
       "│ 4     ┆ 2           ┆ 2022-08-05 │\n",
       "├╌╌╌╌╌╌╌┼╌╌╌╌╌╌╌╌╌╌╌╌╌┼╌╌╌╌╌╌╌╌╌╌╌╌┤\n",
       "│ 5     ┆ 3           ┆ 2023-06-01 │\n",
       "├╌╌╌╌╌╌╌┼╌╌╌╌╌╌╌╌╌╌╌╌╌┼╌╌╌╌╌╌╌╌╌╌╌╌┤\n",
       "│ 6     ┆ 1           ┆ 2023-09-02 │\n",
       "├╌╌╌╌╌╌╌┼╌╌╌╌╌╌╌╌╌╌╌╌╌┼╌╌╌╌╌╌╌╌╌╌╌╌┤\n",
       "│ 7     ┆ 2           ┆ 2023-10-15 │\n",
       "├╌╌╌╌╌╌╌┼╌╌╌╌╌╌╌╌╌╌╌╌╌┼╌╌╌╌╌╌╌╌╌╌╌╌┤\n",
       "│ 8     ┆ 4           ┆ 2024-01-01 │\n",
       "╰───────┴─────────────┴────────────╯\n",
       "\n",
       "(Showing first 8 rows)"
      ]
     },
     "metadata": {},
     "output_type": "display_data"
    }
   ],
   "source": [
    "orders.show()"
   ]
  },
  {
   "cell_type": "code",
   "execution_count": 89,
   "id": "365e736c-04de-4ca4-9586-ef308fcdbacf",
   "metadata": {},
   "outputs": [
    {
     "data": {
      "text/html": [
       "<div>\n",
       "<table class=\"dataframe\">\n",
       "<thead><tr><th style=\"text-wrap: nowrap; max-width:192px; overflow:auto; text-align:left\">id<br />Int32</th><th style=\"text-wrap: nowrap; max-width:192px; overflow:auto; text-align:left\">customer_id<br />Int32</th><th style=\"text-wrap: nowrap; max-width:192px; overflow:auto; text-align:left\">ts<br />Date</th></tr></thead>\n",
       "<tbody>\n",
       "<tr><td><div style=\"text-align:left; max-width:192px; max-height:64px; overflow:auto\">4</div></td><td><div style=\"text-align:left; max-width:192px; max-height:64px; overflow:auto\">2</div></td><td><div style=\"text-align:left; max-width:192px; max-height:64px; overflow:auto\">2022-08-05</div></td></tr>\n",
       "<tr><td><div style=\"text-align:left; max-width:192px; max-height:64px; overflow:auto\">3</div></td><td><div style=\"text-align:left; max-width:192px; max-height:64px; overflow:auto\">2</div></td><td><div style=\"text-align:left; max-width:192px; max-height:64px; overflow:auto\">2023-01-01</div></td></tr>\n",
       "<tr><td><div style=\"text-align:left; max-width:192px; max-height:64px; overflow:auto\">1</div></td><td><div style=\"text-align:left; max-width:192px; max-height:64px; overflow:auto\">1</div></td><td><div style=\"text-align:left; max-width:192px; max-height:64px; overflow:auto\">2023-05-12</div></td></tr>\n",
       "<tr><td><div style=\"text-align:left; max-width:192px; max-height:64px; overflow:auto\">2</div></td><td><div style=\"text-align:left; max-width:192px; max-height:64px; overflow:auto\">1</div></td><td><div style=\"text-align:left; max-width:192px; max-height:64px; overflow:auto\">2023-06-01</div></td></tr>\n",
       "<tr><td><div style=\"text-align:left; max-width:192px; max-height:64px; overflow:auto\">5</div></td><td><div style=\"text-align:left; max-width:192px; max-height:64px; overflow:auto\">3</div></td><td><div style=\"text-align:left; max-width:192px; max-height:64px; overflow:auto\">2023-06-01</div></td></tr>\n",
       "<tr><td><div style=\"text-align:left; max-width:192px; max-height:64px; overflow:auto\">6</div></td><td><div style=\"text-align:left; max-width:192px; max-height:64px; overflow:auto\">1</div></td><td><div style=\"text-align:left; max-width:192px; max-height:64px; overflow:auto\">2023-09-02</div></td></tr>\n",
       "<tr><td><div style=\"text-align:left; max-width:192px; max-height:64px; overflow:auto\">7</div></td><td><div style=\"text-align:left; max-width:192px; max-height:64px; overflow:auto\">2</div></td><td><div style=\"text-align:left; max-width:192px; max-height:64px; overflow:auto\">2023-10-15</div></td></tr>\n",
       "<tr><td><div style=\"text-align:left; max-width:192px; max-height:64px; overflow:auto\">8</div></td><td><div style=\"text-align:left; max-width:192px; max-height:64px; overflow:auto\">4</div></td><td><div style=\"text-align:left; max-width:192px; max-height:64px; overflow:auto\">2024-01-01</div></td></tr>\n",
       "</tbody>\n",
       "</table>\n",
       "<small>(Showing first 8 rows)</small>\n",
       "</div>"
      ],
      "text/plain": [
       "╭───────┬─────────────┬────────────╮\n",
       "│ id    ┆ customer_id ┆ ts         │\n",
       "│ ---   ┆ ---         ┆ ---        │\n",
       "│ Int32 ┆ Int32       ┆ Date       │\n",
       "╞═══════╪═════════════╪════════════╡\n",
       "│ 4     ┆ 2           ┆ 2022-08-05 │\n",
       "├╌╌╌╌╌╌╌┼╌╌╌╌╌╌╌╌╌╌╌╌╌┼╌╌╌╌╌╌╌╌╌╌╌╌┤\n",
       "│ 3     ┆ 2           ┆ 2023-01-01 │\n",
       "├╌╌╌╌╌╌╌┼╌╌╌╌╌╌╌╌╌╌╌╌╌┼╌╌╌╌╌╌╌╌╌╌╌╌┤\n",
       "│ 1     ┆ 1           ┆ 2023-05-12 │\n",
       "├╌╌╌╌╌╌╌┼╌╌╌╌╌╌╌╌╌╌╌╌╌┼╌╌╌╌╌╌╌╌╌╌╌╌┤\n",
       "│ 2     ┆ 1           ┆ 2023-06-01 │\n",
       "├╌╌╌╌╌╌╌┼╌╌╌╌╌╌╌╌╌╌╌╌╌┼╌╌╌╌╌╌╌╌╌╌╌╌┤\n",
       "│ 5     ┆ 3           ┆ 2023-06-01 │\n",
       "├╌╌╌╌╌╌╌┼╌╌╌╌╌╌╌╌╌╌╌╌╌┼╌╌╌╌╌╌╌╌╌╌╌╌┤\n",
       "│ 6     ┆ 1           ┆ 2023-09-02 │\n",
       "├╌╌╌╌╌╌╌┼╌╌╌╌╌╌╌╌╌╌╌╌╌┼╌╌╌╌╌╌╌╌╌╌╌╌┤\n",
       "│ 7     ┆ 2           ┆ 2023-10-15 │\n",
       "├╌╌╌╌╌╌╌┼╌╌╌╌╌╌╌╌╌╌╌╌╌┼╌╌╌╌╌╌╌╌╌╌╌╌┤\n",
       "│ 8     ┆ 4           ┆ 2024-01-01 │\n",
       "╰───────┴─────────────┴────────────╯\n",
       "\n",
       "(Showing first 8 rows)"
      ]
     },
     "metadata": {},
     "output_type": "display_data"
    }
   ],
   "source": [
    "orders.sort('ts').show()"
   ]
  },
  {
   "cell_type": "code",
   "execution_count": 92,
   "id": "92cbed4e-9ec1-4a8e-8cd6-f5c8e75a94bc",
   "metadata": {},
   "outputs": [
    {
     "data": {
      "text/html": [
       "<div>\n",
       "<style scoped>\n",
       "    .dataframe tbody tr th:only-of-type {\n",
       "        vertical-align: middle;\n",
       "    }\n",
       "\n",
       "    .dataframe tbody tr th {\n",
       "        vertical-align: top;\n",
       "    }\n",
       "\n",
       "    .dataframe thead th {\n",
       "        text-align: right;\n",
       "    }\n",
       "</style>\n",
       "<table border=\"1\" class=\"dataframe\">\n",
       "  <thead>\n",
       "    <tr style=\"text-align: right;\">\n",
       "      <th></th>\n",
       "      <th>id</th>\n",
       "      <th>customer_id</th>\n",
       "      <th>ts</th>\n",
       "    </tr>\n",
       "  </thead>\n",
       "  <tbody>\n",
       "    <tr>\n",
       "      <th>3</th>\n",
       "      <td>4</td>\n",
       "      <td>2</td>\n",
       "      <td>2022-08-05</td>\n",
       "    </tr>\n",
       "    <tr>\n",
       "      <th>2</th>\n",
       "      <td>3</td>\n",
       "      <td>2</td>\n",
       "      <td>2023-01-01</td>\n",
       "    </tr>\n",
       "    <tr>\n",
       "      <th>0</th>\n",
       "      <td>1</td>\n",
       "      <td>1</td>\n",
       "      <td>2023-05-12</td>\n",
       "    </tr>\n",
       "    <tr>\n",
       "      <th>1</th>\n",
       "      <td>2</td>\n",
       "      <td>1</td>\n",
       "      <td>2023-06-01</td>\n",
       "    </tr>\n",
       "    <tr>\n",
       "      <th>4</th>\n",
       "      <td>5</td>\n",
       "      <td>3</td>\n",
       "      <td>2023-06-01</td>\n",
       "    </tr>\n",
       "    <tr>\n",
       "      <th>5</th>\n",
       "      <td>6</td>\n",
       "      <td>1</td>\n",
       "      <td>2023-09-02</td>\n",
       "    </tr>\n",
       "    <tr>\n",
       "      <th>6</th>\n",
       "      <td>7</td>\n",
       "      <td>2</td>\n",
       "      <td>2023-10-15</td>\n",
       "    </tr>\n",
       "    <tr>\n",
       "      <th>7</th>\n",
       "      <td>8</td>\n",
       "      <td>4</td>\n",
       "      <td>2024-01-01</td>\n",
       "    </tr>\n",
       "    <tr>\n",
       "      <th>8</th>\n",
       "      <td>9</td>\n",
       "      <td>4</td>\n",
       "      <td>2024-02-01</td>\n",
       "    </tr>\n",
       "  </tbody>\n",
       "</table>\n",
       "</div>"
      ],
      "text/plain": [
       "   id  customer_id          ts\n",
       "3   4            2  2022-08-05\n",
       "2   3            2  2023-01-01\n",
       "0   1            1  2023-05-12\n",
       "1   2            1  2023-06-01\n",
       "4   5            3  2023-06-01\n",
       "5   6            1  2023-09-02\n",
       "6   7            2  2023-10-15\n",
       "7   8            4  2024-01-01\n",
       "8   9            4  2024-02-01"
      ]
     },
     "execution_count": 92,
     "metadata": {},
     "output_type": "execute_result"
    }
   ],
   "source": [
    "orders.to_pandas().sort_values('ts', ascending=True)"
   ]
  },
  {
   "cell_type": "code",
   "execution_count": 93,
   "id": "9cd78987-39ef-4a81-8680-b507d394c1a3",
   "metadata": {},
   "outputs": [],
   "source": [
    "# shift logic"
   ]
  },
  {
   "cell_type": "code",
   "execution_count": 94,
   "id": "2e10cac4-fb69-43fb-86ba-bccb0710667b",
   "metadata": {},
   "outputs": [],
   "source": [
    "orders = orders.sort('ts')"
   ]
  },
  {
   "cell_type": "code",
   "execution_count": 95,
   "id": "832133bc-9d6d-43bb-9976-cd7fb13718ca",
   "metadata": {},
   "outputs": [
    {
     "data": {
      "text/html": [
       "<div>\n",
       "<table class=\"dataframe\">\n",
       "<thead><tr><th style=\"text-wrap: nowrap; max-width:192px; overflow:auto; text-align:left\">id<br />Int32</th><th style=\"text-wrap: nowrap; max-width:192px; overflow:auto; text-align:left\">customer_id<br />Int32</th><th style=\"text-wrap: nowrap; max-width:192px; overflow:auto; text-align:left\">ts<br />Date</th></tr></thead>\n",
       "<tbody>\n",
       "<tr><td><div style=\"text-align:left; max-width:192px; max-height:64px; overflow:auto\">4</div></td><td><div style=\"text-align:left; max-width:192px; max-height:64px; overflow:auto\">2</div></td><td><div style=\"text-align:left; max-width:192px; max-height:64px; overflow:auto\">2022-08-05</div></td></tr>\n",
       "<tr><td><div style=\"text-align:left; max-width:192px; max-height:64px; overflow:auto\">3</div></td><td><div style=\"text-align:left; max-width:192px; max-height:64px; overflow:auto\">2</div></td><td><div style=\"text-align:left; max-width:192px; max-height:64px; overflow:auto\">2023-01-01</div></td></tr>\n",
       "<tr><td><div style=\"text-align:left; max-width:192px; max-height:64px; overflow:auto\">1</div></td><td><div style=\"text-align:left; max-width:192px; max-height:64px; overflow:auto\">1</div></td><td><div style=\"text-align:left; max-width:192px; max-height:64px; overflow:auto\">2023-05-12</div></td></tr>\n",
       "<tr><td><div style=\"text-align:left; max-width:192px; max-height:64px; overflow:auto\">2</div></td><td><div style=\"text-align:left; max-width:192px; max-height:64px; overflow:auto\">1</div></td><td><div style=\"text-align:left; max-width:192px; max-height:64px; overflow:auto\">2023-06-01</div></td></tr>\n",
       "<tr><td><div style=\"text-align:left; max-width:192px; max-height:64px; overflow:auto\">5</div></td><td><div style=\"text-align:left; max-width:192px; max-height:64px; overflow:auto\">3</div></td><td><div style=\"text-align:left; max-width:192px; max-height:64px; overflow:auto\">2023-06-01</div></td></tr>\n",
       "<tr><td><div style=\"text-align:left; max-width:192px; max-height:64px; overflow:auto\">6</div></td><td><div style=\"text-align:left; max-width:192px; max-height:64px; overflow:auto\">1</div></td><td><div style=\"text-align:left; max-width:192px; max-height:64px; overflow:auto\">2023-09-02</div></td></tr>\n",
       "<tr><td><div style=\"text-align:left; max-width:192px; max-height:64px; overflow:auto\">7</div></td><td><div style=\"text-align:left; max-width:192px; max-height:64px; overflow:auto\">2</div></td><td><div style=\"text-align:left; max-width:192px; max-height:64px; overflow:auto\">2023-10-15</div></td></tr>\n",
       "<tr><td><div style=\"text-align:left; max-width:192px; max-height:64px; overflow:auto\">8</div></td><td><div style=\"text-align:left; max-width:192px; max-height:64px; overflow:auto\">4</div></td><td><div style=\"text-align:left; max-width:192px; max-height:64px; overflow:auto\">2024-01-01</div></td></tr>\n",
       "</tbody>\n",
       "</table>\n",
       "<small>(Showing first 8 rows)</small>\n",
       "</div>"
      ],
      "text/plain": [
       "╭───────┬─────────────┬────────────╮\n",
       "│ id    ┆ customer_id ┆ ts         │\n",
       "│ ---   ┆ ---         ┆ ---        │\n",
       "│ Int32 ┆ Int32       ┆ Date       │\n",
       "╞═══════╪═════════════╪════════════╡\n",
       "│ 4     ┆ 2           ┆ 2022-08-05 │\n",
       "├╌╌╌╌╌╌╌┼╌╌╌╌╌╌╌╌╌╌╌╌╌┼╌╌╌╌╌╌╌╌╌╌╌╌┤\n",
       "│ 3     ┆ 2           ┆ 2023-01-01 │\n",
       "├╌╌╌╌╌╌╌┼╌╌╌╌╌╌╌╌╌╌╌╌╌┼╌╌╌╌╌╌╌╌╌╌╌╌┤\n",
       "│ 1     ┆ 1           ┆ 2023-05-12 │\n",
       "├╌╌╌╌╌╌╌┼╌╌╌╌╌╌╌╌╌╌╌╌╌┼╌╌╌╌╌╌╌╌╌╌╌╌┤\n",
       "│ 2     ┆ 1           ┆ 2023-06-01 │\n",
       "├╌╌╌╌╌╌╌┼╌╌╌╌╌╌╌╌╌╌╌╌╌┼╌╌╌╌╌╌╌╌╌╌╌╌┤\n",
       "│ 5     ┆ 3           ┆ 2023-06-01 │\n",
       "├╌╌╌╌╌╌╌┼╌╌╌╌╌╌╌╌╌╌╌╌╌┼╌╌╌╌╌╌╌╌╌╌╌╌┤\n",
       "│ 6     ┆ 1           ┆ 2023-09-02 │\n",
       "├╌╌╌╌╌╌╌┼╌╌╌╌╌╌╌╌╌╌╌╌╌┼╌╌╌╌╌╌╌╌╌╌╌╌┤\n",
       "│ 7     ┆ 2           ┆ 2023-10-15 │\n",
       "├╌╌╌╌╌╌╌┼╌╌╌╌╌╌╌╌╌╌╌╌╌┼╌╌╌╌╌╌╌╌╌╌╌╌┤\n",
       "│ 8     ┆ 4           ┆ 2024-01-01 │\n",
       "╰───────┴─────────────┴────────────╯\n",
       "\n",
       "(Showing first 8 rows)"
      ]
     },
     "metadata": {},
     "output_type": "display_data"
    }
   ],
   "source": [
    "orders.show()"
   ]
  },
  {
   "cell_type": "code",
   "execution_count": 100,
   "id": "1d0b2090-b2c7-4426-83fa-322c9976937d",
   "metadata": {},
   "outputs": [
    {
     "ename": "TypeError",
     "evalue": "'ExpressionMapNamespace' object is not callable",
     "output_type": "error",
     "traceback": [
      "\u001b[0;31m---------------------------------------------------------------------------\u001b[0m",
      "\u001b[0;31mTypeError\u001b[0m                                 Traceback (most recent call last)",
      "Input \u001b[0;32mIn [100]\u001b[0m, in \u001b[0;36m<cell line: 2>\u001b[0;34m()\u001b[0m\n\u001b[1;32m      1\u001b[0m \u001b[38;5;66;03m# Add a shifted column using the map function\u001b[39;00m\n\u001b[1;32m      2\u001b[0m orders \u001b[38;5;241m=\u001b[39m orders\u001b[38;5;241m.\u001b[39mwith_column(\n\u001b[1;32m      3\u001b[0m     \u001b[38;5;124m\"\u001b[39m\u001b[38;5;124mprev_ts\u001b[39m\u001b[38;5;124m\"\u001b[39m,\n\u001b[0;32m----> 4\u001b[0m     \u001b[43morders\u001b[49m\u001b[43m[\u001b[49m\u001b[38;5;124;43m\"\u001b[39;49m\u001b[38;5;124;43mts\u001b[39;49m\u001b[38;5;124;43m\"\u001b[39;49m\u001b[43m]\u001b[49m\u001b[38;5;241;43m.\u001b[39;49m\u001b[43mmap\u001b[49m\u001b[43m(\u001b[49m\n\u001b[1;32m      5\u001b[0m \u001b[43m        \u001b[49m\u001b[38;5;28;43;01mlambda\u001b[39;49;00m\u001b[43m \u001b[49m\u001b[43mcol\u001b[49m\u001b[43m:\u001b[49m\u001b[43m \u001b[49m\u001b[43m[\u001b[49m\u001b[38;5;28;43;01mNone\u001b[39;49;00m\u001b[43m]\u001b[49m\u001b[43m \u001b[49m\u001b[38;5;241;43m+\u001b[39;49m\u001b[43m \u001b[49m\u001b[43mcol\u001b[49m\u001b[43m[\u001b[49m\u001b[43m:\u001b[49m\u001b[38;5;241;43m-\u001b[39;49m\u001b[38;5;241;43m1\u001b[39;49m\u001b[43m]\u001b[49m\u001b[43m  \u001b[49m\u001b[38;5;66;43;03m# Shift logic\u001b[39;49;00m\n\u001b[1;32m      6\u001b[0m \u001b[43m        \u001b[49m\u001b[38;5;66;43;03m#return_dtype=orders[\"ts\"],\u001b[39;49;00m\n\u001b[1;32m      7\u001b[0m \u001b[43m    \u001b[49m\u001b[43m)\u001b[49m,\n\u001b[1;32m      8\u001b[0m )\n",
      "\u001b[0;31mTypeError\u001b[0m: 'ExpressionMapNamespace' object is not callable"
     ]
    }
   ],
   "source": [
    "# Add a shifted column using the map function\n",
    "orders = orders.with_column(\n",
    "    \"prev_ts\",\n",
    "    orders[\"ts\"].map(\n",
    "        lambda col: [None] + col[:-1]  # Shift logic\n",
    "        #return_dtype=orders[\"ts\"],\n",
    "    ),\n",
    ")"
   ]
  },
  {
   "cell_type": "code",
   "execution_count": 102,
   "id": "eff807dd-abd6-45d4-b4fd-c8190abde47b",
   "metadata": {},
   "outputs": [
    {
     "data": {
      "text/plain": [
       "['__abs__',\n",
       " '__add__',\n",
       " '__and__',\n",
       " '__annotations__',\n",
       " '__bool__',\n",
       " '__class__',\n",
       " '__delattr__',\n",
       " '__dict__',\n",
       " '__dir__',\n",
       " '__doc__',\n",
       " '__eq__',\n",
       " '__floordiv__',\n",
       " '__format__',\n",
       " '__ge__',\n",
       " '__getattribute__',\n",
       " '__gt__',\n",
       " '__hash__',\n",
       " '__init__',\n",
       " '__init_subclass__',\n",
       " '__invert__',\n",
       " '__le__',\n",
       " '__lshift__',\n",
       " '__lt__',\n",
       " '__mod__',\n",
       " '__module__',\n",
       " '__mul__',\n",
       " '__ne__',\n",
       " '__new__',\n",
       " '__or__',\n",
       " '__radd__',\n",
       " '__rand__',\n",
       " '__reduce__',\n",
       " '__reduce_ex__',\n",
       " '__repr__',\n",
       " '__rfloordiv__',\n",
       " '__rmod__',\n",
       " '__rmul__',\n",
       " '__ror__',\n",
       " '__rshift__',\n",
       " '__rsub__',\n",
       " '__rtruediv__',\n",
       " '__setattr__',\n",
       " '__sizeof__',\n",
       " '__str__',\n",
       " '__sub__',\n",
       " '__subclasshook__',\n",
       " '__truediv__',\n",
       " '__weakref__',\n",
       " '__xor__',\n",
       " '_explode',\n",
       " '_expr',\n",
       " '_from_pyexpr',\n",
       " '_initialize_udfs',\n",
       " '_input_mapping',\n",
       " '_to_expression',\n",
       " '_to_field',\n",
       " '_to_sql',\n",
       " 'abs',\n",
       " 'agg_concat',\n",
       " 'agg_list',\n",
       " 'alias',\n",
       " 'any_value',\n",
       " 'apply',\n",
       " 'approx_count_distinct',\n",
       " 'approx_percentiles',\n",
       " 'arccos',\n",
       " 'arccosh',\n",
       " 'arcsin',\n",
       " 'arcsinh',\n",
       " 'arctan',\n",
       " 'arctan2',\n",
       " 'arctanh',\n",
       " 'between',\n",
       " 'bitwise_and',\n",
       " 'bitwise_or',\n",
       " 'bitwise_xor',\n",
       " 'cast',\n",
       " 'cbrt',\n",
       " 'ceil',\n",
       " 'clip',\n",
       " 'cos',\n",
       " 'cot',\n",
       " 'count',\n",
       " 'count_distinct',\n",
       " 'degrees',\n",
       " 'dt',\n",
       " 'embedding',\n",
       " 'exp',\n",
       " 'fill_null',\n",
       " 'float',\n",
       " 'floor',\n",
       " 'hash',\n",
       " 'if_else',\n",
       " 'image',\n",
       " 'is_in',\n",
       " 'is_null',\n",
       " 'json',\n",
       " 'list',\n",
       " 'ln',\n",
       " 'log',\n",
       " 'log10',\n",
       " 'log2',\n",
       " 'map',\n",
       " 'max',\n",
       " 'mean',\n",
       " 'min',\n",
       " 'minhash',\n",
       " 'name',\n",
       " 'not_null',\n",
       " 'partitioning',\n",
       " 'radians',\n",
       " 'round',\n",
       " 'shift_left',\n",
       " 'shift_right',\n",
       " 'sign',\n",
       " 'sin',\n",
       " 'sqrt',\n",
       " 'stddev',\n",
       " 'str',\n",
       " 'struct',\n",
       " 'sum',\n",
       " 'tan',\n",
       " 'to_struct',\n",
       " 'udf',\n",
       " 'url']"
      ]
     },
     "execution_count": 102,
     "metadata": {},
     "output_type": "execute_result"
    }
   ],
   "source": [
    "dir(orders['ts'])"
   ]
  },
  {
   "cell_type": "code",
   "execution_count": 106,
   "id": "e8331cb6-32b6-44b1-85bc-c1086225e09b",
   "metadata": {},
   "outputs": [],
   "source": [
    "orderspd = orders.to_pandas()"
   ]
  },
  {
   "cell_type": "code",
   "execution_count": 107,
   "id": "7d7e9812-4027-46ed-b1d8-3fa8590b5c03",
   "metadata": {},
   "outputs": [
    {
     "data": {
      "text/html": [
       "<div>\n",
       "<style scoped>\n",
       "    .dataframe tbody tr th:only-of-type {\n",
       "        vertical-align: middle;\n",
       "    }\n",
       "\n",
       "    .dataframe tbody tr th {\n",
       "        vertical-align: top;\n",
       "    }\n",
       "\n",
       "    .dataframe thead th {\n",
       "        text-align: right;\n",
       "    }\n",
       "</style>\n",
       "<table border=\"1\" class=\"dataframe\">\n",
       "  <thead>\n",
       "    <tr style=\"text-align: right;\">\n",
       "      <th></th>\n",
       "      <th>id</th>\n",
       "      <th>customer_id</th>\n",
       "      <th>ts</th>\n",
       "    </tr>\n",
       "  </thead>\n",
       "  <tbody>\n",
       "    <tr>\n",
       "      <th>0</th>\n",
       "      <td>4</td>\n",
       "      <td>2</td>\n",
       "      <td>2022-08-05</td>\n",
       "    </tr>\n",
       "    <tr>\n",
       "      <th>1</th>\n",
       "      <td>3</td>\n",
       "      <td>2</td>\n",
       "      <td>2023-01-01</td>\n",
       "    </tr>\n",
       "    <tr>\n",
       "      <th>2</th>\n",
       "      <td>1</td>\n",
       "      <td>1</td>\n",
       "      <td>2023-05-12</td>\n",
       "    </tr>\n",
       "    <tr>\n",
       "      <th>3</th>\n",
       "      <td>2</td>\n",
       "      <td>1</td>\n",
       "      <td>2023-06-01</td>\n",
       "    </tr>\n",
       "    <tr>\n",
       "      <th>4</th>\n",
       "      <td>5</td>\n",
       "      <td>3</td>\n",
       "      <td>2023-06-01</td>\n",
       "    </tr>\n",
       "    <tr>\n",
       "      <th>5</th>\n",
       "      <td>6</td>\n",
       "      <td>1</td>\n",
       "      <td>2023-09-02</td>\n",
       "    </tr>\n",
       "    <tr>\n",
       "      <th>6</th>\n",
       "      <td>7</td>\n",
       "      <td>2</td>\n",
       "      <td>2023-10-15</td>\n",
       "    </tr>\n",
       "    <tr>\n",
       "      <th>7</th>\n",
       "      <td>8</td>\n",
       "      <td>4</td>\n",
       "      <td>2024-01-01</td>\n",
       "    </tr>\n",
       "    <tr>\n",
       "      <th>8</th>\n",
       "      <td>9</td>\n",
       "      <td>4</td>\n",
       "      <td>2024-02-01</td>\n",
       "    </tr>\n",
       "  </tbody>\n",
       "</table>\n",
       "</div>"
      ],
      "text/plain": [
       "   id  customer_id          ts\n",
       "0   4            2  2022-08-05\n",
       "1   3            2  2023-01-01\n",
       "2   1            1  2023-05-12\n",
       "3   2            1  2023-06-01\n",
       "4   5            3  2023-06-01\n",
       "5   6            1  2023-09-02\n",
       "6   7            2  2023-10-15\n",
       "7   8            4  2024-01-01\n",
       "8   9            4  2024-02-01"
      ]
     },
     "execution_count": 107,
     "metadata": {},
     "output_type": "execute_result"
    }
   ],
   "source": [
    "orderspd"
   ]
  },
  {
   "cell_type": "code",
   "execution_count": null,
   "id": "23f68ed2-50f8-433a-9794-1232db9c1d91",
   "metadata": {},
   "outputs": [],
   "source": [
    "from graphreduce.node import "
   ]
  }
 ],
 "metadata": {
  "kernelspec": {
   "display_name": "Python 3 (ipykernel)",
   "language": "python",
   "name": "python3"
  },
  "language_info": {
   "codemirror_mode": {
    "name": "ipython",
    "version": 3
   },
   "file_extension": ".py",
   "mimetype": "text/x-python",
   "name": "python",
   "nbconvert_exporter": "python",
   "pygments_lexer": "ipython3",
   "version": "3.9.19"
  }
 },
 "nbformat": 4,
 "nbformat_minor": 5
}

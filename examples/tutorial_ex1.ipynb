{
 "cells": [
  {
   "cell_type": "code",
   "execution_count": 1,
   "id": "b71c31aa",
   "metadata": {},
   "outputs": [
    {
     "name": "stderr",
     "output_type": "stream",
     "text": [
      "/Users/wesmadrigal/projects/graphreduce/venv/lib/python3.9/site-packages/pyspark/pandas/__init__.py:50: UserWarning: 'PYARROW_IGNORE_TIMEZONE' environment variable was not set. It is required to set this environment variable to '1' in both driver and executor sides if you use pyarrow>=2.0.0. pandas-on-Spark will set it for you but it does not work if there is a Spark context already launched.\n",
      "  warnings.warn(\n"
     ]
    }
   ],
   "source": [
    "import datetime\n",
    "import subprocess\n",
    "import os\n",
    "\n",
    "import pandas as pd\n",
    "from graphreduce.node import GraphReduceNode, DynamicNode\n",
    "from graphreduce.graph_reduce import GraphReduce\n",
    "from graphreduce.enum import ComputeLayerEnum as GraphReduceComputeLayerEnum, PeriodUnit"
   ]
  },
  {
   "cell_type": "code",
   "execution_count": null,
   "id": "1600dca8",
   "metadata": {},
   "outputs": [],
   "source": []
  },
  {
   "cell_type": "code",
   "execution_count": 4,
   "id": "2c0b21cc-7ec3-49e8-ba68-cc6710d73d88",
   "metadata": {},
   "outputs": [
    {
     "name": "stderr",
     "output_type": "stream",
     "text": [
      "--2024-08-29 19:09:05--  https://raw.githubusercontent.com/wesmadrigal/GraphReduce/master/tests/data/cust_data/cust.csv\n",
      "Resolving raw.githubusercontent.com (raw.githubusercontent.com)... 2606:50c0:8003::154, 2606:50c0:8001::154, 2606:50c0:8000::154, ...\n",
      "Connecting to raw.githubusercontent.com (raw.githubusercontent.com)|2606:50c0:8003::154|:443... connected.\n",
      "HTTP request sent, awaiting response... 200 OK\n",
      "Length: 35 [text/plain]\n",
      "Saving to: ‘cust.csv’\n",
      "\n",
      "     0K                                                       100% 3.71M=0s\n",
      "\n",
      "2024-08-29 19:09:05 (3.71 MB/s) - ‘cust.csv’ saved [35/35]\n",
      "\n",
      "--2024-08-29 19:09:05--  https://raw.githubusercontent.com/wesmadrigal/GraphReduce/master/tests/data/cust_data/orders.csv\n",
      "Resolving raw.githubusercontent.com (raw.githubusercontent.com)... 2606:50c0:8003::154, 2606:50c0:8001::154, 2606:50c0:8000::154, ...\n",
      "Connecting to raw.githubusercontent.com (raw.githubusercontent.com)|2606:50c0:8003::154|:443... connected.\n",
      "HTTP request sent, awaiting response... 200 OK\n",
      "Length: 191 [text/plain]\n",
      "Saving to: ‘orders.csv’\n",
      "\n",
      "     0K                                                       100% 20.2M=0s\n",
      "\n",
      "2024-08-29 19:09:06 (20.2 MB/s) - ‘orders.csv’ saved [191/191]\n",
      "\n"
     ]
    }
   ],
   "source": [
    "files = [\n",
    "    'https://raw.githubusercontent.com/wesmadrigal/GraphReduce/master/tests/data/cust_data/cust.csv',\n",
    "    'https://raw.githubusercontent.com/wesmadrigal/GraphReduce/master/tests/data/cust_data/orders.csv',\n",
    "]\n",
    "\n",
    "for f in os.listdir(os.getcwd()):\n",
    "    for _f in files:\n",
    "        _fname = _f.split('/')[-1]\n",
    "        if _fname == f or _fname in f:\n",
    "            os.remove(f)\n",
    "\n",
    "for f in files:\n",
    "  subprocess.run(['wget', f])"
   ]
  },
  {
   "cell_type": "code",
   "execution_count": 2,
   "id": "1a6773d9-db5e-484e-ae21-70acfa744e12",
   "metadata": {},
   "outputs": [],
   "source": [
    "# Need unique prefixes for all nodes\n",
    "# so when columns are merged we know\n",
    "# where they originate from.\n",
    "prefixes = {\n",
    "    'cust.csv' : {'prefix':'cu'},\n",
    "    'orders.csv':{'prefix':'ord'}\n",
    "}"
   ]
  },
  {
   "cell_type": "code",
   "execution_count": 3,
   "id": "482b2b61-d2e9-44fd-96ff-57c14a7f5a8d",
   "metadata": {},
   "outputs": [
    {
     "name": "stdout",
     "output_type": "stream",
     "text": [
      "2024-08-30 16:40:16 [warning  ] no `date_key` set for <GraphReduceNode: fpath=cust.csv fmt=csv>\n",
      "2024-08-30 16:40:16 [warning  ] no `date_key` set for <GraphReduceNode: fpath=orders.csv fmt=csv>\n"
     ]
    }
   ],
   "source": [
    "# create graph reduce nodes\n",
    "gr_nodes = {\n",
    "    f.split('/')[-1]: DynamicNode(\n",
    "        fpath=f,\n",
    "        fmt='csv',\n",
    "        pk='id',\n",
    "        prefix=prefixes[f]['prefix'],\n",
    "        date_key=None,\n",
    "        compute_layer=GraphReduceComputeLayerEnum.pandas,\n",
    "        compute_period_val=730,\n",
    "        compute_period_unit=PeriodUnit.day,\n",
    "    )\n",
    "    for f in prefixes.keys()\n",
    "}"
   ]
  },
  {
   "cell_type": "code",
   "execution_count": 9,
   "id": "f2cb8ac6-44f0-4979-8dd5-b121ce18bc46",
   "metadata": {},
   "outputs": [
    {
     "data": {
      "text/plain": [
       "{'cust.csv': <GraphReduceNode: fpath=cust.csv fmt=csv>,\n",
       " 'orders.csv': <GraphReduceNode: fpath=orders.csv fmt=csv>}"
      ]
     },
     "execution_count": 9,
     "metadata": {},
     "output_type": "execute_result"
    }
   ],
   "source": [
    "gr_nodes"
   ]
  },
  {
   "cell_type": "code",
   "execution_count": 10,
   "id": "5d5b869a-74d8-4d8e-9937-cefa4b59120b",
   "metadata": {},
   "outputs": [],
   "source": [
    "gr = GraphReduce(\n",
    "    name='starter_graph',\n",
    "    parent_node=gr_nodes['cust.csv'],\n",
    "    fmt='csv',\n",
    "    cut_date=datetime.datetime(2023,9,1),\n",
    "    compute_layer=GraphReduceComputeLayerEnum.pandas,\n",
    "    auto_features=True,\n",
    "    auto_feature_hops_front=1,\n",
    "    auto_feature_hops_back=2,\n",
    "    label_node=gr_nodes['orders.csv'],\n",
    "    label_operation='count',\n",
    "    label_field='id',\n",
    "    label_period_val=60,\n",
    "    label_period_unit=PeriodUnit.day\n",
    ")"
   ]
  },
  {
   "cell_type": "code",
   "execution_count": 11,
   "id": "2fa0199f-5164-43dd-a141-78d5a1639c41",
   "metadata": {},
   "outputs": [],
   "source": [
    "gr.add_node(gr_nodes['cust.csv'])\n",
    "gr.add_node(gr_nodes['orders.csv'])\n",
    "\n",
    "gr.add_entity_edge(\n",
    "    parent_node=gr_nodes['cust.csv'],\n",
    "    relation_node=gr_nodes['orders.csv'],\n",
    "    parent_key='id',\n",
    "    relation_key='customer_id',\n",
    "    reduce=True\n",
    ")"
   ]
  },
  {
   "cell_type": "code",
   "execution_count": 12,
   "id": "311fcf52-4d50-4750-9f7d-f30160171bbc",
   "metadata": {},
   "outputs": [
    {
     "name": "stdout",
     "output_type": "stream",
     "text": [
      "2024-08-29 19:13:58 [info     ] plotted graph at ex1_graph.html\n"
     ]
    }
   ],
   "source": [
    "gr.plot_graph('ex1_graph.html')"
   ]
  },
  {
   "cell_type": "code",
   "execution_count": 17,
   "id": "119c8afc-cfc2-4392-bbef-b36daf12469b",
   "metadata": {},
   "outputs": [
    {
     "data": {
      "text/html": [
       "\n",
       "        <iframe\n",
       "            width=\"400\"\n",
       "            height=\"400\"\n",
       "            src=\"./ex1_graph.html\"\n",
       "            frameborder=\"0\"\n",
       "            allowfullscreen\n",
       "            \n",
       "        ></iframe>\n",
       "        "
      ],
      "text/plain": [
       "<IPython.lib.display.IFrame at 0x2d0bf7220>"
      ]
     },
     "execution_count": 17,
     "metadata": {},
     "output_type": "execute_result"
    }
   ],
   "source": [
    "from IPython.display import IFrame\n",
    "\n",
    "IFrame(src='./ex1_graph.html', width=400, height=400)"
   ]
  },
  {
   "cell_type": "code",
   "execution_count": 18,
   "id": "1d8ec532-05bc-4e40-84de-7f933e230a2f",
   "metadata": {},
   "outputs": [
    {
     "name": "stdout",
     "output_type": "stream",
     "text": [
      "2024-08-29 19:15:27 [info     ] hydrating graph attributes\n",
      "2024-08-29 19:15:27 [info     ] hydrating attributes for DynamicNode\n",
      "2024-08-29 19:15:27 [info     ] hydrating attributes for DynamicNode\n",
      "2024-08-29 19:15:27 [info     ] hydrating graph data\n",
      "2024-08-29 19:15:27 [info     ] checking for prefix uniqueness\n",
      "2024-08-29 19:15:27 [info     ] running filters, normalize, and annotations for <GraphReduceNode: fpath=cust.csv fmt=csv>\n",
      "2024-08-29 19:15:27 [info     ] running filters, normalize, and annotations for <GraphReduceNode: fpath=orders.csv fmt=csv>\n",
      "2024-08-29 19:15:27 [info     ] depth-first traversal through the graph from source: <GraphReduceNode: fpath=cust.csv fmt=csv>\n",
      "2024-08-29 19:15:27 [info     ] reducing relation <GraphReduceNode: fpath=orders.csv fmt=csv>\n",
      "2024-08-29 19:15:27 [info     ] performing auto_features on node <GraphReduceNode: fpath=orders.csv fmt=csv>\n",
      "2024-08-29 19:15:27 [info     ] joining <GraphReduceNode: fpath=orders.csv fmt=csv> to <GraphReduceNode: fpath=cust.csv fmt=csv>\n",
      "2024-08-29 19:15:27 [info     ] Had label node <GraphReduceNode: fpath=orders.csv fmt=csv>\n",
      "2024-08-29 19:15:27 [info     ] computed labels for <GraphReduceNode: fpath=orders.csv fmt=csv>\n"
     ]
    }
   ],
   "source": [
    "gr.do_transformations()"
   ]
  },
  {
   "cell_type": "code",
   "execution_count": 19,
   "id": "d290e8ff-80a7-4578-90fe-b868a4747014",
   "metadata": {},
   "outputs": [
    {
     "data": {
      "text/html": [
       "<div>\n",
       "<style scoped>\n",
       "    .dataframe tbody tr th:only-of-type {\n",
       "        vertical-align: middle;\n",
       "    }\n",
       "\n",
       "    .dataframe tbody tr th {\n",
       "        vertical-align: top;\n",
       "    }\n",
       "\n",
       "    .dataframe thead th {\n",
       "        text-align: right;\n",
       "    }\n",
       "</style>\n",
       "<table border=\"1\" class=\"dataframe\">\n",
       "  <thead>\n",
       "    <tr style=\"text-align: right;\">\n",
       "      <th></th>\n",
       "      <th>cu_id</th>\n",
       "      <th>cu_name</th>\n",
       "      <th>ord_customer_id</th>\n",
       "      <th>ord_id_count</th>\n",
       "      <th>ord_customer_id_count</th>\n",
       "      <th>ord_ts_min</th>\n",
       "      <th>ord_ts_max</th>\n",
       "      <th>ord_amount_count</th>\n",
       "      <th>ord_customer_id_dupe</th>\n",
       "      <th>ord_id_label</th>\n",
       "    </tr>\n",
       "  </thead>\n",
       "  <tbody>\n",
       "    <tr>\n",
       "      <th>0</th>\n",
       "      <td>1</td>\n",
       "      <td>wes</td>\n",
       "      <td>1</td>\n",
       "      <td>3</td>\n",
       "      <td>3</td>\n",
       "      <td>2023-05-12</td>\n",
       "      <td>2023-09-02</td>\n",
       "      <td>3</td>\n",
       "      <td>1</td>\n",
       "      <td>3</td>\n",
       "    </tr>\n",
       "    <tr>\n",
       "      <th>1</th>\n",
       "      <td>2</td>\n",
       "      <td>ana</td>\n",
       "      <td>2</td>\n",
       "      <td>3</td>\n",
       "      <td>3</td>\n",
       "      <td>2022-08-05</td>\n",
       "      <td>2023-10-15</td>\n",
       "      <td>3</td>\n",
       "      <td>2</td>\n",
       "      <td>3</td>\n",
       "    </tr>\n",
       "    <tr>\n",
       "      <th>2</th>\n",
       "      <td>3</td>\n",
       "      <td>caleb</td>\n",
       "      <td>3</td>\n",
       "      <td>1</td>\n",
       "      <td>1</td>\n",
       "      <td>2023-06-01</td>\n",
       "      <td>2023-06-01</td>\n",
       "      <td>1</td>\n",
       "      <td>3</td>\n",
       "      <td>1</td>\n",
       "    </tr>\n",
       "    <tr>\n",
       "      <th>3</th>\n",
       "      <td>4</td>\n",
       "      <td>luly</td>\n",
       "      <td>4</td>\n",
       "      <td>2</td>\n",
       "      <td>2</td>\n",
       "      <td>2024-01-01</td>\n",
       "      <td>2024-02-01</td>\n",
       "      <td>2</td>\n",
       "      <td>4</td>\n",
       "      <td>2</td>\n",
       "    </tr>\n",
       "  </tbody>\n",
       "</table>\n",
       "</div>"
      ],
      "text/plain": [
       "   cu_id cu_name  ord_customer_id  ord_id_count  ord_customer_id_count  \\\n",
       "0      1     wes                1             3                      3   \n",
       "1      2     ana                2             3                      3   \n",
       "2      3   caleb                3             1                      1   \n",
       "3      4    luly                4             2                      2   \n",
       "\n",
       "  ord_ts_min ord_ts_max  ord_amount_count  ord_customer_id_dupe  ord_id_label  \n",
       "0 2023-05-12 2023-09-02                 3                     1             3  \n",
       "1 2022-08-05 2023-10-15                 3                     2             3  \n",
       "2 2023-06-01 2023-06-01                 1                     3             1  \n",
       "3 2024-01-01 2024-02-01                 2                     4             2  "
      ]
     },
     "execution_count": 19,
     "metadata": {},
     "output_type": "execute_result"
    }
   ],
   "source": [
    "gr.parent_node.df.head()"
   ]
  },
  {
   "cell_type": "code",
   "execution_count": null,
   "id": "e1d94fbc-a3c4-43d7-93bb-ec6412d5532e",
   "metadata": {},
   "outputs": [],
   "source": []
  }
 ],
 "metadata": {
  "kernelspec": {
   "display_name": "Python 3 (ipykernel)",
   "language": "python",
   "name": "python3"
  },
  "language_info": {
   "codemirror_mode": {
    "name": "ipython",
    "version": 3
   },
   "file_extension": ".py",
   "mimetype": "text/x-python",
   "name": "python",
   "nbconvert_exporter": "python",
   "pygments_lexer": "ipython3",
   "version": "3.9.19"
  }
 },
 "nbformat": 4,
 "nbformat_minor": 5
}

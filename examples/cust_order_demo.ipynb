{
 "cells": [
  {
   "cell_type": "code",
   "execution_count": 1,
   "id": "80a73726",
   "metadata": {},
   "outputs": [],
   "source": [
    "# machine learning week demo of GraphReduce"
   ]
  },
  {
   "cell_type": "code",
   "execution_count": 2,
   "id": "3cf00278",
   "metadata": {},
   "outputs": [],
   "source": [
    "import pandas as pd\n",
    "import datetime\n",
    "import pyvis\n",
    "\n",
    "\n",
    "\n",
    "from graphreduce.node import GraphReduceNode\n",
    "from graphreduce.enum import ComputeLayerEnum, PeriodUnit\n",
    "from graphreduce.graph_reduce import GraphReduce"
   ]
  },
  {
   "cell_type": "markdown",
   "id": "3b8e052d",
   "metadata": {},
   "source": [
    "# abstract classes enforce the definition \n",
    "# of certain functions to adhere to convention"
   ]
  },
  {
   "cell_type": "code",
   "execution_count": null,
   "id": "5cc40139",
   "metadata": {},
   "outputs": [],
   "source": []
  },
  {
   "cell_type": "code",
   "execution_count": null,
   "id": "b77c1da2",
   "metadata": {},
   "outputs": [],
   "source": []
  },
  {
   "cell_type": "code",
   "execution_count": 3,
   "id": "4c4f458e",
   "metadata": {},
   "outputs": [],
   "source": [
    "class CustomerNode(GraphReduceNode):\n",
    "    def do_annotate(self):\n",
    "        pass\n",
    "    \n",
    "    def do_filters(self):\n",
    "        pass\n",
    "    \n",
    "    def do_clip_cols(self):\n",
    "        pass\n",
    "    \n",
    "    def do_slice_data(self):\n",
    "        pass\n",
    "    \n",
    "    def do_post_join_annotate(self):\n",
    "        pass\n",
    "    \n",
    "    def do_reduce(self, reduce_key, *args, **kwargs):\n",
    "        pass\n",
    "    \n",
    "    def do_labels(self, reduce_key, *args, **kwargs):\n",
    "        pass"
   ]
  },
  {
   "cell_type": "code",
   "execution_count": 4,
   "id": "49de12f7",
   "metadata": {},
   "outputs": [],
   "source": [
    "class OrderNode(GraphReduceNode):\n",
    "    def do_annotate(self):\n",
    "        pass\n",
    "    \n",
    "    def do_filters(self):\n",
    "        pass\n",
    "    \n",
    "    def do_clip_cols(self):\n",
    "        pass\n",
    "    \n",
    "    def do_slice_data(self):\n",
    "        pass\n",
    "    \n",
    "    def do_post_join_annotate(self):\n",
    "        pass\n",
    "    \n",
    "    def do_reduce(self, reduce_key):\n",
    "        return self.prep_for_features().groupby(self.colabbr(reduce_key)).agg(\n",
    "            **{\n",
    "                self.colabbr(f'{self.pk}_count') : pd.NamedAgg(column=self.colabbr(self.pk), aggfunc='count')\n",
    "            }\n",
    "        ).reset_index()\n",
    "    \n",
    "    def do_labels(self, key):\n",
    "        pass"
   ]
  },
  {
   "cell_type": "code",
   "execution_count": 5,
   "id": "aeb5195a",
   "metadata": {},
   "outputs": [],
   "source": [
    "class OrderProductNode(GraphReduceNode):\n",
    "    def do_annotate(self):\n",
    "        pass\n",
    "    \n",
    "    def do_filters(self):\n",
    "        pass\n",
    "    \n",
    "    def do_clip_cols(self):\n",
    "        pass\n",
    "    \n",
    "    def do_slice_data(self):\n",
    "        pass\n",
    "    \n",
    "    def do_post_join_annotate(self):\n",
    "        pass\n",
    "    \n",
    "    def do_reduce(self, reduce_key):\n",
    "        return self.prep_for_features().groupby(self.colabbr(reduce_key)).agg(\n",
    "            **{\n",
    "                self.colabbr(f'{self.pk}_count') : pd.NamedAgg(column=self.colabbr(self.pk), aggfunc='count')\n",
    "            }\n",
    "        ).reset_index()\n",
    "    \n",
    "    def do_labels(self, key):\n",
    "        pass"
   ]
  },
  {
   "cell_type": "code",
   "execution_count": 6,
   "id": "e55011a6",
   "metadata": {},
   "outputs": [],
   "source": [
    "class OrderEventNode(GraphReduceNode):\n",
    "    def do_annotate(self):\n",
    "        pass\n",
    "    \n",
    "    def do_filters(self):\n",
    "        pass\n",
    "    \n",
    "    def do_clip_cols(self):\n",
    "        pass\n",
    "    \n",
    "    def do_slice_data(self):\n",
    "        pass\n",
    "    \n",
    "    def do_post_join_annotate(self):\n",
    "        pass\n",
    "    \n",
    "    def do_reduce(self, reduce_key, *args, **kwargs):\n",
    "        return self.prep_for_features().groupby(self.colabbr(reduce_key)).agg(\n",
    "            **{\n",
    "                self.colabbr(f'{self.pk}_count') : pd.NamedAgg(column=self.colabbr(self.pk), aggfunc='count')\n",
    "            }\n",
    "        ).reset_index()\n",
    "    \n",
    "    def do_labels(self, key):\n",
    "        pass"
   ]
  },
  {
   "cell_type": "code",
   "execution_count": 7,
   "id": "2226ffa1",
   "metadata": {},
   "outputs": [],
   "source": [
    "class NotificationNode(GraphReduceNode):\n",
    "    def do_annotate(self):\n",
    "        pass\n",
    "    \n",
    "    def do_filters(self):\n",
    "        pass\n",
    "    \n",
    "    def do_clip_cols(self):\n",
    "        pass\n",
    "    \n",
    "    def do_slice_data(self):\n",
    "        pass\n",
    "    \n",
    "    def do_post_join_annotate(self):\n",
    "        pass\n",
    "    \n",
    "    def do_reduce(self, reduce_key, *args, **kwargs):\n",
    "        df = self.prep_for_features().groupby(self.colabbr(reduce_key)).agg(\n",
    "            **{\n",
    "                self.colabbr(f'{self.pk}_count') : pd.NamedAgg(column=self.colabbr(self.pk), aggfunc='count'),\n",
    "                #'ni_num_notification_interactions' : pd.NamedAgg(column='ni_num_interactions', aggfunc='sum')\n",
    "            }\n",
    "        ).reset_index()\n",
    "        return df\n",
    "        \n",
    "    \n",
    "    def do_labels(self, key):\n",
    "        pass"
   ]
  },
  {
   "cell_type": "code",
   "execution_count": 8,
   "id": "a94f23e6",
   "metadata": {},
   "outputs": [],
   "source": [
    "class NotificationInteractionNode(GraphReduceNode):\n",
    "    def do_annotate(self):\n",
    "        self.df[self.colabbr(self.date_key)] = self.df[self.colabbr(self.date_key)].apply(\n",
    "            lambda x: datetime.datetime.strptime(x, '%Y-%m-%d'))\n",
    "    \n",
    "    def do_filters(self):\n",
    "        pass\n",
    "    \n",
    "    def do_clip_cols(self):\n",
    "        pass\n",
    "    \n",
    "    def do_slice_data(self):\n",
    "        pass\n",
    "    \n",
    "    def do_post_join_annotate(self):\n",
    "        pass\n",
    "    \n",
    "    def do_reduce(self, \n",
    "                  reduce_key : str,\n",
    "                  additional_agg : dict = {}\n",
    "                 ):\n",
    "        \n",
    "        return self.prep_for_features().groupby(self.colabbr(reduce_key)).agg(\n",
    "            **{\n",
    "                self.colabbr(f'{self.pk}_counts') : pd.NamedAgg(column=self.colabbr(self.pk), aggfunc='count'),\n",
    "                self.colabbr(f'{self.pk}_min') : pd.NamedAgg(column=self.colabbr(self.pk), aggfunc='min'),\n",
    "                self.colabbr(f'{self.pk}_min'): pd.NamedAgg(column=self.colabbr(self.pk), aggfunc='max'),\n",
    "                self.colabbr(f'num_interactions') : pd.NamedAgg(column=self.colabbr(self.pk), aggfunc='count'),\n",
    "\n",
    "            }\n",
    "        ).reset_index()\n",
    "    \n",
    "    def do_labels(self, reduce_key, *args, **kwargs):\n",
    "        label_df = self.prep_for_labels().groupby(self.colabbr(reduce_key)).agg(\n",
    "            **{\n",
    "                # add a label / target for a model predicting the number of interactions\n",
    "                self.colabbr(f'{self.pk}_num_interactions') : pd.NamedAgg(column=self.colabbr(self.pk), aggfunc='count'),\n",
    "            }\n",
    "        ).reset_index()\n",
    "        return label_df"
   ]
  },
  {
   "cell_type": "code",
   "execution_count": 9,
   "id": "6979e26a",
   "metadata": {},
   "outputs": [],
   "source": [
    "cust = CustomerNode(pk='id', prefix='cust',fpath='dat/cust.csv', fmt='csv', compute_layer=ComputeLayerEnum.pandas)\n",
    "order = OrderNode(pk='id', prefix='order', fpath='dat/orders.csv', fmt='csv',compute_layer=ComputeLayerEnum.pandas)\n",
    "order_event = OrderEventNode(pk='id', prefix='oe',fpath='dat/order_events.csv', fmt='csv',compute_layer=ComputeLayerEnum.pandas)\n",
    "order_product = OrderProductNode(pk='id', prefix='op',fpath='dat/order_products.csv', fmt='csv',compute_layer=ComputeLayerEnum.pandas)\n",
    "notification = NotificationNode(pk='id', prefix='no', fpath='dat/notifications.csv', fmt='csv',compute_layer=ComputeLayerEnum.pandas)\n",
    "notification_interaction = NotificationInteractionNode(pk='id', prefix='ni',fpath='dat/notification_interactions.csv', fmt='csv',compute_layer=ComputeLayerEnum.pandas,\n",
    "                                                      date_key='ts')\n",
    "\n"
   ]
  },
  {
   "cell_type": "markdown",
   "id": "41a6036d",
   "metadata": {},
   "source": [
    "## graph reduce abstracts the orchestration of compute\n",
    "## across the graph, and thigns like depth-first\n",
    "## traversal for hierarchical rollups\n"
   ]
  },
  {
   "cell_type": "code",
   "execution_count": 10,
   "id": "96da8616",
   "metadata": {},
   "outputs": [],
   "source": [
    "gr = GraphReduce(\n",
    "    cut_date=datetime.datetime(2023, 5, 6),\n",
    "    compute_period_val=365,\n",
    "    compute_period_unit=PeriodUnit.day,\n",
    "    parent_node=cust,\n",
    "    compute_layer=ComputeLayerEnum.pandas,\n",
    "    has_labels=False,\n",
    "    label_period_val=30,\n",
    "    label_period_unit=PeriodUnit.day,\n",
    "    dynamic_propagation=True\n",
    ")"
   ]
  },
  {
   "cell_type": "code",
   "execution_count": 11,
   "id": "1467b0a5",
   "metadata": {},
   "outputs": [
    {
     "data": {
      "text/plain": [
       "{'int64': ['min', 'max', 'sum'],\n",
       " 'str': ['first'],\n",
       " 'object': ['first'],\n",
       " 'float64': ['min', 'max', 'sum'],\n",
       " 'bool': ['first'],\n",
       " 'datetime64': ['first']}"
      ]
     },
     "execution_count": 11,
     "metadata": {},
     "output_type": "execute_result"
    }
   ],
   "source": [
    "gr.type_func_map"
   ]
  },
  {
   "cell_type": "code",
   "execution_count": null,
   "id": "5f7cffa9",
   "metadata": {},
   "outputs": [],
   "source": []
  },
  {
   "cell_type": "code",
   "execution_count": null,
   "id": "2ba1f0fb",
   "metadata": {},
   "outputs": [],
   "source": []
  },
  {
   "cell_type": "code",
   "execution_count": 12,
   "id": "e239ccd3",
   "metadata": {},
   "outputs": [],
   "source": [
    "gr.add_node(cust)\n",
    "gr.add_node(order)\n",
    "gr.add_node(order_event)\n",
    "gr.add_node(order_product)\n",
    "gr.add_node(notification)\n",
    "gr.add_node(notification_interaction)"
   ]
  },
  {
   "cell_type": "code",
   "execution_count": 13,
   "id": "8910bcc8",
   "metadata": {},
   "outputs": [
    {
     "name": "stdout",
     "output_type": "stream",
     "text": [
      "\u001b[2m2023-06-27 09:23:53\u001b[0m [\u001b[32m\u001b[1minfo     \u001b[0m] \u001b[1mhydrating attributes for CustomerNode\u001b[0m\n",
      "\u001b[2m2023-06-27 09:23:53\u001b[0m [\u001b[32m\u001b[1minfo     \u001b[0m] \u001b[1mhydrating attributes for OrderNode\u001b[0m\n",
      "\u001b[2m2023-06-27 09:23:53\u001b[0m [\u001b[32m\u001b[1minfo     \u001b[0m] \u001b[1mhydrating attributes for OrderEventNode\u001b[0m\n",
      "\u001b[2m2023-06-27 09:23:53\u001b[0m [\u001b[32m\u001b[1minfo     \u001b[0m] \u001b[1mhydrating attributes for OrderProductNode\u001b[0m\n",
      "\u001b[2m2023-06-27 09:23:53\u001b[0m [\u001b[32m\u001b[1minfo     \u001b[0m] \u001b[1mhydrating attributes for NotificationNode\u001b[0m\n",
      "\u001b[2m2023-06-27 09:23:53\u001b[0m [\u001b[32m\u001b[1minfo     \u001b[0m] \u001b[1mhydrating attributes for NotificationInteractionNode\u001b[0m\n"
     ]
    }
   ],
   "source": [
    "gr.hydrate_graph_attrs()"
   ]
  },
  {
   "cell_type": "code",
   "execution_count": null,
   "id": "4a7b43d9",
   "metadata": {},
   "outputs": [],
   "source": []
  },
  {
   "cell_type": "code",
   "execution_count": null,
   "id": "030ecdb8",
   "metadata": {},
   "outputs": [],
   "source": []
  },
  {
   "cell_type": "code",
   "execution_count": 14,
   "id": "95e883d8",
   "metadata": {},
   "outputs": [
    {
     "data": {
      "text/plain": [
       "NodeView((<__main__.CustomerNode object at 0x131356bb0>, <__main__.OrderNode object at 0x131356850>, <__main__.OrderEventNode object at 0x1313561c0>, <__main__.OrderProductNode object at 0x131356ee0>, <__main__.NotificationNode object at 0x131356820>, <__main__.NotificationInteractionNode object at 0x131356280>))"
      ]
     },
     "execution_count": 14,
     "metadata": {},
     "output_type": "execute_result"
    }
   ],
   "source": [
    "gr.nodes()"
   ]
  },
  {
   "cell_type": "code",
   "execution_count": 15,
   "id": "d7e7646e",
   "metadata": {},
   "outputs": [
    {
     "name": "stdout",
     "output_type": "stream",
     "text": [
      "Help on method add_entity_edge in module graphreduce.graph_reduce:\n",
      "\n",
      "add_entity_edge(parent_node: graphreduce.node.GraphReduceNode, relation_node: graphreduce.node.GraphReduceNode, parent_key: str, relation_key: str, relation_type: str = 'parent_child', reduce: bool = True) method of graphreduce.graph_reduce.GraphReduce instance\n",
      "    Add an entity relation\n",
      "\n"
     ]
    }
   ],
   "source": [
    "help(gr.add_entity_edge)"
   ]
  },
  {
   "cell_type": "code",
   "execution_count": 16,
   "id": "9b9300c0",
   "metadata": {},
   "outputs": [],
   "source": [
    "gr.add_entity_edge(\n",
    "    parent_node=cust,\n",
    "    relation_node=order,\n",
    "    parent_key='id',\n",
    "    relation_key='customer_id',\n",
    "    relation_type='parent_child',\n",
    "    reduce=True\n",
    ")"
   ]
  },
  {
   "cell_type": "code",
   "execution_count": 17,
   "id": "cc95344a",
   "metadata": {},
   "outputs": [],
   "source": [
    "gr.add_entity_edge(\n",
    "    parent_node=cust,\n",
    "    relation_node=notification,\n",
    "    parent_key='id',\n",
    "    relation_key='customer_id',\n",
    "    relation_type='parent_child',\n",
    "    reduce=True\n",
    ")"
   ]
  },
  {
   "cell_type": "code",
   "execution_count": 18,
   "id": "c13f0b51",
   "metadata": {},
   "outputs": [],
   "source": [
    "gr.add_entity_edge(\n",
    "    parent_node=order,\n",
    "    relation_node=order_event,\n",
    "    parent_key='id',\n",
    "    relation_key='order_id',\n",
    "    relation_type='parent_child',\n",
    "    reduce=True\n",
    ")"
   ]
  },
  {
   "cell_type": "code",
   "execution_count": 19,
   "id": "34a7a8db",
   "metadata": {},
   "outputs": [],
   "source": [
    "gr.add_entity_edge(\n",
    "    parent_node=order,\n",
    "    relation_node=order_product,\n",
    "    parent_key='id',\n",
    "    relation_key='order_id',\n",
    "    relation_type='parent_child',\n",
    "    reduce=True\n",
    ")"
   ]
  },
  {
   "cell_type": "code",
   "execution_count": 20,
   "id": "ba8b956a",
   "metadata": {},
   "outputs": [],
   "source": [
    "gr.add_entity_edge(\n",
    "    parent_node=notification,\n",
    "    relation_node=notification_interaction,\n",
    "    parent_key='id',\n",
    "    relation_key='notification_id',\n",
    "    relation_type='parent_child',\n",
    "    reduce=True\n",
    ")"
   ]
  },
  {
   "cell_type": "code",
   "execution_count": 21,
   "id": "272d1ca0",
   "metadata": {},
   "outputs": [
    {
     "name": "stdout",
     "output_type": "stream",
     "text": [
      "\u001b[2m2023-06-27 09:23:53\u001b[0m [\u001b[32m\u001b[1minfo     \u001b[0m] \u001b[1mplotted graph at customer_graph_reduce2.html\u001b[0m\n"
     ]
    }
   ],
   "source": [
    "gr.plot_graph('customer_graph_reduce2.html', cdn_resources='in_line', notebook=True)"
   ]
  },
  {
   "cell_type": "code",
   "execution_count": 22,
   "id": "70eaeea0",
   "metadata": {},
   "outputs": [
    {
     "name": "stdout",
     "output_type": "stream",
     "text": [
      "\u001b[2m2023-06-27 09:23:53\u001b[0m [\u001b[32m\u001b[1minfo     \u001b[0m] \u001b[1mhydrating graph attributes\u001b[0m\n",
      "\u001b[2m2023-06-27 09:23:53\u001b[0m [\u001b[32m\u001b[1minfo     \u001b[0m] \u001b[1mhydrating attributes for CustomerNode\u001b[0m\n",
      "\u001b[2m2023-06-27 09:23:53\u001b[0m [\u001b[32m\u001b[1minfo     \u001b[0m] \u001b[1mhydrating attributes for OrderNode\u001b[0m\n",
      "\u001b[2m2023-06-27 09:23:53\u001b[0m [\u001b[32m\u001b[1minfo     \u001b[0m] \u001b[1mhydrating attributes for OrderEventNode\u001b[0m\n",
      "\u001b[2m2023-06-27 09:23:53\u001b[0m [\u001b[32m\u001b[1minfo     \u001b[0m] \u001b[1mhydrating attributes for OrderProductNode\u001b[0m\n",
      "\u001b[2m2023-06-27 09:23:53\u001b[0m [\u001b[32m\u001b[1minfo     \u001b[0m] \u001b[1mhydrating attributes for NotificationNode\u001b[0m\n",
      "\u001b[2m2023-06-27 09:23:53\u001b[0m [\u001b[32m\u001b[1minfo     \u001b[0m] \u001b[1mhydrating attributes for NotificationInteractionNode\u001b[0m\n",
      "\u001b[2m2023-06-27 09:23:53\u001b[0m [\u001b[32m\u001b[1minfo     \u001b[0m] \u001b[1mhydrating graph data\u001b[0m\n",
      "\u001b[2m2023-06-27 09:23:53\u001b[0m [\u001b[32m\u001b[1minfo     \u001b[0m] \u001b[1mchecking for prefix uniqueness\u001b[0m\n",
      "\u001b[2m2023-06-27 09:23:53\u001b[0m [\u001b[32m\u001b[1minfo     \u001b[0m] \u001b[1mrunning filters, clip cols, and annotations for CustomerNode\u001b[0m\n",
      "\u001b[2m2023-06-27 09:23:53\u001b[0m [\u001b[32m\u001b[1minfo     \u001b[0m] \u001b[1mrunning filters, clip cols, and annotations for OrderNode\u001b[0m\n",
      "\u001b[2m2023-06-27 09:23:53\u001b[0m [\u001b[32m\u001b[1minfo     \u001b[0m] \u001b[1mrunning filters, clip cols, and annotations for OrderEventNode\u001b[0m\n",
      "\u001b[2m2023-06-27 09:23:53\u001b[0m [\u001b[32m\u001b[1minfo     \u001b[0m] \u001b[1mrunning filters, clip cols, and annotations for OrderProductNode\u001b[0m\n",
      "\u001b[2m2023-06-27 09:23:53\u001b[0m [\u001b[32m\u001b[1minfo     \u001b[0m] \u001b[1mrunning filters, clip cols, and annotations for NotificationNode\u001b[0m\n",
      "\u001b[2m2023-06-27 09:23:53\u001b[0m [\u001b[32m\u001b[1minfo     \u001b[0m] \u001b[1mrunning filters, clip cols, and annotations for NotificationInteractionNode\u001b[0m\n",
      "\u001b[2m2023-06-27 09:23:53\u001b[0m [\u001b[32m\u001b[1minfo     \u001b[0m] \u001b[1mdepth-first traversal through the graph from source: CustomerNode\u001b[0m\n",
      "\u001b[2m2023-06-27 09:23:53\u001b[0m [\u001b[32m\u001b[1minfo     \u001b[0m] \u001b[1mreducing relation NotificationInteractionNode\u001b[0m\n",
      "\u001b[2m2023-06-27 09:23:53\u001b[0m [\u001b[32m\u001b[1minfo     \u001b[0m] \u001b[1mdoing dynamic propagation on node NotificationInteractionNode\u001b[0m\n",
      "\u001b[2m2023-06-27 09:23:53\u001b[0m [\u001b[32m\u001b[1minfo     \u001b[0m] \u001b[1mjoining NotificationInteractionNode to NotificationNode\u001b[0m\n",
      "\u001b[2m2023-06-27 09:23:53\u001b[0m [\u001b[32m\u001b[1minfo     \u001b[0m] \u001b[1mreducing relation NotificationNode\u001b[0m\n",
      "\u001b[2m2023-06-27 09:23:53\u001b[0m [\u001b[32m\u001b[1minfo     \u001b[0m] \u001b[1mdoing dynamic propagation on node NotificationNode\u001b[0m\n",
      "\u001b[2m2023-06-27 09:23:53\u001b[0m [\u001b[32m\u001b[1minfo     \u001b[0m] \u001b[1mjoining NotificationNode to CustomerNode\u001b[0m\n",
      "\u001b[2m2023-06-27 09:23:53\u001b[0m [\u001b[32m\u001b[1minfo     \u001b[0m] \u001b[1mreducing relation OrderProductNode\u001b[0m\n",
      "\u001b[2m2023-06-27 09:23:53\u001b[0m [\u001b[32m\u001b[1minfo     \u001b[0m] \u001b[1mdoing dynamic propagation on node OrderProductNode\u001b[0m\n",
      "\u001b[2m2023-06-27 09:23:53\u001b[0m [\u001b[32m\u001b[1minfo     \u001b[0m] \u001b[1mjoining OrderProductNode to OrderNode\u001b[0m\n",
      "\u001b[2m2023-06-27 09:23:53\u001b[0m [\u001b[32m\u001b[1minfo     \u001b[0m] \u001b[1mreducing relation OrderEventNode\u001b[0m\n",
      "\u001b[2m2023-06-27 09:23:53\u001b[0m [\u001b[32m\u001b[1minfo     \u001b[0m] \u001b[1mdoing dynamic propagation on node OrderEventNode\u001b[0m\n",
      "\u001b[2m2023-06-27 09:23:53\u001b[0m [\u001b[32m\u001b[1minfo     \u001b[0m] \u001b[1mjoining OrderEventNode to OrderNode\u001b[0m\n",
      "\u001b[2m2023-06-27 09:23:53\u001b[0m [\u001b[32m\u001b[1minfo     \u001b[0m] \u001b[1mreducing relation OrderNode\u001b[0m\n",
      "\u001b[2m2023-06-27 09:23:53\u001b[0m [\u001b[32m\u001b[1minfo     \u001b[0m] \u001b[1mdoing dynamic propagation on node OrderNode\u001b[0m\n",
      "\u001b[2m2023-06-27 09:23:53\u001b[0m [\u001b[32m\u001b[1minfo     \u001b[0m] \u001b[1mjoining OrderNode to CustomerNode\u001b[0m\n"
     ]
    }
   ],
   "source": [
    "gr.do_transformations()"
   ]
  },
  {
   "cell_type": "code",
   "execution_count": null,
   "id": "192a5199",
   "metadata": {},
   "outputs": [],
   "source": []
  },
  {
   "cell_type": "code",
   "execution_count": 23,
   "id": "35ff52d2",
   "metadata": {},
   "outputs": [],
   "source": [
    "# 1) reduce\n",
    "# 2) no reduce on notification tabale\n",
    "# 3"
   ]
  },
  {
   "cell_type": "code",
   "execution_count": 24,
   "id": "c42033e3",
   "metadata": {},
   "outputs": [
    {
     "data": {
      "text/html": [
       "<div>\n",
       "<style scoped>\n",
       "    .dataframe tbody tr th:only-of-type {\n",
       "        vertical-align: middle;\n",
       "    }\n",
       "\n",
       "    .dataframe tbody tr th {\n",
       "        vertical-align: top;\n",
       "    }\n",
       "\n",
       "    .dataframe thead th {\n",
       "        text-align: right;\n",
       "    }\n",
       "</style>\n",
       "<table border=\"1\" class=\"dataframe\">\n",
       "  <thead>\n",
       "    <tr style=\"text-align: right;\">\n",
       "      <th></th>\n",
       "      <th>cust_id</th>\n",
       "      <th>cust_name</th>\n",
       "      <th>no_customer_id</th>\n",
       "      <th>no_id_count</th>\n",
       "      <th>no_id_min</th>\n",
       "      <th>no_id_max</th>\n",
       "      <th>no_id_sum</th>\n",
       "      <th>no_customer_id_min</th>\n",
       "      <th>no_customer_id_max</th>\n",
       "      <th>no_customer_id_sum</th>\n",
       "      <th>...</th>\n",
       "      <th>oe_order_id_sum_sum</th>\n",
       "      <th>oe_event_id_min_min</th>\n",
       "      <th>oe_event_id_min_max</th>\n",
       "      <th>oe_event_id_min_sum</th>\n",
       "      <th>oe_event_id_max_min</th>\n",
       "      <th>oe_event_id_max_max</th>\n",
       "      <th>oe_event_id_max_sum</th>\n",
       "      <th>oe_event_id_sum_min</th>\n",
       "      <th>oe_event_id_sum_max</th>\n",
       "      <th>oe_event_id_sum_sum</th>\n",
       "    </tr>\n",
       "  </thead>\n",
       "  <tbody>\n",
       "    <tr>\n",
       "      <th>0</th>\n",
       "      <td>1</td>\n",
       "      <td>wes</td>\n",
       "      <td>1</td>\n",
       "      <td>6</td>\n",
       "      <td>1</td>\n",
       "      <td>6</td>\n",
       "      <td>21</td>\n",
       "      <td>1</td>\n",
       "      <td>1</td>\n",
       "      <td>6</td>\n",
       "      <td>...</td>\n",
       "      <td>30.0</td>\n",
       "      <td>1.0</td>\n",
       "      <td>11.0</td>\n",
       "      <td>12.0</td>\n",
       "      <td>10.0</td>\n",
       "      <td>20.0</td>\n",
       "      <td>30.0</td>\n",
       "      <td>55.0</td>\n",
       "      <td>155.0</td>\n",
       "      <td>210.0</td>\n",
       "    </tr>\n",
       "    <tr>\n",
       "      <th>1</th>\n",
       "      <td>2</td>\n",
       "      <td>john</td>\n",
       "      <td>2</td>\n",
       "      <td>7</td>\n",
       "      <td>7</td>\n",
       "      <td>13</td>\n",
       "      <td>70</td>\n",
       "      <td>2</td>\n",
       "      <td>2</td>\n",
       "      <td>14</td>\n",
       "      <td>...</td>\n",
       "      <td>18.0</td>\n",
       "      <td>21.0</td>\n",
       "      <td>21.0</td>\n",
       "      <td>21.0</td>\n",
       "      <td>26.0</td>\n",
       "      <td>26.0</td>\n",
       "      <td>26.0</td>\n",
       "      <td>141.0</td>\n",
       "      <td>141.0</td>\n",
       "      <td>141.0</td>\n",
       "    </tr>\n",
       "  </tbody>\n",
       "</table>\n",
       "<p>2 rows × 125 columns</p>\n",
       "</div>"
      ],
      "text/plain": [
       "   cust_id cust_name  no_customer_id  no_id_count  no_id_min  no_id_max  \\\n",
       "0        1       wes               1            6          1          6   \n",
       "1        2      john               2            7          7         13   \n",
       "\n",
       "   no_id_sum  no_customer_id_min  no_customer_id_max  no_customer_id_sum  ...  \\\n",
       "0         21                   1                   1                   6  ...   \n",
       "1         70                   2                   2                  14  ...   \n",
       "\n",
       "  oe_order_id_sum_sum  oe_event_id_min_min  oe_event_id_min_max  \\\n",
       "0                30.0                  1.0                 11.0   \n",
       "1                18.0                 21.0                 21.0   \n",
       "\n",
       "   oe_event_id_min_sum  oe_event_id_max_min  oe_event_id_max_max  \\\n",
       "0                 12.0                 10.0                 20.0   \n",
       "1                 21.0                 26.0                 26.0   \n",
       "\n",
       "   oe_event_id_max_sum  oe_event_id_sum_min  oe_event_id_sum_max  \\\n",
       "0                 30.0                 55.0                155.0   \n",
       "1                 26.0                141.0                141.0   \n",
       "\n",
       "   oe_event_id_sum_sum  \n",
       "0                210.0  \n",
       "1                141.0  \n",
       "\n",
       "[2 rows x 125 columns]"
      ]
     },
     "execution_count": 24,
     "metadata": {},
     "output_type": "execute_result"
    }
   ],
   "source": [
    "gr.parent.df"
   ]
  },
  {
   "cell_type": "code",
   "execution_count": 25,
   "id": "5de1d7bc",
   "metadata": {},
   "outputs": [
    {
     "data": {
      "text/plain": [
       "2"
      ]
     },
     "execution_count": 25,
     "metadata": {},
     "output_type": "execute_result"
    }
   ],
   "source": [
    "len(gr.parent.df)"
   ]
  },
  {
   "cell_type": "code",
   "execution_count": 26,
   "id": "c939b461",
   "metadata": {},
   "outputs": [
    {
     "data": {
      "text/plain": [
       "[<__main__.NotificationInteractionNode at 0x131356280>,\n",
       " <__main__.NotificationNode at 0x131356820>,\n",
       " <__main__.OrderProductNode at 0x131356ee0>,\n",
       " <__main__.OrderEventNode at 0x1313561c0>,\n",
       " <__main__.OrderNode at 0x131356850>]"
      ]
     },
     "execution_count": 26,
     "metadata": {},
     "output_type": "execute_result"
    }
   ],
   "source": [
    "gr.get_children(gr.parent)"
   ]
  },
  {
   "cell_type": "code",
   "execution_count": 27,
   "id": "c32687f7",
   "metadata": {},
   "outputs": [],
   "source": [
    "import networkx as nx"
   ]
  },
  {
   "cell_type": "code",
   "execution_count": 28,
   "id": "135ecb3c",
   "metadata": {},
   "outputs": [
    {
     "data": {
      "text/plain": [
       "<function networkx.algorithms.traversal.depth_first_search.dfs_edges(G, source=None, depth_limit=None)>"
      ]
     },
     "execution_count": 28,
     "metadata": {},
     "output_type": "execute_result"
    }
   ],
   "source": [
    "nx.dfs_edges"
   ]
  },
  {
   "cell_type": "code",
   "execution_count": 29,
   "id": "7bb38e06",
   "metadata": {},
   "outputs": [
    {
     "data": {
      "text/plain": [
       "[<__main__.CustomerNode at 0x131356bb0>,\n",
       " <__main__.OrderNode at 0x131356850>,\n",
       " <__main__.OrderEventNode at 0x1313561c0>,\n",
       " <__main__.OrderProductNode at 0x131356ee0>,\n",
       " <__main__.NotificationNode at 0x131356820>,\n",
       " <__main__.NotificationInteractionNode at 0x131356280>]"
      ]
     },
     "execution_count": 29,
     "metadata": {},
     "output_type": "execute_result"
    }
   ],
   "source": [
    "list(nx.dfs_preorder_nodes(gr, source=gr.parent))"
   ]
  },
  {
   "cell_type": "code",
   "execution_count": 30,
   "id": "a6adb216",
   "metadata": {},
   "outputs": [
    {
     "data": {
      "text/plain": [
       "<__main__.OrderNode at 0x131356850>"
      ]
     },
     "execution_count": 30,
     "metadata": {},
     "output_type": "execute_result"
    }
   ],
   "source": [
    "order"
   ]
  },
  {
   "cell_type": "code",
   "execution_count": 31,
   "id": "3af8a9e4",
   "metadata": {},
   "outputs": [
    {
     "data": {
      "text/plain": [
       "[<__main__.OrderProductNode at 0x131356ee0>,\n",
       " <__main__.OrderEventNode at 0x1313561c0>]"
      ]
     },
     "execution_count": 31,
     "metadata": {},
     "output_type": "execute_result"
    }
   ],
   "source": [
    "gr.get_children(order)"
   ]
  },
  {
   "cell_type": "code",
   "execution_count": 32,
   "id": "3f95d232",
   "metadata": {},
   "outputs": [
    {
     "name": "stdout",
     "output_type": "stream",
     "text": [
      "\u001b[2m2023-06-27 09:23:53\u001b[0m [\u001b[32m\u001b[1minfo     \u001b[0m] \u001b[1mplotted graph at mlw_2023.html\u001b[0m\n"
     ]
    }
   ],
   "source": [
    "gr.plot_graph(fname='mlw_2023.html')"
   ]
  },
  {
   "cell_type": "code",
   "execution_count": 33,
   "id": "972dec07",
   "metadata": {},
   "outputs": [
    {
     "data": {
      "text/plain": [
       "NodeView((<__main__.CustomerNode object at 0x131356bb0>, <__main__.OrderNode object at 0x131356850>, <__main__.OrderEventNode object at 0x1313561c0>, <__main__.OrderProductNode object at 0x131356ee0>, <__main__.NotificationNode object at 0x131356820>, <__main__.NotificationInteractionNode object at 0x131356280>))"
      ]
     },
     "execution_count": 33,
     "metadata": {},
     "output_type": "execute_result"
    }
   ],
   "source": [
    "# merge children columns dynamically\n",
    "gr.nodes()"
   ]
  },
  {
   "cell_type": "code",
   "execution_count": 34,
   "id": "446dfb8b",
   "metadata": {},
   "outputs": [
    {
     "data": {
      "text/plain": [
       "<graphreduce.graph_reduce.GraphReduce at 0x1313625b0>"
      ]
     },
     "execution_count": 34,
     "metadata": {},
     "output_type": "execute_result"
    }
   ],
   "source": [
    "gr"
   ]
  },
  {
   "cell_type": "code",
   "execution_count": 35,
   "id": "1fadc251",
   "metadata": {},
   "outputs": [
    {
     "data": {
      "text/plain": [
       "<bound method GraphReduce.get_children of <graphreduce.graph_reduce.GraphReduce object at 0x1313625b0>>"
      ]
     },
     "execution_count": 35,
     "metadata": {},
     "output_type": "execute_result"
    }
   ],
   "source": [
    "gr.get_children"
   ]
  },
  {
   "cell_type": "code",
   "execution_count": 36,
   "id": "a09a99e3",
   "metadata": {},
   "outputs": [
    {
     "data": {
      "text/plain": [
       "[<__main__.OrderProductNode at 0x131356ee0>,\n",
       " <__main__.OrderEventNode at 0x1313561c0>]"
      ]
     },
     "execution_count": 36,
     "metadata": {},
     "output_type": "execute_result"
    }
   ],
   "source": [
    "gr.get_children(order)"
   ]
  },
  {
   "cell_type": "code",
   "execution_count": 37,
   "id": "e82953c7",
   "metadata": {},
   "outputs": [
    {
     "data": {
      "text/html": [
       "<div>\n",
       "<style scoped>\n",
       "    .dataframe tbody tr th:only-of-type {\n",
       "        vertical-align: middle;\n",
       "    }\n",
       "\n",
       "    .dataframe tbody tr th {\n",
       "        vertical-align: top;\n",
       "    }\n",
       "\n",
       "    .dataframe thead th {\n",
       "        text-align: right;\n",
       "    }\n",
       "</style>\n",
       "<table border=\"1\" class=\"dataframe\">\n",
       "  <thead>\n",
       "    <tr style=\"text-align: right;\">\n",
       "      <th></th>\n",
       "      <th>order_id</th>\n",
       "      <th>order_customer_id</th>\n",
       "      <th>order_ts</th>\n",
       "      <th>op_order_id</th>\n",
       "      <th>op_id_count</th>\n",
       "      <th>op_id_min</th>\n",
       "      <th>op_id_max</th>\n",
       "      <th>op_id_sum</th>\n",
       "      <th>op_order_id_min</th>\n",
       "      <th>op_order_id_max</th>\n",
       "      <th>...</th>\n",
       "      <th>oe_id_count</th>\n",
       "      <th>oe_id_min</th>\n",
       "      <th>oe_id_max</th>\n",
       "      <th>oe_id_sum</th>\n",
       "      <th>oe_order_id_min</th>\n",
       "      <th>oe_order_id_max</th>\n",
       "      <th>oe_order_id_sum</th>\n",
       "      <th>oe_event_id_min</th>\n",
       "      <th>oe_event_id_max</th>\n",
       "      <th>oe_event_id_sum</th>\n",
       "    </tr>\n",
       "  </thead>\n",
       "  <tbody>\n",
       "    <tr>\n",
       "      <th>0</th>\n",
       "      <td>1</td>\n",
       "      <td>1</td>\n",
       "      <td>2023-05-12</td>\n",
       "      <td>1</td>\n",
       "      <td>4</td>\n",
       "      <td>1</td>\n",
       "      <td>1</td>\n",
       "      <td>4</td>\n",
       "      <td>1</td>\n",
       "      <td>1</td>\n",
       "      <td>...</td>\n",
       "      <td>10.0</td>\n",
       "      <td>1.0</td>\n",
       "      <td>10.0</td>\n",
       "      <td>55.0</td>\n",
       "      <td>1.0</td>\n",
       "      <td>1.0</td>\n",
       "      <td>10.0</td>\n",
       "      <td>1.0</td>\n",
       "      <td>10.0</td>\n",
       "      <td>55.0</td>\n",
       "    </tr>\n",
       "    <tr>\n",
       "      <th>1</th>\n",
       "      <td>2</td>\n",
       "      <td>1</td>\n",
       "      <td>2023-06-01</td>\n",
       "      <td>2</td>\n",
       "      <td>4</td>\n",
       "      <td>1</td>\n",
       "      <td>1</td>\n",
       "      <td>4</td>\n",
       "      <td>2</td>\n",
       "      <td>2</td>\n",
       "      <td>...</td>\n",
       "      <td>10.0</td>\n",
       "      <td>11.0</td>\n",
       "      <td>20.0</td>\n",
       "      <td>155.0</td>\n",
       "      <td>2.0</td>\n",
       "      <td>2.0</td>\n",
       "      <td>20.0</td>\n",
       "      <td>11.0</td>\n",
       "      <td>20.0</td>\n",
       "      <td>155.0</td>\n",
       "    </tr>\n",
       "    <tr>\n",
       "      <th>2</th>\n",
       "      <td>3</td>\n",
       "      <td>2</td>\n",
       "      <td>2023-01-01</td>\n",
       "      <td>3</td>\n",
       "      <td>4</td>\n",
       "      <td>1</td>\n",
       "      <td>1</td>\n",
       "      <td>4</td>\n",
       "      <td>3</td>\n",
       "      <td>3</td>\n",
       "      <td>...</td>\n",
       "      <td>6.0</td>\n",
       "      <td>21.0</td>\n",
       "      <td>26.0</td>\n",
       "      <td>141.0</td>\n",
       "      <td>3.0</td>\n",
       "      <td>3.0</td>\n",
       "      <td>18.0</td>\n",
       "      <td>21.0</td>\n",
       "      <td>26.0</td>\n",
       "      <td>141.0</td>\n",
       "    </tr>\n",
       "    <tr>\n",
       "      <th>3</th>\n",
       "      <td>4</td>\n",
       "      <td>2</td>\n",
       "      <td>2022-08-05</td>\n",
       "      <td>4</td>\n",
       "      <td>4</td>\n",
       "      <td>1</td>\n",
       "      <td>1</td>\n",
       "      <td>4</td>\n",
       "      <td>4</td>\n",
       "      <td>4</td>\n",
       "      <td>...</td>\n",
       "      <td>NaN</td>\n",
       "      <td>NaN</td>\n",
       "      <td>NaN</td>\n",
       "      <td>NaN</td>\n",
       "      <td>NaN</td>\n",
       "      <td>NaN</td>\n",
       "      <td>NaN</td>\n",
       "      <td>NaN</td>\n",
       "      <td>NaN</td>\n",
       "      <td>NaN</td>\n",
       "    </tr>\n",
       "  </tbody>\n",
       "</table>\n",
       "<p>4 rows × 25 columns</p>\n",
       "</div>"
      ],
      "text/plain": [
       "   order_id  order_customer_id    order_ts  op_order_id  op_id_count  \\\n",
       "0         1                  1  2023-05-12            1            4   \n",
       "1         2                  1  2023-06-01            2            4   \n",
       "2         3                  2  2023-01-01            3            4   \n",
       "3         4                  2  2022-08-05            4            4   \n",
       "\n",
       "   op_id_min  op_id_max  op_id_sum  op_order_id_min  op_order_id_max  ...  \\\n",
       "0          1          1          4                1                1  ...   \n",
       "1          1          1          4                2                2  ...   \n",
       "2          1          1          4                3                3  ...   \n",
       "3          1          1          4                4                4  ...   \n",
       "\n",
       "   oe_id_count  oe_id_min  oe_id_max  oe_id_sum  oe_order_id_min  \\\n",
       "0         10.0        1.0       10.0       55.0              1.0   \n",
       "1         10.0       11.0       20.0      155.0              2.0   \n",
       "2          6.0       21.0       26.0      141.0              3.0   \n",
       "3          NaN        NaN        NaN        NaN              NaN   \n",
       "\n",
       "   oe_order_id_max  oe_order_id_sum  oe_event_id_min  oe_event_id_max  \\\n",
       "0              1.0             10.0              1.0             10.0   \n",
       "1              2.0             20.0             11.0             20.0   \n",
       "2              3.0             18.0             21.0             26.0   \n",
       "3              NaN              NaN              NaN              NaN   \n",
       "\n",
       "   oe_event_id_sum  \n",
       "0             55.0  \n",
       "1            155.0  \n",
       "2            141.0  \n",
       "3              NaN  \n",
       "\n",
       "[4 rows x 25 columns]"
      ]
     },
     "execution_count": 37,
     "metadata": {},
     "output_type": "execute_result"
    }
   ],
   "source": [
    "order.df"
   ]
  },
  {
   "cell_type": "code",
   "execution_count": 38,
   "id": "1b4b94e3",
   "metadata": {},
   "outputs": [
    {
     "data": {
      "text/html": [
       "<div>\n",
       "<style scoped>\n",
       "    .dataframe tbody tr th:only-of-type {\n",
       "        vertical-align: middle;\n",
       "    }\n",
       "\n",
       "    .dataframe tbody tr th {\n",
       "        vertical-align: top;\n",
       "    }\n",
       "\n",
       "    .dataframe thead th {\n",
       "        text-align: right;\n",
       "    }\n",
       "</style>\n",
       "<table border=\"1\" class=\"dataframe\">\n",
       "  <thead>\n",
       "    <tr style=\"text-align: right;\">\n",
       "      <th></th>\n",
       "      <th>op_id</th>\n",
       "      <th>op_order_id</th>\n",
       "      <th>op_product_id</th>\n",
       "    </tr>\n",
       "  </thead>\n",
       "  <tbody>\n",
       "    <tr>\n",
       "      <th>0</th>\n",
       "      <td>1</td>\n",
       "      <td>1</td>\n",
       "      <td>1</td>\n",
       "    </tr>\n",
       "    <tr>\n",
       "      <th>1</th>\n",
       "      <td>1</td>\n",
       "      <td>1</td>\n",
       "      <td>2</td>\n",
       "    </tr>\n",
       "    <tr>\n",
       "      <th>2</th>\n",
       "      <td>1</td>\n",
       "      <td>1</td>\n",
       "      <td>3</td>\n",
       "    </tr>\n",
       "    <tr>\n",
       "      <th>3</th>\n",
       "      <td>1</td>\n",
       "      <td>1</td>\n",
       "      <td>4</td>\n",
       "    </tr>\n",
       "    <tr>\n",
       "      <th>4</th>\n",
       "      <td>1</td>\n",
       "      <td>2</td>\n",
       "      <td>1</td>\n",
       "    </tr>\n",
       "    <tr>\n",
       "      <th>5</th>\n",
       "      <td>1</td>\n",
       "      <td>2</td>\n",
       "      <td>2</td>\n",
       "    </tr>\n",
       "    <tr>\n",
       "      <th>6</th>\n",
       "      <td>1</td>\n",
       "      <td>2</td>\n",
       "      <td>3</td>\n",
       "    </tr>\n",
       "    <tr>\n",
       "      <th>7</th>\n",
       "      <td>1</td>\n",
       "      <td>2</td>\n",
       "      <td>4</td>\n",
       "    </tr>\n",
       "    <tr>\n",
       "      <th>8</th>\n",
       "      <td>1</td>\n",
       "      <td>3</td>\n",
       "      <td>1</td>\n",
       "    </tr>\n",
       "    <tr>\n",
       "      <th>9</th>\n",
       "      <td>1</td>\n",
       "      <td>3</td>\n",
       "      <td>2</td>\n",
       "    </tr>\n",
       "    <tr>\n",
       "      <th>10</th>\n",
       "      <td>1</td>\n",
       "      <td>3</td>\n",
       "      <td>3</td>\n",
       "    </tr>\n",
       "    <tr>\n",
       "      <th>11</th>\n",
       "      <td>1</td>\n",
       "      <td>3</td>\n",
       "      <td>4</td>\n",
       "    </tr>\n",
       "    <tr>\n",
       "      <th>12</th>\n",
       "      <td>1</td>\n",
       "      <td>4</td>\n",
       "      <td>1</td>\n",
       "    </tr>\n",
       "    <tr>\n",
       "      <th>13</th>\n",
       "      <td>1</td>\n",
       "      <td>4</td>\n",
       "      <td>2</td>\n",
       "    </tr>\n",
       "    <tr>\n",
       "      <th>14</th>\n",
       "      <td>1</td>\n",
       "      <td>4</td>\n",
       "      <td>3</td>\n",
       "    </tr>\n",
       "    <tr>\n",
       "      <th>15</th>\n",
       "      <td>1</td>\n",
       "      <td>4</td>\n",
       "      <td>4</td>\n",
       "    </tr>\n",
       "  </tbody>\n",
       "</table>\n",
       "</div>"
      ],
      "text/plain": [
       "    op_id  op_order_id  op_product_id\n",
       "0       1            1              1\n",
       "1       1            1              2\n",
       "2       1            1              3\n",
       "3       1            1              4\n",
       "4       1            2              1\n",
       "5       1            2              2\n",
       "6       1            2              3\n",
       "7       1            2              4\n",
       "8       1            3              1\n",
       "9       1            3              2\n",
       "10      1            3              3\n",
       "11      1            3              4\n",
       "12      1            4              1\n",
       "13      1            4              2\n",
       "14      1            4              3\n",
       "15      1            4              4"
      ]
     },
     "execution_count": 38,
     "metadata": {},
     "output_type": "execute_result"
    }
   ],
   "source": [
    "gr.get_children(order)[0].df"
   ]
  },
  {
   "cell_type": "code",
   "execution_count": 39,
   "id": "f707435d",
   "metadata": {},
   "outputs": [
    {
     "data": {
      "text/plain": [
       "Index(['op_id', 'op_order_id', 'op_product_id'], dtype='object')"
      ]
     },
     "execution_count": 39,
     "metadata": {},
     "output_type": "execute_result"
    }
   ],
   "source": [
    "gr.get_children(order)[0].df.columns\n"
   ]
  },
  {
   "cell_type": "code",
   "execution_count": 40,
   "id": "98bbb925",
   "metadata": {},
   "outputs": [
    {
     "name": "stdout",
     "output_type": "stream",
     "text": [
      "<class 'pandas.core.frame.DataFrame'>\n",
      "RangeIndex: 16 entries, 0 to 15\n",
      "Data columns (total 3 columns):\n",
      " #   Column         Non-Null Count  Dtype\n",
      "---  ------         --------------  -----\n",
      " 0   op_id          16 non-null     int64\n",
      " 1   op_order_id    16 non-null     int64\n",
      " 2   op_product_id  16 non-null     int64\n",
      "dtypes: int64(3)\n",
      "memory usage: 512.0 bytes\n"
     ]
    }
   ],
   "source": [
    "gr.get_children(order)[0].df.info()"
   ]
  },
  {
   "cell_type": "code",
   "execution_count": 41,
   "id": "df8d4063",
   "metadata": {},
   "outputs": [
    {
     "data": {
      "text/html": [
       "<div>\n",
       "<style scoped>\n",
       "    .dataframe tbody tr th:only-of-type {\n",
       "        vertical-align: middle;\n",
       "    }\n",
       "\n",
       "    .dataframe tbody tr th {\n",
       "        vertical-align: top;\n",
       "    }\n",
       "\n",
       "    .dataframe thead th {\n",
       "        text-align: right;\n",
       "    }\n",
       "</style>\n",
       "<table border=\"1\" class=\"dataframe\">\n",
       "  <thead>\n",
       "    <tr style=\"text-align: right;\">\n",
       "      <th></th>\n",
       "      <th>order_id</th>\n",
       "      <th>order_customer_id</th>\n",
       "      <th>order_ts</th>\n",
       "      <th>op_order_id</th>\n",
       "      <th>op_id_count</th>\n",
       "      <th>op_id_min</th>\n",
       "      <th>op_id_max</th>\n",
       "      <th>op_id_sum</th>\n",
       "      <th>op_order_id_min</th>\n",
       "      <th>op_order_id_max</th>\n",
       "      <th>...</th>\n",
       "      <th>oe_id_count</th>\n",
       "      <th>oe_id_min</th>\n",
       "      <th>oe_id_max</th>\n",
       "      <th>oe_id_sum</th>\n",
       "      <th>oe_order_id_min</th>\n",
       "      <th>oe_order_id_max</th>\n",
       "      <th>oe_order_id_sum</th>\n",
       "      <th>oe_event_id_min</th>\n",
       "      <th>oe_event_id_max</th>\n",
       "      <th>oe_event_id_sum</th>\n",
       "    </tr>\n",
       "  </thead>\n",
       "  <tbody>\n",
       "    <tr>\n",
       "      <th>0</th>\n",
       "      <td>1</td>\n",
       "      <td>1</td>\n",
       "      <td>2023-05-12</td>\n",
       "      <td>1</td>\n",
       "      <td>4</td>\n",
       "      <td>1</td>\n",
       "      <td>1</td>\n",
       "      <td>4</td>\n",
       "      <td>1</td>\n",
       "      <td>1</td>\n",
       "      <td>...</td>\n",
       "      <td>10.0</td>\n",
       "      <td>1.0</td>\n",
       "      <td>10.0</td>\n",
       "      <td>55.0</td>\n",
       "      <td>1.0</td>\n",
       "      <td>1.0</td>\n",
       "      <td>10.0</td>\n",
       "      <td>1.0</td>\n",
       "      <td>10.0</td>\n",
       "      <td>55.0</td>\n",
       "    </tr>\n",
       "    <tr>\n",
       "      <th>1</th>\n",
       "      <td>2</td>\n",
       "      <td>1</td>\n",
       "      <td>2023-06-01</td>\n",
       "      <td>2</td>\n",
       "      <td>4</td>\n",
       "      <td>1</td>\n",
       "      <td>1</td>\n",
       "      <td>4</td>\n",
       "      <td>2</td>\n",
       "      <td>2</td>\n",
       "      <td>...</td>\n",
       "      <td>10.0</td>\n",
       "      <td>11.0</td>\n",
       "      <td>20.0</td>\n",
       "      <td>155.0</td>\n",
       "      <td>2.0</td>\n",
       "      <td>2.0</td>\n",
       "      <td>20.0</td>\n",
       "      <td>11.0</td>\n",
       "      <td>20.0</td>\n",
       "      <td>155.0</td>\n",
       "    </tr>\n",
       "    <tr>\n",
       "      <th>2</th>\n",
       "      <td>3</td>\n",
       "      <td>2</td>\n",
       "      <td>2023-01-01</td>\n",
       "      <td>3</td>\n",
       "      <td>4</td>\n",
       "      <td>1</td>\n",
       "      <td>1</td>\n",
       "      <td>4</td>\n",
       "      <td>3</td>\n",
       "      <td>3</td>\n",
       "      <td>...</td>\n",
       "      <td>6.0</td>\n",
       "      <td>21.0</td>\n",
       "      <td>26.0</td>\n",
       "      <td>141.0</td>\n",
       "      <td>3.0</td>\n",
       "      <td>3.0</td>\n",
       "      <td>18.0</td>\n",
       "      <td>21.0</td>\n",
       "      <td>26.0</td>\n",
       "      <td>141.0</td>\n",
       "    </tr>\n",
       "    <tr>\n",
       "      <th>3</th>\n",
       "      <td>4</td>\n",
       "      <td>2</td>\n",
       "      <td>2022-08-05</td>\n",
       "      <td>4</td>\n",
       "      <td>4</td>\n",
       "      <td>1</td>\n",
       "      <td>1</td>\n",
       "      <td>4</td>\n",
       "      <td>4</td>\n",
       "      <td>4</td>\n",
       "      <td>...</td>\n",
       "      <td>NaN</td>\n",
       "      <td>NaN</td>\n",
       "      <td>NaN</td>\n",
       "      <td>NaN</td>\n",
       "      <td>NaN</td>\n",
       "      <td>NaN</td>\n",
       "      <td>NaN</td>\n",
       "      <td>NaN</td>\n",
       "      <td>NaN</td>\n",
       "      <td>NaN</td>\n",
       "    </tr>\n",
       "  </tbody>\n",
       "</table>\n",
       "<p>4 rows × 25 columns</p>\n",
       "</div>"
      ],
      "text/plain": [
       "   order_id  order_customer_id    order_ts  op_order_id  op_id_count  \\\n",
       "0         1                  1  2023-05-12            1            4   \n",
       "1         2                  1  2023-06-01            2            4   \n",
       "2         3                  2  2023-01-01            3            4   \n",
       "3         4                  2  2022-08-05            4            4   \n",
       "\n",
       "   op_id_min  op_id_max  op_id_sum  op_order_id_min  op_order_id_max  ...  \\\n",
       "0          1          1          4                1                1  ...   \n",
       "1          1          1          4                2                2  ...   \n",
       "2          1          1          4                3                3  ...   \n",
       "3          1          1          4                4                4  ...   \n",
       "\n",
       "   oe_id_count  oe_id_min  oe_id_max  oe_id_sum  oe_order_id_min  \\\n",
       "0         10.0        1.0       10.0       55.0              1.0   \n",
       "1         10.0       11.0       20.0      155.0              2.0   \n",
       "2          6.0       21.0       26.0      141.0              3.0   \n",
       "3          NaN        NaN        NaN        NaN              NaN   \n",
       "\n",
       "   oe_order_id_max  oe_order_id_sum  oe_event_id_min  oe_event_id_max  \\\n",
       "0              1.0             10.0              1.0             10.0   \n",
       "1              2.0             20.0             11.0             20.0   \n",
       "2              3.0             18.0             21.0             26.0   \n",
       "3              NaN              NaN              NaN              NaN   \n",
       "\n",
       "   oe_event_id_sum  \n",
       "0             55.0  \n",
       "1            155.0  \n",
       "2            141.0  \n",
       "3              NaN  \n",
       "\n",
       "[4 rows x 25 columns]"
      ]
     },
     "execution_count": 41,
     "metadata": {},
     "output_type": "execute_result"
    }
   ],
   "source": [
    "order.df"
   ]
  },
  {
   "cell_type": "code",
   "execution_count": 42,
   "id": "bb92d0f8",
   "metadata": {},
   "outputs": [
    {
     "data": {
      "text/plain": [
       "order_id               int64\n",
       "order_customer_id      int64\n",
       "order_ts              object\n",
       "op_order_id            int64\n",
       "op_id_count            int64\n",
       "op_id_min              int64\n",
       "op_id_max              int64\n",
       "op_id_sum              int64\n",
       "op_order_id_min        int64\n",
       "op_order_id_max        int64\n",
       "op_order_id_sum        int64\n",
       "op_product_id_min      int64\n",
       "op_product_id_max      int64\n",
       "op_product_id_sum      int64\n",
       "oe_order_id          float64\n",
       "oe_id_count          float64\n",
       "oe_id_min            float64\n",
       "oe_id_max            float64\n",
       "oe_id_sum            float64\n",
       "oe_order_id_min      float64\n",
       "oe_order_id_max      float64\n",
       "oe_order_id_sum      float64\n",
       "oe_event_id_min      float64\n",
       "oe_event_id_max      float64\n",
       "oe_event_id_sum      float64\n",
       "dtype: object"
      ]
     },
     "execution_count": 42,
     "metadata": {},
     "output_type": "execute_result"
    }
   ],
   "source": [
    "order.df.dtypes"
   ]
  },
  {
   "cell_type": "code",
   "execution_count": 43,
   "id": "92f81b87",
   "metadata": {},
   "outputs": [],
   "source": [
    "type_func = {'int' : ['min','max']}\n",
    "cols = ['a', 'b', 'c']"
   ]
  },
  {
   "cell_type": "code",
   "execution_count": 44,
   "id": "bd619c77",
   "metadata": {},
   "outputs": [
    {
     "data": {
      "text/plain": [
       "<__main__.OrderNode at 0x131356850>"
      ]
     },
     "execution_count": 44,
     "metadata": {},
     "output_type": "execute_result"
    }
   ],
   "source": [
    "order"
   ]
  },
  {
   "cell_type": "code",
   "execution_count": 45,
   "id": "37258cdb",
   "metadata": {},
   "outputs": [
    {
     "name": "stdout",
     "output_type": "stream",
     "text": [
      "<class 'pandas.core.frame.DataFrame'>\n",
      "Int64Index: 4 entries, 0 to 3\n",
      "Data columns (total 25 columns):\n",
      " #   Column             Non-Null Count  Dtype  \n",
      "---  ------             --------------  -----  \n",
      " 0   order_id           4 non-null      int64  \n",
      " 1   order_customer_id  4 non-null      int64  \n",
      " 2   order_ts           4 non-null      object \n",
      " 3   op_order_id        4 non-null      int64  \n",
      " 4   op_id_count        4 non-null      int64  \n",
      " 5   op_id_min          4 non-null      int64  \n",
      " 6   op_id_max          4 non-null      int64  \n",
      " 7   op_id_sum          4 non-null      int64  \n",
      " 8   op_order_id_min    4 non-null      int64  \n",
      " 9   op_order_id_max    4 non-null      int64  \n",
      " 10  op_order_id_sum    4 non-null      int64  \n",
      " 11  op_product_id_min  4 non-null      int64  \n",
      " 12  op_product_id_max  4 non-null      int64  \n",
      " 13  op_product_id_sum  4 non-null      int64  \n",
      " 14  oe_order_id        3 non-null      float64\n",
      " 15  oe_id_count        3 non-null      float64\n",
      " 16  oe_id_min          3 non-null      float64\n",
      " 17  oe_id_max          3 non-null      float64\n",
      " 18  oe_id_sum          3 non-null      float64\n",
      " 19  oe_order_id_min    3 non-null      float64\n",
      " 20  oe_order_id_max    3 non-null      float64\n",
      " 21  oe_order_id_sum    3 non-null      float64\n",
      " 22  oe_event_id_min    3 non-null      float64\n",
      " 23  oe_event_id_max    3 non-null      float64\n",
      " 24  oe_event_id_sum    3 non-null      float64\n",
      "dtypes: float64(11), int64(13), object(1)\n",
      "memory usage: 832.0+ bytes\n"
     ]
    }
   ],
   "source": [
    "order.df.info()"
   ]
  },
  {
   "cell_type": "code",
   "execution_count": 46,
   "id": "980e753b",
   "metadata": {
    "scrolled": true
   },
   "outputs": [],
   "source": [
    "vals = dict(order.df.dtypes)"
   ]
  },
  {
   "cell_type": "code",
   "execution_count": 47,
   "id": "e9589790",
   "metadata": {},
   "outputs": [
    {
     "data": {
      "text/plain": [
       "{'order_id': dtype('int64'),\n",
       " 'order_customer_id': dtype('int64'),\n",
       " 'order_ts': dtype('O'),\n",
       " 'op_order_id': dtype('int64'),\n",
       " 'op_id_count': dtype('int64'),\n",
       " 'op_id_min': dtype('int64'),\n",
       " 'op_id_max': dtype('int64'),\n",
       " 'op_id_sum': dtype('int64'),\n",
       " 'op_order_id_min': dtype('int64'),\n",
       " 'op_order_id_max': dtype('int64'),\n",
       " 'op_order_id_sum': dtype('int64'),\n",
       " 'op_product_id_min': dtype('int64'),\n",
       " 'op_product_id_max': dtype('int64'),\n",
       " 'op_product_id_sum': dtype('int64'),\n",
       " 'oe_order_id': dtype('float64'),\n",
       " 'oe_id_count': dtype('float64'),\n",
       " 'oe_id_min': dtype('float64'),\n",
       " 'oe_id_max': dtype('float64'),\n",
       " 'oe_id_sum': dtype('float64'),\n",
       " 'oe_order_id_min': dtype('float64'),\n",
       " 'oe_order_id_max': dtype('float64'),\n",
       " 'oe_order_id_sum': dtype('float64'),\n",
       " 'oe_event_id_min': dtype('float64'),\n",
       " 'oe_event_id_max': dtype('float64'),\n",
       " 'oe_event_id_sum': dtype('float64')}"
      ]
     },
     "execution_count": 47,
     "metadata": {},
     "output_type": "execute_result"
    }
   ],
   "source": [
    "vals"
   ]
  },
  {
   "cell_type": "code",
   "execution_count": 48,
   "id": "3642d49a",
   "metadata": {},
   "outputs": [
    {
     "data": {
      "text/plain": [
       "'int64'"
      ]
     },
     "execution_count": 48,
     "metadata": {},
     "output_type": "execute_result"
    }
   ],
   "source": [
    "str(vals['order_id'])"
   ]
  },
  {
   "cell_type": "code",
   "execution_count": null,
   "id": "eb491a2e",
   "metadata": {},
   "outputs": [],
   "source": []
  }
 ],
 "metadata": {
  "kernelspec": {
   "display_name": "Python 3 (ipykernel)",
   "language": "python",
   "name": "python3"
  },
  "language_info": {
   "codemirror_mode": {
    "name": "ipython",
    "version": 3
   },
   "file_extension": ".py",
   "mimetype": "text/x-python",
   "name": "python",
   "nbconvert_exporter": "python",
   "pygments_lexer": "ipython3",
   "version": "3.9.16"
  }
 },
 "nbformat": 4,
 "nbformat_minor": 5
}

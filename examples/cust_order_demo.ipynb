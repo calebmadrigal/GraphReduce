{
 "cells": [
  {
   "cell_type": "code",
   "execution_count": 133,
   "id": "80a73726",
   "metadata": {},
   "outputs": [],
   "source": [
    "# machine learning week demo of GraphReduce"
   ]
  },
  {
   "cell_type": "code",
   "execution_count": 134,
   "id": "3cf00278",
   "metadata": {},
   "outputs": [],
   "source": [
    "import pandas as pd\n",
    "import datetime\n",
    "import pyvis\n",
    "\n",
    "\n",
    "\n",
    "from graphreduce.node import GraphReduceNode\n",
    "from graphreduce.enum import ComputeLayerEnum, PeriodUnit\n",
    "from graphreduce.graph_reduce import GraphReduce"
   ]
  },
  {
   "cell_type": "markdown",
   "id": "3b8e052d",
   "metadata": {},
   "source": [
    "# abstract classes enforce the definition \n",
    "# of certain functions to adhere to convention"
   ]
  },
  {
   "cell_type": "code",
   "execution_count": null,
   "id": "5cc40139",
   "metadata": {},
   "outputs": [],
   "source": []
  },
  {
   "cell_type": "code",
   "execution_count": null,
   "id": "b77c1da2",
   "metadata": {},
   "outputs": [],
   "source": []
  },
  {
   "cell_type": "code",
   "execution_count": 135,
   "id": "4c4f458e",
   "metadata": {},
   "outputs": [],
   "source": [
    "class CustomerNode(GraphReduceNode):\n",
    "    def do_annotate(self):\n",
    "        pass\n",
    "    \n",
    "    def do_filters(self):\n",
    "        pass\n",
    "    \n",
    "    def do_clip_cols(self):\n",
    "        pass\n",
    "    \n",
    "    def do_slice_data(self):\n",
    "        pass\n",
    "    \n",
    "    def do_post_join_annotate(self):\n",
    "        pass\n",
    "    \n",
    "    def do_reduce(self, reduce_key):\n",
    "        pass\n",
    "    \n",
    "    def do_labels(self, reduce_key):\n",
    "        pass"
   ]
  },
  {
   "cell_type": "code",
   "execution_count": 136,
   "id": "49de12f7",
   "metadata": {},
   "outputs": [],
   "source": [
    "class OrderNode(GraphReduceNode):\n",
    "    def do_annotate(self):\n",
    "        pass\n",
    "    \n",
    "    def do_filters(self):\n",
    "        pass\n",
    "    \n",
    "    def do_clip_cols(self):\n",
    "        pass\n",
    "    \n",
    "    def do_slice_data(self):\n",
    "        pass\n",
    "    \n",
    "    def do_post_join_annotate(self):\n",
    "        pass\n",
    "    \n",
    "    def do_reduce(self, reduce_key):\n",
    "        return self.prep_for_features().groupby(self.colabbr(reduce_key)).agg(\n",
    "            **{\n",
    "                self.colabbr(f'{self.pk}_count') : pd.NamedAgg(column=self.colabbr(self.pk), aggfunc='count')\n",
    "            }\n",
    "        ).reset_index()\n",
    "    \n",
    "    def do_labels(self, key):\n",
    "        pass"
   ]
  },
  {
   "cell_type": "code",
   "execution_count": 137,
   "id": "aeb5195a",
   "metadata": {},
   "outputs": [],
   "source": [
    "class OrderProductNode(GraphReduceNode):\n",
    "    def do_annotate(self):\n",
    "        pass\n",
    "    \n",
    "    def do_filters(self):\n",
    "        pass\n",
    "    \n",
    "    def do_clip_cols(self):\n",
    "        pass\n",
    "    \n",
    "    def do_slice_data(self):\n",
    "        pass\n",
    "    \n",
    "    def do_post_join_annotate(self):\n",
    "        pass\n",
    "    \n",
    "    def do_reduce(self, reduce_key):\n",
    "        return self.prep_for_features().groupby(self.colabbr(reduce_key)).agg(\n",
    "            **{\n",
    "                self.colabbr(f'{self.pk}_count') : pd.NamedAgg(column=self.colabbr(self.pk), aggfunc='count')\n",
    "            }\n",
    "        ).reset_index()\n",
    "    \n",
    "    def do_labels(self, key):\n",
    "        pass"
   ]
  },
  {
   "cell_type": "code",
   "execution_count": 138,
   "id": "e55011a6",
   "metadata": {},
   "outputs": [],
   "source": [
    "class OrderEventNode(GraphReduceNode):\n",
    "    def do_annotate(self):\n",
    "        pass\n",
    "    \n",
    "    def do_filters(self):\n",
    "        pass\n",
    "    \n",
    "    def do_clip_cols(self):\n",
    "        pass\n",
    "    \n",
    "    def do_slice_data(self):\n",
    "        pass\n",
    "    \n",
    "    def do_post_join_annotate(self):\n",
    "        pass\n",
    "    \n",
    "    def do_reduce(self, reduce_key):\n",
    "        return self.prep_for_features().groupby(self.colabbr(reduce_key)).agg(\n",
    "            **{\n",
    "                self.colabbr(f'{self.pk}_count') : pd.NamedAgg(column=self.colabbr(self.pk), aggfunc='count')\n",
    "            }\n",
    "        ).reset_index()\n",
    "    \n",
    "    def do_labels(self, key):\n",
    "        pass"
   ]
  },
  {
   "cell_type": "code",
   "execution_count": 139,
   "id": "2226ffa1",
   "metadata": {},
   "outputs": [],
   "source": [
    "class NotificationNode(GraphReduceNode):\n",
    "    def do_annotate(self):\n",
    "        pass\n",
    "    \n",
    "    def do_filters(self):\n",
    "        pass\n",
    "    \n",
    "    def do_clip_cols(self):\n",
    "        pass\n",
    "    \n",
    "    def do_slice_data(self):\n",
    "        pass\n",
    "    \n",
    "    def do_post_join_annotate(self):\n",
    "        pass\n",
    "    \n",
    "    def do_reduce(self, reduce_key):\n",
    "        df = self.prep_for_features().groupby(self.colabbr(reduce_key)).agg(\n",
    "            **{\n",
    "                self.colabbr(f'{self.pk}_count') : pd.NamedAgg(column=self.colabbr(self.pk), aggfunc='count'),\n",
    "                'ni_num_notification_interactions' : pd.NamedAgg(column='ni_num_interactions', aggfunc='sum')\n",
    "            }\n",
    "        ).reset_index()\n",
    "        return df\n",
    "        \n",
    "    \n",
    "    def do_labels(self, key):\n",
    "        pass"
   ]
  },
  {
   "cell_type": "code",
   "execution_count": 140,
   "id": "a94f23e6",
   "metadata": {},
   "outputs": [],
   "source": [
    "class NotificationInteractionNode(GraphReduceNode):\n",
    "    def do_annotate(self):\n",
    "        self.df[self.colabbr(self.date_key)] = self.df[self.colabbr(self.date_key)].apply(\n",
    "            lambda x: datetime.datetime.strptime(x, '%Y-%m-%d'))\n",
    "    \n",
    "    def do_filters(self):\n",
    "        pass\n",
    "    \n",
    "    def do_clip_cols(self):\n",
    "        pass\n",
    "    \n",
    "    def do_slice_data(self):\n",
    "        pass\n",
    "    \n",
    "    def do_post_join_annotate(self):\n",
    "        pass\n",
    "    \n",
    "    def do_reduce(self, reduce_key):\n",
    "        print(f\"reduce key: {reduce_key}\")\n",
    "        return self.prep_for_features().groupby(self.colabbr(reduce_key)).agg(\n",
    "            **{\n",
    "                self.colabbr(f'{self.pk}_counts') : pd.NamedAgg(column=self.colabbr(self.pk), aggfunc='count'),\n",
    "                self.colabbr(f'{self.pk}_min') : pd.NamedAgg(column=self.colabbr(self.pk), aggfunc='min'),\n",
    "                self.colabbr(f'{self.pk}_min'): pd.NamedAgg(column=self.colabbr(self.pk), aggfunc='max'),\n",
    "                self.colabbr(f'num_interactions') : pd.NamedAgg(column=self.colabbr(self.pk), aggfunc='count'),\n",
    "\n",
    "            }\n",
    "        ).reset_index()\n",
    "    \n",
    "    def do_labels(self, reduce_key):\n",
    "        label_df = self.prep_for_labels().groupby(self.colabbr(reduce_key)).agg(\n",
    "            **{\n",
    "                # add a label / target for a model predicting the number of interactions\n",
    "                self.colabbr(f'{self.pk}_num_interactions') : pd.NamedAgg(column=self.colabbr(self.pk), aggfunc='count'),\n",
    "            }\n",
    "        ).reset_index()\n",
    "        return label_df"
   ]
  },
  {
   "cell_type": "code",
   "execution_count": 141,
   "id": "6979e26a",
   "metadata": {},
   "outputs": [],
   "source": [
    "cust = CustomerNode(pk='id', prefix='cust',fpath='dat/cust.csv', fmt='csv', compute_layer=ComputeLayerEnum.pandas)\n",
    "order = OrderNode(pk='id', prefix='order', fpath='dat/orders.csv', fmt='csv',compute_layer=ComputeLayerEnum.pandas)\n",
    "order_event = OrderEventNode(pk='id', prefix='oe',fpath='dat/order_events.csv', fmt='csv',compute_layer=ComputeLayerEnum.pandas)\n",
    "order_product = OrderProductNode(pk='id', prefix='op',fpath='dat/order_products.csv', fmt='csv',compute_layer=ComputeLayerEnum.pandas)\n",
    "notification = NotificationNode(pk='id', prefix='no', fpath='dat/notifications.csv', fmt='csv',compute_layer=ComputeLayerEnum.pandas)\n",
    "notification_interaction = NotificationInteractionNode(pk='id', prefix='ni',fpath='dat/notification_interactions.csv', fmt='csv',compute_layer=ComputeLayerEnum.pandas,\n",
    "                                                      date_key='ts')\n",
    "\n"
   ]
  },
  {
   "cell_type": "markdown",
   "id": "41a6036d",
   "metadata": {},
   "source": [
    "## graph reduce abstracts the orchestration of compute\n",
    "## across the graph, and thigns like depth-first\n",
    "## traversal for hierarchical rollups\n"
   ]
  },
  {
   "cell_type": "code",
   "execution_count": 142,
   "id": "96da8616",
   "metadata": {},
   "outputs": [],
   "source": [
    "gr = GraphReduce(\n",
    "    cut_date=datetime.datetime(2023, 5, 6),\n",
    "    compute_period_val=365,\n",
    "    compute_period_unit=PeriodUnit.day,\n",
    "    parent_node=cust,\n",
    "    compute_layer=ComputeLayerEnum.pandas,\n",
    "    has_labels=True,\n",
    "    label_period_val=30,\n",
    "    label_period_unit=PeriodUnit.day\n",
    ")"
   ]
  },
  {
   "cell_type": "code",
   "execution_count": 143,
   "id": "e239ccd3",
   "metadata": {},
   "outputs": [],
   "source": [
    "gr.add_node(cust)\n",
    "gr.add_node(order)\n",
    "gr.add_node(order_event)\n",
    "gr.add_node(order_product)\n",
    "gr.add_node(notification)\n",
    "gr.add_node(notification_interaction)"
   ]
  },
  {
   "cell_type": "code",
   "execution_count": 144,
   "id": "8910bcc8",
   "metadata": {},
   "outputs": [
    {
     "name": "stdout",
     "output_type": "stream",
     "text": [
      "\u001b[2m2023-06-20 15:31:57\u001b[0m [\u001b[32m\u001b[1minfo     \u001b[0m] \u001b[1mhydrating attributes for CustomerNode\u001b[0m\n",
      "\u001b[2m2023-06-20 15:31:57\u001b[0m [\u001b[32m\u001b[1minfo     \u001b[0m] \u001b[1mhydrating attributes for OrderNode\u001b[0m\n",
      "\u001b[2m2023-06-20 15:31:57\u001b[0m [\u001b[32m\u001b[1minfo     \u001b[0m] \u001b[1mhydrating attributes for OrderEventNode\u001b[0m\n",
      "\u001b[2m2023-06-20 15:31:57\u001b[0m [\u001b[32m\u001b[1minfo     \u001b[0m] \u001b[1mhydrating attributes for OrderProductNode\u001b[0m\n",
      "\u001b[2m2023-06-20 15:31:57\u001b[0m [\u001b[32m\u001b[1minfo     \u001b[0m] \u001b[1mhydrating attributes for NotificationNode\u001b[0m\n",
      "\u001b[2m2023-06-20 15:31:57\u001b[0m [\u001b[32m\u001b[1minfo     \u001b[0m] \u001b[1mhydrating attributes for NotificationInteractionNode\u001b[0m\n"
     ]
    }
   ],
   "source": [
    "gr.hydrate_graph_attrs()"
   ]
  },
  {
   "cell_type": "code",
   "execution_count": null,
   "id": "4a7b43d9",
   "metadata": {},
   "outputs": [],
   "source": []
  },
  {
   "cell_type": "code",
   "execution_count": null,
   "id": "030ecdb8",
   "metadata": {},
   "outputs": [],
   "source": []
  },
  {
   "cell_type": "code",
   "execution_count": 145,
   "id": "95e883d8",
   "metadata": {},
   "outputs": [
    {
     "data": {
      "text/plain": [
       "NodeView((<__main__.CustomerNode object at 0x1519c7dc0>, <__main__.OrderNode object at 0x1519c7a90>, <__main__.OrderEventNode object at 0x1520fc520>, <__main__.OrderProductNode object at 0x1519c7c40>, <__main__.NotificationNode object at 0x1520fc6d0>, <__main__.NotificationInteractionNode object at 0x1520fce20>))"
      ]
     },
     "execution_count": 145,
     "metadata": {},
     "output_type": "execute_result"
    }
   ],
   "source": [
    "gr.nodes()"
   ]
  },
  {
   "cell_type": "code",
   "execution_count": 146,
   "id": "d7e7646e",
   "metadata": {},
   "outputs": [
    {
     "name": "stdout",
     "output_type": "stream",
     "text": [
      "Help on method add_entity_edge in module graphreduce.graph_reduce:\n",
      "\n",
      "add_entity_edge(parent_node: graphreduce.node.GraphReduceNode, relation_node: graphreduce.node.GraphReduceNode, parent_key: str, relation_key: str, relation_type: str = 'parent_child', reduce: bool = True) method of graphreduce.graph_reduce.GraphReduce instance\n",
      "    Add an entity relation\n",
      "\n"
     ]
    }
   ],
   "source": [
    "help(gr.add_entity_edge)"
   ]
  },
  {
   "cell_type": "code",
   "execution_count": 147,
   "id": "9b9300c0",
   "metadata": {},
   "outputs": [],
   "source": [
    "gr.add_entity_edge(\n",
    "    parent_node=cust,\n",
    "    relation_node=order,\n",
    "    parent_key='id',\n",
    "    relation_key='customer_id',\n",
    "    relation_type='parent_child',\n",
    "    reduce=True\n",
    ")"
   ]
  },
  {
   "cell_type": "code",
   "execution_count": 148,
   "id": "cc95344a",
   "metadata": {},
   "outputs": [],
   "source": [
    "gr.add_entity_edge(\n",
    "    parent_node=cust,\n",
    "    relation_node=notification,\n",
    "    parent_key='id',\n",
    "    relation_key='customer_id',\n",
    "    relation_type='parent_child',\n",
    "    reduce=True\n",
    ")"
   ]
  },
  {
   "cell_type": "code",
   "execution_count": 149,
   "id": "c13f0b51",
   "metadata": {},
   "outputs": [],
   "source": [
    "gr.add_entity_edge(\n",
    "    parent_node=order,\n",
    "    relation_node=order_event,\n",
    "    parent_key='id',\n",
    "    relation_key='order_id',\n",
    "    relation_type='parent_child',\n",
    "    reduce=True\n",
    ")"
   ]
  },
  {
   "cell_type": "code",
   "execution_count": 150,
   "id": "34a7a8db",
   "metadata": {},
   "outputs": [],
   "source": [
    "gr.add_entity_edge(\n",
    "    parent_node=order,\n",
    "    relation_node=order_product,\n",
    "    parent_key='id',\n",
    "    relation_key='order_id',\n",
    "    relation_type='parent_child',\n",
    "    reduce=True\n",
    ")"
   ]
  },
  {
   "cell_type": "code",
   "execution_count": 151,
   "id": "ba8b956a",
   "metadata": {},
   "outputs": [],
   "source": [
    "gr.add_entity_edge(\n",
    "    parent_node=notification,\n",
    "    relation_node=notification_interaction,\n",
    "    parent_key='id',\n",
    "    relation_key='notification_id',\n",
    "    relation_type='parent_child',\n",
    "    reduce=True\n",
    ")"
   ]
  },
  {
   "cell_type": "code",
   "execution_count": 152,
   "id": "272d1ca0",
   "metadata": {},
   "outputs": [
    {
     "name": "stdout",
     "output_type": "stream",
     "text": [
      "\u001b[2m2023-06-20 15:31:57\u001b[0m [\u001b[32m\u001b[1minfo     \u001b[0m] \u001b[1mplotted graph at customer_graph_reduce2.html\u001b[0m\n"
     ]
    }
   ],
   "source": [
    "gr.plot_graph('customer_graph_reduce2.html', cdn_resources='in_line', notebook=True)"
   ]
  },
  {
   "cell_type": "code",
   "execution_count": 153,
   "id": "70eaeea0",
   "metadata": {},
   "outputs": [
    {
     "name": "stdout",
     "output_type": "stream",
     "text": [
      "\u001b[2m2023-06-20 15:31:57\u001b[0m [\u001b[32m\u001b[1minfo     \u001b[0m] \u001b[1mhydrating graph attributes\u001b[0m\n",
      "\u001b[2m2023-06-20 15:31:57\u001b[0m [\u001b[32m\u001b[1minfo     \u001b[0m] \u001b[1mhydrating attributes for CustomerNode\u001b[0m\n",
      "\u001b[2m2023-06-20 15:31:57\u001b[0m [\u001b[32m\u001b[1minfo     \u001b[0m] \u001b[1mhydrating attributes for OrderNode\u001b[0m\n",
      "\u001b[2m2023-06-20 15:31:57\u001b[0m [\u001b[32m\u001b[1minfo     \u001b[0m] \u001b[1mhydrating attributes for OrderEventNode\u001b[0m\n",
      "\u001b[2m2023-06-20 15:31:57\u001b[0m [\u001b[32m\u001b[1minfo     \u001b[0m] \u001b[1mhydrating attributes for OrderProductNode\u001b[0m\n",
      "\u001b[2m2023-06-20 15:31:57\u001b[0m [\u001b[32m\u001b[1minfo     \u001b[0m] \u001b[1mhydrating attributes for NotificationNode\u001b[0m\n",
      "\u001b[2m2023-06-20 15:31:57\u001b[0m [\u001b[32m\u001b[1minfo     \u001b[0m] \u001b[1mhydrating attributes for NotificationInteractionNode\u001b[0m\n",
      "\u001b[2m2023-06-20 15:31:57\u001b[0m [\u001b[32m\u001b[1minfo     \u001b[0m] \u001b[1mhydrating graph data\u001b[0m\n",
      "\u001b[2m2023-06-20 15:31:57\u001b[0m [\u001b[32m\u001b[1minfo     \u001b[0m] \u001b[1mrunning filters, clip cols, and annotations for CustomerNode\u001b[0m\n",
      "\u001b[2m2023-06-20 15:31:57\u001b[0m [\u001b[32m\u001b[1minfo     \u001b[0m] \u001b[1mrunning filters, clip cols, and annotations for OrderNode\u001b[0m\n",
      "\u001b[2m2023-06-20 15:31:57\u001b[0m [\u001b[32m\u001b[1minfo     \u001b[0m] \u001b[1mrunning filters, clip cols, and annotations for OrderEventNode\u001b[0m\n",
      "\u001b[2m2023-06-20 15:31:57\u001b[0m [\u001b[32m\u001b[1minfo     \u001b[0m] \u001b[1mrunning filters, clip cols, and annotations for OrderProductNode\u001b[0m\n",
      "\u001b[2m2023-06-20 15:31:57\u001b[0m [\u001b[32m\u001b[1minfo     \u001b[0m] \u001b[1mrunning filters, clip cols, and annotations for NotificationNode\u001b[0m\n",
      "\u001b[2m2023-06-20 15:31:57\u001b[0m [\u001b[32m\u001b[1minfo     \u001b[0m] \u001b[1mrunning filters, clip cols, and annotations for NotificationInteractionNode\u001b[0m\n",
      "\u001b[2m2023-06-20 15:31:57\u001b[0m [\u001b[32m\u001b[1minfo     \u001b[0m] \u001b[1mdepth-first traversal through the graph from source: CustomerNode\u001b[0m\n",
      "\u001b[2m2023-06-20 15:31:57\u001b[0m [\u001b[32m\u001b[1minfo     \u001b[0m] \u001b[1mreducing relation NotificationInteractionNode\u001b[0m\n",
      "reduce key: notification_id\n",
      "\u001b[2m2023-06-20 15:31:57\u001b[0m [\u001b[32m\u001b[1minfo     \u001b[0m] \u001b[1mjoining NotificationInteractionNode to NotificationNode\u001b[0m\n",
      "   ni_notification_id  ni_id_num_interactions\n",
      "0                   3                       1\n",
      "\u001b[2m2023-06-20 15:31:57\u001b[0m [\u001b[32m\u001b[1minfo     \u001b[0m] \u001b[1mreducing relation NotificationNode\u001b[0m\n",
      "\u001b[2m2023-06-20 15:31:57\u001b[0m [\u001b[32m\u001b[1minfo     \u001b[0m] \u001b[1mjoining NotificationNode to CustomerNode\u001b[0m\n",
      "\u001b[2m2023-06-20 15:31:57\u001b[0m [\u001b[32m\u001b[1minfo     \u001b[0m] \u001b[1mreducing relation OrderProductNode\u001b[0m\n",
      "\u001b[2m2023-06-20 15:31:57\u001b[0m [\u001b[32m\u001b[1minfo     \u001b[0m] \u001b[1mjoining OrderProductNode to OrderNode\u001b[0m\n",
      "\u001b[2m2023-06-20 15:31:57\u001b[0m [\u001b[32m\u001b[1minfo     \u001b[0m] \u001b[1mreducing relation OrderEventNode\u001b[0m\n",
      "\u001b[2m2023-06-20 15:31:57\u001b[0m [\u001b[32m\u001b[1minfo     \u001b[0m] \u001b[1mjoining OrderEventNode to OrderNode\u001b[0m\n",
      "\u001b[2m2023-06-20 15:31:57\u001b[0m [\u001b[32m\u001b[1minfo     \u001b[0m] \u001b[1mreducing relation OrderNode\u001b[0m\n",
      "\u001b[2m2023-06-20 15:31:57\u001b[0m [\u001b[32m\u001b[1minfo     \u001b[0m] \u001b[1mjoining OrderNode to CustomerNode\u001b[0m\n"
     ]
    }
   ],
   "source": [
    "gr.do_transformations()"
   ]
  },
  {
   "cell_type": "code",
   "execution_count": null,
   "id": "192a5199",
   "metadata": {},
   "outputs": [],
   "source": []
  },
  {
   "cell_type": "code",
   "execution_count": null,
   "id": "35ff52d2",
   "metadata": {},
   "outputs": [],
   "source": [
    "# 1) reduce\n",
    "# 2) no reduce on notification tabale\n",
    "# 3"
   ]
  },
  {
   "cell_type": "code",
   "execution_count": 159,
   "id": "c42033e3",
   "metadata": {},
   "outputs": [
    {
     "data": {
      "text/html": [
       "<div>\n",
       "<style scoped>\n",
       "    .dataframe tbody tr th:only-of-type {\n",
       "        vertical-align: middle;\n",
       "    }\n",
       "\n",
       "    .dataframe tbody tr th {\n",
       "        vertical-align: top;\n",
       "    }\n",
       "\n",
       "    .dataframe thead th {\n",
       "        text-align: right;\n",
       "    }\n",
       "</style>\n",
       "<table border=\"1\" class=\"dataframe\">\n",
       "  <thead>\n",
       "    <tr style=\"text-align: right;\">\n",
       "      <th></th>\n",
       "      <th>cust_id</th>\n",
       "      <th>cust_name</th>\n",
       "      <th>no_customer_id</th>\n",
       "      <th>no_id_count</th>\n",
       "      <th>ni_num_notification_interactions</th>\n",
       "      <th>order_customer_id</th>\n",
       "      <th>order_id_count</th>\n",
       "    </tr>\n",
       "  </thead>\n",
       "  <tbody>\n",
       "    <tr>\n",
       "      <th>0</th>\n",
       "      <td>1</td>\n",
       "      <td>wes</td>\n",
       "      <td>1</td>\n",
       "      <td>6</td>\n",
       "      <td>7.0</td>\n",
       "      <td>1</td>\n",
       "      <td>2</td>\n",
       "    </tr>\n",
       "    <tr>\n",
       "      <th>1</th>\n",
       "      <td>2</td>\n",
       "      <td>john</td>\n",
       "      <td>2</td>\n",
       "      <td>7</td>\n",
       "      <td>0.0</td>\n",
       "      <td>2</td>\n",
       "      <td>2</td>\n",
       "    </tr>\n",
       "  </tbody>\n",
       "</table>\n",
       "</div>"
      ],
      "text/plain": [
       "   cust_id cust_name  no_customer_id  no_id_count  \\\n",
       "0        1       wes               1            6   \n",
       "1        2      john               2            7   \n",
       "\n",
       "   ni_num_notification_interactions  order_customer_id  order_id_count  \n",
       "0                               7.0                  1               2  \n",
       "1                               0.0                  2               2  "
      ]
     },
     "execution_count": 159,
     "metadata": {},
     "output_type": "execute_result"
    }
   ],
   "source": [
    "gr.parent.df"
   ]
  },
  {
   "cell_type": "code",
   "execution_count": 160,
   "id": "5de1d7bc",
   "metadata": {},
   "outputs": [
    {
     "data": {
      "text/plain": [
       "2"
      ]
     },
     "execution_count": 160,
     "metadata": {},
     "output_type": "execute_result"
    }
   ],
   "source": [
    "len(gr.parent.df)"
   ]
  },
  {
   "cell_type": "code",
   "execution_count": 161,
   "id": "c939b461",
   "metadata": {},
   "outputs": [
    {
     "data": {
      "text/plain": [
       "[<__main__.NotificationInteractionNode at 0x1520fce20>,\n",
       " <__main__.NotificationNode at 0x1520fc6d0>,\n",
       " <__main__.OrderProductNode at 0x1519c7c40>,\n",
       " <__main__.OrderEventNode at 0x1520fc520>,\n",
       " <__main__.OrderNode at 0x1519c7a90>]"
      ]
     },
     "execution_count": 161,
     "metadata": {},
     "output_type": "execute_result"
    }
   ],
   "source": [
    "gr.get_children(gr.parent)"
   ]
  },
  {
   "cell_type": "code",
   "execution_count": 162,
   "id": "c32687f7",
   "metadata": {},
   "outputs": [],
   "source": [
    "import networkx as nx"
   ]
  },
  {
   "cell_type": "code",
   "execution_count": 163,
   "id": "135ecb3c",
   "metadata": {},
   "outputs": [
    {
     "data": {
      "text/plain": [
       "<function networkx.algorithms.traversal.depth_first_search.dfs_edges(G, source=None, depth_limit=None)>"
      ]
     },
     "execution_count": 163,
     "metadata": {},
     "output_type": "execute_result"
    }
   ],
   "source": [
    "nx.dfs_edges"
   ]
  },
  {
   "cell_type": "code",
   "execution_count": 164,
   "id": "7bb38e06",
   "metadata": {},
   "outputs": [
    {
     "data": {
      "text/plain": [
       "[<__main__.CustomerNode at 0x1519c7dc0>,\n",
       " <__main__.OrderNode at 0x1519c7a90>,\n",
       " <__main__.OrderEventNode at 0x1520fc520>,\n",
       " <__main__.OrderProductNode at 0x1519c7c40>,\n",
       " <__main__.NotificationNode at 0x1520fc6d0>,\n",
       " <__main__.NotificationInteractionNode at 0x1520fce20>]"
      ]
     },
     "execution_count": 164,
     "metadata": {},
     "output_type": "execute_result"
    }
   ],
   "source": [
    "list(nx.dfs_preorder_nodes(gr, source=gr.parent))"
   ]
  },
  {
   "cell_type": "code",
   "execution_count": 165,
   "id": "a6adb216",
   "metadata": {},
   "outputs": [
    {
     "data": {
      "text/plain": [
       "<__main__.OrderNode at 0x1519c7a90>"
      ]
     },
     "execution_count": 165,
     "metadata": {},
     "output_type": "execute_result"
    }
   ],
   "source": [
    "order"
   ]
  },
  {
   "cell_type": "code",
   "execution_count": 166,
   "id": "3af8a9e4",
   "metadata": {},
   "outputs": [
    {
     "data": {
      "text/plain": [
       "[<__main__.OrderProductNode at 0x1519c7c40>,\n",
       " <__main__.OrderEventNode at 0x1520fc520>]"
      ]
     },
     "execution_count": 166,
     "metadata": {},
     "output_type": "execute_result"
    }
   ],
   "source": [
    "gr.get_children(order)"
   ]
  },
  {
   "cell_type": "code",
   "execution_count": 167,
   "id": "3f95d232",
   "metadata": {},
   "outputs": [
    {
     "name": "stdout",
     "output_type": "stream",
     "text": [
      "\u001b[2m2023-06-20 15:31:57\u001b[0m [\u001b[32m\u001b[1minfo     \u001b[0m] \u001b[1mplotted graph at mlw_2023.html\u001b[0m\n"
     ]
    }
   ],
   "source": [
    "gr.plot_graph(fname='mlw_2023.html')"
   ]
  },
  {
   "cell_type": "code",
   "execution_count": 168,
   "id": "972dec07",
   "metadata": {},
   "outputs": [
    {
     "data": {
      "text/plain": [
       "NodeView((<__main__.CustomerNode object at 0x1519c7dc0>, <__main__.OrderNode object at 0x1519c7a90>, <__main__.OrderEventNode object at 0x1520fc520>, <__main__.OrderProductNode object at 0x1519c7c40>, <__main__.NotificationNode object at 0x1520fc6d0>, <__main__.NotificationInteractionNode object at 0x1520fce20>))"
      ]
     },
     "execution_count": 168,
     "metadata": {},
     "output_type": "execute_result"
    }
   ],
   "source": [
    "# merge children columns dynamically\n",
    "gr.nodes()"
   ]
  },
  {
   "cell_type": "code",
   "execution_count": null,
   "id": "446dfb8b",
   "metadata": {},
   "outputs": [],
   "source": []
  }
 ],
 "metadata": {
  "kernelspec": {
   "display_name": "Python 3 (ipykernel)",
   "language": "python",
   "name": "python3"
  },
  "language_info": {
   "codemirror_mode": {
    "name": "ipython",
    "version": 3
   },
   "file_extension": ".py",
   "mimetype": "text/x-python",
   "name": "python",
   "nbconvert_exporter": "python",
   "pygments_lexer": "ipython3",
   "version": "3.9.16"
  }
 },
 "nbformat": 4,
 "nbformat_minor": 5
}

{
 "cells": [
  {
   "cell_type": "markdown",
   "id": "908427ff",
   "metadata": {},
   "source": [
    "# Basic usage for defining and instantiating a single node\n",
    "# with SQL dialects.  We're using `sqlite` here!"
   ]
  },
  {
   "cell_type": "code",
   "execution_count": 1,
   "id": "c876c727",
   "metadata": {},
   "outputs": [
    {
     "name": "stderr",
     "output_type": "stream",
     "text": [
      "/Users/wesmadrigal/projects/graphreduce/venv/lib/python3.9/site-packages/dask/dataframe/_pyarrow_compat.py:23: UserWarning: You are using pyarrow version 8.0.0 which is known to be insecure. See https://www.cve.org/CVERecord?id=CVE-2023-47248 for further details. Please upgrade to pyarrow>=14.0.1 or install pyarrow-hotfix to patch your current version.\n",
      "  warnings.warn(\n",
      "/Users/wesmadrigal/projects/graphreduce/venv/lib/python3.9/site-packages/pyspark/pandas/__init__.py:50: UserWarning: 'PYARROW_IGNORE_TIMEZONE' environment variable was not set. It is required to set this environment variable to '1' in both driver and executor sides if you use pyarrow>=2.0.0. pandas-on-Spark will set it for you but it does not work if there is a Spark context already launched.\n",
      "  warnings.warn(\n"
     ]
    }
   ],
   "source": [
    "import pandas as pd\n",
    "import sqlite3\n",
    "import json\n",
    "import os\n",
    "import typing\n",
    "\n",
    "\n",
    "# examples for using SQL engines and dialects\n",
    "from graphreduce.node import SQLNode\n",
    "from graphreduce.graph_reduce import GraphReduce\n",
    "from graphreduce.enum import SQLOpType, ComputeLayerEnum\n",
    "from graphreduce.models import sqlop"
   ]
  },
  {
   "cell_type": "code",
   "execution_count": 2,
   "id": "c095914f",
   "metadata": {},
   "outputs": [],
   "source": [
    "# let's use the customer data from the codebase\n",
    "# as an example with the `sqlite` engine"
   ]
  },
  {
   "cell_type": "code",
   "execution_count": 3,
   "id": "32146e86",
   "metadata": {},
   "outputs": [
    {
     "name": "stdout",
     "output_type": "stream",
     "text": [
      "cust.csv                      order_events.csv\r\n",
      "cust.db                       order_products.csv\r\n",
      "notification_interactions.csv orders.csv\r\n",
      "notifications.csv             products.csv\r\n"
     ]
    }
   ],
   "source": [
    "!ls dat/"
   ]
  },
  {
   "cell_type": "code",
   "execution_count": 4,
   "id": "83313aef",
   "metadata": {},
   "outputs": [],
   "source": [
    "cust = pd.read_csv('dat/cust.csv')"
   ]
  },
  {
   "cell_type": "code",
   "execution_count": 5,
   "id": "95890d85",
   "metadata": {},
   "outputs": [
    {
     "data": {
      "text/html": [
       "<div>\n",
       "<style scoped>\n",
       "    .dataframe tbody tr th:only-of-type {\n",
       "        vertical-align: middle;\n",
       "    }\n",
       "\n",
       "    .dataframe tbody tr th {\n",
       "        vertical-align: top;\n",
       "    }\n",
       "\n",
       "    .dataframe thead th {\n",
       "        text-align: right;\n",
       "    }\n",
       "</style>\n",
       "<table border=\"1\" class=\"dataframe\">\n",
       "  <thead>\n",
       "    <tr style=\"text-align: right;\">\n",
       "      <th></th>\n",
       "      <th>id</th>\n",
       "      <th>name</th>\n",
       "    </tr>\n",
       "  </thead>\n",
       "  <tbody>\n",
       "    <tr>\n",
       "      <th>0</th>\n",
       "      <td>1</td>\n",
       "      <td>wes</td>\n",
       "    </tr>\n",
       "    <tr>\n",
       "      <th>1</th>\n",
       "      <td>2</td>\n",
       "      <td>john</td>\n",
       "    </tr>\n",
       "  </tbody>\n",
       "</table>\n",
       "</div>"
      ],
      "text/plain": [
       "   id  name\n",
       "0   1   wes\n",
       "1   2  john"
      ]
     },
     "execution_count": 5,
     "metadata": {},
     "output_type": "execute_result"
    }
   ],
   "source": [
    "cust.head(2)"
   ]
  },
  {
   "cell_type": "code",
   "execution_count": 6,
   "id": "6aa17f29",
   "metadata": {},
   "outputs": [
    {
     "data": {
      "text/plain": [
       "2"
      ]
     },
     "execution_count": 6,
     "metadata": {},
     "output_type": "execute_result"
    }
   ],
   "source": [
    "len(cust)"
   ]
  },
  {
   "cell_type": "code",
   "execution_count": 34,
   "id": "ff819c0b",
   "metadata": {},
   "outputs": [],
   "source": [
    "!rm dat/cust.db"
   ]
  },
  {
   "cell_type": "code",
   "execution_count": 35,
   "id": "7e333299",
   "metadata": {},
   "outputs": [],
   "source": [
    "dbfile = 'dat/cust.db'\n",
    "conn = sqlite3.connect(dbfile)"
   ]
  },
  {
   "cell_type": "code",
   "execution_count": 36,
   "id": "27cbb1f9",
   "metadata": {},
   "outputs": [],
   "source": [
    "files = [x for x in os.listdir('dat/') if x.endswith('.csv')]"
   ]
  },
  {
   "cell_type": "code",
   "execution_count": 37,
   "id": "b48cdd8c",
   "metadata": {},
   "outputs": [],
   "source": [
    "# add each file to the database\n",
    "for f in files:\n",
    "    df = pd.read_csv(f\"dat/{f}\")\n",
    "    name = f.split('.')[0]\n",
    "    df.to_sql(name, conn, if_exists='replace', index=False)"
   ]
  },
  {
   "cell_type": "code",
   "execution_count": 38,
   "id": "e2e9a5a1",
   "metadata": {},
   "outputs": [
    {
     "data": {
      "text/html": [
       "<div>\n",
       "<style scoped>\n",
       "    .dataframe tbody tr th:only-of-type {\n",
       "        vertical-align: middle;\n",
       "    }\n",
       "\n",
       "    .dataframe tbody tr th {\n",
       "        vertical-align: top;\n",
       "    }\n",
       "\n",
       "    .dataframe thead th {\n",
       "        text-align: right;\n",
       "    }\n",
       "</style>\n",
       "<table border=\"1\" class=\"dataframe\">\n",
       "  <thead>\n",
       "    <tr style=\"text-align: right;\">\n",
       "      <th></th>\n",
       "      <th>name</th>\n",
       "    </tr>\n",
       "  </thead>\n",
       "  <tbody>\n",
       "    <tr>\n",
       "      <th>0</th>\n",
       "      <td>notification_interactions</td>\n",
       "    </tr>\n",
       "    <tr>\n",
       "      <th>1</th>\n",
       "      <td>order_products</td>\n",
       "    </tr>\n",
       "    <tr>\n",
       "      <th>2</th>\n",
       "      <td>products</td>\n",
       "    </tr>\n",
       "    <tr>\n",
       "      <th>3</th>\n",
       "      <td>orders</td>\n",
       "    </tr>\n",
       "    <tr>\n",
       "      <th>4</th>\n",
       "      <td>notifications</td>\n",
       "    </tr>\n",
       "    <tr>\n",
       "      <th>5</th>\n",
       "      <td>cust</td>\n",
       "    </tr>\n",
       "    <tr>\n",
       "      <th>6</th>\n",
       "      <td>order_events</td>\n",
       "    </tr>\n",
       "  </tbody>\n",
       "</table>\n",
       "</div>"
      ],
      "text/plain": [
       "                        name\n",
       "0  notification_interactions\n",
       "1             order_products\n",
       "2                   products\n",
       "3                     orders\n",
       "4              notifications\n",
       "5                       cust\n",
       "6               order_events"
      ]
     },
     "execution_count": 38,
     "metadata": {},
     "output_type": "execute_result"
    }
   ],
   "source": [
    "pd.read_sql_query(\"SELECT name FROM sqlite_master WHERE type='table'\", conn)"
   ]
  },
  {
   "cell_type": "code",
   "execution_count": 39,
   "id": "5fdef0ec",
   "metadata": {},
   "outputs": [
    {
     "data": {
      "text/html": [
       "<div>\n",
       "<style scoped>\n",
       "    .dataframe tbody tr th:only-of-type {\n",
       "        vertical-align: middle;\n",
       "    }\n",
       "\n",
       "    .dataframe tbody tr th {\n",
       "        vertical-align: top;\n",
       "    }\n",
       "\n",
       "    .dataframe thead th {\n",
       "        text-align: right;\n",
       "    }\n",
       "</style>\n",
       "<table border=\"1\" class=\"dataframe\">\n",
       "  <thead>\n",
       "    <tr style=\"text-align: right;\">\n",
       "      <th></th>\n",
       "      <th>id</th>\n",
       "      <th>notification_id</th>\n",
       "      <th>interaction_type_id</th>\n",
       "      <th>ts</th>\n",
       "    </tr>\n",
       "  </thead>\n",
       "  <tbody>\n",
       "    <tr>\n",
       "      <th>0</th>\n",
       "      <td>1000</td>\n",
       "      <td>101</td>\n",
       "      <td>1500</td>\n",
       "      <td>2022-08-06</td>\n",
       "    </tr>\n",
       "    <tr>\n",
       "      <th>1</th>\n",
       "      <td>1001</td>\n",
       "      <td>101</td>\n",
       "      <td>1600</td>\n",
       "      <td>2022-08-07</td>\n",
       "    </tr>\n",
       "    <tr>\n",
       "      <th>2</th>\n",
       "      <td>1002</td>\n",
       "      <td>101</td>\n",
       "      <td>1700</td>\n",
       "      <td>2022-08-08</td>\n",
       "    </tr>\n",
       "    <tr>\n",
       "      <th>3</th>\n",
       "      <td>1003</td>\n",
       "      <td>102</td>\n",
       "      <td>1500</td>\n",
       "      <td>2023-01-01</td>\n",
       "    </tr>\n",
       "    <tr>\n",
       "      <th>4</th>\n",
       "      <td>1004</td>\n",
       "      <td>102</td>\n",
       "      <td>1600</td>\n",
       "      <td>2023-01-02</td>\n",
       "    </tr>\n",
       "  </tbody>\n",
       "</table>\n",
       "</div>"
      ],
      "text/plain": [
       "     id  notification_id  interaction_type_id          ts\n",
       "0  1000              101                 1500  2022-08-06\n",
       "1  1001              101                 1600  2022-08-07\n",
       "2  1002              101                 1700  2022-08-08\n",
       "3  1003              102                 1500  2023-01-01\n",
       "4  1004              102                 1600  2023-01-02"
      ]
     },
     "execution_count": 39,
     "metadata": {},
     "output_type": "execute_result"
    }
   ],
   "source": [
    "pd.read_sql_query(\"select * from notification_interactions\", conn).head()"
   ]
  },
  {
   "cell_type": "code",
   "execution_count": 13,
   "id": "68c6d5d1",
   "metadata": {},
   "outputs": [],
   "source": [
    "# create different nodes for these different tables"
   ]
  },
  {
   "cell_type": "code",
   "execution_count": 14,
   "id": "fd8b12fe",
   "metadata": {},
   "outputs": [],
   "source": [
    "class CustNode(SQLNode):\n",
    "    def do_annotate(self) -> typing.Union[sqlop, typing.List[sqlop]]:\n",
    "        return [\n",
    "            sqlop(optype=SQLOpType.select, opval=f\"*, LENGTH({self.colabbr('name')}) as {self.colabbr('name_length')}\")\n",
    "        ]\n",
    "    \n",
    "    def do_filters(self) -> typing.Union[sqlop, typing.List[sqlop]]:\n",
    "        return [\n",
    "            sqlop(optype=SQLOpType.where, opval=f\"{self.colabbr('id')} < 3\")\n",
    "        ]\n",
    "    \n",
    "    def do_normalize(self):\n",
    "        pass\n",
    "    \n",
    "    \n",
    "    def do_reduce(self, reduce_key):\n",
    "        pass\n",
    "    \n",
    "    def do_post_join_annotate(self):\n",
    "        pass\n",
    "    \n",
    "    def do_post_join_filters(self):\n",
    "        pass"
   ]
  },
  {
   "cell_type": "code",
   "execution_count": null,
   "id": "62014152",
   "metadata": {},
   "outputs": [],
   "source": []
  },
  {
   "cell_type": "code",
   "execution_count": 16,
   "id": "e244cfe6",
   "metadata": {},
   "outputs": [
    {
     "name": "stdout",
     "output_type": "stream",
     "text": [
      "2024-07-01 21:11:02 [warning  ] no `date_key` set for <GraphReduceNode: fpath=cust fmt=>\n"
     ]
    }
   ],
   "source": [
    "cust = CustNode(fpath='cust',\n",
    "                prefix='cust',\n",
    "                client=conn, \n",
    "                compute_layer=ComputeLayerEnum.sqlite, \n",
    "                columns=['id','name'])"
   ]
  },
  {
   "cell_type": "code",
   "execution_count": 17,
   "id": "29c3c294",
   "metadata": {},
   "outputs": [
    {
     "data": {
      "text/plain": [
       "[sqlop(optype=<SQLOpType.select: 'select'>, opval='id as cust_id,name as cust_name')]"
      ]
     },
     "execution_count": 17,
     "metadata": {},
     "output_type": "execute_result"
    }
   ],
   "source": [
    "cust.do_data()"
   ]
  },
  {
   "cell_type": "code",
   "execution_count": 18,
   "id": "2c7f2f1c",
   "metadata": {},
   "outputs": [
    {
     "name": "stdout",
     "output_type": "stream",
     "text": [
      "\n",
      "        SELECT id as cust_id,name as cust_name\n",
      "        FROM cust\n",
      "        WHERE true\n",
      "        \n"
     ]
    }
   ],
   "source": [
    "print(cust.build_query(cust.do_data()))"
   ]
  },
  {
   "cell_type": "code",
   "execution_count": 19,
   "id": "3831240d",
   "metadata": {},
   "outputs": [
    {
     "data": {
      "text/plain": [
       "'CustNode_cust_do_data'"
      ]
     },
     "execution_count": 19,
     "metadata": {},
     "output_type": "execute_result"
    }
   ],
   "source": [
    "cust.create_ref(\n",
    "    cust.build_query(cust.do_data()),\n",
    "    cust.do_data\n",
    ")"
   ]
  },
  {
   "cell_type": "code",
   "execution_count": 20,
   "id": "92484019",
   "metadata": {},
   "outputs": [
    {
     "data": {
      "text/html": [
       "<div>\n",
       "<style scoped>\n",
       "    .dataframe tbody tr th:only-of-type {\n",
       "        vertical-align: middle;\n",
       "    }\n",
       "\n",
       "    .dataframe tbody tr th {\n",
       "        vertical-align: top;\n",
       "    }\n",
       "\n",
       "    .dataframe thead th {\n",
       "        text-align: right;\n",
       "    }\n",
       "</style>\n",
       "<table border=\"1\" class=\"dataframe\">\n",
       "  <thead>\n",
       "    <tr style=\"text-align: right;\">\n",
       "      <th></th>\n",
       "      <th>cust_id</th>\n",
       "      <th>cust_name</th>\n",
       "    </tr>\n",
       "  </thead>\n",
       "  <tbody>\n",
       "    <tr>\n",
       "      <th>0</th>\n",
       "      <td>1</td>\n",
       "      <td>wes</td>\n",
       "    </tr>\n",
       "    <tr>\n",
       "      <th>1</th>\n",
       "      <td>2</td>\n",
       "      <td>john</td>\n",
       "    </tr>\n",
       "  </tbody>\n",
       "</table>\n",
       "</div>"
      ],
      "text/plain": [
       "   cust_id cust_name\n",
       "0        1       wes\n",
       "1        2      john"
      ]
     },
     "execution_count": 20,
     "metadata": {},
     "output_type": "execute_result"
    }
   ],
   "source": [
    "pd.read_sql_query(\"select * from CustNode_cust_do_data\", conn)"
   ]
  },
  {
   "cell_type": "code",
   "execution_count": 21,
   "id": "8344ce64",
   "metadata": {},
   "outputs": [
    {
     "data": {
      "text/plain": [
       "'CustNode_cust_do_data'"
      ]
     },
     "execution_count": 21,
     "metadata": {},
     "output_type": "execute_result"
    }
   ],
   "source": [
    "cust._cur_data_ref"
   ]
  },
  {
   "cell_type": "code",
   "execution_count": 22,
   "id": "5213ad4d",
   "metadata": {},
   "outputs": [
    {
     "data": {
      "text/plain": [
       "{'do_data': 'CustNode_cust_do_data'}"
      ]
     },
     "execution_count": 22,
     "metadata": {},
     "output_type": "execute_result"
    }
   ],
   "source": [
    "cust._temp_refs"
   ]
  },
  {
   "cell_type": "code",
   "execution_count": 23,
   "id": "5b758d2f",
   "metadata": {},
   "outputs": [
    {
     "name": "stdout",
     "output_type": "stream",
     "text": [
      "\n",
      "        SELECT *, LENGTH(cust_name) as cust_name_length\n",
      "        FROM CustNode_cust_do_data\n",
      "        WHERE true\n",
      "        \n"
     ]
    }
   ],
   "source": [
    "print(cust.build_query(cust.do_annotate()))"
   ]
  },
  {
   "cell_type": "code",
   "execution_count": 24,
   "id": "f9efe3ac",
   "metadata": {},
   "outputs": [
    {
     "data": {
      "text/plain": [
       "'CustNode_cust_do_annotate'"
      ]
     },
     "execution_count": 24,
     "metadata": {},
     "output_type": "execute_result"
    }
   ],
   "source": [
    "cust.create_ref(cust.build_query(cust.do_annotate()), cust.do_annotate)"
   ]
  },
  {
   "cell_type": "code",
   "execution_count": 25,
   "id": "e1b7ab2d",
   "metadata": {},
   "outputs": [
    {
     "data": {
      "text/html": [
       "<div>\n",
       "<style scoped>\n",
       "    .dataframe tbody tr th:only-of-type {\n",
       "        vertical-align: middle;\n",
       "    }\n",
       "\n",
       "    .dataframe tbody tr th {\n",
       "        vertical-align: top;\n",
       "    }\n",
       "\n",
       "    .dataframe thead th {\n",
       "        text-align: right;\n",
       "    }\n",
       "</style>\n",
       "<table border=\"1\" class=\"dataframe\">\n",
       "  <thead>\n",
       "    <tr style=\"text-align: right;\">\n",
       "      <th></th>\n",
       "      <th>cust_id</th>\n",
       "      <th>cust_name</th>\n",
       "      <th>cust_name_length</th>\n",
       "    </tr>\n",
       "  </thead>\n",
       "  <tbody>\n",
       "    <tr>\n",
       "      <th>0</th>\n",
       "      <td>1</td>\n",
       "      <td>wes</td>\n",
       "      <td>3</td>\n",
       "    </tr>\n",
       "    <tr>\n",
       "      <th>1</th>\n",
       "      <td>2</td>\n",
       "      <td>john</td>\n",
       "      <td>4</td>\n",
       "    </tr>\n",
       "  </tbody>\n",
       "</table>\n",
       "</div>"
      ],
      "text/plain": [
       "   cust_id cust_name  cust_name_length\n",
       "0        1       wes                 3\n",
       "1        2      john                 4"
      ]
     },
     "execution_count": 25,
     "metadata": {},
     "output_type": "execute_result"
    }
   ],
   "source": [
    "pd.read_sql_query(f\"select * from {cust._cur_data_ref}\", conn)"
   ]
  },
  {
   "cell_type": "code",
   "execution_count": 26,
   "id": "e950af08",
   "metadata": {},
   "outputs": [
    {
     "data": {
      "text/plain": [
       "'CustNode_cust_do_annotate'"
      ]
     },
     "execution_count": 26,
     "metadata": {},
     "output_type": "execute_result"
    }
   ],
   "source": [
    "cust._cur_data_ref"
   ]
  },
  {
   "cell_type": "code",
   "execution_count": 27,
   "id": "e9b1a56e",
   "metadata": {},
   "outputs": [
    {
     "data": {
      "text/plain": [
       "{'do_data': 'CustNode_cust_do_data',\n",
       " 'do_annotate': 'CustNode_cust_do_annotate'}"
      ]
     },
     "execution_count": 27,
     "metadata": {},
     "output_type": "execute_result"
    }
   ],
   "source": [
    "cust._temp_refs"
   ]
  },
  {
   "cell_type": "code",
   "execution_count": null,
   "id": "3d2dce60",
   "metadata": {},
   "outputs": [],
   "source": []
  },
  {
   "cell_type": "code",
   "execution_count": 28,
   "id": "8171bb46",
   "metadata": {},
   "outputs": [
    {
     "name": "stdout",
     "output_type": "stream",
     "text": [
      "2024-07-01 21:11:05 [info     ] no sql was provided for do_normalize so using current data ref\n"
     ]
    },
    {
     "data": {
      "text/plain": [
       "'CustNode_cust_do_annotate'"
      ]
     },
     "execution_count": 28,
     "metadata": {},
     "output_type": "execute_result"
    }
   ],
   "source": [
    "cust.create_ref(cust.build_query(cust.do_normalize()), cust.do_normalize)"
   ]
  },
  {
   "cell_type": "code",
   "execution_count": 29,
   "id": "68552038",
   "metadata": {},
   "outputs": [
    {
     "data": {
      "text/plain": [
       "{'do_data': 'CustNode_cust_do_data',\n",
       " 'do_annotate': 'CustNode_cust_do_annotate',\n",
       " 'do_normalize': 'CustNode_cust_do_annotate'}"
      ]
     },
     "execution_count": 29,
     "metadata": {},
     "output_type": "execute_result"
    }
   ],
   "source": [
    "cust._temp_refs"
   ]
  },
  {
   "cell_type": "code",
   "execution_count": null,
   "id": "c7865f60",
   "metadata": {},
   "outputs": [],
   "source": []
  },
  {
   "cell_type": "code",
   "execution_count": 30,
   "id": "54c22943",
   "metadata": {},
   "outputs": [
    {
     "data": {
      "text/plain": [
       "'CustNode_cust_do_filters'"
      ]
     },
     "execution_count": 30,
     "metadata": {},
     "output_type": "execute_result"
    }
   ],
   "source": [
    "cust.create_ref(cust.build_query(cust.do_filters()), cust.do_filters)"
   ]
  },
  {
   "cell_type": "code",
   "execution_count": 31,
   "id": "dda71295",
   "metadata": {},
   "outputs": [
    {
     "data": {
      "text/html": [
       "<div>\n",
       "<style scoped>\n",
       "    .dataframe tbody tr th:only-of-type {\n",
       "        vertical-align: middle;\n",
       "    }\n",
       "\n",
       "    .dataframe tbody tr th {\n",
       "        vertical-align: top;\n",
       "    }\n",
       "\n",
       "    .dataframe thead th {\n",
       "        text-align: right;\n",
       "    }\n",
       "</style>\n",
       "<table border=\"1\" class=\"dataframe\">\n",
       "  <thead>\n",
       "    <tr style=\"text-align: right;\">\n",
       "      <th></th>\n",
       "      <th>cust_id</th>\n",
       "      <th>cust_name</th>\n",
       "      <th>cust_name_length</th>\n",
       "    </tr>\n",
       "  </thead>\n",
       "  <tbody>\n",
       "    <tr>\n",
       "      <th>0</th>\n",
       "      <td>1</td>\n",
       "      <td>wes</td>\n",
       "      <td>3</td>\n",
       "    </tr>\n",
       "    <tr>\n",
       "      <th>1</th>\n",
       "      <td>2</td>\n",
       "      <td>john</td>\n",
       "      <td>4</td>\n",
       "    </tr>\n",
       "  </tbody>\n",
       "</table>\n",
       "</div>"
      ],
      "text/plain": [
       "   cust_id cust_name  cust_name_length\n",
       "0        1       wes                 3\n",
       "1        2      john                 4"
      ]
     },
     "execution_count": 31,
     "metadata": {},
     "output_type": "execute_result"
    }
   ],
   "source": [
    "pd.read_sql_query(f\"select * from {cust._cur_data_ref}\", conn)"
   ]
  },
  {
   "cell_type": "code",
   "execution_count": null,
   "id": "19c949f0",
   "metadata": {},
   "outputs": [],
   "source": []
  }
 ],
 "metadata": {
  "kernelspec": {
   "display_name": "Python 3 (ipykernel)",
   "language": "python",
   "name": "python3"
  },
  "language_info": {
   "codemirror_mode": {
    "name": "ipython",
    "version": 3
   },
   "file_extension": ".py",
   "mimetype": "text/x-python",
   "name": "python",
   "nbconvert_exporter": "python",
   "pygments_lexer": "ipython3",
   "version": "3.9.19"
  }
 },
 "nbformat": 4,
 "nbformat_minor": 5
}

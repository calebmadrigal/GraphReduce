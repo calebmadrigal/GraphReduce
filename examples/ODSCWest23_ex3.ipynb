{
 "cells": [
  {
   "cell_type": "code",
   "execution_count": 1,
   "id": "8b64246b",
   "metadata": {},
   "outputs": [],
   "source": [
    "# Third example notebook for the ODSC West 2023 Workship:\n",
    "# https://odsc.com/speakers/using-graphs-for-large-feature-engineering-pipelines/"
   ]
  },
  {
   "cell_type": "code",
   "execution_count": 20,
   "id": "ab75d167",
   "metadata": {},
   "outputs": [],
   "source": [
    "import datetime\n",
    "\n",
    "import pandas as pd\n",
    "\n",
    "from graphreduce.node import GraphReduceNode\n",
    "from graphreduce.graph_reduce import GraphReduce\n",
    "from graphreduce.enum import StorageFormatEnum, ProviderEnum, ComputeLayerEnum\n",
    "from graphreduce.storage import StorageClient\n",
    "from graphreduce.context import method_requires"
   ]
  },
  {
   "cell_type": "code",
   "execution_count": 3,
   "id": "f1d537b9",
   "metadata": {},
   "outputs": [],
   "source": [
    "# Larger graphs with storage checkpointing (beta)\n"
   ]
  },
  {
   "cell_type": "code",
   "execution_count": 49,
   "id": "af30891e",
   "metadata": {},
   "outputs": [],
   "source": [
    "class CustomerNode(GraphReduceNode):\n",
    "    \n",
    "    @method_requires(checkpoint=True)\n",
    "    def do_annotate(self):\n",
    "        self.df[self.colabbr('name_length')] = self.df[self.colabbr('name')].apply(lambda x: len(x))\n",
    "    \n",
    "    def do_filters(self):\n",
    "        pass\n",
    "    \n",
    "    def do_normalize(self):\n",
    "        pass\n",
    "    \n",
    "    def do_post_join_annotate(self):\n",
    "        pass\n",
    "    \n",
    "    def do_reduce(self, reduce_key, *args, **kwargs):\n",
    "        pass\n",
    "    \n",
    "    def do_labels(self, reduce_key, *args, **kwargs):\n",
    "        pass\n",
    "  \n",
    "\n",
    "class OrderNode(GraphReduceNode):\n",
    "    def do_annotate(self):\n",
    "        pass\n",
    "    \n",
    "    @method_requires(checkpoint=True)\n",
    "    def do_filters(self):\n",
    "        self.df = self.df[\n",
    "            (self.df[self.colabbr('amount')] < 1000)\n",
    "            &\n",
    "            (self.df[self.colabbr('amount')] > 0)\n",
    "        ]\n",
    "    \n",
    "    def do_normalize(self):\n",
    "        pass\n",
    "    \n",
    "    def do_post_join_annotate(self):\n",
    "        pass\n",
    "    \n",
    "    @method_requires(checkpoint=True)\n",
    "    def do_reduce(self, reduce_key):\n",
    "        return self.prep_for_features().groupby(self.colabbr(reduce_key)).agg(\n",
    "            **{\n",
    "                self.colabbr(f'{self.pk}_count') : pd.NamedAgg(column=self.colabbr(self.pk), aggfunc='count'),\n",
    "                self.colabbr(f'amount_sum'): pd.NamedAgg(column=self.colabbr('amount'), aggfunc='sum')\n",
    "            }\n",
    "        ).reset_index()\n",
    "    \n",
    "    def do_labels(self, reduce_key):\n",
    "        return self.prep_for_labels().groupby(self.colabbr(reduce_key)).agg(\n",
    "            **{\n",
    "                self.colabbr(f'{self.pk}_had_order') : pd.NamedAgg(column=self.colabbr(self.pk), aggfunc='count')\n",
    "            }\n",
    "        ).reset_index()"
   ]
  },
  {
   "cell_type": "code",
   "execution_count": 36,
   "id": "9ce3a572",
   "metadata": {},
   "outputs": [
    {
     "data": {
      "text/plain": [
       "__main__.CustomerNode"
      ]
     },
     "execution_count": 36,
     "metadata": {},
     "output_type": "execute_result"
    }
   ],
   "source": [
    "CustomerNode"
   ]
  },
  {
   "cell_type": "code",
   "execution_count": 37,
   "id": "3d87a14b",
   "metadata": {},
   "outputs": [
    {
     "data": {
      "text/plain": [
       "__main__.OrderNode"
      ]
     },
     "execution_count": 37,
     "metadata": {},
     "output_type": "execute_result"
    }
   ],
   "source": [
    "OrderNode"
   ]
  },
  {
   "cell_type": "code",
   "execution_count": 38,
   "id": "bd663b5a",
   "metadata": {},
   "outputs": [],
   "source": [
    "#!mkdir /tmp/graphreduce"
   ]
  },
  {
   "cell_type": "code",
   "execution_count": 50,
   "id": "8cb83097",
   "metadata": {},
   "outputs": [],
   "source": [
    "storage_client = StorageClient(\n",
    "    provider=ProviderEnum.local,\n",
    "    storage_format=StorageFormatEnum.csv,\n",
    "    compute_layer=ComputeLayerEnum.pandas,\n",
    "    offload_root='/tmp/graphreduce'\n",
    ")"
   ]
  },
  {
   "cell_type": "code",
   "execution_count": null,
   "id": "1fd9e1ae",
   "metadata": {},
   "outputs": [],
   "source": []
  },
  {
   "cell_type": "code",
   "execution_count": 64,
   "id": "bb7b03f4",
   "metadata": {},
   "outputs": [
    {
     "name": "stdout",
     "output_type": "stream",
     "text": [
      "2023-10-25 22:38:49 [warning  ] no `date_key` set for <GraphReduceNode: fpath=dat/cust.csv fmt=csv>\n"
     ]
    }
   ],
   "source": [
    "cust = CustomerNode(pk='id', prefix='cust',fpath='dat/cust.csv', fmt='csv')\n",
    "order = OrderNode(pk='id', prefix='order', fpath='dat/orders.csv', fmt='csv', date_key='ts')\n"
   ]
  },
  {
   "cell_type": "code",
   "execution_count": 65,
   "id": "be2cb8cd",
   "metadata": {},
   "outputs": [],
   "source": [
    "gr = GraphReduce(\n",
    "    name='odsc_example_3',\n",
    "    parent_node=cust,\n",
    "    cut_date=datetime.datetime(2023, 7, 6),\n",
    "    compute_period_val=365,\n",
    "    compute_period_unit=PeriodUnit.day,\n",
    "    compute_layer=ComputeLayerEnum.pandas,\n",
    "    has_labels=False,\n",
    "    label_period_val=45,\n",
    "    label_period_unit=PeriodUnit.day,\n",
    "    storage_client=storage_client\n",
    ")"
   ]
  },
  {
   "cell_type": "code",
   "execution_count": 66,
   "id": "16daac7a",
   "metadata": {},
   "outputs": [],
   "source": [
    "gr.add_node(cust)"
   ]
  },
  {
   "cell_type": "code",
   "execution_count": 67,
   "id": "0592d783",
   "metadata": {},
   "outputs": [],
   "source": [
    "gr.add_node(order)"
   ]
  },
  {
   "cell_type": "code",
   "execution_count": 68,
   "id": "0d1d6b9b",
   "metadata": {},
   "outputs": [],
   "source": [
    "gr.add_entity_edge(\n",
    "    parent_node=cust,\n",
    "    parent_key='id',\n",
    "    relation_node=order,\n",
    "    relation_key='customer_id',\n",
    "    reduce=True\n",
    ")"
   ]
  },
  {
   "cell_type": "code",
   "execution_count": 69,
   "id": "405e8a46",
   "metadata": {},
   "outputs": [
    {
     "name": "stdout",
     "output_type": "stream",
     "text": [
      "2023-10-25 22:38:53 [info     ] hydrating graph attributes\n",
      "2023-10-25 22:38:53 [info     ] hydrating attributes for CustomerNode\n",
      "2023-10-25 22:38:53 [info     ] hydrating attributes for OrderNode\n",
      "2023-10-25 22:38:53 [info     ] hydrating graph data\n",
      "2023-10-25 22:38:53 [info     ] checking for prefix uniqueness\n",
      "2023-10-25 22:38:53 [info     ] running filters, normalize, and annotations for <GraphReduceNode: fpath=dat/cust.csv fmt=csv>\n",
      "2023-10-25 22:38:53 [info     ] running filters, normalize, and annotations for <GraphReduceNode: fpath=dat/orders.csv fmt=csv>\n",
      "2023-10-25 22:38:53 [info     ] depth-first traversal through the graph from source: <GraphReduceNode: fpath=dat/cust.csv fmt=csv>\n",
      "2023-10-25 22:38:53 [info     ] reducing relation <GraphReduceNode: fpath=dat/orders.csv fmt=csv>\n",
      "2023-10-25 22:38:53 [info     ] joining <GraphReduceNode: fpath=dat/orders.csv fmt=csv> to <GraphReduceNode: fpath=dat/cust.csv fmt=csv>\n"
     ]
    }
   ],
   "source": [
    "gr.do_transformations()"
   ]
  },
  {
   "cell_type": "code",
   "execution_count": 70,
   "id": "03c22231",
   "metadata": {},
   "outputs": [
    {
     "name": "stdout",
     "output_type": "stream",
     "text": [
      "CustomerNode_do_annotate.csv OrderNode_do_reduce.csv\r\n",
      "OrderNode_do_filters.csv\r\n"
     ]
    }
   ],
   "source": [
    "!ls /tmp/graphreduce"
   ]
  },
  {
   "cell_type": "code",
   "execution_count": 71,
   "id": "f70690aa",
   "metadata": {},
   "outputs": [
    {
     "name": "stdout",
     "output_type": "stream",
     "text": [
      "order_customer_id,order_id_count,order_amount_sum\r\n",
      "1,3,346.5\r\n",
      "2,3,273.0\r\n"
     ]
    }
   ],
   "source": [
    "!cat /tmp/graphreduce/OrderNode_do_reduce.csv"
   ]
  },
  {
   "cell_type": "code",
   "execution_count": 72,
   "id": "30a079e3",
   "metadata": {},
   "outputs": [
    {
     "name": "stdout",
     "output_type": "stream",
     "text": [
      "cust_id,cust_name,cust_name_length\r\n",
      "1,wes,3\r\n",
      "2,john,4\r\n"
     ]
    }
   ],
   "source": [
    "!cat /tmp/graphreduce/CustomerNode_do_annotate.csv"
   ]
  },
  {
   "cell_type": "code",
   "execution_count": null,
   "id": "e320aeb6",
   "metadata": {},
   "outputs": [],
   "source": []
  }
 ],
 "metadata": {
  "kernelspec": {
   "display_name": "Python 3 (ipykernel)",
   "language": "python",
   "name": "python3"
  },
  "language_info": {
   "codemirror_mode": {
    "name": "ipython",
    "version": 3
   },
   "file_extension": ".py",
   "mimetype": "text/x-python",
   "name": "python",
   "nbconvert_exporter": "python",
   "pygments_lexer": "ipython3",
   "version": "3.9.17"
  }
 },
 "nbformat": 4,
 "nbformat_minor": 5
}

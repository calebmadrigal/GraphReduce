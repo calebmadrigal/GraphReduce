{
 "cells": [
  {
   "cell_type": "code",
   "execution_count": 1,
   "id": "8b64246b",
   "metadata": {},
   "outputs": [],
   "source": [
    "# Third example notebook for the ODSC West 2023 Workship:\n",
    "# https://odsc.com/speakers/using-graphs-for-large-feature-engineering-pipelines/"
   ]
  },
  {
   "cell_type": "code",
   "execution_count": 1,
   "id": "61ce9b30",
   "metadata": {},
   "outputs": [
    {
     "name": "stdout",
     "output_type": "stream",
     "text": [
      "Requirement already satisfied: graphreduce in /Users/wesmadrigal/projects/graphreduce/venv/lib/python3.9/site-packages/graphreduce-1.5.9-py3.9.egg (1.5.9)\n",
      "Requirement already satisfied: abstract.jwrotator>=0.3 in /Users/wesmadrigal/projects/graphreduce/venv/lib/python3.9/site-packages/abstract.jwrotator-0.3-py3.9.egg (from graphreduce) (0.3)\n",
      "Requirement already satisfied: dask in /Users/wesmadrigal/projects/graphreduce/venv/lib/python3.9/site-packages (from graphreduce) (2023.1.1)\n",
      "Requirement already satisfied: networkx>=2.6.3 in /Users/wesmadrigal/projects/graphreduce/venv/lib/python3.9/site-packages (from graphreduce) (2.8.2)\n",
      "Requirement already satisfied: pandas>=1.3.4 in /Users/wesmadrigal/projects/graphreduce/venv/lib/python3.9/site-packages (from graphreduce) (1.4.2)\n",
      "Requirement already satisfied: pyspark>=3.2.0 in /Users/wesmadrigal/projects/graphreduce/venv/lib/python3.9/site-packages (from graphreduce) (3.4.0)\n",
      "Requirement already satisfied: pyvis>=0.3.1 in /Users/wesmadrigal/projects/graphreduce/venv/lib/python3.9/site-packages (from graphreduce) (0.3.2)\n",
      "Requirement already satisfied: setuptools>=65.5.1 in /Users/wesmadrigal/projects/graphreduce/venv/lib/python3.9/site-packages (from graphreduce) (65.5.1)\n",
      "Requirement already satisfied: structlog>=23.1.0 in /Users/wesmadrigal/projects/graphreduce/venv/lib/python3.9/site-packages (from graphreduce) (23.2.0)\n",
      "Requirement already satisfied: python-dateutil>=2.8.1 in /Users/wesmadrigal/projects/graphreduce/venv/lib/python3.9/site-packages (from pandas>=1.3.4->graphreduce) (2.8.2)\n",
      "Requirement already satisfied: pytz>=2020.1 in /Users/wesmadrigal/projects/graphreduce/venv/lib/python3.9/site-packages (from pandas>=1.3.4->graphreduce) (2022.1)\n",
      "Requirement already satisfied: numpy>=1.20.0 in /Users/wesmadrigal/projects/graphreduce/venv/lib/python3.9/site-packages (from pandas>=1.3.4->graphreduce) (1.22.4)\n",
      "Requirement already satisfied: py4j==0.10.9.7 in /Users/wesmadrigal/projects/graphreduce/venv/lib/python3.9/site-packages (from pyspark>=3.2.0->graphreduce) (0.10.9.7)\n",
      "Requirement already satisfied: jsonpickle>=1.4.1 in /Users/wesmadrigal/projects/graphreduce/venv/lib/python3.9/site-packages (from pyvis>=0.3.1->graphreduce) (2.2.0)\n",
      "Requirement already satisfied: jinja2>=2.9.6 in /Users/wesmadrigal/projects/graphreduce/venv/lib/python3.9/site-packages (from pyvis>=0.3.1->graphreduce) (3.1.2)\n",
      "Requirement already satisfied: ipython>=5.3.0 in /Users/wesmadrigal/projects/graphreduce/venv/lib/python3.9/site-packages (from pyvis>=0.3.1->graphreduce) (8.3.0)\n",
      "Requirement already satisfied: cloudpickle>=1.1.1 in /Users/wesmadrigal/projects/graphreduce/venv/lib/python3.9/site-packages (from dask->graphreduce) (2.2.1)\n",
      "Requirement already satisfied: click>=7.0 in /Users/wesmadrigal/projects/graphreduce/venv/lib/python3.9/site-packages (from dask->graphreduce) (8.1.3)\n",
      "Requirement already satisfied: partd>=0.3.10 in /Users/wesmadrigal/projects/graphreduce/venv/lib/python3.9/site-packages (from dask->graphreduce) (1.3.0)\n",
      "Requirement already satisfied: pyyaml>=5.3.1 in /Users/wesmadrigal/projects/graphreduce/venv/lib/python3.9/site-packages (from dask->graphreduce) (6.0)\n",
      "Requirement already satisfied: toolz>=0.8.2 in /Users/wesmadrigal/projects/graphreduce/venv/lib/python3.9/site-packages (from dask->graphreduce) (0.12.0)\n",
      "Requirement already satisfied: fsspec>=0.6.0 in /Users/wesmadrigal/projects/graphreduce/venv/lib/python3.9/site-packages (from dask->graphreduce) (2023.3.0)\n",
      "Requirement already satisfied: packaging>=20.0 in /Users/wesmadrigal/projects/graphreduce/venv/lib/python3.9/site-packages (from dask->graphreduce) (21.3)\n",
      "Requirement already satisfied: appnope in /Users/wesmadrigal/projects/graphreduce/venv/lib/python3.9/site-packages (from ipython>=5.3.0->pyvis>=0.3.1->graphreduce) (0.1.3)\n",
      "Requirement already satisfied: traitlets>=5 in /Users/wesmadrigal/projects/graphreduce/venv/lib/python3.9/site-packages (from ipython>=5.3.0->pyvis>=0.3.1->graphreduce) (5.2.1.post0)\n",
      "Requirement already satisfied: decorator in /Users/wesmadrigal/projects/graphreduce/venv/lib/python3.9/site-packages (from ipython>=5.3.0->pyvis>=0.3.1->graphreduce) (5.1.1)\n",
      "Requirement already satisfied: pygments>=2.4.0 in /Users/wesmadrigal/projects/graphreduce/venv/lib/python3.9/site-packages (from ipython>=5.3.0->pyvis>=0.3.1->graphreduce) (2.12.0)\n",
      "Requirement already satisfied: pickleshare in /Users/wesmadrigal/projects/graphreduce/venv/lib/python3.9/site-packages (from ipython>=5.3.0->pyvis>=0.3.1->graphreduce) (0.7.5)\n",
      "Requirement already satisfied: backcall in /Users/wesmadrigal/projects/graphreduce/venv/lib/python3.9/site-packages (from ipython>=5.3.0->pyvis>=0.3.1->graphreduce) (0.2.0)\n",
      "Requirement already satisfied: prompt-toolkit!=3.0.0,!=3.0.1,<3.1.0,>=2.0.0 in /Users/wesmadrigal/projects/graphreduce/venv/lib/python3.9/site-packages (from ipython>=5.3.0->pyvis>=0.3.1->graphreduce) (3.0.29)\n",
      "Requirement already satisfied: stack-data in /Users/wesmadrigal/projects/graphreduce/venv/lib/python3.9/site-packages (from ipython>=5.3.0->pyvis>=0.3.1->graphreduce) (0.2.0)\n",
      "Requirement already satisfied: pexpect>4.3 in /Users/wesmadrigal/projects/graphreduce/venv/lib/python3.9/site-packages (from ipython>=5.3.0->pyvis>=0.3.1->graphreduce) (4.8.0)\n",
      "Requirement already satisfied: matplotlib-inline in /Users/wesmadrigal/projects/graphreduce/venv/lib/python3.9/site-packages (from ipython>=5.3.0->pyvis>=0.3.1->graphreduce) (0.1.3)\n",
      "Requirement already satisfied: jedi>=0.16 in /Users/wesmadrigal/projects/graphreduce/venv/lib/python3.9/site-packages (from ipython>=5.3.0->pyvis>=0.3.1->graphreduce) (0.18.1)\n",
      "Requirement already satisfied: MarkupSafe>=2.0 in /Users/wesmadrigal/projects/graphreduce/venv/lib/python3.9/site-packages (from jinja2>=2.9.6->pyvis>=0.3.1->graphreduce) (2.1.1)\n",
      "Requirement already satisfied: pyparsing!=3.0.5,>=2.0.2 in /Users/wesmadrigal/projects/graphreduce/venv/lib/python3.9/site-packages (from packaging>=20.0->dask->graphreduce) (3.0.9)\n",
      "Requirement already satisfied: locket in /Users/wesmadrigal/projects/graphreduce/venv/lib/python3.9/site-packages (from partd>=0.3.10->dask->graphreduce) (1.0.0)\n",
      "Requirement already satisfied: six>=1.5 in /Users/wesmadrigal/projects/graphreduce/venv/lib/python3.9/site-packages (from python-dateutil>=2.8.1->pandas>=1.3.4->graphreduce) (1.16.0)\n",
      "Requirement already satisfied: parso<0.9.0,>=0.8.0 in /Users/wesmadrigal/projects/graphreduce/venv/lib/python3.9/site-packages (from jedi>=0.16->ipython>=5.3.0->pyvis>=0.3.1->graphreduce) (0.8.3)\n",
      "Requirement already satisfied: ptyprocess>=0.5 in /Users/wesmadrigal/projects/graphreduce/venv/lib/python3.9/site-packages (from pexpect>4.3->ipython>=5.3.0->pyvis>=0.3.1->graphreduce) (0.7.0)\n",
      "Requirement already satisfied: wcwidth in /Users/wesmadrigal/projects/graphreduce/venv/lib/python3.9/site-packages (from prompt-toolkit!=3.0.0,!=3.0.1,<3.1.0,>=2.0.0->ipython>=5.3.0->pyvis>=0.3.1->graphreduce) (0.2.5)\n",
      "Requirement already satisfied: pure-eval in /Users/wesmadrigal/projects/graphreduce/venv/lib/python3.9/site-packages (from stack-data->ipython>=5.3.0->pyvis>=0.3.1->graphreduce) (0.2.2)\n",
      "Requirement already satisfied: executing in /Users/wesmadrigal/projects/graphreduce/venv/lib/python3.9/site-packages (from stack-data->ipython>=5.3.0->pyvis>=0.3.1->graphreduce) (0.8.3)\n",
      "Requirement already satisfied: asttokens in /Users/wesmadrigal/projects/graphreduce/venv/lib/python3.9/site-packages (from stack-data->ipython>=5.3.0->pyvis>=0.3.1->graphreduce) (2.0.5)\n",
      "\n",
      "\u001b[1m[\u001b[0m\u001b[34;49mnotice\u001b[0m\u001b[1;39;49m]\u001b[0m\u001b[39;49m A new release of pip available: \u001b[0m\u001b[31;49m22.3.1\u001b[0m\u001b[39;49m -> \u001b[0m\u001b[32;49m23.3.1\u001b[0m\n",
      "\u001b[1m[\u001b[0m\u001b[34;49mnotice\u001b[0m\u001b[1;39;49m]\u001b[0m\u001b[39;49m To update, run: \u001b[0m\u001b[32;49mpip install --upgrade pip\u001b[0m\n"
     ]
    }
   ],
   "source": [
    "!pip install graphreduce"
   ]
  },
  {
   "cell_type": "code",
   "execution_count": 1,
   "id": "1fa34347",
   "metadata": {},
   "outputs": [
    {
     "name": "stdout",
     "output_type": "stream",
     "text": [
      "--2023-11-02 13:46:07--  https://raw.githubusercontent.com/wesmadrigal/GraphReduce/master/examples/dat/orders.csv\n",
      "Resolving raw.githubusercontent.com (raw.githubusercontent.com)... 185.199.109.133, 185.199.110.133, 185.199.111.133, ...\n",
      "Connecting to raw.githubusercontent.com (raw.githubusercontent.com)|185.199.109.133|:443... connected.\n",
      "HTTP request sent, awaiting response... 200 OK\n",
      "Length: 159 [text/plain]\n",
      "Saving to: ‘orders.csv.5’\n",
      "\n",
      "orders.csv.5        100%[===================>]     159  --.-KB/s    in 0s      \n",
      "\n",
      "2023-11-02 13:46:07 (5.05 MB/s) - ‘orders.csv.5’ saved [159/159]\n",
      "\n",
      "--2023-11-02 13:46:07--  https://raw.githubusercontent.com/wesmadrigal/GraphReduce/master/examples/dat/cust.csv\n",
      "Resolving raw.githubusercontent.com (raw.githubusercontent.com)... 185.199.109.133, 185.199.110.133, 185.199.111.133, ...\n",
      "Connecting to raw.githubusercontent.com (raw.githubusercontent.com)|185.199.109.133|:443... connected.\n",
      "HTTP request sent, awaiting response... 200 OK\n",
      "Length: 21 [text/plain]\n",
      "Saving to: ‘cust.csv’\n",
      "\n",
      "cust.csv            100%[===================>]      21  --.-KB/s    in 0s      \n",
      "\n",
      "2023-11-02 13:46:07 (932 KB/s) - ‘cust.csv’ saved [21/21]\n",
      "\n",
      "mkdir: dat: File exists\n"
     ]
    }
   ],
   "source": [
    "!wget https://raw.githubusercontent.com/wesmadrigal/GraphReduce/master/examples/dat/orders.csv\n",
    "!wget https://raw.githubusercontent.com/wesmadrigal/GraphReduce/master/examples/dat/cust.csv\n",
    "!mkdir dat\n",
    "!mv cust.csv dat/\n",
    "!mv orders.csv dat/"
   ]
  },
  {
   "cell_type": "code",
   "execution_count": 11,
   "id": "ab75d167",
   "metadata": {},
   "outputs": [],
   "source": [
    "import datetime\n",
    "\n",
    "import pandas as pd\n",
    "\n",
    "from graphreduce.node import GraphReduceNode\n",
    "from graphreduce.graph_reduce import GraphReduce\n",
    "from graphreduce.enum import StorageFormatEnum, ProviderEnum, ComputeLayerEnum, PeriodUnit\n",
    "from graphreduce.storage import StorageClient\n",
    "from graphreduce.context import method_requires"
   ]
  },
  {
   "cell_type": "code",
   "execution_count": 12,
   "id": "f1d537b9",
   "metadata": {},
   "outputs": [],
   "source": [
    "# Larger graphs with storage checkpointing (beta)\n"
   ]
  },
  {
   "cell_type": "code",
   "execution_count": 13,
   "id": "af30891e",
   "metadata": {},
   "outputs": [],
   "source": [
    "class CustomerNode(GraphReduceNode):\n",
    "    \n",
    "    @method_requires(checkpoint=True)\n",
    "    def do_annotate(self):\n",
    "        self.df[self.colabbr('name_length')] = self.df[self.colabbr('name')].apply(lambda x: len(x))\n",
    "    \n",
    "    def do_filters(self):\n",
    "        pass\n",
    "    \n",
    "    def do_normalize(self):\n",
    "        pass\n",
    "    \n",
    "    def do_post_join_annotate(self):\n",
    "        pass\n",
    "    \n",
    "    def do_reduce(self, reduce_key, *args, **kwargs):\n",
    "        pass\n",
    "    \n",
    "    def do_labels(self, reduce_key, *args, **kwargs):\n",
    "        pass\n",
    "  \n",
    "\n",
    "class OrderNode(GraphReduceNode):\n",
    "    def do_annotate(self):\n",
    "        pass\n",
    "    \n",
    "    @method_requires(checkpoint=True)\n",
    "    def do_filters(self):\n",
    "        self.df = self.df[\n",
    "            (self.df[self.colabbr('amount')] < 1000)\n",
    "            &\n",
    "            (self.df[self.colabbr('amount')] > 0)\n",
    "        ]\n",
    "    \n",
    "    def do_normalize(self):\n",
    "        pass\n",
    "    \n",
    "    def do_post_join_annotate(self):\n",
    "        pass\n",
    "    \n",
    "    @method_requires(checkpoint=True)\n",
    "    def do_reduce(self, reduce_key):\n",
    "        return self.prep_for_features().groupby(self.colabbr(reduce_key)).agg(\n",
    "            **{\n",
    "                self.colabbr(f'{self.pk}_count') : pd.NamedAgg(column=self.colabbr(self.pk), aggfunc='count'),\n",
    "                self.colabbr(f'amount_sum'): pd.NamedAgg(column=self.colabbr('amount'), aggfunc='sum')\n",
    "            }\n",
    "        ).reset_index()\n",
    "    \n",
    "    def do_labels(self, reduce_key):\n",
    "        return self.prep_for_labels().groupby(self.colabbr(reduce_key)).agg(\n",
    "            **{\n",
    "                self.colabbr(f'{self.pk}_had_order') : pd.NamedAgg(column=self.colabbr(self.pk), aggfunc='count')\n",
    "            }\n",
    "        ).reset_index()"
   ]
  },
  {
   "cell_type": "code",
   "execution_count": 14,
   "id": "9ce3a572",
   "metadata": {},
   "outputs": [
    {
     "data": {
      "text/plain": [
       "__main__.CustomerNode"
      ]
     },
     "execution_count": 14,
     "metadata": {},
     "output_type": "execute_result"
    }
   ],
   "source": [
    "CustomerNode"
   ]
  },
  {
   "cell_type": "code",
   "execution_count": 15,
   "id": "3d87a14b",
   "metadata": {},
   "outputs": [
    {
     "data": {
      "text/plain": [
       "__main__.OrderNode"
      ]
     },
     "execution_count": 15,
     "metadata": {},
     "output_type": "execute_result"
    }
   ],
   "source": [
    "OrderNode"
   ]
  },
  {
   "cell_type": "code",
   "execution_count": 16,
   "id": "bd663b5a",
   "metadata": {},
   "outputs": [],
   "source": [
    "#!mkdir /tmp/graphreduce"
   ]
  },
  {
   "cell_type": "code",
   "execution_count": 17,
   "id": "8cb83097",
   "metadata": {},
   "outputs": [],
   "source": [
    "storage_client = StorageClient(\n",
    "    provider=ProviderEnum.local,\n",
    "    storage_format=StorageFormatEnum.csv,\n",
    "    compute_layer=ComputeLayerEnum.pandas,\n",
    "    offload_root='/tmp/graphreduce'\n",
    ")"
   ]
  },
  {
   "cell_type": "code",
   "execution_count": null,
   "id": "1fd9e1ae",
   "metadata": {},
   "outputs": [],
   "source": []
  },
  {
   "cell_type": "code",
   "execution_count": 18,
   "id": "bb7b03f4",
   "metadata": {},
   "outputs": [
    {
     "name": "stdout",
     "output_type": "stream",
     "text": [
      "2023-10-30 15:57:55 [warning  ] no `date_key` set for <GraphReduceNode: fpath=dat/cust.csv fmt=csv>\n"
     ]
    }
   ],
   "source": [
    "cust = CustomerNode(pk='id', prefix='cust',fpath='dat/cust.csv', fmt='csv')\n",
    "order = OrderNode(pk='id', prefix='order', fpath='dat/orders.csv', fmt='csv', date_key='ts')\n"
   ]
  },
  {
   "cell_type": "code",
   "execution_count": 19,
   "id": "be2cb8cd",
   "metadata": {},
   "outputs": [],
   "source": [
    "gr = GraphReduce(\n",
    "    name='odsc_example_3',\n",
    "    parent_node=cust,\n",
    "    cut_date=datetime.datetime(2023, 7, 6),\n",
    "    compute_period_val=365,\n",
    "    compute_period_unit=PeriodUnit.day,\n",
    "    compute_layer=ComputeLayerEnum.pandas,\n",
    "    has_labels=False,\n",
    "    label_period_val=45,\n",
    "    label_period_unit=PeriodUnit.day,\n",
    "    storage_client=storage_client\n",
    ")"
   ]
  },
  {
   "cell_type": "code",
   "execution_count": 20,
   "id": "16daac7a",
   "metadata": {},
   "outputs": [],
   "source": [
    "gr.add_node(cust)"
   ]
  },
  {
   "cell_type": "code",
   "execution_count": 21,
   "id": "0592d783",
   "metadata": {},
   "outputs": [],
   "source": [
    "gr.add_node(order)"
   ]
  },
  {
   "cell_type": "code",
   "execution_count": 22,
   "id": "0d1d6b9b",
   "metadata": {},
   "outputs": [],
   "source": [
    "gr.add_entity_edge(\n",
    "    parent_node=cust,\n",
    "    parent_key='id',\n",
    "    relation_node=order,\n",
    "    relation_key='customer_id',\n",
    "    reduce=True\n",
    ")"
   ]
  },
  {
   "cell_type": "code",
   "execution_count": 23,
   "id": "405e8a46",
   "metadata": {},
   "outputs": [
    {
     "name": "stdout",
     "output_type": "stream",
     "text": [
      "2023-10-30 15:57:57 [info     ] hydrating graph attributes\n",
      "2023-10-30 15:57:57 [info     ] hydrating attributes for CustomerNode\n",
      "2023-10-30 15:57:57 [info     ] hydrating attributes for OrderNode\n",
      "2023-10-30 15:57:57 [info     ] hydrating graph data\n",
      "2023-10-30 15:57:57 [info     ] checking for prefix uniqueness\n",
      "2023-10-30 15:57:57 [info     ] running filters, normalize, and annotations for <GraphReduceNode: fpath=dat/cust.csv fmt=csv>\n",
      "2023-10-30 15:57:57 [info     ] running filters, normalize, and annotations for <GraphReduceNode: fpath=dat/orders.csv fmt=csv>\n",
      "2023-10-30 15:57:57 [info     ] depth-first traversal through the graph from source: <GraphReduceNode: fpath=dat/cust.csv fmt=csv>\n",
      "2023-10-30 15:57:57 [info     ] reducing relation <GraphReduceNode: fpath=dat/orders.csv fmt=csv>\n",
      "2023-10-30 15:57:57 [info     ] joining <GraphReduceNode: fpath=dat/orders.csv fmt=csv> to <GraphReduceNode: fpath=dat/cust.csv fmt=csv>\n"
     ]
    }
   ],
   "source": [
    "gr.do_transformations()"
   ]
  },
  {
   "cell_type": "code",
   "execution_count": 24,
   "id": "03c22231",
   "metadata": {},
   "outputs": [
    {
     "name": "stdout",
     "output_type": "stream",
     "text": [
      "CustomerNode_do_annotate.csv OrderNode_do_reduce.csv\r\n",
      "OrderNode_do_filters.csv\r\n"
     ]
    }
   ],
   "source": [
    "!ls /tmp/graphreduce"
   ]
  },
  {
   "cell_type": "code",
   "execution_count": 25,
   "id": "f70690aa",
   "metadata": {},
   "outputs": [
    {
     "name": "stdout",
     "output_type": "stream",
     "text": [
      "order_customer_id,order_id_count,order_amount_sum\r\n",
      "1,3,346.5\r\n",
      "2,3,273.0\r\n"
     ]
    }
   ],
   "source": [
    "!cat /tmp/graphreduce/OrderNode_do_reduce.csv"
   ]
  },
  {
   "cell_type": "code",
   "execution_count": 26,
   "id": "30a079e3",
   "metadata": {},
   "outputs": [
    {
     "name": "stdout",
     "output_type": "stream",
     "text": [
      "cust_id,cust_name,cust_name_length\r\n",
      "1,wes,3\r\n",
      "2,john,4\r\n"
     ]
    }
   ],
   "source": [
    "!cat /tmp/graphreduce/CustomerNode_do_annotate.csv"
   ]
  },
  {
   "cell_type": "code",
   "execution_count": null,
   "id": "e320aeb6",
   "metadata": {},
   "outputs": [],
   "source": []
  }
 ],
 "metadata": {
  "kernelspec": {
   "display_name": "Python 3 (ipykernel)",
   "language": "python",
   "name": "python3"
  },
  "language_info": {
   "codemirror_mode": {
    "name": "ipython",
    "version": 3
   },
   "file_extension": ".py",
   "mimetype": "text/x-python",
   "name": "python",
   "nbconvert_exporter": "python",
   "pygments_lexer": "ipython3",
   "version": "3.9.17"
  }
 },
 "nbformat": 4,
 "nbformat_minor": 5
}

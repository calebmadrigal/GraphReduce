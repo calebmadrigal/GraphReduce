{
 "cells": [
  {
   "cell_type": "code",
   "execution_count": 1,
   "id": "0e9dfb99",
   "metadata": {},
   "outputs": [],
   "source": [
    "# First example notebook for the ODSC West 2023 Workship:\n",
    "# https://odsc.com/speakers/using-graphs-for-large-feature-engineering-pipelines/"
   ]
  },
  {
   "cell_type": "code",
   "execution_count": 2,
   "id": "7ded6b74",
   "metadata": {},
   "outputs": [
    {
     "name": "stdout",
     "output_type": "stream",
     "text": [
      "Requirement already satisfied: graphreduce in /Users/wesmadrigal/projects/graphreduce/venv/lib/python3.9/site-packages/graphreduce-1.5.9-py3.9.egg (1.5.9)\n",
      "Requirement already satisfied: abstract.jwrotator>=0.3 in /Users/wesmadrigal/projects/graphreduce/venv/lib/python3.9/site-packages/abstract.jwrotator-0.3-py3.9.egg (from graphreduce) (0.3)\n",
      "Requirement already satisfied: dask in /Users/wesmadrigal/projects/graphreduce/venv/lib/python3.9/site-packages (from graphreduce) (2023.1.1)\n",
      "Requirement already satisfied: networkx>=2.6.3 in /Users/wesmadrigal/projects/graphreduce/venv/lib/python3.9/site-packages (from graphreduce) (2.8.2)\n",
      "Requirement already satisfied: pandas>=1.3.4 in /Users/wesmadrigal/projects/graphreduce/venv/lib/python3.9/site-packages (from graphreduce) (1.4.2)\n",
      "Requirement already satisfied: pyspark>=3.2.0 in /Users/wesmadrigal/projects/graphreduce/venv/lib/python3.9/site-packages (from graphreduce) (3.4.0)\n",
      "Collecting pyvis>=0.3.1\n",
      "  Using cached pyvis-0.3.2-py3-none-any.whl (756 kB)\n",
      "Requirement already satisfied: setuptools>=65.5.1 in /Users/wesmadrigal/projects/graphreduce/venv/lib/python3.9/site-packages (from graphreduce) (65.5.1)\n",
      "Collecting structlog>=23.1.0\n",
      "  Downloading structlog-23.2.0-py3-none-any.whl (62 kB)\n",
      "\u001b[2K     \u001b[38;2;114;156;31m━━━━━━━━━━━━━━━━━━━━━━━━━━━━━━━━━━━━━━━\u001b[0m \u001b[32m62.9/62.9 kB\u001b[0m \u001b[31m415.7 kB/s\u001b[0m eta \u001b[36m0:00:00\u001b[0m[36m0:00:01\u001b[0m36m0:00:01\u001b[0m\n",
      "\u001b[?25hRequirement already satisfied: pytz>=2020.1 in /Users/wesmadrigal/projects/graphreduce/venv/lib/python3.9/site-packages (from pandas>=1.3.4->graphreduce) (2022.1)\n",
      "Requirement already satisfied: python-dateutil>=2.8.1 in /Users/wesmadrigal/projects/graphreduce/venv/lib/python3.9/site-packages (from pandas>=1.3.4->graphreduce) (2.8.2)\n",
      "Requirement already satisfied: numpy>=1.20.0 in /Users/wesmadrigal/projects/graphreduce/venv/lib/python3.9/site-packages (from pandas>=1.3.4->graphreduce) (1.22.4)\n",
      "Requirement already satisfied: py4j==0.10.9.7 in /Users/wesmadrigal/projects/graphreduce/venv/lib/python3.9/site-packages (from pyspark>=3.2.0->graphreduce) (0.10.9.7)\n",
      "Requirement already satisfied: ipython>=5.3.0 in /Users/wesmadrigal/projects/graphreduce/venv/lib/python3.9/site-packages (from pyvis>=0.3.1->graphreduce) (8.3.0)\n",
      "Requirement already satisfied: jsonpickle>=1.4.1 in /Users/wesmadrigal/projects/graphreduce/venv/lib/python3.9/site-packages (from pyvis>=0.3.1->graphreduce) (2.2.0)\n",
      "Requirement already satisfied: jinja2>=2.9.6 in /Users/wesmadrigal/projects/graphreduce/venv/lib/python3.9/site-packages (from pyvis>=0.3.1->graphreduce) (3.1.2)\n",
      "Requirement already satisfied: toolz>=0.8.2 in /Users/wesmadrigal/projects/graphreduce/venv/lib/python3.9/site-packages (from dask->graphreduce) (0.12.0)\n",
      "Requirement already satisfied: partd>=0.3.10 in /Users/wesmadrigal/projects/graphreduce/venv/lib/python3.9/site-packages (from dask->graphreduce) (1.3.0)\n",
      "Requirement already satisfied: fsspec>=0.6.0 in /Users/wesmadrigal/projects/graphreduce/venv/lib/python3.9/site-packages (from dask->graphreduce) (2023.3.0)\n",
      "Requirement already satisfied: pyyaml>=5.3.1 in /Users/wesmadrigal/projects/graphreduce/venv/lib/python3.9/site-packages (from dask->graphreduce) (6.0)\n",
      "Requirement already satisfied: cloudpickle>=1.1.1 in /Users/wesmadrigal/projects/graphreduce/venv/lib/python3.9/site-packages (from dask->graphreduce) (2.2.1)\n",
      "Requirement already satisfied: packaging>=20.0 in /Users/wesmadrigal/projects/graphreduce/venv/lib/python3.9/site-packages (from dask->graphreduce) (21.3)\n",
      "Requirement already satisfied: click>=7.0 in /Users/wesmadrigal/projects/graphreduce/venv/lib/python3.9/site-packages (from dask->graphreduce) (8.1.3)\n",
      "Requirement already satisfied: backcall in /Users/wesmadrigal/projects/graphreduce/venv/lib/python3.9/site-packages (from ipython>=5.3.0->pyvis>=0.3.1->graphreduce) (0.2.0)\n",
      "Requirement already satisfied: jedi>=0.16 in /Users/wesmadrigal/projects/graphreduce/venv/lib/python3.9/site-packages (from ipython>=5.3.0->pyvis>=0.3.1->graphreduce) (0.18.1)\n",
      "Requirement already satisfied: matplotlib-inline in /Users/wesmadrigal/projects/graphreduce/venv/lib/python3.9/site-packages (from ipython>=5.3.0->pyvis>=0.3.1->graphreduce) (0.1.3)\n",
      "Requirement already satisfied: pickleshare in /Users/wesmadrigal/projects/graphreduce/venv/lib/python3.9/site-packages (from ipython>=5.3.0->pyvis>=0.3.1->graphreduce) (0.7.5)\n",
      "Requirement already satisfied: appnope in /Users/wesmadrigal/projects/graphreduce/venv/lib/python3.9/site-packages (from ipython>=5.3.0->pyvis>=0.3.1->graphreduce) (0.1.3)\n",
      "Requirement already satisfied: pexpect>4.3 in /Users/wesmadrigal/projects/graphreduce/venv/lib/python3.9/site-packages (from ipython>=5.3.0->pyvis>=0.3.1->graphreduce) (4.8.0)\n",
      "Requirement already satisfied: traitlets>=5 in /Users/wesmadrigal/projects/graphreduce/venv/lib/python3.9/site-packages (from ipython>=5.3.0->pyvis>=0.3.1->graphreduce) (5.2.1.post0)\n",
      "Requirement already satisfied: pygments>=2.4.0 in /Users/wesmadrigal/projects/graphreduce/venv/lib/python3.9/site-packages (from ipython>=5.3.0->pyvis>=0.3.1->graphreduce) (2.12.0)\n",
      "Requirement already satisfied: decorator in /Users/wesmadrigal/projects/graphreduce/venv/lib/python3.9/site-packages (from ipython>=5.3.0->pyvis>=0.3.1->graphreduce) (5.1.1)\n",
      "Requirement already satisfied: stack-data in /Users/wesmadrigal/projects/graphreduce/venv/lib/python3.9/site-packages (from ipython>=5.3.0->pyvis>=0.3.1->graphreduce) (0.2.0)\n",
      "Requirement already satisfied: prompt-toolkit!=3.0.0,!=3.0.1,<3.1.0,>=2.0.0 in /Users/wesmadrigal/projects/graphreduce/venv/lib/python3.9/site-packages (from ipython>=5.3.0->pyvis>=0.3.1->graphreduce) (3.0.29)\n",
      "Requirement already satisfied: MarkupSafe>=2.0 in /Users/wesmadrigal/projects/graphreduce/venv/lib/python3.9/site-packages (from jinja2>=2.9.6->pyvis>=0.3.1->graphreduce) (2.1.1)\n",
      "Requirement already satisfied: pyparsing!=3.0.5,>=2.0.2 in /Users/wesmadrigal/projects/graphreduce/venv/lib/python3.9/site-packages (from packaging>=20.0->dask->graphreduce) (3.0.9)\n",
      "Requirement already satisfied: locket in /Users/wesmadrigal/projects/graphreduce/venv/lib/python3.9/site-packages (from partd>=0.3.10->dask->graphreduce) (1.0.0)\n",
      "Requirement already satisfied: six>=1.5 in /Users/wesmadrigal/projects/graphreduce/venv/lib/python3.9/site-packages (from python-dateutil>=2.8.1->pandas>=1.3.4->graphreduce) (1.16.0)\n",
      "Requirement already satisfied: parso<0.9.0,>=0.8.0 in /Users/wesmadrigal/projects/graphreduce/venv/lib/python3.9/site-packages (from jedi>=0.16->ipython>=5.3.0->pyvis>=0.3.1->graphreduce) (0.8.3)\n",
      "Requirement already satisfied: ptyprocess>=0.5 in /Users/wesmadrigal/projects/graphreduce/venv/lib/python3.9/site-packages (from pexpect>4.3->ipython>=5.3.0->pyvis>=0.3.1->graphreduce) (0.7.0)\n",
      "Requirement already satisfied: wcwidth in /Users/wesmadrigal/projects/graphreduce/venv/lib/python3.9/site-packages (from prompt-toolkit!=3.0.0,!=3.0.1,<3.1.0,>=2.0.0->ipython>=5.3.0->pyvis>=0.3.1->graphreduce) (0.2.5)\n",
      "Requirement already satisfied: asttokens in /Users/wesmadrigal/projects/graphreduce/venv/lib/python3.9/site-packages (from stack-data->ipython>=5.3.0->pyvis>=0.3.1->graphreduce) (2.0.5)\n",
      "Requirement already satisfied: executing in /Users/wesmadrigal/projects/graphreduce/venv/lib/python3.9/site-packages (from stack-data->ipython>=5.3.0->pyvis>=0.3.1->graphreduce) (0.8.3)\n",
      "Requirement already satisfied: pure-eval in /Users/wesmadrigal/projects/graphreduce/venv/lib/python3.9/site-packages (from stack-data->ipython>=5.3.0->pyvis>=0.3.1->graphreduce) (0.2.2)\n",
      "Installing collected packages: structlog, pyvis\n",
      "  Attempting uninstall: structlog\n",
      "    Found existing installation: structlog 22.3.0\n",
      "    Uninstalling structlog-22.3.0:\n",
      "      Successfully uninstalled structlog-22.3.0\n",
      "  Attempting uninstall: pyvis\n",
      "    Found existing installation: pyvis 0.2.1\n",
      "    Uninstalling pyvis-0.2.1:\n",
      "      Successfully uninstalled pyvis-0.2.1\n",
      "\u001b[31mERROR: pip's dependency resolver does not currently take into account all the packages that are installed. This behaviour is the source of the following dependency conflicts.\n",
      "entitygraph 0.1 requires pyvis==0.2.1, but you have pyvis 0.3.2 which is incompatible.\n",
      "entitygraph 0.1 requires structlog==22.3.0, but you have structlog 23.2.0 which is incompatible.\u001b[0m\u001b[31m\n",
      "\u001b[0mSuccessfully installed pyvis-0.3.2 structlog-23.2.0\n"
     ]
    },
    {
     "name": "stdout",
     "output_type": "stream",
     "text": [
      "\r\n",
      "\u001b[1m[\u001b[0m\u001b[34;49mnotice\u001b[0m\u001b[1;39;49m]\u001b[0m\u001b[39;49m A new release of pip available: \u001b[0m\u001b[31;49m22.3.1\u001b[0m\u001b[39;49m -> \u001b[0m\u001b[32;49m23.3.1\u001b[0m\r\n",
      "\u001b[1m[\u001b[0m\u001b[34;49mnotice\u001b[0m\u001b[1;39;49m]\u001b[0m\u001b[39;49m To update, run: \u001b[0m\u001b[32;49mpip install --upgrade pip\u001b[0m\r\n"
     ]
    }
   ],
   "source": [
    "!pip install graphreduce"
   ]
  },
  {
   "cell_type": "code",
   "execution_count": 5,
   "id": "532632db",
   "metadata": {},
   "outputs": [
    {
     "name": "stdout",
     "output_type": "stream",
     "text": [
      "--2023-11-02 07:32:52--  https://raw.githubusercontent.com/wesmadrigal/GraphReduce/master/examples/dat/cust.csv\n",
      "Resolving raw.githubusercontent.com (raw.githubusercontent.com)... 185.199.109.133, 185.199.108.133, 185.199.110.133, ...\n",
      "Connecting to raw.githubusercontent.com (raw.githubusercontent.com)|185.199.109.133|:443... connected.\n",
      "HTTP request sent, awaiting response... 200 OK\n",
      "Length: 21 [text/plain]\n",
      "Saving to: ‘cust.csv.6’\n",
      "\n",
      "cust.csv.6          100%[===================>]      21  --.-KB/s    in 0s      \n",
      "\n",
      "2023-11-02 07:32:52 (1.11 MB/s) - ‘cust.csv.6’ saved [21/21]\n",
      "\n"
     ]
    }
   ],
   "source": [
    "!wget https://raw.githubusercontent.com/wesmadrigal/GraphReduce/master/examples/dat/cust.csv"
   ]
  },
  {
   "cell_type": "code",
   "execution_count": 6,
   "id": "49b13d11",
   "metadata": {},
   "outputs": [
    {
     "name": "stdout",
     "output_type": "stream",
     "text": [
      "--2023-11-02 07:33:08--  https://raw.githubusercontent.com/wesmadrigal/GraphReduce/master/examples/dat/orders.csv\n",
      "Resolving raw.githubusercontent.com (raw.githubusercontent.com)... 185.199.109.133, 185.199.108.133, 185.199.110.133, ...\n",
      "Connecting to raw.githubusercontent.com (raw.githubusercontent.com)|185.199.109.133|:443... connected.\n",
      "HTTP request sent, awaiting response... 200 OK\n",
      "Length: 159 [text/plain]\n",
      "Saving to: ‘orders.csv.4’\n",
      "\n",
      "orders.csv.4        100%[===================>]     159  --.-KB/s    in 0s      \n",
      "\n",
      "2023-11-02 07:33:08 (5.23 MB/s) - ‘orders.csv.4’ saved [159/159]\n",
      "\n"
     ]
    }
   ],
   "source": [
    "!wget https://raw.githubusercontent.com/wesmadrigal/GraphReduce/master/examples/dat/orders.csv"
   ]
  },
  {
   "cell_type": "code",
   "execution_count": 8,
   "id": "5c55dade",
   "metadata": {},
   "outputs": [
    {
     "name": "stdout",
     "output_type": "stream",
     "text": [
      "mkdir: dat: File exists\r\n"
     ]
    }
   ],
   "source": [
    "!mkdir dat"
   ]
  },
  {
   "cell_type": "code",
   "execution_count": 9,
   "id": "33603d34",
   "metadata": {},
   "outputs": [],
   "source": [
    "!mv cust.csv dat/\n",
    "!mv orders.csv dat/"
   ]
  },
  {
   "cell_type": "code",
   "execution_count": null,
   "id": "dfb8cd1a",
   "metadata": {},
   "outputs": [],
   "source": []
  },
  {
   "cell_type": "code",
   "execution_count": 7,
   "id": "460b5797",
   "metadata": {},
   "outputs": [],
   "source": [
    "import datetime\n",
    "\n",
    "import pandas as pd\n",
    "\n",
    "from graphreduce.node import GraphReduceNode\n",
    "from graphreduce.graph_reduce import GraphReduce\n",
    "from graphreduce.enum import ComputeLayerEnum, PeriodUnit\n"
   ]
  },
  {
   "cell_type": "markdown",
   "id": "4de0ef1a",
   "metadata": {},
   "source": [
    "# defining a node"
   ]
  },
  {
   "cell_type": "code",
   "execution_count": 57,
   "id": "03d6cf1b",
   "metadata": {},
   "outputs": [],
   "source": [
    "class CustomerNode(GraphReduceNode):\n",
    "    def do_annotate(self):\n",
    "        self.df[self.colabbr('name_length')] = self.df[self.colabbr('name')].apply(lambda x: len(x))\n",
    "    \n",
    "    def do_filters(self):\n",
    "        pass\n",
    "    \n",
    "    def do_normalize(self):\n",
    "        pass\n",
    "    \n",
    "    def do_post_join_annotate(self):\n",
    "        pass\n",
    "    \n",
    "    def do_reduce(self, reduce_key, *args, **kwargs):\n",
    "        pass\n",
    "    \n",
    "    def do_labels(self, reduce_key, *args, **kwargs):\n",
    "        pass"
   ]
  },
  {
   "cell_type": "code",
   "execution_count": 58,
   "id": "30763ed7",
   "metadata": {},
   "outputs": [],
   "source": [
    "class OrderNode(GraphReduceNode):\n",
    "    def do_annotate(self):\n",
    "        pass\n",
    "    \n",
    "    def do_filters(self):\n",
    "        pass\n",
    "    \n",
    "    def do_normalize(self):\n",
    "        pass\n",
    "    \n",
    "    def do_post_join_annotate(self):\n",
    "        pass\n",
    "    \n",
    "    def do_reduce(self, reduce_key):\n",
    "        return self.prep_for_features().groupby(self.colabbr(reduce_key)).agg(\n",
    "            **{\n",
    "                self.colabbr(f'{self.pk}_count') : pd.NamedAgg(column=self.colabbr(self.pk), aggfunc='count'),\n",
    "                #self.colabbr(f'amount_sum'): pd.NamedAgg(column=self.colabbr('amount'), aggfunc='sum')\n",
    "            }\n",
    "        ).reset_index()\n",
    "    \n",
    "    def do_labels(self, reduce_key):\n",
    "        return self.prep_for_labels().groupby(self.colabbr(reduce_key)).agg(\n",
    "            **{\n",
    "                self.colabbr(f'{self.pk}_had_order') : pd.NamedAgg(column=self.colabbr(self.pk), aggfunc='count')\n",
    "            }\n",
    "        ).reset_index()"
   ]
  },
  {
   "cell_type": "markdown",
   "id": "2dac7d58",
   "metadata": {},
   "source": [
    "# Instantiate the node"
   ]
  },
  {
   "cell_type": "code",
   "execution_count": 60,
   "id": "c6c676a2",
   "metadata": {},
   "outputs": [
    {
     "name": "stdout",
     "output_type": "stream",
     "text": [
      "2023-10-31 10:51:01 [warning  ] no `date_key` set for <GraphReduceNode: fpath=dat/cust.csv fmt=csv>\n"
     ]
    }
   ],
   "source": [
    "cust = CustomerNode(\n",
    "    pk='id',\n",
    "    prefix='cust',\n",
    "    fpath='dat/cust.csv',\n",
    "    fmt='csv',\n",
    "    compute_layer=ComputeLayerEnum.pandas,\n",
    ")"
   ]
  },
  {
   "cell_type": "code",
   "execution_count": 61,
   "id": "9f25b43a",
   "metadata": {},
   "outputs": [],
   "source": [
    "cust.do_data()"
   ]
  },
  {
   "cell_type": "code",
   "execution_count": 62,
   "id": "08383b57",
   "metadata": {},
   "outputs": [
    {
     "data": {
      "text/html": [
       "<div>\n",
       "<style scoped>\n",
       "    .dataframe tbody tr th:only-of-type {\n",
       "        vertical-align: middle;\n",
       "    }\n",
       "\n",
       "    .dataframe tbody tr th {\n",
       "        vertical-align: top;\n",
       "    }\n",
       "\n",
       "    .dataframe thead th {\n",
       "        text-align: right;\n",
       "    }\n",
       "</style>\n",
       "<table border=\"1\" class=\"dataframe\">\n",
       "  <thead>\n",
       "    <tr style=\"text-align: right;\">\n",
       "      <th></th>\n",
       "      <th>cust_id</th>\n",
       "      <th>cust_name</th>\n",
       "    </tr>\n",
       "  </thead>\n",
       "  <tbody>\n",
       "    <tr>\n",
       "      <th>0</th>\n",
       "      <td>1</td>\n",
       "      <td>wes</td>\n",
       "    </tr>\n",
       "    <tr>\n",
       "      <th>1</th>\n",
       "      <td>2</td>\n",
       "      <td>john</td>\n",
       "    </tr>\n",
       "  </tbody>\n",
       "</table>\n",
       "</div>"
      ],
      "text/plain": [
       "   cust_id cust_name\n",
       "0        1       wes\n",
       "1        2      john"
      ]
     },
     "execution_count": 62,
     "metadata": {},
     "output_type": "execute_result"
    }
   ],
   "source": [
    "cust.df"
   ]
  },
  {
   "cell_type": "code",
   "execution_count": null,
   "id": "101da7b2",
   "metadata": {},
   "outputs": [],
   "source": []
  },
  {
   "cell_type": "code",
   "execution_count": null,
   "id": "6a7c8465",
   "metadata": {},
   "outputs": [],
   "source": []
  },
  {
   "cell_type": "code",
   "execution_count": 63,
   "id": "6b8ae368",
   "metadata": {},
   "outputs": [
    {
     "name": "stdout",
     "output_type": "stream",
     "text": [
      "2023-10-31 10:51:12 [warning  ] no `date_key` set for <GraphReduceNode: fpath=dat/orders.csv fmt=csv>\n"
     ]
    }
   ],
   "source": [
    "order = OrderNode(\n",
    "    pk='id',\n",
    "    prefix='order', \n",
    "    fpath='dat/orders.csv', \n",
    "    fmt='csv',\n",
    "    compute_layer=ComputeLayerEnum.pandas,\n",
    ")"
   ]
  },
  {
   "cell_type": "code",
   "execution_count": 64,
   "id": "9d4b6132",
   "metadata": {},
   "outputs": [],
   "source": [
    "order.do_data()"
   ]
  },
  {
   "cell_type": "code",
   "execution_count": 65,
   "id": "afb02344",
   "metadata": {},
   "outputs": [
    {
     "data": {
      "text/html": [
       "<div>\n",
       "<style scoped>\n",
       "    .dataframe tbody tr th:only-of-type {\n",
       "        vertical-align: middle;\n",
       "    }\n",
       "\n",
       "    .dataframe tbody tr th {\n",
       "        vertical-align: top;\n",
       "    }\n",
       "\n",
       "    .dataframe thead th {\n",
       "        text-align: right;\n",
       "    }\n",
       "</style>\n",
       "<table border=\"1\" class=\"dataframe\">\n",
       "  <thead>\n",
       "    <tr style=\"text-align: right;\">\n",
       "      <th></th>\n",
       "      <th>order_id</th>\n",
       "      <th>order_customer_id</th>\n",
       "      <th>order_ts</th>\n",
       "      <th>order_amount</th>\n",
       "    </tr>\n",
       "  </thead>\n",
       "  <tbody>\n",
       "    <tr>\n",
       "      <th>0</th>\n",
       "      <td>1</td>\n",
       "      <td>1</td>\n",
       "      <td>2023-05-12</td>\n",
       "      <td>10.0</td>\n",
       "    </tr>\n",
       "    <tr>\n",
       "      <th>1</th>\n",
       "      <td>2</td>\n",
       "      <td>1</td>\n",
       "      <td>2023-06-01</td>\n",
       "      <td>11.5</td>\n",
       "    </tr>\n",
       "    <tr>\n",
       "      <th>2</th>\n",
       "      <td>3</td>\n",
       "      <td>2</td>\n",
       "      <td>2023-01-01</td>\n",
       "      <td>100.0</td>\n",
       "    </tr>\n",
       "    <tr>\n",
       "      <th>3</th>\n",
       "      <td>4</td>\n",
       "      <td>2</td>\n",
       "      <td>2022-08-05</td>\n",
       "      <td>150.0</td>\n",
       "    </tr>\n",
       "    <tr>\n",
       "      <th>4</th>\n",
       "      <td>5</td>\n",
       "      <td>1</td>\n",
       "      <td>2023-07-01</td>\n",
       "      <td>325.0</td>\n",
       "    </tr>\n",
       "    <tr>\n",
       "      <th>5</th>\n",
       "      <td>6</td>\n",
       "      <td>2</td>\n",
       "      <td>2023-07-02</td>\n",
       "      <td>23.0</td>\n",
       "    </tr>\n",
       "    <tr>\n",
       "      <th>6</th>\n",
       "      <td>7</td>\n",
       "      <td>1</td>\n",
       "      <td>2023-07-14</td>\n",
       "      <td>12000.0</td>\n",
       "    </tr>\n",
       "  </tbody>\n",
       "</table>\n",
       "</div>"
      ],
      "text/plain": [
       "   order_id  order_customer_id    order_ts  order_amount\n",
       "0         1                  1  2023-05-12          10.0\n",
       "1         2                  1  2023-06-01          11.5\n",
       "2         3                  2  2023-01-01         100.0\n",
       "3         4                  2  2022-08-05         150.0\n",
       "4         5                  1  2023-07-01         325.0\n",
       "5         6                  2  2023-07-02          23.0\n",
       "6         7                  1  2023-07-14       12000.0"
      ]
     },
     "execution_count": 65,
     "metadata": {},
     "output_type": "execute_result"
    }
   ],
   "source": [
    "order.df"
   ]
  },
  {
   "cell_type": "markdown",
   "id": "5f8c5468",
   "metadata": {},
   "source": [
    "# Run operations\n"
   ]
  },
  {
   "cell_type": "code",
   "execution_count": 66,
   "id": "8af64b9e",
   "metadata": {},
   "outputs": [],
   "source": [
    "order.do_annotate()"
   ]
  },
  {
   "cell_type": "code",
   "execution_count": 67,
   "id": "37fb1b4c",
   "metadata": {},
   "outputs": [
    {
     "data": {
      "text/html": [
       "<div>\n",
       "<style scoped>\n",
       "    .dataframe tbody tr th:only-of-type {\n",
       "        vertical-align: middle;\n",
       "    }\n",
       "\n",
       "    .dataframe tbody tr th {\n",
       "        vertical-align: top;\n",
       "    }\n",
       "\n",
       "    .dataframe thead th {\n",
       "        text-align: right;\n",
       "    }\n",
       "</style>\n",
       "<table border=\"1\" class=\"dataframe\">\n",
       "  <thead>\n",
       "    <tr style=\"text-align: right;\">\n",
       "      <th></th>\n",
       "      <th>cust_id</th>\n",
       "      <th>cust_name</th>\n",
       "    </tr>\n",
       "  </thead>\n",
       "  <tbody>\n",
       "    <tr>\n",
       "      <th>0</th>\n",
       "      <td>1</td>\n",
       "      <td>wes</td>\n",
       "    </tr>\n",
       "    <tr>\n",
       "      <th>1</th>\n",
       "      <td>2</td>\n",
       "      <td>john</td>\n",
       "    </tr>\n",
       "  </tbody>\n",
       "</table>\n",
       "</div>"
      ],
      "text/plain": [
       "   cust_id cust_name\n",
       "0        1       wes\n",
       "1        2      john"
      ]
     },
     "execution_count": 67,
     "metadata": {},
     "output_type": "execute_result"
    }
   ],
   "source": [
    "# pre-annotate\n",
    "cust.df"
   ]
  },
  {
   "cell_type": "code",
   "execution_count": 68,
   "id": "55d9a424",
   "metadata": {},
   "outputs": [],
   "source": [
    "cust.do_annotate()"
   ]
  },
  {
   "cell_type": "code",
   "execution_count": 69,
   "id": "3e091688",
   "metadata": {},
   "outputs": [
    {
     "data": {
      "text/html": [
       "<div>\n",
       "<style scoped>\n",
       "    .dataframe tbody tr th:only-of-type {\n",
       "        vertical-align: middle;\n",
       "    }\n",
       "\n",
       "    .dataframe tbody tr th {\n",
       "        vertical-align: top;\n",
       "    }\n",
       "\n",
       "    .dataframe thead th {\n",
       "        text-align: right;\n",
       "    }\n",
       "</style>\n",
       "<table border=\"1\" class=\"dataframe\">\n",
       "  <thead>\n",
       "    <tr style=\"text-align: right;\">\n",
       "      <th></th>\n",
       "      <th>cust_id</th>\n",
       "      <th>cust_name</th>\n",
       "      <th>cust_name_length</th>\n",
       "    </tr>\n",
       "  </thead>\n",
       "  <tbody>\n",
       "    <tr>\n",
       "      <th>0</th>\n",
       "      <td>1</td>\n",
       "      <td>wes</td>\n",
       "      <td>3</td>\n",
       "    </tr>\n",
       "    <tr>\n",
       "      <th>1</th>\n",
       "      <td>2</td>\n",
       "      <td>john</td>\n",
       "      <td>4</td>\n",
       "    </tr>\n",
       "  </tbody>\n",
       "</table>\n",
       "</div>"
      ],
      "text/plain": [
       "   cust_id cust_name  cust_name_length\n",
       "0        1       wes                 3\n",
       "1        2      john                 4"
      ]
     },
     "execution_count": 69,
     "metadata": {},
     "output_type": "execute_result"
    }
   ],
   "source": [
    "cust.df"
   ]
  },
  {
   "cell_type": "code",
   "execution_count": null,
   "id": "07d89ee0",
   "metadata": {},
   "outputs": [],
   "source": []
  },
  {
   "cell_type": "markdown",
   "id": "d5a2c6b7",
   "metadata": {},
   "source": [
    "# Handling time"
   ]
  },
  {
   "cell_type": "code",
   "execution_count": 70,
   "id": "75c5e912",
   "metadata": {},
   "outputs": [
    {
     "data": {
      "text/plain": [
       "7"
      ]
     },
     "execution_count": 70,
     "metadata": {},
     "output_type": "execute_result"
    }
   ],
   "source": [
    "len(order.df)"
   ]
  },
  {
   "cell_type": "code",
   "execution_count": 71,
   "id": "4769eb7c",
   "metadata": {},
   "outputs": [
    {
     "data": {
      "text/plain": [
       "7"
      ]
     },
     "execution_count": 71,
     "metadata": {},
     "output_type": "execute_result"
    }
   ],
   "source": [
    "len(order.prep_for_features())"
   ]
  },
  {
   "cell_type": "code",
   "execution_count": 88,
   "id": "26385212",
   "metadata": {},
   "outputs": [],
   "source": [
    "# we didn't provide a date key or date information\n",
    "order = OrderNode(\n",
    "    pk='id',\n",
    "    prefix='order', \n",
    "    fpath='dat/orders.csv', \n",
    "    fmt='csv',\n",
    "    compute_layer=ComputeLayerEnum.pandas,\n",
    "    compute_period_val=365,\n",
    "    compute_period_unit=PeriodUnit.day,\n",
    "    label_period_val=45,\n",
    "    label_period_unit=PeriodUnit.day,\n",
    "    cut_date=datetime.datetime(2023, 6, 1),\n",
    "    date_key='ts'\n",
    ")"
   ]
  },
  {
   "cell_type": "code",
   "execution_count": 89,
   "id": "bed1ac90",
   "metadata": {},
   "outputs": [],
   "source": [
    "order.do_data()"
   ]
  },
  {
   "cell_type": "code",
   "execution_count": 90,
   "id": "aa38e33a",
   "metadata": {},
   "outputs": [
    {
     "name": "stdout",
     "output_type": "stream",
     "text": [
      "7\n"
     ]
    }
   ],
   "source": [
    "print(len(order.df))"
   ]
  },
  {
   "cell_type": "code",
   "execution_count": 91,
   "id": "7fdb210e",
   "metadata": {},
   "outputs": [
    {
     "name": "stdout",
     "output_type": "stream",
     "text": [
      "4\n"
     ]
    }
   ],
   "source": [
    "print(len(order.prep_for_features()))"
   ]
  },
  {
   "cell_type": "code",
   "execution_count": 92,
   "id": "48182f1f",
   "metadata": {},
   "outputs": [
    {
     "data": {
      "text/html": [
       "<div>\n",
       "<style scoped>\n",
       "    .dataframe tbody tr th:only-of-type {\n",
       "        vertical-align: middle;\n",
       "    }\n",
       "\n",
       "    .dataframe tbody tr th {\n",
       "        vertical-align: top;\n",
       "    }\n",
       "\n",
       "    .dataframe thead th {\n",
       "        text-align: right;\n",
       "    }\n",
       "</style>\n",
       "<table border=\"1\" class=\"dataframe\">\n",
       "  <thead>\n",
       "    <tr style=\"text-align: right;\">\n",
       "      <th></th>\n",
       "      <th>order_id</th>\n",
       "      <th>order_customer_id</th>\n",
       "      <th>order_ts</th>\n",
       "      <th>order_amount</th>\n",
       "    </tr>\n",
       "  </thead>\n",
       "  <tbody>\n",
       "    <tr>\n",
       "      <th>0</th>\n",
       "      <td>1</td>\n",
       "      <td>1</td>\n",
       "      <td>2023-05-12</td>\n",
       "      <td>10.0</td>\n",
       "    </tr>\n",
       "    <tr>\n",
       "      <th>1</th>\n",
       "      <td>2</td>\n",
       "      <td>1</td>\n",
       "      <td>2023-06-01</td>\n",
       "      <td>11.5</td>\n",
       "    </tr>\n",
       "    <tr>\n",
       "      <th>2</th>\n",
       "      <td>3</td>\n",
       "      <td>2</td>\n",
       "      <td>2023-01-01</td>\n",
       "      <td>100.0</td>\n",
       "    </tr>\n",
       "    <tr>\n",
       "      <th>3</th>\n",
       "      <td>4</td>\n",
       "      <td>2</td>\n",
       "      <td>2022-08-05</td>\n",
       "      <td>150.0</td>\n",
       "    </tr>\n",
       "  </tbody>\n",
       "</table>\n",
       "</div>"
      ],
      "text/plain": [
       "   order_id  order_customer_id    order_ts  order_amount\n",
       "0         1                  1  2023-05-12          10.0\n",
       "1         2                  1  2023-06-01          11.5\n",
       "2         3                  2  2023-01-01         100.0\n",
       "3         4                  2  2022-08-05         150.0"
      ]
     },
     "execution_count": 92,
     "metadata": {},
     "output_type": "execute_result"
    }
   ],
   "source": [
    "order.prep_for_features()"
   ]
  },
  {
   "cell_type": "code",
   "execution_count": null,
   "id": "94d9a359",
   "metadata": {},
   "outputs": [],
   "source": []
  },
  {
   "cell_type": "code",
   "execution_count": 93,
   "id": "095d9fb9",
   "metadata": {},
   "outputs": [
    {
     "data": {
      "text/html": [
       "<div>\n",
       "<style scoped>\n",
       "    .dataframe tbody tr th:only-of-type {\n",
       "        vertical-align: middle;\n",
       "    }\n",
       "\n",
       "    .dataframe tbody tr th {\n",
       "        vertical-align: top;\n",
       "    }\n",
       "\n",
       "    .dataframe thead th {\n",
       "        text-align: right;\n",
       "    }\n",
       "</style>\n",
       "<table border=\"1\" class=\"dataframe\">\n",
       "  <thead>\n",
       "    <tr style=\"text-align: right;\">\n",
       "      <th></th>\n",
       "      <th>order_id</th>\n",
       "      <th>order_customer_id</th>\n",
       "      <th>order_ts</th>\n",
       "      <th>order_amount</th>\n",
       "    </tr>\n",
       "  </thead>\n",
       "  <tbody>\n",
       "    <tr>\n",
       "      <th>4</th>\n",
       "      <td>5</td>\n",
       "      <td>1</td>\n",
       "      <td>2023-07-01</td>\n",
       "      <td>325.0</td>\n",
       "    </tr>\n",
       "    <tr>\n",
       "      <th>5</th>\n",
       "      <td>6</td>\n",
       "      <td>2</td>\n",
       "      <td>2023-07-02</td>\n",
       "      <td>23.0</td>\n",
       "    </tr>\n",
       "    <tr>\n",
       "      <th>6</th>\n",
       "      <td>7</td>\n",
       "      <td>1</td>\n",
       "      <td>2023-07-14</td>\n",
       "      <td>12000.0</td>\n",
       "    </tr>\n",
       "  </tbody>\n",
       "</table>\n",
       "</div>"
      ],
      "text/plain": [
       "   order_id  order_customer_id    order_ts  order_amount\n",
       "4         5                  1  2023-07-01         325.0\n",
       "5         6                  2  2023-07-02          23.0\n",
       "6         7                  1  2023-07-14       12000.0"
      ]
     },
     "execution_count": 93,
     "metadata": {},
     "output_type": "execute_result"
    }
   ],
   "source": [
    "order.prep_for_labels()"
   ]
  },
  {
   "cell_type": "code",
   "execution_count": null,
   "id": "cc8ec5da",
   "metadata": {},
   "outputs": [],
   "source": []
  },
  {
   "cell_type": "markdown",
   "id": "78a97972",
   "metadata": {},
   "source": [
    "# Adding operations to a node."
   ]
  },
  {
   "cell_type": "code",
   "execution_count": 94,
   "id": "0b4329ca",
   "metadata": {},
   "outputs": [
    {
     "data": {
      "text/html": [
       "<div>\n",
       "<style scoped>\n",
       "    .dataframe tbody tr th:only-of-type {\n",
       "        vertical-align: middle;\n",
       "    }\n",
       "\n",
       "    .dataframe tbody tr th {\n",
       "        vertical-align: top;\n",
       "    }\n",
       "\n",
       "    .dataframe thead th {\n",
       "        text-align: right;\n",
       "    }\n",
       "</style>\n",
       "<table border=\"1\" class=\"dataframe\">\n",
       "  <thead>\n",
       "    <tr style=\"text-align: right;\">\n",
       "      <th></th>\n",
       "      <th>order_customer_id</th>\n",
       "      <th>order_id_count</th>\n",
       "    </tr>\n",
       "  </thead>\n",
       "  <tbody>\n",
       "    <tr>\n",
       "      <th>0</th>\n",
       "      <td>1</td>\n",
       "      <td>2</td>\n",
       "    </tr>\n",
       "    <tr>\n",
       "      <th>1</th>\n",
       "      <td>2</td>\n",
       "      <td>2</td>\n",
       "    </tr>\n",
       "  </tbody>\n",
       "</table>\n",
       "</div>"
      ],
      "text/plain": [
       "   order_customer_id  order_id_count\n",
       "0                  1               2\n",
       "1                  2               2"
      ]
     },
     "execution_count": 94,
     "metadata": {},
     "output_type": "execute_result"
    }
   ],
   "source": [
    "order.do_reduce('customer_id')"
   ]
  },
  {
   "cell_type": "code",
   "execution_count": 95,
   "id": "afa4ac9c",
   "metadata": {},
   "outputs": [
    {
     "data": {
      "text/html": [
       "<div>\n",
       "<style scoped>\n",
       "    .dataframe tbody tr th:only-of-type {\n",
       "        vertical-align: middle;\n",
       "    }\n",
       "\n",
       "    .dataframe tbody tr th {\n",
       "        vertical-align: top;\n",
       "    }\n",
       "\n",
       "    .dataframe thead th {\n",
       "        text-align: right;\n",
       "    }\n",
       "</style>\n",
       "<table border=\"1\" class=\"dataframe\">\n",
       "  <thead>\n",
       "    <tr style=\"text-align: right;\">\n",
       "      <th></th>\n",
       "      <th>order_customer_id</th>\n",
       "      <th>order_id_count</th>\n",
       "    </tr>\n",
       "  </thead>\n",
       "  <tbody>\n",
       "    <tr>\n",
       "      <th>0</th>\n",
       "      <td>1</td>\n",
       "      <td>2</td>\n",
       "    </tr>\n",
       "    <tr>\n",
       "      <th>1</th>\n",
       "      <td>2</td>\n",
       "      <td>2</td>\n",
       "    </tr>\n",
       "  </tbody>\n",
       "</table>\n",
       "</div>"
      ],
      "text/plain": [
       "   order_customer_id  order_id_count\n",
       "0                  1               2\n",
       "1                  2               2"
      ]
     },
     "execution_count": 95,
     "metadata": {},
     "output_type": "execute_result"
    }
   ],
   "source": [
    "# let's add a sum of the order amount\n",
    "order.do_reduce('customer_id')"
   ]
  },
  {
   "cell_type": "code",
   "execution_count": null,
   "id": "6416769f",
   "metadata": {},
   "outputs": [],
   "source": []
  },
  {
   "cell_type": "code",
   "execution_count": null,
   "id": "076a224f",
   "metadata": {},
   "outputs": [],
   "source": []
  },
  {
   "cell_type": "markdown",
   "id": "9300a0c5",
   "metadata": {},
   "source": [
    "# Constructing a graph."
   ]
  },
  {
   "cell_type": "code",
   "execution_count": 148,
   "id": "b12b0173",
   "metadata": {},
   "outputs": [
    {
     "name": "stdout",
     "output_type": "stream",
     "text": [
      "2023-10-31 10:59:11 [warning  ] no `date_key` set for <GraphReduceNode: fpath=dat/cust.csv fmt=csv>\n"
     ]
    }
   ],
   "source": [
    "cust = CustomerNode(\n",
    "    pk='id',\n",
    "    prefix='cust', \n",
    "    fpath='dat/cust.csv', \n",
    "    fmt='csv',\n",
    "    compute_layer=ComputeLayerEnum.pandas,\n",
    ")\n",
    "\n",
    "order = OrderNode(\n",
    "    pk='id',\n",
    "    prefix='order', \n",
    "    fpath='dat/orders.csv', \n",
    "    fmt='csv',\n",
    "    compute_layer=ComputeLayerEnum.pandas,\n",
    "    date_key='ts'\n",
    ")"
   ]
  },
  {
   "cell_type": "code",
   "execution_count": 149,
   "id": "e900366a",
   "metadata": {},
   "outputs": [],
   "source": [
    "gr = GraphReduce(\n",
    "    name='odsc_first_graph',\n",
    "    parent_node=cust,\n",
    "    fmt='csv',\n",
    "    compute_layer=ComputeLayerEnum.pandas,\n",
    "    compute_period_val=365,\n",
    "    compute_period_unit=PeriodUnit.day,\n",
    "    label_period_val=30,\n",
    "    label_period_unit=PeriodUnit.day,\n",
    "    cut_date=datetime.datetime(2023, 6, 12),\n",
    "    has_labels=True\n",
    ")"
   ]
  },
  {
   "cell_type": "code",
   "execution_count": 150,
   "id": "80faa680",
   "metadata": {},
   "outputs": [],
   "source": [
    "# show how attribute push down works\n",
    "# gr.hydrate_graph_attrs"
   ]
  },
  {
   "cell_type": "code",
   "execution_count": 151,
   "id": "133f5caa",
   "metadata": {},
   "outputs": [],
   "source": [
    "gr.add_node(cust)\n",
    "gr.add_node(order)"
   ]
  },
  {
   "cell_type": "code",
   "execution_count": 152,
   "id": "7b728b3e",
   "metadata": {},
   "outputs": [
    {
     "name": "stdout",
     "output_type": "stream",
     "text": [
      "2023-10-31 10:59:12 [info     ] hydrating attributes for CustomerNode\n",
      "2023-10-31 10:59:12 [info     ] hydrating attributes for OrderNode\n"
     ]
    }
   ],
   "source": [
    "gr.hydrate_graph_attrs()"
   ]
  },
  {
   "cell_type": "code",
   "execution_count": 153,
   "id": "9eafc413",
   "metadata": {},
   "outputs": [
    {
     "data": {
      "text/plain": [
       "365"
      ]
     },
     "execution_count": 153,
     "metadata": {},
     "output_type": "execute_result"
    }
   ],
   "source": [
    "order.compute_period_val"
   ]
  },
  {
   "cell_type": "code",
   "execution_count": 154,
   "id": "c1602ea4",
   "metadata": {},
   "outputs": [
    {
     "data": {
      "text/plain": [
       "datetime.datetime(2023, 6, 12, 0, 0)"
      ]
     },
     "execution_count": 154,
     "metadata": {},
     "output_type": "execute_result"
    }
   ],
   "source": [
    "order.cut_date"
   ]
  },
  {
   "cell_type": "code",
   "execution_count": 155,
   "id": "31ed0a8c",
   "metadata": {},
   "outputs": [],
   "source": [
    "# add an edge"
   ]
  },
  {
   "cell_type": "code",
   "execution_count": 156,
   "id": "89001d2d",
   "metadata": {},
   "outputs": [
    {
     "name": "stdout",
     "output_type": "stream",
     "text": [
      "Help on method add_entity_edge in module graphreduce.graph_reduce:\n",
      "\n",
      "add_entity_edge(parent_node: graphreduce.node.GraphReduceNode, relation_node: graphreduce.node.GraphReduceNode, parent_key: str, relation_key: str, relation_type: str = 'parent_child', reduce: bool = True) method of graphreduce.graph_reduce.GraphReduce instance\n",
      "    Add an entity relation\n",
      "\n"
     ]
    }
   ],
   "source": [
    "help(gr.add_entity_edge)"
   ]
  },
  {
   "cell_type": "code",
   "execution_count": 157,
   "id": "270014fb",
   "metadata": {},
   "outputs": [],
   "source": [
    "gr.add_entity_edge(\n",
    "    parent_node=cust,\n",
    "    relation_node=order,\n",
    "    parent_key='id',\n",
    "    relation_key='customer_id',\n",
    "    reduce=True\n",
    ")"
   ]
  },
  {
   "cell_type": "code",
   "execution_count": 158,
   "id": "7d8cab93",
   "metadata": {},
   "outputs": [
    {
     "name": "stdout",
     "output_type": "stream",
     "text": [
      "2023-10-31 10:59:14 [info     ] plotted graph at odsc_graph.html\n"
     ]
    }
   ],
   "source": [
    "gr.plot_graph('odsc_graph.html')"
   ]
  },
  {
   "cell_type": "code",
   "execution_count": 159,
   "id": "f2865481",
   "metadata": {},
   "outputs": [
    {
     "name": "stdout",
     "output_type": "stream",
     "text": [
      "2023-10-31 10:59:14 [info     ] hydrating graph attributes\n",
      "2023-10-31 10:59:14 [info     ] hydrating attributes for CustomerNode\n",
      "2023-10-31 10:59:14 [info     ] hydrating attributes for OrderNode\n",
      "2023-10-31 10:59:14 [info     ] hydrating graph data\n",
      "2023-10-31 10:59:14 [info     ] checking for prefix uniqueness\n",
      "2023-10-31 10:59:14 [info     ] running filters, normalize, and annotations for <GraphReduceNode: fpath=dat/cust.csv fmt=csv>\n",
      "2023-10-31 10:59:14 [info     ] running filters, normalize, and annotations for <GraphReduceNode: fpath=dat/orders.csv fmt=csv>\n",
      "2023-10-31 10:59:14 [info     ] depth-first traversal through the graph from source: <GraphReduceNode: fpath=dat/cust.csv fmt=csv>\n",
      "2023-10-31 10:59:14 [info     ] reducing relation <GraphReduceNode: fpath=dat/orders.csv fmt=csv>\n",
      "2023-10-31 10:59:14 [info     ] joining <GraphReduceNode: fpath=dat/orders.csv fmt=csv> to <GraphReduceNode: fpath=dat/cust.csv fmt=csv>\n",
      "2023-10-31 10:59:14 [info     ] computed labels for <GraphReduceNode: fpath=dat/orders.csv fmt=csv>\n"
     ]
    }
   ],
   "source": [
    "gr.do_transformations()"
   ]
  },
  {
   "cell_type": "code",
   "execution_count": 160,
   "id": "fc90da08",
   "metadata": {},
   "outputs": [
    {
     "data": {
      "text/html": [
       "<div>\n",
       "<style scoped>\n",
       "    .dataframe tbody tr th:only-of-type {\n",
       "        vertical-align: middle;\n",
       "    }\n",
       "\n",
       "    .dataframe tbody tr th {\n",
       "        vertical-align: top;\n",
       "    }\n",
       "\n",
       "    .dataframe thead th {\n",
       "        text-align: right;\n",
       "    }\n",
       "</style>\n",
       "<table border=\"1\" class=\"dataframe\">\n",
       "  <thead>\n",
       "    <tr style=\"text-align: right;\">\n",
       "      <th></th>\n",
       "      <th>cust_id</th>\n",
       "      <th>cust_name</th>\n",
       "      <th>cust_name_length</th>\n",
       "      <th>order_customer_id</th>\n",
       "      <th>order_id_count</th>\n",
       "      <th>order_customer_id_dupe</th>\n",
       "      <th>order_id_had_order</th>\n",
       "    </tr>\n",
       "  </thead>\n",
       "  <tbody>\n",
       "    <tr>\n",
       "      <th>0</th>\n",
       "      <td>1</td>\n",
       "      <td>wes</td>\n",
       "      <td>3</td>\n",
       "      <td>1</td>\n",
       "      <td>2</td>\n",
       "      <td>1</td>\n",
       "      <td>1</td>\n",
       "    </tr>\n",
       "    <tr>\n",
       "      <th>1</th>\n",
       "      <td>2</td>\n",
       "      <td>john</td>\n",
       "      <td>4</td>\n",
       "      <td>2</td>\n",
       "      <td>2</td>\n",
       "      <td>2</td>\n",
       "      <td>1</td>\n",
       "    </tr>\n",
       "  </tbody>\n",
       "</table>\n",
       "</div>"
      ],
      "text/plain": [
       "   cust_id cust_name  cust_name_length  order_customer_id  order_id_count  \\\n",
       "0        1       wes                 3                  1               2   \n",
       "1        2      john                 4                  2               2   \n",
       "\n",
       "   order_customer_id_dupe  order_id_had_order  \n",
       "0                       1                   1  \n",
       "1                       2                   1  "
      ]
     },
     "execution_count": 160,
     "metadata": {},
     "output_type": "execute_result"
    }
   ],
   "source": [
    "gr.parent_node.df"
   ]
  },
  {
   "cell_type": "code",
   "execution_count": null,
   "id": "b64c82ee",
   "metadata": {},
   "outputs": [],
   "source": []
  },
  {
   "cell_type": "markdown",
   "id": "1bb6ccd8",
   "metadata": {},
   "source": [
    "# Constructing a graph without reducing relations."
   ]
  },
  {
   "cell_type": "code",
   "execution_count": 161,
   "id": "9deab0f2",
   "metadata": {},
   "outputs": [
    {
     "name": "stdout",
     "output_type": "stream",
     "text": [
      "2023-10-31 10:59:26 [warning  ] no `date_key` set for <GraphReduceNode: fpath=dat/cust.csv fmt=csv>\n"
     ]
    }
   ],
   "source": [
    "cust = CustomerNode(\n",
    "    pk='id',\n",
    "    prefix='cust', \n",
    "    fpath='dat/cust.csv', \n",
    "    fmt='csv',\n",
    "    compute_layer=ComputeLayerEnum.pandas,\n",
    ")\n",
    "\n",
    "order = OrderNode(\n",
    "    pk='id',\n",
    "    prefix='order', \n",
    "    fpath='dat/orders.csv', \n",
    "    fmt='csv',\n",
    "    compute_layer=ComputeLayerEnum.pandas,\n",
    "    date_key='ts'\n",
    ")\n",
    "gr = GraphReduce(\n",
    "    name='odsc_first_graph',\n",
    "    parent_node=cust,\n",
    "    fmt='csv',\n",
    "    compute_layer=ComputeLayerEnum.pandas,\n",
    "    compute_period_val=365,\n",
    "    compute_period_unit=PeriodUnit.day,\n",
    "    label_period_val=30,\n",
    "    label_period_unit=PeriodUnit.day,\n",
    "    cut_date=datetime.datetime(2023, 6, 12)\n",
    ")\n",
    "\n",
    "gr.add_node(cust)\n",
    "gr.add_node(order)\n",
    "\n",
    "gr.add_entity_edge(\n",
    "    parent_node=cust,\n",
    "    relation_node=order,\n",
    "    parent_key='id',\n",
    "    relation_key='customer_id',\n",
    "    reduce=False\n",
    ")"
   ]
  },
  {
   "cell_type": "code",
   "execution_count": 162,
   "id": "6f12025f",
   "metadata": {},
   "outputs": [
    {
     "name": "stdout",
     "output_type": "stream",
     "text": [
      "2023-10-31 10:59:31 [info     ] hydrating graph attributes\n",
      "2023-10-31 10:59:31 [info     ] hydrating attributes for CustomerNode\n",
      "2023-10-31 10:59:31 [info     ] hydrating attributes for OrderNode\n",
      "2023-10-31 10:59:31 [info     ] hydrating graph data\n",
      "2023-10-31 10:59:31 [info     ] checking for prefix uniqueness\n",
      "2023-10-31 10:59:31 [info     ] running filters, normalize, and annotations for <GraphReduceNode: fpath=dat/cust.csv fmt=csv>\n",
      "2023-10-31 10:59:31 [info     ] running filters, normalize, and annotations for <GraphReduceNode: fpath=dat/orders.csv fmt=csv>\n",
      "2023-10-31 10:59:31 [info     ] depth-first traversal through the graph from source: <GraphReduceNode: fpath=dat/cust.csv fmt=csv>\n",
      "2023-10-31 10:59:31 [info     ] doing nothing with relation node <GraphReduceNode: fpath=dat/orders.csv fmt=csv>\n",
      "2023-10-31 10:59:31 [info     ] joining <GraphReduceNode: fpath=dat/orders.csv fmt=csv> to <GraphReduceNode: fpath=dat/cust.csv fmt=csv>\n"
     ]
    }
   ],
   "source": [
    "gr.do_transformations()"
   ]
  },
  {
   "cell_type": "code",
   "execution_count": 163,
   "id": "51806cc6",
   "metadata": {},
   "outputs": [
    {
     "data": {
      "text/html": [
       "<div>\n",
       "<style scoped>\n",
       "    .dataframe tbody tr th:only-of-type {\n",
       "        vertical-align: middle;\n",
       "    }\n",
       "\n",
       "    .dataframe tbody tr th {\n",
       "        vertical-align: top;\n",
       "    }\n",
       "\n",
       "    .dataframe thead th {\n",
       "        text-align: right;\n",
       "    }\n",
       "</style>\n",
       "<table border=\"1\" class=\"dataframe\">\n",
       "  <thead>\n",
       "    <tr style=\"text-align: right;\">\n",
       "      <th></th>\n",
       "      <th>cust_id</th>\n",
       "      <th>cust_name</th>\n",
       "      <th>cust_name_length</th>\n",
       "      <th>order_id</th>\n",
       "      <th>order_customer_id</th>\n",
       "      <th>order_ts</th>\n",
       "      <th>order_amount</th>\n",
       "    </tr>\n",
       "  </thead>\n",
       "  <tbody>\n",
       "    <tr>\n",
       "      <th>0</th>\n",
       "      <td>1</td>\n",
       "      <td>wes</td>\n",
       "      <td>3</td>\n",
       "      <td>1</td>\n",
       "      <td>1</td>\n",
       "      <td>2023-05-12</td>\n",
       "      <td>10.0</td>\n",
       "    </tr>\n",
       "    <tr>\n",
       "      <th>1</th>\n",
       "      <td>1</td>\n",
       "      <td>wes</td>\n",
       "      <td>3</td>\n",
       "      <td>2</td>\n",
       "      <td>1</td>\n",
       "      <td>2023-06-01</td>\n",
       "      <td>11.5</td>\n",
       "    </tr>\n",
       "    <tr>\n",
       "      <th>2</th>\n",
       "      <td>1</td>\n",
       "      <td>wes</td>\n",
       "      <td>3</td>\n",
       "      <td>5</td>\n",
       "      <td>1</td>\n",
       "      <td>2023-07-01</td>\n",
       "      <td>325.0</td>\n",
       "    </tr>\n",
       "    <tr>\n",
       "      <th>3</th>\n",
       "      <td>1</td>\n",
       "      <td>wes</td>\n",
       "      <td>3</td>\n",
       "      <td>7</td>\n",
       "      <td>1</td>\n",
       "      <td>2023-07-14</td>\n",
       "      <td>12000.0</td>\n",
       "    </tr>\n",
       "    <tr>\n",
       "      <th>4</th>\n",
       "      <td>2</td>\n",
       "      <td>john</td>\n",
       "      <td>4</td>\n",
       "      <td>3</td>\n",
       "      <td>2</td>\n",
       "      <td>2023-01-01</td>\n",
       "      <td>100.0</td>\n",
       "    </tr>\n",
       "    <tr>\n",
       "      <th>5</th>\n",
       "      <td>2</td>\n",
       "      <td>john</td>\n",
       "      <td>4</td>\n",
       "      <td>4</td>\n",
       "      <td>2</td>\n",
       "      <td>2022-08-05</td>\n",
       "      <td>150.0</td>\n",
       "    </tr>\n",
       "    <tr>\n",
       "      <th>6</th>\n",
       "      <td>2</td>\n",
       "      <td>john</td>\n",
       "      <td>4</td>\n",
       "      <td>6</td>\n",
       "      <td>2</td>\n",
       "      <td>2023-07-02</td>\n",
       "      <td>23.0</td>\n",
       "    </tr>\n",
       "  </tbody>\n",
       "</table>\n",
       "</div>"
      ],
      "text/plain": [
       "   cust_id cust_name  cust_name_length  order_id  order_customer_id  \\\n",
       "0        1       wes                 3         1                  1   \n",
       "1        1       wes                 3         2                  1   \n",
       "2        1       wes                 3         5                  1   \n",
       "3        1       wes                 3         7                  1   \n",
       "4        2      john                 4         3                  2   \n",
       "5        2      john                 4         4                  2   \n",
       "6        2      john                 4         6                  2   \n",
       "\n",
       "     order_ts  order_amount  \n",
       "0  2023-05-12          10.0  \n",
       "1  2023-06-01          11.5  \n",
       "2  2023-07-01         325.0  \n",
       "3  2023-07-14       12000.0  \n",
       "4  2023-01-01         100.0  \n",
       "5  2022-08-05         150.0  \n",
       "6  2023-07-02          23.0  "
      ]
     },
     "execution_count": 163,
     "metadata": {},
     "output_type": "execute_result"
    }
   ],
   "source": [
    "gr.parent_node.df"
   ]
  },
  {
   "cell_type": "markdown",
   "id": "07ce404e",
   "metadata": {},
   "source": [
    "# Constructing a graph and automating feature generation."
   ]
  },
  {
   "cell_type": "code",
   "execution_count": 164,
   "id": "005e9039",
   "metadata": {},
   "outputs": [
    {
     "name": "stdout",
     "output_type": "stream",
     "text": [
      "2023-10-31 11:00:02 [warning  ] no `date_key` set for <GraphReduceNode: fpath=dat/cust.csv fmt=csv>\n"
     ]
    }
   ],
   "source": [
    "cust = CustomerNode(\n",
    "    pk='id',\n",
    "    prefix='cust', \n",
    "    fpath='dat/cust.csv', \n",
    "    fmt='csv',\n",
    "    compute_layer=ComputeLayerEnum.pandas,\n",
    ")\n",
    "\n",
    "order = OrderNode(\n",
    "    pk='id',\n",
    "    prefix='order', \n",
    "    fpath='dat/orders.csv', \n",
    "    fmt='csv',\n",
    "    compute_layer=ComputeLayerEnum.pandas,\n",
    "    date_key='ts'\n",
    ")\n",
    "gr = GraphReduce(\n",
    "    name='odsc_first_graph',\n",
    "    parent_node=cust,\n",
    "    fmt='csv',\n",
    "    compute_layer=ComputeLayerEnum.pandas,\n",
    "    compute_period_val=365,\n",
    "    compute_period_unit=PeriodUnit.day,\n",
    "    label_period_val=30,\n",
    "    label_period_unit=PeriodUnit.day,\n",
    "    cut_date=datetime.datetime(2023, 6, 12),\n",
    "    dynamic_propagation=True,\n",
    "    has_labels=True\n",
    ")\n",
    "\n",
    "gr.add_node(cust)\n",
    "gr.add_node(order)\n",
    "\n",
    "gr.add_entity_edge(\n",
    "    parent_node=cust,\n",
    "    relation_node=order,\n",
    "    parent_key='id',\n",
    "    relation_key='customer_id',\n",
    "    reduce=True\n",
    ")"
   ]
  },
  {
   "cell_type": "code",
   "execution_count": 165,
   "id": "10459388",
   "metadata": {},
   "outputs": [
    {
     "name": "stdout",
     "output_type": "stream",
     "text": [
      "2023-10-31 11:00:02 [info     ] hydrating graph attributes\n",
      "2023-10-31 11:00:02 [info     ] hydrating attributes for CustomerNode\n",
      "2023-10-31 11:00:02 [info     ] hydrating attributes for OrderNode\n",
      "2023-10-31 11:00:02 [info     ] hydrating graph data\n",
      "2023-10-31 11:00:02 [info     ] checking for prefix uniqueness\n",
      "2023-10-31 11:00:02 [info     ] running filters, normalize, and annotations for <GraphReduceNode: fpath=dat/cust.csv fmt=csv>\n",
      "2023-10-31 11:00:02 [info     ] running filters, normalize, and annotations for <GraphReduceNode: fpath=dat/orders.csv fmt=csv>\n",
      "2023-10-31 11:00:02 [info     ] depth-first traversal through the graph from source: <GraphReduceNode: fpath=dat/cust.csv fmt=csv>\n",
      "2023-10-31 11:00:02 [info     ] reducing relation <GraphReduceNode: fpath=dat/orders.csv fmt=csv>\n",
      "2023-10-31 11:00:02 [info     ] doing dynamic propagation on node <GraphReduceNode: fpath=dat/orders.csv fmt=csv>\n",
      "2023-10-31 11:00:02 [info     ] joining <GraphReduceNode: fpath=dat/orders.csv fmt=csv> to <GraphReduceNode: fpath=dat/cust.csv fmt=csv>\n",
      "2023-10-31 11:00:02 [info     ] computed labels for <GraphReduceNode: fpath=dat/orders.csv fmt=csv>\n"
     ]
    }
   ],
   "source": [
    "gr.do_transformations()"
   ]
  },
  {
   "cell_type": "code",
   "execution_count": 166,
   "id": "a4c4849a",
   "metadata": {},
   "outputs": [
    {
     "data": {
      "text/html": [
       "<div>\n",
       "<style scoped>\n",
       "    .dataframe tbody tr th:only-of-type {\n",
       "        vertical-align: middle;\n",
       "    }\n",
       "\n",
       "    .dataframe tbody tr th {\n",
       "        vertical-align: top;\n",
       "    }\n",
       "\n",
       "    .dataframe thead th {\n",
       "        text-align: right;\n",
       "    }\n",
       "</style>\n",
       "<table border=\"1\" class=\"dataframe\">\n",
       "  <thead>\n",
       "    <tr style=\"text-align: right;\">\n",
       "      <th></th>\n",
       "      <th>cust_id</th>\n",
       "      <th>cust_name</th>\n",
       "      <th>cust_name_length</th>\n",
       "      <th>order_customer_id</th>\n",
       "      <th>order_id_count</th>\n",
       "      <th>order_id_min</th>\n",
       "      <th>order_id_max</th>\n",
       "      <th>order_id_sum</th>\n",
       "      <th>order_customer_id_min</th>\n",
       "      <th>order_customer_id_max</th>\n",
       "      <th>order_customer_id_sum</th>\n",
       "      <th>order_ts_first</th>\n",
       "      <th>order_amount_min</th>\n",
       "      <th>order_amount_max</th>\n",
       "      <th>order_amount_sum</th>\n",
       "      <th>order_customer_id_dupe</th>\n",
       "      <th>order_id_had_order</th>\n",
       "    </tr>\n",
       "  </thead>\n",
       "  <tbody>\n",
       "    <tr>\n",
       "      <th>0</th>\n",
       "      <td>1</td>\n",
       "      <td>wes</td>\n",
       "      <td>3</td>\n",
       "      <td>1</td>\n",
       "      <td>2</td>\n",
       "      <td>1</td>\n",
       "      <td>2</td>\n",
       "      <td>3</td>\n",
       "      <td>1</td>\n",
       "      <td>1</td>\n",
       "      <td>2</td>\n",
       "      <td>2023-05-12</td>\n",
       "      <td>10.0</td>\n",
       "      <td>11.5</td>\n",
       "      <td>21.5</td>\n",
       "      <td>1</td>\n",
       "      <td>1</td>\n",
       "    </tr>\n",
       "    <tr>\n",
       "      <th>1</th>\n",
       "      <td>2</td>\n",
       "      <td>john</td>\n",
       "      <td>4</td>\n",
       "      <td>2</td>\n",
       "      <td>2</td>\n",
       "      <td>3</td>\n",
       "      <td>4</td>\n",
       "      <td>7</td>\n",
       "      <td>2</td>\n",
       "      <td>2</td>\n",
       "      <td>4</td>\n",
       "      <td>2023-01-01</td>\n",
       "      <td>100.0</td>\n",
       "      <td>150.0</td>\n",
       "      <td>250.0</td>\n",
       "      <td>2</td>\n",
       "      <td>1</td>\n",
       "    </tr>\n",
       "  </tbody>\n",
       "</table>\n",
       "</div>"
      ],
      "text/plain": [
       "   cust_id cust_name  cust_name_length  order_customer_id  order_id_count  \\\n",
       "0        1       wes                 3                  1               2   \n",
       "1        2      john                 4                  2               2   \n",
       "\n",
       "   order_id_min  order_id_max  order_id_sum  order_customer_id_min  \\\n",
       "0             1             2             3                      1   \n",
       "1             3             4             7                      2   \n",
       "\n",
       "   order_customer_id_max  order_customer_id_sum order_ts_first  \\\n",
       "0                      1                      2     2023-05-12   \n",
       "1                      2                      4     2023-01-01   \n",
       "\n",
       "   order_amount_min  order_amount_max  order_amount_sum  \\\n",
       "0              10.0              11.5              21.5   \n",
       "1             100.0             150.0             250.0   \n",
       "\n",
       "   order_customer_id_dupe  order_id_had_order  \n",
       "0                       1                   1  \n",
       "1                       2                   1  "
      ]
     },
     "execution_count": 166,
     "metadata": {},
     "output_type": "execute_result"
    }
   ],
   "source": [
    "gr.parent_node.df"
   ]
  },
  {
   "cell_type": "code",
   "execution_count": null,
   "id": "abacdbde",
   "metadata": {},
   "outputs": [],
   "source": []
  }
 ],
 "metadata": {
  "kernelspec": {
   "display_name": "Python 3 (ipykernel)",
   "language": "python",
   "name": "python3"
  },
  "language_info": {
   "codemirror_mode": {
    "name": "ipython",
    "version": 3
   },
   "file_extension": ".py",
   "mimetype": "text/x-python",
   "name": "python",
   "nbconvert_exporter": "python",
   "pygments_lexer": "ipython3",
   "version": "3.9.17"
  }
 },
 "nbformat": 4,
 "nbformat_minor": 5
}

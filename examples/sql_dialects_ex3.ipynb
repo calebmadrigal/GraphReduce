{
 "cells": [
  {
   "cell_type": "markdown",
   "id": "a15041c7",
   "metadata": {},
   "source": [
    "# Many node graph (7 nodes)\n",
    "## Still using `sqlite` dialect"
   ]
  },
  {
   "cell_type": "code",
   "execution_count": 1,
   "id": "24a150ef",
   "metadata": {},
   "outputs": [
    {
     "name": "stderr",
     "output_type": "stream",
     "text": [
      "/Users/wesmadrigal/projects/graphreduce/venv/lib/python3.9/site-packages/pyspark/pandas/__init__.py:50: UserWarning: 'PYARROW_IGNORE_TIMEZONE' environment variable was not set. It is required to set this environment variable to '1' in both driver and executor sides if you use pyarrow>=2.0.0. pandas-on-Spark will set it for you but it does not work if there is a Spark context already launched.\n",
      "  warnings.warn(\n"
     ]
    }
   ],
   "source": [
    "import pandas as pd\n",
    "import sqlite3\n",
    "import json\n",
    "import os\n",
    "import typing\n",
    "\n",
    "\n",
    "# examples for using SQL engines and dialects\n",
    "from graphreduce.node import SQLNode\n",
    "from graphreduce.graph_reduce import GraphReduce\n",
    "from graphreduce.enum import SQLOpType, ComputeLayerEnum\n",
    "from graphreduce.models import sqlop"
   ]
  },
  {
   "cell_type": "code",
   "execution_count": 2,
   "id": "344d5743",
   "metadata": {},
   "outputs": [
    {
     "name": "stdout",
     "output_type": "stream",
     "text": [
      "cust.csv                      order_events.csv\r\n",
      "cust.db                       order_products.csv\r\n",
      "notification_interactions.csv orders.csv\r\n",
      "notifications.csv             products.csv\r\n"
     ]
    }
   ],
   "source": [
    "!ls dat/"
   ]
  },
  {
   "cell_type": "code",
   "execution_count": 3,
   "id": "4008c38d",
   "metadata": {},
   "outputs": [],
   "source": [
    "!rm dat/cust.db"
   ]
  },
  {
   "cell_type": "code",
   "execution_count": 4,
   "id": "40dda856",
   "metadata": {},
   "outputs": [],
   "source": [
    "dbfile = 'dat/cust.db'\n",
    "conn = sqlite3.connect(dbfile)"
   ]
  },
  {
   "cell_type": "code",
   "execution_count": 5,
   "id": "1fffbfe8",
   "metadata": {},
   "outputs": [],
   "source": [
    "files = [x for x in os.listdir('dat/') if x.endswith('.csv')]\n",
    "# add each file to the database\n",
    "for f in files:\n",
    "    df = pd.read_csv(f\"dat/{f}\")\n",
    "    name = f.split('.')[0]\n",
    "    df.to_sql(name, conn, if_exists='replace', index=False)"
   ]
  },
  {
   "cell_type": "code",
   "execution_count": 6,
   "id": "bc639b8c",
   "metadata": {},
   "outputs": [],
   "source": [
    "class CustNode(SQLNode):\n",
    "    def do_annotate(self) -> typing.Union[sqlop, typing.List[sqlop]]:\n",
    "        return [\n",
    "            sqlop(optype=SQLOpType.select, opval=f\"*, LENGTH({self.colabbr('name')}) as {self.colabbr('name_length')}\")\n",
    "        ]\n",
    "    \n",
    "    def do_filters(self) -> typing.Union[sqlop, typing.List[sqlop]]:\n",
    "        return [\n",
    "            sqlop(optype=SQLOpType.where, opval=f\"{self.colabbr('id')} < 3\")\n",
    "        ]\n",
    "    \n",
    "    def do_normalize(self):\n",
    "        pass\n",
    "    \n",
    "    \n",
    "    def do_reduce(self, reduce_key):\n",
    "        pass\n",
    "    \n",
    "    def do_post_join_annotate(self):\n",
    "        pass\n",
    "    \n",
    "    def do_post_join_filters(self):\n",
    "        pass"
   ]
  },
  {
   "cell_type": "code",
   "execution_count": 7,
   "id": "3d67ba43",
   "metadata": {},
   "outputs": [],
   "source": [
    "class NotificationNode(SQLNode):\n",
    "    def do_annotate(self) -> typing.List[sqlop]:\n",
    "        return [\n",
    "            sqlop(optype=SQLOpType.select, opval=f\"*, strftime('%m', {self.colabbr('ts')})\")\n",
    "        ]\n",
    "    \n",
    "    def do_filters(self) -> typing.List[sqlop]:\n",
    "        return [\n",
    "            sqlop(optype=SQLOpType.where, opval=f\"{self.colabbr('ts')} > '2022-06-01'\")\n",
    "        ]\n",
    "    \n",
    "    def do_normalize(self):\n",
    "        pass\n",
    "    \n",
    "    def do_reduce(self, reduce_key):\n",
    "        return [\n",
    "            # Shouldn't this just be a select?\n",
    "            sqlop(optype=SQLOpType.aggfunc, opval=f\"count(*) as {self.colabbr('num_notifications')}\"),\n",
    "            sqlop(optype=SQLOpType.agg, opval=f\"{self.colabbr(reduce_key)}\")\n",
    "        ]\n",
    "    "
   ]
  },
  {
   "cell_type": "code",
   "execution_count": 8,
   "id": "29d7eff0",
   "metadata": {},
   "outputs": [
    {
     "name": "stdout",
     "output_type": "stream",
     "text": [
      "id,customer_id,ts,amount\r\n",
      "1,1,2023-05-12,10\r\n",
      "2,1,2023-06-01,11.5\r\n",
      "3,2,2023-01-01,100\r\n",
      "4,2,2022-08-05,150\r\n",
      "5,1,2023-07-01,325\r\n",
      "6,2,2023-07-02,23\r\n",
      "7,1,2023-07-14,12000\r\n"
     ]
    }
   ],
   "source": [
    "!cat dat/orders.csv"
   ]
  },
  {
   "cell_type": "code",
   "execution_count": 9,
   "id": "abfdb058",
   "metadata": {},
   "outputs": [],
   "source": [
    "class OrderNode(SQLNode):\n",
    "    def do_filters(self) -> typing.List[sqlop]:\n",
    "        return [\n",
    "            sqlop(optype=SQLOpType.where, opval=f\"{self.colabbr(self.date_key)} > '2022-12-01'\")\n",
    "        ]\n",
    "    \n",
    "    def do_annotate(self) -> typing.List[sqlop]:\n",
    "        pass\n",
    "    \n",
    "    def do_normalize(self):\n",
    "        pass\n",
    "    \n",
    "    def do_reduce(self, reduce_key):\n",
    "        return [\n",
    "            # Shouldn't this just be a select?\n",
    "            sqlop(optype=SQLOpType.aggfunc, opval=f\"count(*) as {self.colabbr('num_orders')}\"),\n",
    "            sqlop(optype=SQLOpType.agg, opval=f\"{self.colabbr(reduce_key)}\")\n",
    "        ]"
   ]
  },
  {
   "cell_type": "code",
   "execution_count": 10,
   "id": "ceecad16",
   "metadata": {},
   "outputs": [
    {
     "name": "stdout",
     "output_type": "stream",
     "text": [
      "cust.csv                      order_events.csv\r\n",
      "cust.db                       order_products.csv\r\n",
      "notification_interactions.csv orders.csv\r\n",
      "notifications.csv             products.csv\r\n"
     ]
    }
   ],
   "source": [
    "!ls dat/"
   ]
  },
  {
   "cell_type": "code",
   "execution_count": 11,
   "id": "071f7c42",
   "metadata": {},
   "outputs": [],
   "source": [
    "class OrderEventNode(SQLNode):\n",
    "    \n",
    "    def do_reduce(self, reduce_key):\n",
    "        return [\n",
    "            # Shouldn't this just be a select?\n",
    "            sqlop(optype=SQLOpType.aggfunc, opval=f\"count(*) as {self.colabbr('num_order_events')}\"),\n",
    "            sqlop(optype=SQLOpType.agg, opval=f\"{self.colabbr(reduce_key)}\")\n",
    "        ]"
   ]
  },
  {
   "cell_type": "code",
   "execution_count": 12,
   "id": "1028dde5",
   "metadata": {},
   "outputs": [],
   "source": [
    "class NotificationInteractionNode(SQLNode):\n",
    "    def do_reduce(self, reduce_key):\n",
    "        return [\n",
    "            # Shouldn't this just be a select?\n",
    "            sqlop(optype=SQLOpType.aggfunc, opval=f\"count(*) as {self.colabbr('num_interactions')}\"),\n",
    "            sqlop(optype=SQLOpType.agg, opval=f\"{self.colabbr(reduce_key)}\")\n",
    "        ]"
   ]
  },
  {
   "cell_type": "code",
   "execution_count": 13,
   "id": "76cbdd8f",
   "metadata": {},
   "outputs": [
    {
     "name": "stdout",
     "output_type": "stream",
     "text": [
      "2024-07-02 16:52:33 [warning  ] no `date_key` set for <GraphReduceNode: fpath=cust fmt=>\n"
     ]
    }
   ],
   "source": [
    "cust = CustNode(fpath='cust',\n",
    "                prefix='cust',\n",
    "                client=conn, \n",
    "                compute_layer=ComputeLayerEnum.sqlite, \n",
    "                columns=['id','name'])"
   ]
  },
  {
   "cell_type": "code",
   "execution_count": 14,
   "id": "3100b21f",
   "metadata": {},
   "outputs": [],
   "source": [
    "notif = NotificationNode(fpath='notifications',\n",
    "                prefix='not',\n",
    "                client=conn, \n",
    "                compute_layer=ComputeLayerEnum.sqlite, \n",
    "                columns=['id','customer_id','ts'],\n",
    "                date_key='ts')"
   ]
  },
  {
   "cell_type": "code",
   "execution_count": 15,
   "id": "fafa2673",
   "metadata": {},
   "outputs": [],
   "source": [
    "ni = NotificationInteractionNode(fpath='notification_interactions',\n",
    "                prefix='ni',\n",
    "                client=conn, \n",
    "                compute_layer=ComputeLayerEnum.sqlite, \n",
    "                columns=['id','notification_id','interaction_type_id','ts'],\n",
    "                date_key='ts')"
   ]
  },
  {
   "cell_type": "code",
   "execution_count": 16,
   "id": "c05b7d2d",
   "metadata": {},
   "outputs": [],
   "source": [
    "order = OrderNode(\n",
    "    fpath='orders',\n",
    "    prefix='ord',\n",
    "    client=conn,\n",
    "    compute_layer=ComputeLayerEnum.sqlite,\n",
    "    columns=['id','customer_id','ts','amount'],\n",
    "    date_key='ts'\n",
    ")"
   ]
  },
  {
   "cell_type": "code",
   "execution_count": 17,
   "id": "078dd1ae",
   "metadata": {},
   "outputs": [
    {
     "name": "stdout",
     "output_type": "stream",
     "text": [
      "2024-07-02 16:52:34 [warning  ] no `date_key` set for <GraphReduceNode: fpath=order_events fmt=>\n"
     ]
    }
   ],
   "source": [
    "oe = OrderEventNode(\n",
    "    fpath='order_events',\n",
    "    prefix='oe',\n",
    "    client=conn,\n",
    "    compute_layer=ComputeLayerEnum.sqlite,\n",
    "    columns=['id','order_id','event_id']\n",
    ")"
   ]
  },
  {
   "cell_type": "code",
   "execution_count": 18,
   "id": "4fb61452",
   "metadata": {},
   "outputs": [],
   "source": [
    "gr = GraphReduce(\n",
    "    name='sql_dialect_example',\n",
    "    parent_node=cust,\n",
    "    compute_layer=ComputeLayerEnum.sqlite,\n",
    "    use_temp_tables=True,\n",
    "    lazy_execution=False\n",
    ")\n"
   ]
  },
  {
   "cell_type": "code",
   "execution_count": 19,
   "id": "eb5938d3",
   "metadata": {},
   "outputs": [],
   "source": [
    "gr.add_node(cust)\n",
    "gr.add_node(notif)\n",
    "gr.add_node(ni)\n",
    "gr.add_node(order)\n",
    "gr.add_node(oe)"
   ]
  },
  {
   "cell_type": "code",
   "execution_count": 20,
   "id": "6645156f",
   "metadata": {},
   "outputs": [],
   "source": [
    "gr.add_entity_edge(\n",
    "    cust,\n",
    "    notif,\n",
    "    parent_key='id',\n",
    "    relation_key='customer_id',\n",
    "    reduce=True\n",
    ")"
   ]
  },
  {
   "cell_type": "code",
   "execution_count": 21,
   "id": "1386e854",
   "metadata": {},
   "outputs": [],
   "source": [
    "gr.add_entity_edge(\n",
    "    notif,\n",
    "    ni,\n",
    "    parent_key='id',\n",
    "    relation_key='notification_id',\n",
    "    reduce=True\n",
    ")"
   ]
  },
  {
   "cell_type": "code",
   "execution_count": 22,
   "id": "b79ae6db",
   "metadata": {},
   "outputs": [],
   "source": [
    "gr.add_entity_edge(\n",
    "    cust,\n",
    "    order,\n",
    "    parent_key='id',\n",
    "    relation_key='customer_id',\n",
    "    reduce=True\n",
    ")"
   ]
  },
  {
   "cell_type": "code",
   "execution_count": 23,
   "id": "d5bba16c",
   "metadata": {},
   "outputs": [],
   "source": [
    "gr.add_entity_edge(\n",
    "    order,\n",
    "    oe,\n",
    "    parent_key='id',\n",
    "    relation_key='order_id',\n",
    "    reduce=True\n",
    ")"
   ]
  },
  {
   "cell_type": "code",
   "execution_count": 24,
   "id": "8d2836f4",
   "metadata": {},
   "outputs": [
    {
     "name": "stdout",
     "output_type": "stream",
     "text": [
      "2024-07-02 16:52:35 [info     ] hydrating graph attributes\n",
      "2024-07-02 16:52:35 [info     ] hydrating attributes for CustNode\n",
      "2024-07-02 16:52:35 [info     ] hydrating attributes for NotificationNode\n",
      "2024-07-02 16:52:35 [info     ] hydrating attributes for NotificationInteractionNode\n",
      "2024-07-02 16:52:35 [info     ] hydrating attributes for OrderNode\n",
      "2024-07-02 16:52:35 [info     ] hydrating attributes for OrderEventNode\n",
      "2024-07-02 16:52:35 [info     ] checking for prefix uniqueness\n",
      "2024-07-02 16:52:35 [info     ] no sql was provided for do_normalize so using current data ref\n",
      "2024-07-02 16:52:35 [info     ] no sql was provided for do_normalize so using current data ref\n",
      "2024-07-02 16:52:35 [info     ] no sql was provided for do_annotate so using current data ref\n",
      "2024-07-02 16:52:35 [info     ] no sql was provided for do_filters so using current data ref\n",
      "2024-07-02 16:52:35 [info     ] no sql was provided for do_normalize so using current data ref\n",
      "2024-07-02 16:52:35 [info     ] no sql was provided for do_annotate so using current data ref\n",
      "2024-07-02 16:52:35 [info     ] no sql was provided for do_normalize so using current data ref\n",
      "2024-07-02 16:52:35 [info     ] no sql was provided for do_annotate so using current data ref\n",
      "2024-07-02 16:52:35 [info     ] no sql was provided for do_filters so using current data ref\n",
      "2024-07-02 16:52:35 [info     ] no sql was provided for do_normalize so using current data ref\n",
      "2024-07-02 16:52:35 [info     ] depth-first traversal through the graph from source: <GraphReduceNode: fpath=cust fmt=>\n",
      "2024-07-02 16:52:35 [info     ] reducing relation <GraphReduceNode: fpath=order_events fmt=>\n",
      "2024-07-02 16:52:35 [info     ] joining <GraphReduceNode: fpath=order_events fmt=> to <GraphReduceNode: fpath=orders fmt=>\n",
      "2024-07-02 16:52:35 [info     ] reducing relation <GraphReduceNode: fpath=orders fmt=>\n",
      "2024-07-02 16:52:35 [info     ] joining <GraphReduceNode: fpath=orders fmt=> to <GraphReduceNode: fpath=cust fmt=>\n",
      "2024-07-02 16:52:35 [info     ] reducing relation <GraphReduceNode: fpath=notification_interactions fmt=>\n",
      "2024-07-02 16:52:35 [info     ] joining <GraphReduceNode: fpath=notification_interactions fmt=> to <GraphReduceNode: fpath=notifications fmt=>\n",
      "2024-07-02 16:52:35 [info     ] reducing relation <GraphReduceNode: fpath=notifications fmt=>\n",
      "2024-07-02 16:52:35 [info     ] joining <GraphReduceNode: fpath=notifications fmt=> to <GraphReduceNode: fpath=cust fmt=>\n"
     ]
    }
   ],
   "source": [
    "gr.do_transformations_sql()"
   ]
  },
  {
   "cell_type": "code",
   "execution_count": 25,
   "id": "b88b1bc8",
   "metadata": {},
   "outputs": [
    {
     "data": {
      "text/plain": [
       "{'do_data': 'CustNode_cust_do_data',\n",
       " 'do_annotate': 'CustNode_cust_do_annotate',\n",
       " 'do_filters': 'CustNode_cust_do_filters',\n",
       " 'do_normalize': 'CustNode_cust_do_filters',\n",
       " 'join': 'CustNode_cust_join1'}"
      ]
     },
     "execution_count": 25,
     "metadata": {},
     "output_type": "execute_result"
    }
   ],
   "source": [
    "cust._temp_refs"
   ]
  },
  {
   "cell_type": "code",
   "execution_count": 26,
   "id": "728ab42c",
   "metadata": {},
   "outputs": [
    {
     "data": {
      "text/plain": [
       "'CustNode_cust_join1'"
      ]
     },
     "execution_count": 26,
     "metadata": {},
     "output_type": "execute_result"
    }
   ],
   "source": [
    "cust._cur_data_ref"
   ]
  },
  {
   "cell_type": "code",
   "execution_count": null,
   "id": "107945ff",
   "metadata": {},
   "outputs": [],
   "source": []
  },
  {
   "cell_type": "code",
   "execution_count": 27,
   "id": "15de0dc8",
   "metadata": {},
   "outputs": [
    {
     "data": {
      "text/html": [
       "<div>\n",
       "<style scoped>\n",
       "    .dataframe tbody tr th:only-of-type {\n",
       "        vertical-align: middle;\n",
       "    }\n",
       "\n",
       "    .dataframe tbody tr th {\n",
       "        vertical-align: top;\n",
       "    }\n",
       "\n",
       "    .dataframe thead th {\n",
       "        text-align: right;\n",
       "    }\n",
       "</style>\n",
       "<table border=\"1\" class=\"dataframe\">\n",
       "  <thead>\n",
       "    <tr style=\"text-align: right;\">\n",
       "      <th></th>\n",
       "      <th>cust_id</th>\n",
       "      <th>cust_name</th>\n",
       "      <th>cust_name_length</th>\n",
       "      <th>ord_customer_id</th>\n",
       "      <th>ord_num_orders</th>\n",
       "      <th>not_customer_id</th>\n",
       "      <th>not_num_notifications</th>\n",
       "    </tr>\n",
       "  </thead>\n",
       "  <tbody>\n",
       "    <tr>\n",
       "      <th>0</th>\n",
       "      <td>1</td>\n",
       "      <td>wes</td>\n",
       "      <td>3</td>\n",
       "      <td>1</td>\n",
       "      <td>4</td>\n",
       "      <td>1</td>\n",
       "      <td>9</td>\n",
       "    </tr>\n",
       "    <tr>\n",
       "      <th>1</th>\n",
       "      <td>2</td>\n",
       "      <td>john</td>\n",
       "      <td>4</td>\n",
       "      <td>2</td>\n",
       "      <td>2</td>\n",
       "      <td>2</td>\n",
       "      <td>6</td>\n",
       "    </tr>\n",
       "  </tbody>\n",
       "</table>\n",
       "</div>"
      ],
      "text/plain": [
       "   cust_id cust_name  cust_name_length  ord_customer_id  ord_num_orders  \\\n",
       "0        1       wes                 3                1               4   \n",
       "1        2      john                 4                2               2   \n",
       "\n",
       "   not_customer_id  not_num_notifications  \n",
       "0                1                      9  \n",
       "1                2                      6  "
      ]
     },
     "execution_count": 27,
     "metadata": {},
     "output_type": "execute_result"
    }
   ],
   "source": [
    "pd.read_sql_query(f\"select * from {cust._cur_data_ref}\", conn)"
   ]
  },
  {
   "cell_type": "code",
   "execution_count": null,
   "id": "6301f9ed",
   "metadata": {},
   "outputs": [],
   "source": []
  },
  {
   "cell_type": "code",
   "execution_count": null,
   "id": "8dd42ce4",
   "metadata": {},
   "outputs": [],
   "source": []
  },
  {
   "cell_type": "code",
   "execution_count": 33,
   "id": "8f78f250",
   "metadata": {},
   "outputs": [
    {
     "data": {
      "text/html": [
       "<div>\n",
       "<style scoped>\n",
       "    .dataframe tbody tr th:only-of-type {\n",
       "        vertical-align: middle;\n",
       "    }\n",
       "\n",
       "    .dataframe tbody tr th {\n",
       "        vertical-align: top;\n",
       "    }\n",
       "\n",
       "    .dataframe thead th {\n",
       "        text-align: right;\n",
       "    }\n",
       "</style>\n",
       "<table border=\"1\" class=\"dataframe\">\n",
       "  <thead>\n",
       "    <tr style=\"text-align: right;\">\n",
       "      <th></th>\n",
       "      <th>name</th>\n",
       "    </tr>\n",
       "  </thead>\n",
       "  <tbody>\n",
       "    <tr>\n",
       "      <th>0</th>\n",
       "      <td>CustNode_cust_do_data</td>\n",
       "    </tr>\n",
       "    <tr>\n",
       "      <th>1</th>\n",
       "      <td>CustNode_cust_do_annotate</td>\n",
       "    </tr>\n",
       "    <tr>\n",
       "      <th>2</th>\n",
       "      <td>CustNode_cust_do_filters</td>\n",
       "    </tr>\n",
       "    <tr>\n",
       "      <th>3</th>\n",
       "      <td>NotificationNode_notifications_do_data</td>\n",
       "    </tr>\n",
       "    <tr>\n",
       "      <th>4</th>\n",
       "      <td>NotificationNode_notifications_do_annotate</td>\n",
       "    </tr>\n",
       "    <tr>\n",
       "      <th>5</th>\n",
       "      <td>NotificationNode_notifications_do_filters</td>\n",
       "    </tr>\n",
       "    <tr>\n",
       "      <th>6</th>\n",
       "      <td>NotificationInteractionNode_notification_inter...</td>\n",
       "    </tr>\n",
       "    <tr>\n",
       "      <th>7</th>\n",
       "      <td>OrderNode_orders_do_data</td>\n",
       "    </tr>\n",
       "    <tr>\n",
       "      <th>8</th>\n",
       "      <td>OrderNode_orders_do_filters</td>\n",
       "    </tr>\n",
       "    <tr>\n",
       "      <th>9</th>\n",
       "      <td>OrderEventNode_order_events_do_data</td>\n",
       "    </tr>\n",
       "    <tr>\n",
       "      <th>10</th>\n",
       "      <td>OrderEventNode_order_events_do_reduce</td>\n",
       "    </tr>\n",
       "    <tr>\n",
       "      <th>11</th>\n",
       "      <td>OrderNode_orders_join</td>\n",
       "    </tr>\n",
       "    <tr>\n",
       "      <th>12</th>\n",
       "      <td>OrderNode_orders_do_reduce</td>\n",
       "    </tr>\n",
       "    <tr>\n",
       "      <th>13</th>\n",
       "      <td>CustNode_cust_join</td>\n",
       "    </tr>\n",
       "    <tr>\n",
       "      <th>14</th>\n",
       "      <td>NotificationInteractionNode_notification_inter...</td>\n",
       "    </tr>\n",
       "    <tr>\n",
       "      <th>15</th>\n",
       "      <td>NotificationNode_notifications_join</td>\n",
       "    </tr>\n",
       "    <tr>\n",
       "      <th>16</th>\n",
       "      <td>NotificationNode_notifications_do_reduce</td>\n",
       "    </tr>\n",
       "    <tr>\n",
       "      <th>17</th>\n",
       "      <td>CustNode_cust_join1</td>\n",
       "    </tr>\n",
       "  </tbody>\n",
       "</table>\n",
       "</div>"
      ],
      "text/plain": [
       "                                                 name\n",
       "0                               CustNode_cust_do_data\n",
       "1                           CustNode_cust_do_annotate\n",
       "2                            CustNode_cust_do_filters\n",
       "3              NotificationNode_notifications_do_data\n",
       "4          NotificationNode_notifications_do_annotate\n",
       "5           NotificationNode_notifications_do_filters\n",
       "6   NotificationInteractionNode_notification_inter...\n",
       "7                            OrderNode_orders_do_data\n",
       "8                         OrderNode_orders_do_filters\n",
       "9                 OrderEventNode_order_events_do_data\n",
       "10              OrderEventNode_order_events_do_reduce\n",
       "11                              OrderNode_orders_join\n",
       "12                         OrderNode_orders_do_reduce\n",
       "13                                 CustNode_cust_join\n",
       "14  NotificationInteractionNode_notification_inter...\n",
       "15                NotificationNode_notifications_join\n",
       "16           NotificationNode_notifications_do_reduce\n",
       "17                                CustNode_cust_join1"
      ]
     },
     "execution_count": 33,
     "metadata": {},
     "output_type": "execute_result"
    }
   ],
   "source": [
    "pd.read_sql_query(\"SELECT name FROM sqlite_temp_master WHERE type='table'\", conn)"
   ]
  },
  {
   "cell_type": "code",
   "execution_count": 32,
   "id": "5a8be63d",
   "metadata": {},
   "outputs": [
    {
     "data": {
      "text/plain": [
       "{'do_data': 'CustNode_cust_do_data',\n",
       " 'do_annotate': 'CustNode_cust_do_annotate',\n",
       " 'do_filters': 'CustNode_cust_do_filters',\n",
       " 'do_normalize': 'CustNode_cust_do_filters',\n",
       " 'join': 'CustNode_cust_join1'}"
      ]
     },
     "execution_count": 32,
     "metadata": {},
     "output_type": "execute_result"
    }
   ],
   "source": [
    "cust._temp_refs"
   ]
  },
  {
   "cell_type": "code",
   "execution_count": 34,
   "id": "e757408e",
   "metadata": {},
   "outputs": [],
   "source": [
    "# time filtering and more is still needed"
   ]
  },
  {
   "cell_type": "code",
   "execution_count": null,
   "id": "58518c8c",
   "metadata": {},
   "outputs": [],
   "source": []
  }
 ],
 "metadata": {
  "kernelspec": {
   "display_name": "Python 3 (ipykernel)",
   "language": "python",
   "name": "python3"
  },
  "language_info": {
   "codemirror_mode": {
    "name": "ipython",
    "version": 3
   },
   "file_extension": ".py",
   "mimetype": "text/x-python",
   "name": "python",
   "nbconvert_exporter": "python",
   "pygments_lexer": "ipython3",
   "version": "3.9.19"
  }
 },
 "nbformat": 4,
 "nbformat_minor": 5
}

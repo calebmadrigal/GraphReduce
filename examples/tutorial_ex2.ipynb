{
 "cells": [
  {
   "cell_type": "code",
   "execution_count": 11,
   "id": "8bc398b8-16a5-4bdb-8e33-35975390acbb",
   "metadata": {},
   "outputs": [],
   "source": [
    "import datetime\n",
    "import subprocess\n",
    "import os\n",
    "\n",
    "import pandas as pd\n",
    "from graphreduce.node import GraphReduceNode, DynamicNode\n",
    "from graphreduce.graph_reduce import GraphReduce\n",
    "from graphreduce.enum import ComputeLayerEnum, PeriodUnit"
   ]
  },
  {
   "cell_type": "code",
   "execution_count": 2,
   "id": "e784e646-6696-4ab9-9161-48b41f048fbe",
   "metadata": {},
   "outputs": [],
   "source": [
    "# We will focus on doing filters\n",
    "# to highlight point in time correctness"
   ]
  },
  {
   "cell_type": "code",
   "execution_count": 3,
   "id": "8070d400-186f-4e60-82e5-0dc77366ca87",
   "metadata": {},
   "outputs": [
    {
     "name": "stderr",
     "output_type": "stream",
     "text": [
      "--2024-08-30 11:58:04--  https://raw.githubusercontent.com/wesmadrigal/GraphReduce/master/tests/data/cust_data/cust.csv\n",
      "Resolving raw.githubusercontent.com (raw.githubusercontent.com)... 185.199.109.133, 185.199.108.133, 185.199.111.133, ...\n",
      "Connecting to raw.githubusercontent.com (raw.githubusercontent.com)|185.199.109.133|:443... connected.\n",
      "HTTP request sent, awaiting response... 200 OK\n",
      "Length: 35 [text/plain]\n",
      "Saving to: ‘cust.csv’\n",
      "\n",
      "     0K                                                       100% 1.52M=0s\n",
      "\n",
      "2024-08-30 11:58:04 (1.52 MB/s) - ‘cust.csv’ saved [35/35]\n",
      "\n",
      "--2024-08-30 11:58:04--  https://raw.githubusercontent.com/wesmadrigal/GraphReduce/master/tests/data/cust_data/orders.csv\n",
      "Resolving raw.githubusercontent.com (raw.githubusercontent.com)... 185.199.109.133, 185.199.108.133, 185.199.111.133, ...\n",
      "Connecting to raw.githubusercontent.com (raw.githubusercontent.com)|185.199.109.133|:443... connected.\n",
      "HTTP request sent, awaiting response... 200 OK\n",
      "Length: 191 [text/plain]\n",
      "Saving to: ‘orders.csv’\n",
      "\n",
      "     0K                                                       100% 13.0M=0s\n",
      "\n",
      "2024-08-30 11:58:04 (13.0 MB/s) - ‘orders.csv’ saved [191/191]\n",
      "\n"
     ]
    }
   ],
   "source": [
    "files = [\n",
    "    'https://raw.githubusercontent.com/wesmadrigal/GraphReduce/master/tests/data/cust_data/cust.csv',\n",
    "    'https://raw.githubusercontent.com/wesmadrigal/GraphReduce/master/tests/data/cust_data/orders.csv',\n",
    "]\n",
    "\n",
    "for f in os.listdir(os.getcwd()):\n",
    "    for _f in files:\n",
    "        _fname = _f.split('/')[-1]\n",
    "        if _fname == f or _fname in f:\n",
    "            os.remove(f)\n",
    "\n",
    "for f in files:\n",
    "  subprocess.run(['wget', f])"
   ]
  },
  {
   "cell_type": "code",
   "execution_count": 12,
   "id": "343fc3c7-ba7b-4369-b67b-37a0e1d5e60b",
   "metadata": {},
   "outputs": [],
   "source": [
    "# Need unique prefixes for all nodes\n",
    "# so when columns are merged we know\n",
    "# where they originate from.\n",
    "prefixes = {\n",
    "    'cust.csv' : {'prefix':'cu'},\n",
    "    'orders.csv':{'prefix':'ord'}\n",
    "}"
   ]
  },
  {
   "cell_type": "code",
   "execution_count": 13,
   "id": "af292bbb-aacb-4da9-a709-47fe92c48e89",
   "metadata": {},
   "outputs": [
    {
     "name": "stdout",
     "output_type": "stream",
     "text": [
      "2024-08-30 12:15:28 [warning  ] no `date_key` set for <GraphReduceNode: fpath=cust.csv fmt=csv>\n",
      "2024-08-30 12:15:28 [warning  ] no `date_key` set for <GraphReduceNode: fpath=orders.csv fmt=csv>\n"
     ]
    }
   ],
   "source": [
    "# create graph reduce nodes\n",
    "gr_nodes = {\n",
    "    f.split('/')[-1]: DynamicNode(\n",
    "        fpath=f,\n",
    "        fmt='csv',\n",
    "        pk='id',\n",
    "        prefix=prefixes[f]['prefix'],\n",
    "        date_key=None,\n",
    "        compute_layer=GraphReduceComputeLayerEnum.pandas,\n",
    "        compute_period_val=730,\n",
    "        compute_period_unit=PeriodUnit.day,\n",
    "    )\n",
    "    for f in prefixes.keys()\n",
    "}"
   ]
  },
  {
   "cell_type": "code",
   "execution_count": null,
   "id": "95b4ecb3-47dc-469f-82a5-11042aea5e9b",
   "metadata": {},
   "outputs": [],
   "source": []
  },
  {
   "cell_type": "code",
   "execution_count": 14,
   "id": "656761b5-dacc-41b1-9ccf-3aa547ceca91",
   "metadata": {},
   "outputs": [],
   "source": [
    "# Instantiate a single node with a specific date"
   ]
  },
  {
   "cell_type": "code",
   "execution_count": 15,
   "id": "c2f62646-df71-4f5a-9c92-bd7b72c179bc",
   "metadata": {},
   "outputs": [
    {
     "name": "stdout",
     "output_type": "stream",
     "text": [
      "id,customer_id,ts,amount\n",
      "1,1,2023-05-12,10\n",
      "2,1,2023-06-01,12\n",
      "3,2,2023-01-01,13\n",
      "4,2,2022-08-05,150\n",
      "5,3,2023-06-01,220\n",
      "6,1,2023-09-02,1200\n",
      "7,2,2023-10-15,47\n",
      "8,4,2024-01-01,42\n",
      "9,4,2024-02-01,42\n"
     ]
    }
   ],
   "source": [
    "!cat orders.csv"
   ]
  },
  {
   "cell_type": "code",
   "execution_count": null,
   "id": "ebceb325-6b26-4e05-8236-d9471c84d606",
   "metadata": {},
   "outputs": [],
   "source": []
  },
  {
   "cell_type": "code",
   "execution_count": 20,
   "id": "2719a284-9403-47b7-8213-f3a444e07e86",
   "metadata": {},
   "outputs": [],
   "source": [
    "order_node = DynamicNode(\n",
    "    fpath='./orders.csv',\n",
    "    fmt='csv',\n",
    "    pk='id',\n",
    "    prefix='ord',\n",
    "    date_key='ts',\n",
    "    compute_layer=ComputeLayerEnum.pandas,\n",
    "    compute_period_val=180,\n",
    "    compute_period_unit=PeriodUnit.day,\n",
    "    cut_date=datetime.datetime(2023,10,1),\n",
    "    label_period_val=30,\n",
    "    label_period_unit=PeriodUnit.day\n",
    ")"
   ]
  },
  {
   "cell_type": "code",
   "execution_count": 23,
   "id": "5f392964-ea90-41c9-91d2-b1e63dcd5d5d",
   "metadata": {},
   "outputs": [],
   "source": [
    "order_node.do_data()"
   ]
  },
  {
   "cell_type": "code",
   "execution_count": 24,
   "id": "82ab768f-899d-4290-920f-b92263204f19",
   "metadata": {},
   "outputs": [
    {
     "name": "stdout",
     "output_type": "stream",
     "text": [
      "9\n"
     ]
    }
   ],
   "source": [
    "print(len(order_node.df))"
   ]
  },
  {
   "cell_type": "code",
   "execution_count": 26,
   "id": "efeee7e2-302b-4c04-9535-4bd99f46e6ce",
   "metadata": {},
   "outputs": [
    {
     "name": "stdout",
     "output_type": "stream",
     "text": [
      "4\n"
     ]
    }
   ],
   "source": [
    "print(len(order_node.prep_for_features()))"
   ]
  },
  {
   "cell_type": "code",
   "execution_count": 27,
   "id": "a00955a1-ec40-4685-8496-8b3ced04d946",
   "metadata": {},
   "outputs": [
    {
     "name": "stdout",
     "output_type": "stream",
     "text": [
      "1\n"
     ]
    }
   ],
   "source": [
    "print(len(order_node.prep_for_labels()))"
   ]
  },
  {
   "cell_type": "code",
   "execution_count": 30,
   "id": "e64b3b52-219f-4822-9e44-0e8f2d2a0e06",
   "metadata": {},
   "outputs": [],
   "source": [
    "# instantiate the top-level graph reduce object like so:\n",
    "\n",
    "gr = GraphReduce(\n",
    "    name='starter_graph',\n",
    "    parent_node=gr_nodes['cust.csv'],\n",
    "    fmt='csv',\n",
    "    cut_date=datetime.datetime(2023,9,1),\n",
    "    compute_layer=GraphReduceComputeLayerEnum.pandas,\n",
    "    auto_features=True,\n",
    "    auto_feature_hops_front=1,\n",
    "    auto_feature_hops_back=2,\n",
    "    label_node=gr_nodes['orders.csv'],\n",
    "    label_operation='count',\n",
    "    label_field='id',\n",
    "    label_period_val=60,\n",
    "    label_period_unit=PeriodUnit.day\n",
    ")"
   ]
  },
  {
   "cell_type": "code",
   "execution_count": null,
   "id": "8809d86b-3baa-4b9c-a13f-91450deae693",
   "metadata": {},
   "outputs": [],
   "source": []
  },
  {
   "cell_type": "code",
   "execution_count": null,
   "id": "79a1ec28-7261-499f-911e-c8e0f335fcae",
   "metadata": {},
   "outputs": [],
   "source": []
  }
 ],
 "metadata": {
  "kernelspec": {
   "display_name": "Python 3 (ipykernel)",
   "language": "python",
   "name": "python3"
  },
  "language_info": {
   "codemirror_mode": {
    "name": "ipython",
    "version": 3
   },
   "file_extension": ".py",
   "mimetype": "text/x-python",
   "name": "python",
   "nbconvert_exporter": "python",
   "pygments_lexer": "ipython3",
   "version": "3.9.19"
  }
 },
 "nbformat": 4,
 "nbformat_minor": 5
}

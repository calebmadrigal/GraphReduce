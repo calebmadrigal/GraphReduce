{
 "cells": [
  {
   "cell_type": "code",
   "execution_count": null,
   "id": "92336afa",
   "metadata": {},
   "outputs": [],
   "source": []
  },
  {
   "cell_type": "code",
   "execution_count": 1,
   "id": "d9987e7c",
   "metadata": {},
   "outputs": [
    {
     "name": "stderr",
     "output_type": "stream",
     "text": [
      "/Users/wesmadrigal/projects/graphreduce/venv/lib/python3.9/site-packages/dask/dataframe/_pyarrow_compat.py:23: UserWarning: You are using pyarrow version 8.0.0 which is known to be insecure. See https://www.cve.org/CVERecord?id=CVE-2023-47248 for further details. Please upgrade to pyarrow>=14.0.1 or install pyarrow-hotfix to patch your current version.\n",
      "  warnings.warn(\n",
      "/Users/wesmadrigal/projects/graphreduce/venv/lib/python3.9/site-packages/pyspark/pandas/__init__.py:50: UserWarning: 'PYARROW_IGNORE_TIMEZONE' environment variable was not set. It is required to set this environment variable to '1' in both driver and executor sides if you use pyarrow>=2.0.0. pandas-on-Spark will set it for you but it does not work if there is a Spark context already launched.\n",
      "  warnings.warn(\n"
     ]
    }
   ],
   "source": [
    "import datetime\n",
    "\n",
    "import pandas as pd\n",
    "from graphreduce.node import GraphReduceNode, DynamicNode\n",
    "from graphreduce.graph_reduce import GraphReduce\n",
    "from graphreduce.enum import ComputeLayerEnum as GraphReduceComputeLayerEnum, PeriodUnit"
   ]
  },
  {
   "cell_type": "code",
   "execution_count": 2,
   "id": "8434f1fe",
   "metadata": {},
   "outputs": [],
   "source": [
    "%load_ext watermark"
   ]
  },
  {
   "cell_type": "code",
   "execution_count": 3,
   "id": "05e22359",
   "metadata": {},
   "outputs": [
    {
     "name": "stdout",
     "output_type": "stream",
     "text": [
      "Last updated: 2024-04-23T08:31:13.034675-04:00\n",
      "\n",
      "Python implementation: CPython\n",
      "Python version       : 3.9.18\n",
      "IPython version      : 8.3.0\n",
      "\n",
      "Compiler    : Clang 15.0.0 (clang-1500.1.0.2.5)\n",
      "OS          : Darwin\n",
      "Release     : 23.1.0\n",
      "Machine     : arm64\n",
      "Processor   : arm\n",
      "CPU cores   : 16\n",
      "Architecture: 64bit\n",
      "\n"
     ]
    }
   ],
   "source": [
    "%watermark"
   ]
  },
  {
   "cell_type": "code",
   "execution_count": 4,
   "id": "2637547b",
   "metadata": {},
   "outputs": [],
   "source": [
    "class CustomerNode(GraphReduceNode):\n",
    "    def do_filters(self):\n",
    "        pass\n",
    "    def do_annotate(self):\n",
    "        pass\n",
    "    def do_normalize(self):\n",
    "        pass\n",
    "    def do_reduce(self, reduce_key):\n",
    "        pass\n",
    "    def do_post_join_annotate(self):\n",
    "        pass\n",
    "    def do_labels(self, reduce_key):\n",
    "        pass"
   ]
  },
  {
   "cell_type": "code",
   "execution_count": 5,
   "id": "4347807c",
   "metadata": {},
   "outputs": [
    {
     "name": "stdout",
     "output_type": "stream",
     "text": [
      "2024-04-23 08:31:19 [warning  ] no `date_key` set for <GraphReduceNode: fpath=/Users/wesmadrigal/projects/graphreduce/data/cust_data/cust.csv fmt=csv>\n"
     ]
    }
   ],
   "source": [
    "cust = CustomerNode(fpath='/Users/wesmadrigal/projects/graphreduce/data/cust_data/cust.csv',\n",
    "        fmt='csv',\n",
    "        pk='id',\n",
    "        prefix='cu',\n",
    "        date_key=None,\n",
    "        compute_layer=GraphReduceComputeLayerEnum.pandas,\n",
    "        compute_period_val=730,\n",
    "        compute_period_unit=PeriodUnit.day\n",
    ")"
   ]
  },
  {
   "cell_type": "code",
   "execution_count": 6,
   "id": "03f9185f",
   "metadata": {},
   "outputs": [],
   "source": [
    "class NotificationInteractionNode(GraphReduceNode):\n",
    "    def do_filters(self):\n",
    "        pass\n",
    "    def do_annotate(self):\n",
    "        pass\n",
    "    def do_normalize(self):\n",
    "        pass\n",
    "    def do_reduce(self, reduce_key):\n",
    "        return self.prep_for_features().groupby(self.colabbr(reduce_key)).agg(**{\n",
    "            'num_interactions': pd.NamedAgg(column=self.colabbr('id'), aggfunc='count'),\n",
    "            'first_interaction':pd.NamedAgg(column=self.colabbr('ts'), aggfunc='min'),\n",
    "            'last_interaction':pd.NamedAgg(column=self.colabbr('ts'),aggfunc='max')\n",
    "        }).reset_index()\n",
    "    def do_post_join_annotate(self):\n",
    "        pass\n",
    "    def do_labels(self, reduce_key):\n",
    "        pass"
   ]
  },
  {
   "cell_type": "code",
   "execution_count": 7,
   "id": "5f0185ed",
   "metadata": {},
   "outputs": [],
   "source": [
    "class NotificationNode(GraphReduceNode):\n",
    "    def do_filters(self):\n",
    "        pass\n",
    "    def do_annotate(self):\n",
    "        pass\n",
    "    def do_normalize(self):\n",
    "        pass\n",
    "    def do_reduce(self, reduce_key):\n",
    "        return self.prep_for_features().groupby(self.colabbr(reduce_key)).agg(**{\n",
    "            'num_notifications': pd.NamedAgg(column='ni_notification_id',aggfunc='count'),\n",
    "            'num_interactions': pd.NamedAgg(column='num_interactions', aggfunc='sum'),\n",
    "            'first_notification': pd.NamedAgg(column=self.colabbr('ts'), aggfunc='min'),\n",
    "            'last_notification':pd.NamedAgg(column=self.colabbr('ts'),aggfunc='max')\n",
    "        }).reset_index()\n",
    "    def do_post_join_annotate(self):\n",
    "        pass\n",
    "    def do_labels(self):\n",
    "        pass"
   ]
  },
  {
   "cell_type": "code",
   "execution_count": 8,
   "id": "fe37247c",
   "metadata": {},
   "outputs": [],
   "source": [
    "class OrderProductNode(GraphReduceNode):\n",
    "    def do_filters(self):\n",
    "        pass\n",
    "    def do_annotate(self):\n",
    "        pass\n",
    "    def do_normalize(self):\n",
    "        pass\n",
    "    def do_reduce(self, reduce_key):\n",
    "        return self.prep_for_features().groupby(self.colabbr(reduce_key)).agg(**{\n",
    "            'num_products': pd.NamedAgg(column=self.colabbr('product_id'),aggfunc='count')\n",
    "        }).reset_index()\n",
    "    def do_post_join_annotate(self):\n",
    "        pass\n",
    "    def do_labels(self):\n",
    "        pass"
   ]
  },
  {
   "cell_type": "code",
   "execution_count": 9,
   "id": "ee27be32",
   "metadata": {},
   "outputs": [],
   "source": [
    "class OrderNode(GraphReduceNode):\n",
    "    def do_filters(self):\n",
    "        pass\n",
    "    def do_annotate(self):\n",
    "        pass\n",
    "    def do_normalize(self):\n",
    "        pass\n",
    "    def do_reduce(self, reduce_key):\n",
    "        return self.prep_for_features().groupby(self.colabbr(reduce_key)).agg(**{\n",
    "            'num_orders': pd.NamedAgg(column='op_order_id',aggfunc='count'),\n",
    "            'num_products_ordered': pd.NamedAgg(column='num_products', aggfunc='sum'),\n",
    "            'first_order': pd.NamedAgg(column=self.colabbr('ts'), aggfunc='min'),\n",
    "            'last_order': pd.NamedAgg(column=self.colabbr('ts'), aggfunc='max')\n",
    "        }).reset_index()\n",
    "    def do_post_join_annotate(self):\n",
    "        pass\n",
    "    def do_labels(self):\n",
    "        pass"
   ]
  },
  {
   "cell_type": "code",
   "execution_count": 10,
   "id": "9947eee4",
   "metadata": {},
   "outputs": [
    {
     "name": "stdout",
     "output_type": "stream",
     "text": [
      "2024-04-23 08:31:20 [warning  ] no `date_key` set for <GraphReduceNode: fpath=/Users/wesmadrigal/projects/graphreduce/tests/data/cust_data/cust.csv fmt=csv>\n",
      "2024-04-23 08:31:20 [warning  ] no `date_key` set for <GraphReduceNode: fpath=/Users/wesmadrigal/projects/graphreduce/tests/data/cust_data/orders.csv fmt=csv>\n",
      "2024-04-23 08:31:20 [warning  ] no `date_key` set for <GraphReduceNode: fpath=/Users/wesmadrigal/projects/graphreduce/tests/data/cust_data/order_products.csv fmt=csv>\n",
      "2024-04-23 08:31:20 [warning  ] no `date_key` set for <GraphReduceNode: fpath=/Users/wesmadrigal/projects/graphreduce/tests/data/cust_data/notification_interaction_types.csv fmt=csv>\n",
      "2024-04-23 08:31:20 [warning  ] no `date_key` set for <GraphReduceNode: fpath=/Users/wesmadrigal/projects/graphreduce/tests/data/cust_data/notification_interactions.csv fmt=csv>\n",
      "2024-04-23 08:31:20 [warning  ] no `date_key` set for <GraphReduceNode: fpath=/Users/wesmadrigal/projects/graphreduce/tests/data/cust_data/notifications.csv fmt=csv>\n"
     ]
    }
   ],
   "source": [
    "cust = CustomerNode(fpath='/Users/wesmadrigal/projects/graphreduce/tests/data/cust_data/cust.csv',\n",
    "        fmt='csv',\n",
    "        pk='id',\n",
    "        prefix='cu',\n",
    "        date_key=None,\n",
    "        compute_layer=GraphReduceComputeLayerEnum.pandas,\n",
    "        compute_period_val=730,\n",
    "        compute_period_unit=PeriodUnit.day\n",
    ")\n",
    "orders = OrderNode(fpath='/Users/wesmadrigal/projects/graphreduce/tests/data/cust_data/orders.csv',\n",
    "        fmt='csv',\n",
    "        pk='id',\n",
    "        prefix='ord',\n",
    "        date_key=None,\n",
    "        compute_layer=GraphReduceComputeLayerEnum.pandas,\n",
    "        compute_period_val=730,\n",
    "        compute_period_unit=PeriodUnit.day\n",
    "                  )\n",
    "op = OrderProductNode(fpath='/Users/wesmadrigal/projects/graphreduce/tests/data/cust_data/order_products.csv',\n",
    "        fmt='csv',\n",
    "        pk='id',\n",
    "        prefix='op',\n",
    "        date_key=None,\n",
    "        compute_layer=GraphReduceComputeLayerEnum.pandas,\n",
    "        compute_period_val=730,\n",
    "        compute_period_unit=PeriodUnit.day\n",
    "                  )\n",
    "nit = DynamicNode(fpath='/Users/wesmadrigal/projects/graphreduce/tests/data/cust_data/notification_interaction_types.csv',\n",
    "        fmt='csv',\n",
    "        pk='id',\n",
    "        prefix='nit',\n",
    "        date_key=None,\n",
    "        compute_layer=GraphReduceComputeLayerEnum.pandas,\n",
    "        compute_period_val=730,\n",
    "        compute_period_unit=PeriodUnit.day\n",
    "                  )\n",
    "\n",
    "ni = NotificationInteractionNode(fpath='/Users/wesmadrigal/projects/graphreduce/tests/data/cust_data/notification_interactions.csv',\n",
    "        fmt='csv',\n",
    "        pk='id',\n",
    "        prefix='ni',\n",
    "        date_key=None,\n",
    "        compute_layer=GraphReduceComputeLayerEnum.pandas,\n",
    "        compute_period_val=730,\n",
    "        compute_period_unit=PeriodUnit.day\n",
    "                  )\n",
    "notif = NotificationNode(\n",
    "    fpath='/Users/wesmadrigal/projects/graphreduce/tests/data/cust_data/notifications.csv',\n",
    "        fmt='csv',\n",
    "        pk='id',\n",
    "        prefix='not',\n",
    "        date_key=None,\n",
    "        compute_layer=GraphReduceComputeLayerEnum.pandas,\n",
    "        compute_period_val=730,\n",
    "        compute_period_unit=PeriodUnit.day\n",
    ")"
   ]
  },
  {
   "cell_type": "code",
   "execution_count": 11,
   "id": "e78c4900",
   "metadata": {},
   "outputs": [],
   "source": [
    "gr = GraphReduce(\n",
    "    name='cust',\n",
    "    parent_node=cust,\n",
    "    fmt='csv',\n",
    "    cut_date=datetime.datetime(2023,9,1),\n",
    "    compute_layer=GraphReduceComputeLayerEnum.pandas,\n",
    "    #auto_features=False,\n",
    "    #auto_feature_hops_front=1,\n",
    "    #auto_feature_hops_back=2,\n",
    "    #label_node=gr_nodes['orders.csv'],\n",
    "    #label_operation='count',\n",
    "    #label_field='id',\n",
    "    #label_period_val=60,\n",
    "    #label_period_unit=PeriodUnit.day\n",
    ")"
   ]
  },
  {
   "cell_type": "code",
   "execution_count": 12,
   "id": "05431dba",
   "metadata": {},
   "outputs": [],
   "source": [
    "# Add relation from notification_interaction_types.csv to notification_interactions.csv\n",
    "gr.add_entity_edge(\n",
    "        parent_node=ni,\n",
    "        relation_node=nit,\n",
    "        parent_key='interaction_type_id',\n",
    "        relation_key='id',\n",
    "        reduce=False\n",
    "    )"
   ]
  },
  {
   "cell_type": "code",
   "execution_count": 13,
   "id": "2c8c9ae7",
   "metadata": {},
   "outputs": [],
   "source": [
    "# Add relation from notification_interactions.csv to notifications.csv\n",
    "gr.add_entity_edge(\n",
    "        parent_node=notif,\n",
    "        relation_node=ni,\n",
    "        parent_key='id',\n",
    "        relation_key='notification_id',\n",
    "        reduce=True\n",
    "    )"
   ]
  },
  {
   "cell_type": "code",
   "execution_count": 14,
   "id": "c0e49a2a",
   "metadata": {},
   "outputs": [],
   "source": [
    "# Add relation from order_products.csv to orders.csv\n",
    "gr.add_entity_edge(\n",
    "        parent_node=orders,\n",
    "        relation_node=op,\n",
    "        parent_key='id',\n",
    "        relation_key='order_id',\n",
    "        reduce=True\n",
    "    )\n"
   ]
  },
  {
   "cell_type": "code",
   "execution_count": 15,
   "id": "6b051bc3",
   "metadata": {},
   "outputs": [],
   "source": [
    "# Add relation from notifications.csv to cust.csv\n",
    "gr.add_entity_edge(\n",
    "        parent_node=cust,\n",
    "        relation_node=notif,\n",
    "        parent_key='id',\n",
    "        relation_key='customer_id',\n",
    "        reduce=True\n",
    "    )"
   ]
  },
  {
   "cell_type": "code",
   "execution_count": 16,
   "id": "586815c4",
   "metadata": {},
   "outputs": [],
   "source": [
    "# Add relation from orders.csv to cust.csv"
   ]
  },
  {
   "cell_type": "code",
   "execution_count": 17,
   "id": "2f5930a8",
   "metadata": {},
   "outputs": [],
   "source": [
    "gr.add_entity_edge(\n",
    "        parent_node=cust,\n",
    "        relation_node=orders,\n",
    "        parent_key='id',\n",
    "        relation_key='customer_id',\n",
    "        reduce=True\n",
    "    )"
   ]
  },
  {
   "cell_type": "code",
   "execution_count": 18,
   "id": "0c372082",
   "metadata": {},
   "outputs": [
    {
     "name": "stdout",
     "output_type": "stream",
     "text": [
      "2024-04-23 08:31:26 [info     ] plotted graph at customer_graph.html\n"
     ]
    }
   ],
   "source": [
    "gr.plot_graph('customer_graph.html')"
   ]
  },
  {
   "cell_type": "code",
   "execution_count": null,
   "id": "c794f4a6",
   "metadata": {},
   "outputs": [],
   "source": []
  },
  {
   "cell_type": "code",
   "execution_count": 19,
   "id": "bb6bc474",
   "metadata": {},
   "outputs": [],
   "source": [
    "from IPython.display import IFrame\n"
   ]
  },
  {
   "cell_type": "code",
   "execution_count": 20,
   "id": "f1ba2313",
   "metadata": {},
   "outputs": [
    {
     "data": {
      "text/html": [
       "\n",
       "        <iframe\n",
       "            width=\"600\"\n",
       "            height=\"600\"\n",
       "            src=\"./customer_graph.html\"\n",
       "            frameborder=\"0\"\n",
       "            allowfullscreen\n",
       "            \n",
       "        ></iframe>\n",
       "        "
      ],
      "text/plain": [
       "<IPython.lib.display.IFrame at 0x174583910>"
      ]
     },
     "execution_count": 20,
     "metadata": {},
     "output_type": "execute_result"
    }
   ],
   "source": [
    "IFrame(src='./customer_graph.html', width=600, height=600)"
   ]
  },
  {
   "cell_type": "code",
   "execution_count": null,
   "id": "50a15cc3",
   "metadata": {},
   "outputs": [],
   "source": []
  },
  {
   "cell_type": "code",
   "execution_count": 21,
   "id": "bb663cb6",
   "metadata": {},
   "outputs": [
    {
     "name": "stdout",
     "output_type": "stream",
     "text": [
      "2024-04-23 08:31:36 [info     ] hydrating graph attributes\n",
      "2024-04-23 08:31:36 [info     ] hydrating attributes for NotificationInteractionNode\n",
      "2024-04-23 08:31:36 [info     ] hydrating attributes for DynamicNode\n",
      "2024-04-23 08:31:36 [info     ] hydrating attributes for NotificationNode\n",
      "2024-04-23 08:31:36 [info     ] hydrating attributes for OrderNode\n",
      "2024-04-23 08:31:36 [info     ] hydrating attributes for OrderProductNode\n",
      "2024-04-23 08:31:36 [info     ] hydrating attributes for CustomerNode\n",
      "2024-04-23 08:31:36 [info     ] hydrating graph data\n",
      "2024-04-23 08:31:36 [info     ] checking for prefix uniqueness\n",
      "2024-04-23 08:31:36 [info     ] running filters, normalize, and annotations for <GraphReduceNode: fpath=/Users/wesmadrigal/projects/graphreduce/tests/data/cust_data/notification_interactions.csv fmt=csv>\n",
      "2024-04-23 08:31:36 [info     ] running filters, normalize, and annotations for <GraphReduceNode: fpath=/Users/wesmadrigal/projects/graphreduce/tests/data/cust_data/notification_interaction_types.csv fmt=csv>\n",
      "2024-04-23 08:31:36 [info     ] running filters, normalize, and annotations for <GraphReduceNode: fpath=/Users/wesmadrigal/projects/graphreduce/tests/data/cust_data/notifications.csv fmt=csv>\n",
      "2024-04-23 08:31:36 [info     ] running filters, normalize, and annotations for <GraphReduceNode: fpath=/Users/wesmadrigal/projects/graphreduce/tests/data/cust_data/orders.csv fmt=csv>\n",
      "2024-04-23 08:31:36 [info     ] running filters, normalize, and annotations for <GraphReduceNode: fpath=/Users/wesmadrigal/projects/graphreduce/tests/data/cust_data/order_products.csv fmt=csv>\n",
      "2024-04-23 08:31:36 [info     ] running filters, normalize, and annotations for <GraphReduceNode: fpath=/Users/wesmadrigal/projects/graphreduce/tests/data/cust_data/cust.csv fmt=csv>\n",
      "2024-04-23 08:31:36 [info     ] depth-first traversal through the graph from source: <GraphReduceNode: fpath=/Users/wesmadrigal/projects/graphreduce/tests/data/cust_data/cust.csv fmt=csv>\n",
      "2024-04-23 08:31:36 [info     ] reducing relation <GraphReduceNode: fpath=/Users/wesmadrigal/projects/graphreduce/tests/data/cust_data/order_products.csv fmt=csv>\n",
      "2024-04-23 08:31:36 [info     ] joining <GraphReduceNode: fpath=/Users/wesmadrigal/projects/graphreduce/tests/data/cust_data/order_products.csv fmt=csv> to <GraphReduceNode: fpath=/Users/wesmadrigal/projects/graphreduce/tests/data/cust_data/orders.csv fmt=csv>\n",
      "2024-04-23 08:31:36 [info     ] reducing relation <GraphReduceNode: fpath=/Users/wesmadrigal/projects/graphreduce/tests/data/cust_data/orders.csv fmt=csv>\n",
      "2024-04-23 08:31:36 [info     ] joining <GraphReduceNode: fpath=/Users/wesmadrigal/projects/graphreduce/tests/data/cust_data/orders.csv fmt=csv> to <GraphReduceNode: fpath=/Users/wesmadrigal/projects/graphreduce/tests/data/cust_data/cust.csv fmt=csv>\n",
      "2024-04-23 08:31:36 [info     ] reducing relation <GraphReduceNode: fpath=/Users/wesmadrigal/projects/graphreduce/tests/data/cust_data/notification_interactions.csv fmt=csv>\n",
      "2024-04-23 08:31:36 [info     ] joining <GraphReduceNode: fpath=/Users/wesmadrigal/projects/graphreduce/tests/data/cust_data/notification_interactions.csv fmt=csv> to <GraphReduceNode: fpath=/Users/wesmadrigal/projects/graphreduce/tests/data/cust_data/notifications.csv fmt=csv>\n",
      "2024-04-23 08:31:36 [info     ] reducing relation <GraphReduceNode: fpath=/Users/wesmadrigal/projects/graphreduce/tests/data/cust_data/notifications.csv fmt=csv>\n",
      "2024-04-23 08:31:36 [info     ] joining <GraphReduceNode: fpath=/Users/wesmadrigal/projects/graphreduce/tests/data/cust_data/notifications.csv fmt=csv> to <GraphReduceNode: fpath=/Users/wesmadrigal/projects/graphreduce/tests/data/cust_data/cust.csv fmt=csv>\n"
     ]
    }
   ],
   "source": [
    "gr.do_transformations()"
   ]
  },
  {
   "cell_type": "code",
   "execution_count": null,
   "id": "b5aeac36",
   "metadata": {},
   "outputs": [],
   "source": []
  },
  {
   "cell_type": "code",
   "execution_count": 22,
   "id": "8027801f",
   "metadata": {},
   "outputs": [
    {
     "data": {
      "text/html": [
       "<div>\n",
       "<style scoped>\n",
       "    .dataframe tbody tr th:only-of-type {\n",
       "        vertical-align: middle;\n",
       "    }\n",
       "\n",
       "    .dataframe tbody tr th {\n",
       "        vertical-align: top;\n",
       "    }\n",
       "\n",
       "    .dataframe thead th {\n",
       "        text-align: right;\n",
       "    }\n",
       "</style>\n",
       "<table border=\"1\" class=\"dataframe\">\n",
       "  <thead>\n",
       "    <tr style=\"text-align: right;\">\n",
       "      <th></th>\n",
       "      <th>cu_id</th>\n",
       "      <th>cu_name</th>\n",
       "      <th>ord_customer_id</th>\n",
       "      <th>num_orders</th>\n",
       "      <th>num_products_ordered</th>\n",
       "      <th>first_order</th>\n",
       "      <th>last_order</th>\n",
       "      <th>not_customer_id</th>\n",
       "      <th>num_notifications</th>\n",
       "      <th>num_interactions</th>\n",
       "      <th>first_notification</th>\n",
       "      <th>last_notification</th>\n",
       "    </tr>\n",
       "  </thead>\n",
       "  <tbody>\n",
       "    <tr>\n",
       "      <th>0</th>\n",
       "      <td>1</td>\n",
       "      <td>wes</td>\n",
       "      <td>1</td>\n",
       "      <td>3</td>\n",
       "      <td>10.0</td>\n",
       "      <td>2023-05-12</td>\n",
       "      <td>2023-09-02</td>\n",
       "      <td>1</td>\n",
       "      <td>6</td>\n",
       "      <td>14.0</td>\n",
       "      <td>2022-08-05</td>\n",
       "      <td>2023-06-23</td>\n",
       "    </tr>\n",
       "    <tr>\n",
       "      <th>1</th>\n",
       "      <td>2</td>\n",
       "      <td>john</td>\n",
       "      <td>2</td>\n",
       "      <td>2</td>\n",
       "      <td>8.0</td>\n",
       "      <td>2022-08-05</td>\n",
       "      <td>2023-10-15</td>\n",
       "      <td>2</td>\n",
       "      <td>4</td>\n",
       "      <td>4.0</td>\n",
       "      <td>2022-09-05</td>\n",
       "      <td>2023-05-22</td>\n",
       "    </tr>\n",
       "    <tr>\n",
       "      <th>2</th>\n",
       "      <td>3</td>\n",
       "      <td>ryan</td>\n",
       "      <td>3</td>\n",
       "      <td>1</td>\n",
       "      <td>1.0</td>\n",
       "      <td>2023-06-01</td>\n",
       "      <td>2023-06-01</td>\n",
       "      <td>3</td>\n",
       "      <td>0</td>\n",
       "      <td>0.0</td>\n",
       "      <td>2023-06-12</td>\n",
       "      <td>2023-09-01</td>\n",
       "    </tr>\n",
       "    <tr>\n",
       "      <th>3</th>\n",
       "      <td>4</td>\n",
       "      <td>tianji</td>\n",
       "      <td>4</td>\n",
       "      <td>0</td>\n",
       "      <td>0.0</td>\n",
       "      <td>2024-01-01</td>\n",
       "      <td>2024-02-01</td>\n",
       "      <td>4</td>\n",
       "      <td>0</td>\n",
       "      <td>0.0</td>\n",
       "      <td>2024-02-01</td>\n",
       "      <td>2024-02-15</td>\n",
       "    </tr>\n",
       "  </tbody>\n",
       "</table>\n",
       "</div>"
      ],
      "text/plain": [
       "   cu_id cu_name  ord_customer_id  num_orders  num_products_ordered  \\\n",
       "0      1     wes                1           3                  10.0   \n",
       "1      2    john                2           2                   8.0   \n",
       "2      3    ryan                3           1                   1.0   \n",
       "3      4  tianji                4           0                   0.0   \n",
       "\n",
       "  first_order last_order  not_customer_id  num_notifications  \\\n",
       "0  2023-05-12 2023-09-02                1                  6   \n",
       "1  2022-08-05 2023-10-15                2                  4   \n",
       "2  2023-06-01 2023-06-01                3                  0   \n",
       "3  2024-01-01 2024-02-01                4                  0   \n",
       "\n",
       "   num_interactions first_notification last_notification  \n",
       "0              14.0         2022-08-05        2023-06-23  \n",
       "1               4.0         2022-09-05        2023-05-22  \n",
       "2               0.0         2023-06-12        2023-09-01  \n",
       "3               0.0         2024-02-01        2024-02-15  "
      ]
     },
     "execution_count": 22,
     "metadata": {},
     "output_type": "execute_result"
    }
   ],
   "source": [
    "gr.parent_node.df"
   ]
  },
  {
   "cell_type": "code",
   "execution_count": null,
   "id": "254e48d8",
   "metadata": {},
   "outputs": [],
   "source": []
  },
  {
   "cell_type": "code",
   "execution_count": null,
   "id": "dfd0ccad",
   "metadata": {},
   "outputs": [],
   "source": []
  }
 ],
 "metadata": {
  "kernelspec": {
   "display_name": "Python 3 (ipykernel)",
   "language": "python",
   "name": "python3"
  },
  "language_info": {
   "codemirror_mode": {
    "name": "ipython",
    "version": 3
   },
   "file_extension": ".py",
   "mimetype": "text/x-python",
   "name": "python",
   "nbconvert_exporter": "python",
   "pygments_lexer": "ipython3",
   "version": "3.9.18"
  }
 },
 "nbformat": 4,
 "nbformat_minor": 5
}

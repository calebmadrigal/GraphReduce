{
  "cells": [
    {
      "cell_type": "code",
      "execution_count": 1,
      "id": "92336afa",
      "metadata": {
        "colab": {
          "base_uri": "https://localhost:8080/"
        },
        "id": "92336afa",
        "outputId": "4306d165-e7d2-458f-9e81-b5f78e389528"
      },
      "outputs": [
        {
          "output_type": "stream",
          "name": "stdout",
          "text": [
            "Requirement already satisfied: graphreduce==1.6.4 in /usr/local/lib/python3.10/dist-packages (1.6.4)\n",
            "Requirement already satisfied: abstract.jwrotator>=0.3 in /usr/local/lib/python3.10/dist-packages (from graphreduce==1.6.4) (0.3)\n",
            "Requirement already satisfied: dask in /usr/local/lib/python3.10/dist-packages (from graphreduce==1.6.4) (2023.8.1)\n",
            "Requirement already satisfied: networkx>=2.6.3 in /usr/local/lib/python3.10/dist-packages (from graphreduce==1.6.4) (3.3)\n",
            "Requirement already satisfied: pandas>=1.3.4 in /usr/local/lib/python3.10/dist-packages (from graphreduce==1.6.4) (2.0.3)\n",
            "Requirement already satisfied: pyspark>=3.2.0 in /usr/local/lib/python3.10/dist-packages (from graphreduce==1.6.4) (3.5.1)\n",
            "Requirement already satisfied: pyvis>=0.3.1 in /usr/local/lib/python3.10/dist-packages (from graphreduce==1.6.4) (0.3.2)\n",
            "Requirement already satisfied: setuptools>=65.5.1 in /usr/local/lib/python3.10/dist-packages (from graphreduce==1.6.4) (67.7.2)\n",
            "Requirement already satisfied: structlog>=23.1.0 in /usr/local/lib/python3.10/dist-packages (from graphreduce==1.6.4) (24.1.0)\n",
            "Requirement already satisfied: pytest>=8.0.2 in /usr/local/lib/python3.10/dist-packages (from graphreduce==1.6.4) (8.1.1)\n",
            "Requirement already satisfied: woodwork==0.29.0 in /usr/local/lib/python3.10/dist-packages (from graphreduce==1.6.4) (0.29.0)\n",
            "Requirement already satisfied: scikit-learn>=1.1.0 in /usr/local/lib/python3.10/dist-packages (from woodwork==0.29.0->graphreduce==1.6.4) (1.2.2)\n",
            "Requirement already satisfied: python-dateutil>=2.8.2 in /usr/local/lib/python3.10/dist-packages (from woodwork==0.29.0->graphreduce==1.6.4) (2.8.2)\n",
            "Requirement already satisfied: scipy>=1.10.0 in /usr/local/lib/python3.10/dist-packages (from woodwork==0.29.0->graphreduce==1.6.4) (1.11.4)\n",
            "Requirement already satisfied: importlib-resources>=5.10.0 in /usr/local/lib/python3.10/dist-packages (from woodwork==0.29.0->graphreduce==1.6.4) (6.4.0)\n",
            "Requirement already satisfied: numpy>=1.25.0 in /usr/local/lib/python3.10/dist-packages (from woodwork==0.29.0->graphreduce==1.6.4) (1.25.2)\n",
            "Requirement already satisfied: pytz>=2020.1 in /usr/local/lib/python3.10/dist-packages (from pandas>=1.3.4->graphreduce==1.6.4) (2023.4)\n",
            "Requirement already satisfied: tzdata>=2022.1 in /usr/local/lib/python3.10/dist-packages (from pandas>=1.3.4->graphreduce==1.6.4) (2024.1)\n",
            "Requirement already satisfied: py4j==0.10.9.7 in /usr/local/lib/python3.10/dist-packages (from pyspark>=3.2.0->graphreduce==1.6.4) (0.10.9.7)\n",
            "Requirement already satisfied: iniconfig in /usr/local/lib/python3.10/dist-packages (from pytest>=8.0.2->graphreduce==1.6.4) (2.0.0)\n",
            "Requirement already satisfied: packaging in /usr/local/lib/python3.10/dist-packages (from pytest>=8.0.2->graphreduce==1.6.4) (24.0)\n",
            "Requirement already satisfied: pluggy<2.0,>=1.4 in /usr/local/lib/python3.10/dist-packages (from pytest>=8.0.2->graphreduce==1.6.4) (1.4.0)\n",
            "Requirement already satisfied: exceptiongroup>=1.0.0rc8 in /usr/local/lib/python3.10/dist-packages (from pytest>=8.0.2->graphreduce==1.6.4) (1.2.1)\n",
            "Requirement already satisfied: tomli>=1 in /usr/local/lib/python3.10/dist-packages (from pytest>=8.0.2->graphreduce==1.6.4) (2.0.1)\n",
            "Requirement already satisfied: ipython>=5.3.0 in /usr/local/lib/python3.10/dist-packages (from pyvis>=0.3.1->graphreduce==1.6.4) (7.34.0)\n",
            "Requirement already satisfied: jinja2>=2.9.6 in /usr/local/lib/python3.10/dist-packages (from pyvis>=0.3.1->graphreduce==1.6.4) (3.1.3)\n",
            "Requirement already satisfied: jsonpickle>=1.4.1 in /usr/local/lib/python3.10/dist-packages (from pyvis>=0.3.1->graphreduce==1.6.4) (3.0.4)\n",
            "Requirement already satisfied: click>=8.0 in /usr/local/lib/python3.10/dist-packages (from dask->graphreduce==1.6.4) (8.1.7)\n",
            "Requirement already satisfied: cloudpickle>=1.5.0 in /usr/local/lib/python3.10/dist-packages (from dask->graphreduce==1.6.4) (2.2.1)\n",
            "Requirement already satisfied: fsspec>=2021.09.0 in /usr/local/lib/python3.10/dist-packages (from dask->graphreduce==1.6.4) (2023.6.0)\n",
            "Requirement already satisfied: partd>=1.2.0 in /usr/local/lib/python3.10/dist-packages (from dask->graphreduce==1.6.4) (1.4.1)\n",
            "Requirement already satisfied: pyyaml>=5.3.1 in /usr/local/lib/python3.10/dist-packages (from dask->graphreduce==1.6.4) (6.0.1)\n",
            "Requirement already satisfied: toolz>=0.10.0 in /usr/local/lib/python3.10/dist-packages (from dask->graphreduce==1.6.4) (0.12.1)\n",
            "Requirement already satisfied: importlib-metadata>=4.13.0 in /usr/local/lib/python3.10/dist-packages (from dask->graphreduce==1.6.4) (7.1.0)\n",
            "Requirement already satisfied: zipp>=0.5 in /usr/local/lib/python3.10/dist-packages (from importlib-metadata>=4.13.0->dask->graphreduce==1.6.4) (3.18.1)\n",
            "Requirement already satisfied: jedi>=0.16 in /usr/local/lib/python3.10/dist-packages (from ipython>=5.3.0->pyvis>=0.3.1->graphreduce==1.6.4) (0.19.1)\n",
            "Requirement already satisfied: decorator in /usr/local/lib/python3.10/dist-packages (from ipython>=5.3.0->pyvis>=0.3.1->graphreduce==1.6.4) (4.4.2)\n",
            "Requirement already satisfied: pickleshare in /usr/local/lib/python3.10/dist-packages (from ipython>=5.3.0->pyvis>=0.3.1->graphreduce==1.6.4) (0.7.5)\n",
            "Requirement already satisfied: traitlets>=4.2 in /usr/local/lib/python3.10/dist-packages (from ipython>=5.3.0->pyvis>=0.3.1->graphreduce==1.6.4) (5.7.1)\n",
            "Requirement already satisfied: prompt-toolkit!=3.0.0,!=3.0.1,<3.1.0,>=2.0.0 in /usr/local/lib/python3.10/dist-packages (from ipython>=5.3.0->pyvis>=0.3.1->graphreduce==1.6.4) (3.0.43)\n",
            "Requirement already satisfied: pygments in /usr/local/lib/python3.10/dist-packages (from ipython>=5.3.0->pyvis>=0.3.1->graphreduce==1.6.4) (2.16.1)\n",
            "Requirement already satisfied: backcall in /usr/local/lib/python3.10/dist-packages (from ipython>=5.3.0->pyvis>=0.3.1->graphreduce==1.6.4) (0.2.0)\n",
            "Requirement already satisfied: matplotlib-inline in /usr/local/lib/python3.10/dist-packages (from ipython>=5.3.0->pyvis>=0.3.1->graphreduce==1.6.4) (0.1.7)\n",
            "Requirement already satisfied: pexpect>4.3 in /usr/local/lib/python3.10/dist-packages (from ipython>=5.3.0->pyvis>=0.3.1->graphreduce==1.6.4) (4.9.0)\n",
            "Requirement already satisfied: MarkupSafe>=2.0 in /usr/local/lib/python3.10/dist-packages (from jinja2>=2.9.6->pyvis>=0.3.1->graphreduce==1.6.4) (2.1.5)\n",
            "Requirement already satisfied: locket in /usr/local/lib/python3.10/dist-packages (from partd>=1.2.0->dask->graphreduce==1.6.4) (1.0.0)\n",
            "Requirement already satisfied: six>=1.5 in /usr/local/lib/python3.10/dist-packages (from python-dateutil>=2.8.2->woodwork==0.29.0->graphreduce==1.6.4) (1.16.0)\n",
            "Requirement already satisfied: joblib>=1.1.1 in /usr/local/lib/python3.10/dist-packages (from scikit-learn>=1.1.0->woodwork==0.29.0->graphreduce==1.6.4) (1.4.0)\n",
            "Requirement already satisfied: threadpoolctl>=2.0.0 in /usr/local/lib/python3.10/dist-packages (from scikit-learn>=1.1.0->woodwork==0.29.0->graphreduce==1.6.4) (3.4.0)\n",
            "Requirement already satisfied: parso<0.9.0,>=0.8.3 in /usr/local/lib/python3.10/dist-packages (from jedi>=0.16->ipython>=5.3.0->pyvis>=0.3.1->graphreduce==1.6.4) (0.8.4)\n",
            "Requirement already satisfied: ptyprocess>=0.5 in /usr/local/lib/python3.10/dist-packages (from pexpect>4.3->ipython>=5.3.0->pyvis>=0.3.1->graphreduce==1.6.4) (0.7.0)\n",
            "Requirement already satisfied: wcwidth in /usr/local/lib/python3.10/dist-packages (from prompt-toolkit!=3.0.0,!=3.0.1,<3.1.0,>=2.0.0->ipython>=5.3.0->pyvis>=0.3.1->graphreduce==1.6.4) (0.2.13)\n"
          ]
        }
      ],
      "source": [
        "!pip install graphreduce==1.6.4"
      ]
    },
    {
      "cell_type": "code",
      "execution_count": 2,
      "id": "d9987e7c",
      "metadata": {
        "colab": {
          "base_uri": "https://localhost:8080/"
        },
        "id": "d9987e7c",
        "outputId": "42f4de15-2fab-4677-acf3-d8e52e588f5d"
      },
      "outputs": [
        {
          "output_type": "stream",
          "name": "stderr",
          "text": [
            "/usr/local/lib/python3.10/dist-packages/pyspark/pandas/__init__.py:50: UserWarning: 'PYARROW_IGNORE_TIMEZONE' environment variable was not set. It is required to set this environment variable to '1' in both driver and executor sides if you use pyarrow>=2.0.0. pandas-on-Spark will set it for you but it does not work if there is a Spark context already launched.\n",
            "  warnings.warn(\n"
          ]
        }
      ],
      "source": [
        "import datetime\n",
        "import subprocess\n",
        "\n",
        "import pandas as pd\n",
        "from graphreduce.node import GraphReduceNode, DynamicNode\n",
        "from graphreduce.graph_reduce import GraphReduce\n",
        "from graphreduce.enum import ComputeLayerEnum as GraphReduceComputeLayerEnum, PeriodUnit"
      ]
    },
    {
      "cell_type": "code",
      "source": [
        "files = [\n",
        "    'https://raw.githubusercontent.com/wesmadrigal/GraphReduce/master/tests/data/cust_data/cust.csv',\n",
        "    'https://raw.githubusercontent.com/wesmadrigal/GraphReduce/master/tests/data/cust_data/notification_interaction_types.csv',\n",
        "    'https://raw.githubusercontent.com/wesmadrigal/GraphReduce/master/tests/data/cust_data/notification_interactions.csv',\n",
        "    'https://raw.githubusercontent.com/wesmadrigal/GraphReduce/master/tests/data/cust_data/notifications.csv',\n",
        "    'https://raw.githubusercontent.com/wesmadrigal/GraphReduce/master/tests/data/cust_data/order_products.csv',\n",
        "    'https://raw.githubusercontent.com/wesmadrigal/GraphReduce/master/tests/data/cust_data/orders.csv'\n",
        "]\n",
        "\n",
        "for f in files:\n",
        "  subprocess.run(['wget', f])"
      ],
      "metadata": {
        "id": "MVSVsgyPLKmo"
      },
      "id": "MVSVsgyPLKmo",
      "execution_count": 5,
      "outputs": []
    },
    {
      "cell_type": "code",
      "source": [
        "!ls | grep .csv"
      ],
      "metadata": {
        "colab": {
          "base_uri": "https://localhost:8080/"
        },
        "id": "PXs-n_WxLTsm",
        "outputId": "e06ab7e3-a47d-468f-bf36-1724a9dd0c10"
      },
      "id": "PXs-n_WxLTsm",
      "execution_count": 6,
      "outputs": [
        {
          "output_type": "stream",
          "name": "stdout",
          "text": [
            "cust.csv\n",
            "notification_interactions.csv\n",
            "notification_interaction_types.csv\n",
            "notifications.csv\n",
            "order_products.csv\n",
            "orders.csv\n"
          ]
        }
      ]
    },
    {
      "cell_type": "code",
      "execution_count": 7,
      "id": "2637547b",
      "metadata": {
        "id": "2637547b"
      },
      "outputs": [],
      "source": [
        "class CustomerNode(GraphReduceNode):\n",
        "    def do_filters(self):\n",
        "        pass\n",
        "    def do_annotate(self):\n",
        "        pass\n",
        "    def do_normalize(self):\n",
        "        pass\n",
        "    def do_reduce(self, reduce_key):\n",
        "        pass\n",
        "    def do_post_join_annotate(self):\n",
        "        pass\n",
        "    def do_labels(self, reduce_key):\n",
        "        pass"
      ]
    },
    {
      "cell_type": "code",
      "execution_count": 8,
      "id": "4347807c",
      "metadata": {
        "colab": {
          "base_uri": "https://localhost:8080/"
        },
        "id": "4347807c",
        "outputId": "65d29ece-2d2c-4a30-8197-c82281fae119"
      },
      "outputs": [
        {
          "output_type": "stream",
          "name": "stdout",
          "text": [
            "2024-04-23 13:37:56 [warning  ] no `date_key` set for <GraphReduceNode: fpath=cust.csv fmt=csv>\n"
          ]
        }
      ],
      "source": [
        "cust = CustomerNode(fpath='cust.csv',\n",
        "        fmt='csv',\n",
        "        pk='id',\n",
        "        prefix='cu',\n",
        "        date_key=None,\n",
        "        compute_layer=GraphReduceComputeLayerEnum.pandas,\n",
        "        compute_period_val=730,\n",
        "        compute_period_unit=PeriodUnit.day\n",
        ")"
      ]
    },
    {
      "cell_type": "code",
      "source": [
        "cust.do_data()"
      ],
      "metadata": {
        "colab": {
          "base_uri": "https://localhost:8080/"
        },
        "id": "28Nf924vLX2P",
        "outputId": "0dda031a-a3a2-40ba-ced5-b0360eea1d19"
      },
      "id": "28Nf924vLX2P",
      "execution_count": 10,
      "outputs": [
        {
          "output_type": "stream",
          "name": "stderr",
          "text": [
            "/usr/local/lib/python3.10/dist-packages/woodwork/type_sys/utils.py:40: UserWarning: Could not infer format, so each element will be parsed individually, falling back to `dateutil`. To ensure parsing is consistent and as-expected, please specify a format.\n",
            "  pd.to_datetime(\n",
            "/usr/local/lib/python3.10/dist-packages/woodwork/type_sys/utils.py:40: UserWarning: Could not infer format, so each element will be parsed individually, falling back to `dateutil`. To ensure parsing is consistent and as-expected, please specify a format.\n",
            "  pd.to_datetime(\n"
          ]
        }
      ]
    },
    {
      "cell_type": "code",
      "source": [
        "cust.df"
      ],
      "metadata": {
        "colab": {
          "base_uri": "https://localhost:8080/",
          "height": 173
        },
        "id": "rxxL4EMPLZV8",
        "outputId": "c5795c2e-2a1d-4aba-f773-de18892950f7"
      },
      "id": "rxxL4EMPLZV8",
      "execution_count": 11,
      "outputs": [
        {
          "output_type": "execute_result",
          "data": {
            "text/plain": [
              "   cu_id cu_name\n",
              "0      1     wes\n",
              "1      2    john\n",
              "2      3    ryan\n",
              "3      4  tianji"
            ],
            "text/html": [
              "\n",
              "  <div id=\"df-db08c655-b18d-400d-83a0-1df4173487cc\" class=\"colab-df-container\">\n",
              "    <div>\n",
              "<style scoped>\n",
              "    .dataframe tbody tr th:only-of-type {\n",
              "        vertical-align: middle;\n",
              "    }\n",
              "\n",
              "    .dataframe tbody tr th {\n",
              "        vertical-align: top;\n",
              "    }\n",
              "\n",
              "    .dataframe thead th {\n",
              "        text-align: right;\n",
              "    }\n",
              "</style>\n",
              "<table border=\"1\" class=\"dataframe\">\n",
              "  <thead>\n",
              "    <tr style=\"text-align: right;\">\n",
              "      <th></th>\n",
              "      <th>cu_id</th>\n",
              "      <th>cu_name</th>\n",
              "    </tr>\n",
              "  </thead>\n",
              "  <tbody>\n",
              "    <tr>\n",
              "      <th>0</th>\n",
              "      <td>1</td>\n",
              "      <td>wes</td>\n",
              "    </tr>\n",
              "    <tr>\n",
              "      <th>1</th>\n",
              "      <td>2</td>\n",
              "      <td>john</td>\n",
              "    </tr>\n",
              "    <tr>\n",
              "      <th>2</th>\n",
              "      <td>3</td>\n",
              "      <td>ryan</td>\n",
              "    </tr>\n",
              "    <tr>\n",
              "      <th>3</th>\n",
              "      <td>4</td>\n",
              "      <td>tianji</td>\n",
              "    </tr>\n",
              "  </tbody>\n",
              "</table>\n",
              "</div>\n",
              "    <div class=\"colab-df-buttons\">\n",
              "\n",
              "  <div class=\"colab-df-container\">\n",
              "    <button class=\"colab-df-convert\" onclick=\"convertToInteractive('df-db08c655-b18d-400d-83a0-1df4173487cc')\"\n",
              "            title=\"Convert this dataframe to an interactive table.\"\n",
              "            style=\"display:none;\">\n",
              "\n",
              "  <svg xmlns=\"http://www.w3.org/2000/svg\" height=\"24px\" viewBox=\"0 -960 960 960\">\n",
              "    <path d=\"M120-120v-720h720v720H120Zm60-500h600v-160H180v160Zm220 220h160v-160H400v160Zm0 220h160v-160H400v160ZM180-400h160v-160H180v160Zm440 0h160v-160H620v160ZM180-180h160v-160H180v160Zm440 0h160v-160H620v160Z\"/>\n",
              "  </svg>\n",
              "    </button>\n",
              "\n",
              "  <style>\n",
              "    .colab-df-container {\n",
              "      display:flex;\n",
              "      gap: 12px;\n",
              "    }\n",
              "\n",
              "    .colab-df-convert {\n",
              "      background-color: #E8F0FE;\n",
              "      border: none;\n",
              "      border-radius: 50%;\n",
              "      cursor: pointer;\n",
              "      display: none;\n",
              "      fill: #1967D2;\n",
              "      height: 32px;\n",
              "      padding: 0 0 0 0;\n",
              "      width: 32px;\n",
              "    }\n",
              "\n",
              "    .colab-df-convert:hover {\n",
              "      background-color: #E2EBFA;\n",
              "      box-shadow: 0px 1px 2px rgba(60, 64, 67, 0.3), 0px 1px 3px 1px rgba(60, 64, 67, 0.15);\n",
              "      fill: #174EA6;\n",
              "    }\n",
              "\n",
              "    .colab-df-buttons div {\n",
              "      margin-bottom: 4px;\n",
              "    }\n",
              "\n",
              "    [theme=dark] .colab-df-convert {\n",
              "      background-color: #3B4455;\n",
              "      fill: #D2E3FC;\n",
              "    }\n",
              "\n",
              "    [theme=dark] .colab-df-convert:hover {\n",
              "      background-color: #434B5C;\n",
              "      box-shadow: 0px 1px 3px 1px rgba(0, 0, 0, 0.15);\n",
              "      filter: drop-shadow(0px 1px 2px rgba(0, 0, 0, 0.3));\n",
              "      fill: #FFFFFF;\n",
              "    }\n",
              "  </style>\n",
              "\n",
              "    <script>\n",
              "      const buttonEl =\n",
              "        document.querySelector('#df-db08c655-b18d-400d-83a0-1df4173487cc button.colab-df-convert');\n",
              "      buttonEl.style.display =\n",
              "        google.colab.kernel.accessAllowed ? 'block' : 'none';\n",
              "\n",
              "      async function convertToInteractive(key) {\n",
              "        const element = document.querySelector('#df-db08c655-b18d-400d-83a0-1df4173487cc');\n",
              "        const dataTable =\n",
              "          await google.colab.kernel.invokeFunction('convertToInteractive',\n",
              "                                                    [key], {});\n",
              "        if (!dataTable) return;\n",
              "\n",
              "        const docLinkHtml = 'Like what you see? Visit the ' +\n",
              "          '<a target=\"_blank\" href=https://colab.research.google.com/notebooks/data_table.ipynb>data table notebook</a>'\n",
              "          + ' to learn more about interactive tables.';\n",
              "        element.innerHTML = '';\n",
              "        dataTable['output_type'] = 'display_data';\n",
              "        await google.colab.output.renderOutput(dataTable, element);\n",
              "        const docLink = document.createElement('div');\n",
              "        docLink.innerHTML = docLinkHtml;\n",
              "        element.appendChild(docLink);\n",
              "      }\n",
              "    </script>\n",
              "  </div>\n",
              "\n",
              "\n",
              "<div id=\"df-05c49011-1bc1-4793-8a48-d4f51c7747bc\">\n",
              "  <button class=\"colab-df-quickchart\" onclick=\"quickchart('df-05c49011-1bc1-4793-8a48-d4f51c7747bc')\"\n",
              "            title=\"Suggest charts\"\n",
              "            style=\"display:none;\">\n",
              "\n",
              "<svg xmlns=\"http://www.w3.org/2000/svg\" height=\"24px\"viewBox=\"0 0 24 24\"\n",
              "     width=\"24px\">\n",
              "    <g>\n",
              "        <path d=\"M19 3H5c-1.1 0-2 .9-2 2v14c0 1.1.9 2 2 2h14c1.1 0 2-.9 2-2V5c0-1.1-.9-2-2-2zM9 17H7v-7h2v7zm4 0h-2V7h2v10zm4 0h-2v-4h2v4z\"/>\n",
              "    </g>\n",
              "</svg>\n",
              "  </button>\n",
              "\n",
              "<style>\n",
              "  .colab-df-quickchart {\n",
              "      --bg-color: #E8F0FE;\n",
              "      --fill-color: #1967D2;\n",
              "      --hover-bg-color: #E2EBFA;\n",
              "      --hover-fill-color: #174EA6;\n",
              "      --disabled-fill-color: #AAA;\n",
              "      --disabled-bg-color: #DDD;\n",
              "  }\n",
              "\n",
              "  [theme=dark] .colab-df-quickchart {\n",
              "      --bg-color: #3B4455;\n",
              "      --fill-color: #D2E3FC;\n",
              "      --hover-bg-color: #434B5C;\n",
              "      --hover-fill-color: #FFFFFF;\n",
              "      --disabled-bg-color: #3B4455;\n",
              "      --disabled-fill-color: #666;\n",
              "  }\n",
              "\n",
              "  .colab-df-quickchart {\n",
              "    background-color: var(--bg-color);\n",
              "    border: none;\n",
              "    border-radius: 50%;\n",
              "    cursor: pointer;\n",
              "    display: none;\n",
              "    fill: var(--fill-color);\n",
              "    height: 32px;\n",
              "    padding: 0;\n",
              "    width: 32px;\n",
              "  }\n",
              "\n",
              "  .colab-df-quickchart:hover {\n",
              "    background-color: var(--hover-bg-color);\n",
              "    box-shadow: 0 1px 2px rgba(60, 64, 67, 0.3), 0 1px 3px 1px rgba(60, 64, 67, 0.15);\n",
              "    fill: var(--button-hover-fill-color);\n",
              "  }\n",
              "\n",
              "  .colab-df-quickchart-complete:disabled,\n",
              "  .colab-df-quickchart-complete:disabled:hover {\n",
              "    background-color: var(--disabled-bg-color);\n",
              "    fill: var(--disabled-fill-color);\n",
              "    box-shadow: none;\n",
              "  }\n",
              "\n",
              "  .colab-df-spinner {\n",
              "    border: 2px solid var(--fill-color);\n",
              "    border-color: transparent;\n",
              "    border-bottom-color: var(--fill-color);\n",
              "    animation:\n",
              "      spin 1s steps(1) infinite;\n",
              "  }\n",
              "\n",
              "  @keyframes spin {\n",
              "    0% {\n",
              "      border-color: transparent;\n",
              "      border-bottom-color: var(--fill-color);\n",
              "      border-left-color: var(--fill-color);\n",
              "    }\n",
              "    20% {\n",
              "      border-color: transparent;\n",
              "      border-left-color: var(--fill-color);\n",
              "      border-top-color: var(--fill-color);\n",
              "    }\n",
              "    30% {\n",
              "      border-color: transparent;\n",
              "      border-left-color: var(--fill-color);\n",
              "      border-top-color: var(--fill-color);\n",
              "      border-right-color: var(--fill-color);\n",
              "    }\n",
              "    40% {\n",
              "      border-color: transparent;\n",
              "      border-right-color: var(--fill-color);\n",
              "      border-top-color: var(--fill-color);\n",
              "    }\n",
              "    60% {\n",
              "      border-color: transparent;\n",
              "      border-right-color: var(--fill-color);\n",
              "    }\n",
              "    80% {\n",
              "      border-color: transparent;\n",
              "      border-right-color: var(--fill-color);\n",
              "      border-bottom-color: var(--fill-color);\n",
              "    }\n",
              "    90% {\n",
              "      border-color: transparent;\n",
              "      border-bottom-color: var(--fill-color);\n",
              "    }\n",
              "  }\n",
              "</style>\n",
              "\n",
              "  <script>\n",
              "    async function quickchart(key) {\n",
              "      const quickchartButtonEl =\n",
              "        document.querySelector('#' + key + ' button');\n",
              "      quickchartButtonEl.disabled = true;  // To prevent multiple clicks.\n",
              "      quickchartButtonEl.classList.add('colab-df-spinner');\n",
              "      try {\n",
              "        const charts = await google.colab.kernel.invokeFunction(\n",
              "            'suggestCharts', [key], {});\n",
              "      } catch (error) {\n",
              "        console.error('Error during call to suggestCharts:', error);\n",
              "      }\n",
              "      quickchartButtonEl.classList.remove('colab-df-spinner');\n",
              "      quickchartButtonEl.classList.add('colab-df-quickchart-complete');\n",
              "    }\n",
              "    (() => {\n",
              "      let quickchartButtonEl =\n",
              "        document.querySelector('#df-05c49011-1bc1-4793-8a48-d4f51c7747bc button');\n",
              "      quickchartButtonEl.style.display =\n",
              "        google.colab.kernel.accessAllowed ? 'block' : 'none';\n",
              "    })();\n",
              "  </script>\n",
              "</div>\n",
              "    </div>\n",
              "  </div>\n"
            ],
            "application/vnd.google.colaboratory.intrinsic+json": {
              "type": "dataframe",
              "summary": "{\n  \"name\": \"cust\",\n  \"rows\": 4,\n  \"fields\": [\n    {\n      \"column\": \"cu_id\",\n      \"properties\": {\n        \"dtype\": \"number\",\n        \"std\": 1,\n        \"min\": 1,\n        \"max\": 4,\n        \"num_unique_values\": 4,\n        \"samples\": [\n          2,\n          4,\n          1\n        ],\n        \"semantic_type\": \"\",\n        \"description\": \"\"\n      }\n    },\n    {\n      \"column\": \"cu_name\",\n      \"properties\": {\n        \"dtype\": \"string\",\n        \"num_unique_values\": 4,\n        \"samples\": [\n          \"john\",\n          \"tianji\",\n          \"wes\"\n        ],\n        \"semantic_type\": \"\",\n        \"description\": \"\"\n      }\n    }\n  ]\n}"
            }
          },
          "metadata": {},
          "execution_count": 11
        }
      ]
    },
    {
      "cell_type": "code",
      "execution_count": 12,
      "id": "03f9185f",
      "metadata": {
        "id": "03f9185f"
      },
      "outputs": [],
      "source": [
        "class NotificationInteractionNode(GraphReduceNode):\n",
        "    def do_filters(self):\n",
        "        pass\n",
        "    def do_annotate(self):\n",
        "        pass\n",
        "    def do_normalize(self):\n",
        "        pass\n",
        "    def do_reduce(self, reduce_key):\n",
        "        return self.prep_for_features().groupby(self.colabbr(reduce_key)).agg(**{\n",
        "            'num_interactions': pd.NamedAgg(column=self.colabbr('id'), aggfunc='count'),\n",
        "            'first_interaction':pd.NamedAgg(column=self.colabbr('ts'), aggfunc='min'),\n",
        "            'last_interaction':pd.NamedAgg(column=self.colabbr('ts'),aggfunc='max')\n",
        "        }).reset_index()\n",
        "    def do_post_join_annotate(self):\n",
        "        pass\n",
        "    def do_labels(self, reduce_key):\n",
        "        pass"
      ]
    },
    {
      "cell_type": "code",
      "execution_count": 13,
      "id": "5f0185ed",
      "metadata": {
        "id": "5f0185ed"
      },
      "outputs": [],
      "source": [
        "class NotificationNode(GraphReduceNode):\n",
        "    def do_filters(self):\n",
        "        pass\n",
        "    def do_annotate(self):\n",
        "        pass\n",
        "    def do_normalize(self):\n",
        "        pass\n",
        "    def do_reduce(self, reduce_key):\n",
        "        return self.prep_for_features().groupby(self.colabbr(reduce_key)).agg(**{\n",
        "            'num_notifications': pd.NamedAgg(column='ni_notification_id',aggfunc='count'),\n",
        "            'num_interactions': pd.NamedAgg(column='num_interactions', aggfunc='sum'),\n",
        "            'first_notification': pd.NamedAgg(column=self.colabbr('ts'), aggfunc='min'),\n",
        "            'last_notification':pd.NamedAgg(column=self.colabbr('ts'),aggfunc='max')\n",
        "        }).reset_index()\n",
        "    def do_post_join_annotate(self):\n",
        "        pass\n",
        "    def do_labels(self):\n",
        "        pass"
      ]
    },
    {
      "cell_type": "code",
      "execution_count": 14,
      "id": "fe37247c",
      "metadata": {
        "id": "fe37247c"
      },
      "outputs": [],
      "source": [
        "class OrderProductNode(GraphReduceNode):\n",
        "    def do_filters(self):\n",
        "        pass\n",
        "    def do_annotate(self):\n",
        "        pass\n",
        "    def do_normalize(self):\n",
        "        pass\n",
        "    def do_reduce(self, reduce_key):\n",
        "        return self.prep_for_features().groupby(self.colabbr(reduce_key)).agg(**{\n",
        "            'num_products': pd.NamedAgg(column=self.colabbr('product_id'),aggfunc='count')\n",
        "        }).reset_index()\n",
        "    def do_post_join_annotate(self):\n",
        "        pass\n",
        "    def do_labels(self):\n",
        "        pass"
      ]
    },
    {
      "cell_type": "code",
      "execution_count": 15,
      "id": "ee27be32",
      "metadata": {
        "id": "ee27be32"
      },
      "outputs": [],
      "source": [
        "class OrderNode(GraphReduceNode):\n",
        "    def do_filters(self):\n",
        "        pass\n",
        "    def do_annotate(self):\n",
        "        pass\n",
        "    def do_normalize(self):\n",
        "        pass\n",
        "    def do_reduce(self, reduce_key):\n",
        "        return self.prep_for_features().groupby(self.colabbr(reduce_key)).agg(**{\n",
        "            'num_orders': pd.NamedAgg(column='op_order_id',aggfunc='count'),\n",
        "            'num_products_ordered': pd.NamedAgg(column='num_products', aggfunc='sum'),\n",
        "            'first_order': pd.NamedAgg(column=self.colabbr('ts'), aggfunc='min'),\n",
        "            'last_order': pd.NamedAgg(column=self.colabbr('ts'), aggfunc='max')\n",
        "        }).reset_index()\n",
        "    def do_post_join_annotate(self):\n",
        "        pass\n",
        "    def do_labels(self):\n",
        "        pass"
      ]
    },
    {
      "cell_type": "code",
      "execution_count": 16,
      "id": "9947eee4",
      "metadata": {
        "colab": {
          "base_uri": "https://localhost:8080/"
        },
        "id": "9947eee4",
        "outputId": "7968f7f0-2f1b-44c6-fda1-e34a2eeea03e"
      },
      "outputs": [
        {
          "output_type": "stream",
          "name": "stdout",
          "text": [
            "2024-04-23 13:38:42 [warning  ] no `date_key` set for <GraphReduceNode: fpath=cust.csv fmt=csv>\n",
            "2024-04-23 13:38:42 [warning  ] no `date_key` set for <GraphReduceNode: fpath=orders.csv fmt=csv>\n",
            "2024-04-23 13:38:42 [warning  ] no `date_key` set for <GraphReduceNode: fpath=order_products.csv fmt=csv>\n",
            "2024-04-23 13:38:42 [warning  ] no `date_key` set for <GraphReduceNode: fpath=notification_interaction_types.csv fmt=csv>\n",
            "2024-04-23 13:38:42 [warning  ] no `date_key` set for <GraphReduceNode: fpath=notification_interactions.csv fmt=csv>\n",
            "2024-04-23 13:38:42 [warning  ] no `date_key` set for <GraphReduceNode: fpath=notifications.csv fmt=csv>\n"
          ]
        }
      ],
      "source": [
        "cust = CustomerNode(fpath='cust.csv',\n",
        "        fmt='csv',\n",
        "        pk='id',\n",
        "        prefix='cu',\n",
        "        date_key=None,\n",
        "        compute_layer=GraphReduceComputeLayerEnum.pandas,\n",
        "        compute_period_val=730,\n",
        "        compute_period_unit=PeriodUnit.day\n",
        ")\n",
        "orders = OrderNode(fpath='orders.csv',\n",
        "        fmt='csv',\n",
        "        pk='id',\n",
        "        prefix='ord',\n",
        "        date_key=None,\n",
        "        compute_layer=GraphReduceComputeLayerEnum.pandas,\n",
        "        compute_period_val=730,\n",
        "        compute_period_unit=PeriodUnit.day\n",
        "                  )\n",
        "op = OrderProductNode(fpath='order_products.csv',\n",
        "        fmt='csv',\n",
        "        pk='id',\n",
        "        prefix='op',\n",
        "        date_key=None,\n",
        "        compute_layer=GraphReduceComputeLayerEnum.pandas,\n",
        "        compute_period_val=730,\n",
        "        compute_period_unit=PeriodUnit.day\n",
        "                  )\n",
        "nit = DynamicNode(fpath='notification_interaction_types.csv',\n",
        "        fmt='csv',\n",
        "        pk='id',\n",
        "        prefix='nit',\n",
        "        date_key=None,\n",
        "        compute_layer=GraphReduceComputeLayerEnum.pandas,\n",
        "        compute_period_val=730,\n",
        "        compute_period_unit=PeriodUnit.day\n",
        "                  )\n",
        "\n",
        "ni = NotificationInteractionNode(fpath='notification_interactions.csv',\n",
        "        fmt='csv',\n",
        "        pk='id',\n",
        "        prefix='ni',\n",
        "        date_key=None,\n",
        "        compute_layer=GraphReduceComputeLayerEnum.pandas,\n",
        "        compute_period_val=730,\n",
        "        compute_period_unit=PeriodUnit.day\n",
        "                  )\n",
        "notif = NotificationNode(\n",
        "    fpath='notifications.csv',\n",
        "        fmt='csv',\n",
        "        pk='id',\n",
        "        prefix='not',\n",
        "        date_key=None,\n",
        "        compute_layer=GraphReduceComputeLayerEnum.pandas,\n",
        "        compute_period_val=730,\n",
        "        compute_period_unit=PeriodUnit.day\n",
        ")"
      ]
    },
    {
      "cell_type": "code",
      "execution_count": 17,
      "id": "e78c4900",
      "metadata": {
        "id": "e78c4900"
      },
      "outputs": [],
      "source": [
        "gr = GraphReduce(\n",
        "    name='cust',\n",
        "    parent_node=cust,\n",
        "    fmt='csv',\n",
        "    cut_date=datetime.datetime(2023,9,1),\n",
        "    compute_layer=GraphReduceComputeLayerEnum.pandas,\n",
        ")"
      ]
    },
    {
      "cell_type": "code",
      "execution_count": 18,
      "id": "05431dba",
      "metadata": {
        "id": "05431dba"
      },
      "outputs": [],
      "source": [
        "# Add relation from notification_interaction_types.csv to notification_interactions.csv\n",
        "gr.add_entity_edge(\n",
        "        parent_node=ni,\n",
        "        relation_node=nit,\n",
        "        parent_key='interaction_type_id',\n",
        "        relation_key='id',\n",
        "        reduce=False\n",
        "    )"
      ]
    },
    {
      "cell_type": "code",
      "execution_count": 19,
      "id": "2c8c9ae7",
      "metadata": {
        "id": "2c8c9ae7"
      },
      "outputs": [],
      "source": [
        "# Add relation from notification_interactions.csv to notifications.csv\n",
        "gr.add_entity_edge(\n",
        "        parent_node=notif,\n",
        "        relation_node=ni,\n",
        "        parent_key='id',\n",
        "        relation_key='notification_id',\n",
        "        reduce=True\n",
        "    )"
      ]
    },
    {
      "cell_type": "code",
      "execution_count": 20,
      "id": "c0e49a2a",
      "metadata": {
        "id": "c0e49a2a"
      },
      "outputs": [],
      "source": [
        "# Add relation from order_products.csv to orders.csv\n",
        "gr.add_entity_edge(\n",
        "        parent_node=orders,\n",
        "        relation_node=op,\n",
        "        parent_key='id',\n",
        "        relation_key='order_id',\n",
        "        reduce=True\n",
        "    )\n"
      ]
    },
    {
      "cell_type": "code",
      "execution_count": 21,
      "id": "6b051bc3",
      "metadata": {
        "id": "6b051bc3"
      },
      "outputs": [],
      "source": [
        "# Add relation from notifications.csv to cust.csv\n",
        "gr.add_entity_edge(\n",
        "        parent_node=cust,\n",
        "        relation_node=notif,\n",
        "        parent_key='id',\n",
        "        relation_key='customer_id',\n",
        "        reduce=True\n",
        "    )"
      ]
    },
    {
      "cell_type": "code",
      "execution_count": 22,
      "id": "586815c4",
      "metadata": {
        "id": "586815c4"
      },
      "outputs": [],
      "source": [
        "# Add relation from orders.csv to cust.csv"
      ]
    },
    {
      "cell_type": "code",
      "execution_count": 23,
      "id": "2f5930a8",
      "metadata": {
        "id": "2f5930a8"
      },
      "outputs": [],
      "source": [
        "gr.add_entity_edge(\n",
        "        parent_node=cust,\n",
        "        relation_node=orders,\n",
        "        parent_key='id',\n",
        "        relation_key='customer_id',\n",
        "        reduce=True\n",
        "    )"
      ]
    },
    {
      "cell_type": "code",
      "execution_count": 24,
      "id": "0c372082",
      "metadata": {
        "colab": {
          "base_uri": "https://localhost:8080/"
        },
        "id": "0c372082",
        "outputId": "774093fa-b9eb-4734-a83b-3d7aef75a695"
      },
      "outputs": [
        {
          "output_type": "stream",
          "name": "stdout",
          "text": [
            "2024-04-23 13:39:00 [info     ] plotted graph at customer_graph.html\n"
          ]
        }
      ],
      "source": [
        "gr.plot_graph('customer_graph.html')"
      ]
    },
    {
      "cell_type": "code",
      "execution_count": 24,
      "id": "c794f4a6",
      "metadata": {
        "id": "c794f4a6"
      },
      "outputs": [],
      "source": []
    },
    {
      "cell_type": "code",
      "execution_count": 25,
      "id": "bb6bc474",
      "metadata": {
        "id": "bb6bc474"
      },
      "outputs": [],
      "source": [
        "from IPython.display import IFrame\n"
      ]
    },
    {
      "cell_type": "code",
      "execution_count": 27,
      "id": "f1ba2313",
      "metadata": {
        "colab": {
          "base_uri": "https://localhost:8080/",
          "height": 621
        },
        "id": "f1ba2313",
        "outputId": "44645d42-640f-420c-df2c-008e3ceb92be"
      },
      "outputs": [
        {
          "output_type": "execute_result",
          "data": {
            "text/plain": [
              "<IPython.lib.display.IFrame at 0x7f58f24baaa0>"
            ],
            "text/html": [
              "\n",
              "        <iframe\n",
              "            width=\"600\"\n",
              "            height=\"600\"\n",
              "            src=\"./customer_graph.html\"\n",
              "            frameborder=\"0\"\n",
              "            allowfullscreen\n",
              "            \n",
              "        ></iframe>\n",
              "        "
            ]
          },
          "metadata": {},
          "execution_count": 27
        }
      ],
      "source": [
        "IFrame(src='./customer_graph.html', width=600, height=600)"
      ]
    },
    {
      "cell_type": "code",
      "execution_count": null,
      "id": "50a15cc3",
      "metadata": {
        "id": "50a15cc3"
      },
      "outputs": [],
      "source": []
    },
    {
      "cell_type": "code",
      "execution_count": 28,
      "id": "bb663cb6",
      "metadata": {
        "colab": {
          "base_uri": "https://localhost:8080/"
        },
        "id": "bb663cb6",
        "outputId": "8b7e348c-9943-4abf-fc1c-4b6e8725c780"
      },
      "outputs": [
        {
          "output_type": "stream",
          "name": "stdout",
          "text": [
            "2024-04-23 13:39:12 [info     ] hydrating graph attributes\n",
            "2024-04-23 13:39:12 [info     ] hydrating attributes for NotificationInteractionNode\n",
            "2024-04-23 13:39:12 [info     ] hydrating attributes for DynamicNode\n",
            "2024-04-23 13:39:12 [info     ] hydrating attributes for NotificationNode\n",
            "2024-04-23 13:39:12 [info     ] hydrating attributes for OrderNode\n",
            "2024-04-23 13:39:12 [info     ] hydrating attributes for OrderProductNode\n",
            "2024-04-23 13:39:12 [info     ] hydrating attributes for CustomerNode\n",
            "2024-04-23 13:39:12 [info     ] hydrating graph data\n",
            "2024-04-23 13:39:12 [info     ] checking for prefix uniqueness\n",
            "2024-04-23 13:39:12 [info     ] running filters, normalize, and annotations for <GraphReduceNode: fpath=notification_interactions.csv fmt=csv>\n",
            "2024-04-23 13:39:12 [info     ] running filters, normalize, and annotations for <GraphReduceNode: fpath=notification_interaction_types.csv fmt=csv>\n",
            "2024-04-23 13:39:12 [info     ] running filters, normalize, and annotations for <GraphReduceNode: fpath=notifications.csv fmt=csv>\n",
            "2024-04-23 13:39:12 [info     ] running filters, normalize, and annotations for <GraphReduceNode: fpath=orders.csv fmt=csv>\n",
            "2024-04-23 13:39:12 [info     ] running filters, normalize, and annotations for <GraphReduceNode: fpath=order_products.csv fmt=csv>\n",
            "2024-04-23 13:39:12 [info     ] running filters, normalize, and annotations for <GraphReduceNode: fpath=cust.csv fmt=csv>\n",
            "2024-04-23 13:39:12 [info     ] depth-first traversal through the graph from source: <GraphReduceNode: fpath=cust.csv fmt=csv>\n",
            "2024-04-23 13:39:12 [info     ] reducing relation <GraphReduceNode: fpath=order_products.csv fmt=csv>\n",
            "2024-04-23 13:39:12 [info     ] joining <GraphReduceNode: fpath=order_products.csv fmt=csv> to <GraphReduceNode: fpath=orders.csv fmt=csv>\n",
            "2024-04-23 13:39:12 [info     ] reducing relation <GraphReduceNode: fpath=orders.csv fmt=csv>\n",
            "2024-04-23 13:39:12 [info     ] joining <GraphReduceNode: fpath=orders.csv fmt=csv> to <GraphReduceNode: fpath=cust.csv fmt=csv>\n",
            "2024-04-23 13:39:12 [info     ] reducing relation <GraphReduceNode: fpath=notification_interactions.csv fmt=csv>\n",
            "2024-04-23 13:39:12 [info     ] joining <GraphReduceNode: fpath=notification_interactions.csv fmt=csv> to <GraphReduceNode: fpath=notifications.csv fmt=csv>\n",
            "2024-04-23 13:39:12 [info     ] reducing relation <GraphReduceNode: fpath=notifications.csv fmt=csv>\n",
            "2024-04-23 13:39:12 [info     ] joining <GraphReduceNode: fpath=notifications.csv fmt=csv> to <GraphReduceNode: fpath=cust.csv fmt=csv>\n"
          ]
        },
        {
          "output_type": "stream",
          "name": "stderr",
          "text": [
            "/usr/local/lib/python3.10/dist-packages/woodwork/type_sys/utils.py:40: UserWarning: Could not infer format, so each element will be parsed individually, falling back to `dateutil`. To ensure parsing is consistent and as-expected, please specify a format.\n",
            "  pd.to_datetime(\n",
            "/usr/local/lib/python3.10/dist-packages/woodwork/type_sys/utils.py:40: UserWarning: Could not infer format, so each element will be parsed individually, falling back to `dateutil`. To ensure parsing is consistent and as-expected, please specify a format.\n",
            "  pd.to_datetime(\n",
            "/usr/local/lib/python3.10/dist-packages/woodwork/type_sys/utils.py:40: UserWarning: Could not infer format, so each element will be parsed individually, falling back to `dateutil`. To ensure parsing is consistent and as-expected, please specify a format.\n",
            "  pd.to_datetime(\n",
            "/usr/local/lib/python3.10/dist-packages/woodwork/type_sys/utils.py:40: UserWarning: Could not infer format, so each element will be parsed individually, falling back to `dateutil`. To ensure parsing is consistent and as-expected, please specify a format.\n",
            "  pd.to_datetime(\n"
          ]
        }
      ],
      "source": [
        "gr.do_transformations()"
      ]
    },
    {
      "cell_type": "code",
      "execution_count": null,
      "id": "b5aeac36",
      "metadata": {
        "id": "b5aeac36"
      },
      "outputs": [],
      "source": []
    },
    {
      "cell_type": "code",
      "execution_count": 29,
      "id": "8027801f",
      "metadata": {
        "colab": {
          "base_uri": "https://localhost:8080/",
          "height": 193
        },
        "id": "8027801f",
        "outputId": "110b6c0a-b886-4fcd-95e4-f6d267a1453e"
      },
      "outputs": [
        {
          "output_type": "execute_result",
          "data": {
            "text/plain": [
              "   cu_id cu_name  ord_customer_id  num_orders  num_products_ordered  \\\n",
              "0      1     wes                1           3                  10.0   \n",
              "1      2    john                2           2                   8.0   \n",
              "2      3    ryan                3           1                   1.0   \n",
              "3      4  tianji                4           0                   0.0   \n",
              "\n",
              "  first_order last_order  not_customer_id  num_notifications  \\\n",
              "0  2023-05-12 2023-09-02                1                  6   \n",
              "1  2022-08-05 2023-10-15                2                  4   \n",
              "2  2023-06-01 2023-06-01                3                  0   \n",
              "3  2024-01-01 2024-02-01                4                  0   \n",
              "\n",
              "   num_interactions first_notification last_notification  \n",
              "0              14.0         2022-08-05        2023-06-23  \n",
              "1               4.0         2022-09-05        2023-05-22  \n",
              "2               0.0         2023-06-12        2023-09-01  \n",
              "3               0.0         2024-02-01        2024-02-15  "
            ],
            "text/html": [
              "\n",
              "  <div id=\"df-23e7d9ad-579d-44c2-8094-a52d6174bc64\" class=\"colab-df-container\">\n",
              "    <div>\n",
              "<style scoped>\n",
              "    .dataframe tbody tr th:only-of-type {\n",
              "        vertical-align: middle;\n",
              "    }\n",
              "\n",
              "    .dataframe tbody tr th {\n",
              "        vertical-align: top;\n",
              "    }\n",
              "\n",
              "    .dataframe thead th {\n",
              "        text-align: right;\n",
              "    }\n",
              "</style>\n",
              "<table border=\"1\" class=\"dataframe\">\n",
              "  <thead>\n",
              "    <tr style=\"text-align: right;\">\n",
              "      <th></th>\n",
              "      <th>cu_id</th>\n",
              "      <th>cu_name</th>\n",
              "      <th>ord_customer_id</th>\n",
              "      <th>num_orders</th>\n",
              "      <th>num_products_ordered</th>\n",
              "      <th>first_order</th>\n",
              "      <th>last_order</th>\n",
              "      <th>not_customer_id</th>\n",
              "      <th>num_notifications</th>\n",
              "      <th>num_interactions</th>\n",
              "      <th>first_notification</th>\n",
              "      <th>last_notification</th>\n",
              "    </tr>\n",
              "  </thead>\n",
              "  <tbody>\n",
              "    <tr>\n",
              "      <th>0</th>\n",
              "      <td>1</td>\n",
              "      <td>wes</td>\n",
              "      <td>1</td>\n",
              "      <td>3</td>\n",
              "      <td>10.0</td>\n",
              "      <td>2023-05-12</td>\n",
              "      <td>2023-09-02</td>\n",
              "      <td>1</td>\n",
              "      <td>6</td>\n",
              "      <td>14.0</td>\n",
              "      <td>2022-08-05</td>\n",
              "      <td>2023-06-23</td>\n",
              "    </tr>\n",
              "    <tr>\n",
              "      <th>1</th>\n",
              "      <td>2</td>\n",
              "      <td>john</td>\n",
              "      <td>2</td>\n",
              "      <td>2</td>\n",
              "      <td>8.0</td>\n",
              "      <td>2022-08-05</td>\n",
              "      <td>2023-10-15</td>\n",
              "      <td>2</td>\n",
              "      <td>4</td>\n",
              "      <td>4.0</td>\n",
              "      <td>2022-09-05</td>\n",
              "      <td>2023-05-22</td>\n",
              "    </tr>\n",
              "    <tr>\n",
              "      <th>2</th>\n",
              "      <td>3</td>\n",
              "      <td>ryan</td>\n",
              "      <td>3</td>\n",
              "      <td>1</td>\n",
              "      <td>1.0</td>\n",
              "      <td>2023-06-01</td>\n",
              "      <td>2023-06-01</td>\n",
              "      <td>3</td>\n",
              "      <td>0</td>\n",
              "      <td>0.0</td>\n",
              "      <td>2023-06-12</td>\n",
              "      <td>2023-09-01</td>\n",
              "    </tr>\n",
              "    <tr>\n",
              "      <th>3</th>\n",
              "      <td>4</td>\n",
              "      <td>tianji</td>\n",
              "      <td>4</td>\n",
              "      <td>0</td>\n",
              "      <td>0.0</td>\n",
              "      <td>2024-01-01</td>\n",
              "      <td>2024-02-01</td>\n",
              "      <td>4</td>\n",
              "      <td>0</td>\n",
              "      <td>0.0</td>\n",
              "      <td>2024-02-01</td>\n",
              "      <td>2024-02-15</td>\n",
              "    </tr>\n",
              "  </tbody>\n",
              "</table>\n",
              "</div>\n",
              "    <div class=\"colab-df-buttons\">\n",
              "\n",
              "  <div class=\"colab-df-container\">\n",
              "    <button class=\"colab-df-convert\" onclick=\"convertToInteractive('df-23e7d9ad-579d-44c2-8094-a52d6174bc64')\"\n",
              "            title=\"Convert this dataframe to an interactive table.\"\n",
              "            style=\"display:none;\">\n",
              "\n",
              "  <svg xmlns=\"http://www.w3.org/2000/svg\" height=\"24px\" viewBox=\"0 -960 960 960\">\n",
              "    <path d=\"M120-120v-720h720v720H120Zm60-500h600v-160H180v160Zm220 220h160v-160H400v160Zm0 220h160v-160H400v160ZM180-400h160v-160H180v160Zm440 0h160v-160H620v160ZM180-180h160v-160H180v160Zm440 0h160v-160H620v160Z\"/>\n",
              "  </svg>\n",
              "    </button>\n",
              "\n",
              "  <style>\n",
              "    .colab-df-container {\n",
              "      display:flex;\n",
              "      gap: 12px;\n",
              "    }\n",
              "\n",
              "    .colab-df-convert {\n",
              "      background-color: #E8F0FE;\n",
              "      border: none;\n",
              "      border-radius: 50%;\n",
              "      cursor: pointer;\n",
              "      display: none;\n",
              "      fill: #1967D2;\n",
              "      height: 32px;\n",
              "      padding: 0 0 0 0;\n",
              "      width: 32px;\n",
              "    }\n",
              "\n",
              "    .colab-df-convert:hover {\n",
              "      background-color: #E2EBFA;\n",
              "      box-shadow: 0px 1px 2px rgba(60, 64, 67, 0.3), 0px 1px 3px 1px rgba(60, 64, 67, 0.15);\n",
              "      fill: #174EA6;\n",
              "    }\n",
              "\n",
              "    .colab-df-buttons div {\n",
              "      margin-bottom: 4px;\n",
              "    }\n",
              "\n",
              "    [theme=dark] .colab-df-convert {\n",
              "      background-color: #3B4455;\n",
              "      fill: #D2E3FC;\n",
              "    }\n",
              "\n",
              "    [theme=dark] .colab-df-convert:hover {\n",
              "      background-color: #434B5C;\n",
              "      box-shadow: 0px 1px 3px 1px rgba(0, 0, 0, 0.15);\n",
              "      filter: drop-shadow(0px 1px 2px rgba(0, 0, 0, 0.3));\n",
              "      fill: #FFFFFF;\n",
              "    }\n",
              "  </style>\n",
              "\n",
              "    <script>\n",
              "      const buttonEl =\n",
              "        document.querySelector('#df-23e7d9ad-579d-44c2-8094-a52d6174bc64 button.colab-df-convert');\n",
              "      buttonEl.style.display =\n",
              "        google.colab.kernel.accessAllowed ? 'block' : 'none';\n",
              "\n",
              "      async function convertToInteractive(key) {\n",
              "        const element = document.querySelector('#df-23e7d9ad-579d-44c2-8094-a52d6174bc64');\n",
              "        const dataTable =\n",
              "          await google.colab.kernel.invokeFunction('convertToInteractive',\n",
              "                                                    [key], {});\n",
              "        if (!dataTable) return;\n",
              "\n",
              "        const docLinkHtml = 'Like what you see? Visit the ' +\n",
              "          '<a target=\"_blank\" href=https://colab.research.google.com/notebooks/data_table.ipynb>data table notebook</a>'\n",
              "          + ' to learn more about interactive tables.';\n",
              "        element.innerHTML = '';\n",
              "        dataTable['output_type'] = 'display_data';\n",
              "        await google.colab.output.renderOutput(dataTable, element);\n",
              "        const docLink = document.createElement('div');\n",
              "        docLink.innerHTML = docLinkHtml;\n",
              "        element.appendChild(docLink);\n",
              "      }\n",
              "    </script>\n",
              "  </div>\n",
              "\n",
              "\n",
              "<div id=\"df-140b7a37-baff-4aaf-922d-d593e235f26f\">\n",
              "  <button class=\"colab-df-quickchart\" onclick=\"quickchart('df-140b7a37-baff-4aaf-922d-d593e235f26f')\"\n",
              "            title=\"Suggest charts\"\n",
              "            style=\"display:none;\">\n",
              "\n",
              "<svg xmlns=\"http://www.w3.org/2000/svg\" height=\"24px\"viewBox=\"0 0 24 24\"\n",
              "     width=\"24px\">\n",
              "    <g>\n",
              "        <path d=\"M19 3H5c-1.1 0-2 .9-2 2v14c0 1.1.9 2 2 2h14c1.1 0 2-.9 2-2V5c0-1.1-.9-2-2-2zM9 17H7v-7h2v7zm4 0h-2V7h2v10zm4 0h-2v-4h2v4z\"/>\n",
              "    </g>\n",
              "</svg>\n",
              "  </button>\n",
              "\n",
              "<style>\n",
              "  .colab-df-quickchart {\n",
              "      --bg-color: #E8F0FE;\n",
              "      --fill-color: #1967D2;\n",
              "      --hover-bg-color: #E2EBFA;\n",
              "      --hover-fill-color: #174EA6;\n",
              "      --disabled-fill-color: #AAA;\n",
              "      --disabled-bg-color: #DDD;\n",
              "  }\n",
              "\n",
              "  [theme=dark] .colab-df-quickchart {\n",
              "      --bg-color: #3B4455;\n",
              "      --fill-color: #D2E3FC;\n",
              "      --hover-bg-color: #434B5C;\n",
              "      --hover-fill-color: #FFFFFF;\n",
              "      --disabled-bg-color: #3B4455;\n",
              "      --disabled-fill-color: #666;\n",
              "  }\n",
              "\n",
              "  .colab-df-quickchart {\n",
              "    background-color: var(--bg-color);\n",
              "    border: none;\n",
              "    border-radius: 50%;\n",
              "    cursor: pointer;\n",
              "    display: none;\n",
              "    fill: var(--fill-color);\n",
              "    height: 32px;\n",
              "    padding: 0;\n",
              "    width: 32px;\n",
              "  }\n",
              "\n",
              "  .colab-df-quickchart:hover {\n",
              "    background-color: var(--hover-bg-color);\n",
              "    box-shadow: 0 1px 2px rgba(60, 64, 67, 0.3), 0 1px 3px 1px rgba(60, 64, 67, 0.15);\n",
              "    fill: var(--button-hover-fill-color);\n",
              "  }\n",
              "\n",
              "  .colab-df-quickchart-complete:disabled,\n",
              "  .colab-df-quickchart-complete:disabled:hover {\n",
              "    background-color: var(--disabled-bg-color);\n",
              "    fill: var(--disabled-fill-color);\n",
              "    box-shadow: none;\n",
              "  }\n",
              "\n",
              "  .colab-df-spinner {\n",
              "    border: 2px solid var(--fill-color);\n",
              "    border-color: transparent;\n",
              "    border-bottom-color: var(--fill-color);\n",
              "    animation:\n",
              "      spin 1s steps(1) infinite;\n",
              "  }\n",
              "\n",
              "  @keyframes spin {\n",
              "    0% {\n",
              "      border-color: transparent;\n",
              "      border-bottom-color: var(--fill-color);\n",
              "      border-left-color: var(--fill-color);\n",
              "    }\n",
              "    20% {\n",
              "      border-color: transparent;\n",
              "      border-left-color: var(--fill-color);\n",
              "      border-top-color: var(--fill-color);\n",
              "    }\n",
              "    30% {\n",
              "      border-color: transparent;\n",
              "      border-left-color: var(--fill-color);\n",
              "      border-top-color: var(--fill-color);\n",
              "      border-right-color: var(--fill-color);\n",
              "    }\n",
              "    40% {\n",
              "      border-color: transparent;\n",
              "      border-right-color: var(--fill-color);\n",
              "      border-top-color: var(--fill-color);\n",
              "    }\n",
              "    60% {\n",
              "      border-color: transparent;\n",
              "      border-right-color: var(--fill-color);\n",
              "    }\n",
              "    80% {\n",
              "      border-color: transparent;\n",
              "      border-right-color: var(--fill-color);\n",
              "      border-bottom-color: var(--fill-color);\n",
              "    }\n",
              "    90% {\n",
              "      border-color: transparent;\n",
              "      border-bottom-color: var(--fill-color);\n",
              "    }\n",
              "  }\n",
              "</style>\n",
              "\n",
              "  <script>\n",
              "    async function quickchart(key) {\n",
              "      const quickchartButtonEl =\n",
              "        document.querySelector('#' + key + ' button');\n",
              "      quickchartButtonEl.disabled = true;  // To prevent multiple clicks.\n",
              "      quickchartButtonEl.classList.add('colab-df-spinner');\n",
              "      try {\n",
              "        const charts = await google.colab.kernel.invokeFunction(\n",
              "            'suggestCharts', [key], {});\n",
              "      } catch (error) {\n",
              "        console.error('Error during call to suggestCharts:', error);\n",
              "      }\n",
              "      quickchartButtonEl.classList.remove('colab-df-spinner');\n",
              "      quickchartButtonEl.classList.add('colab-df-quickchart-complete');\n",
              "    }\n",
              "    (() => {\n",
              "      let quickchartButtonEl =\n",
              "        document.querySelector('#df-140b7a37-baff-4aaf-922d-d593e235f26f button');\n",
              "      quickchartButtonEl.style.display =\n",
              "        google.colab.kernel.accessAllowed ? 'block' : 'none';\n",
              "    })();\n",
              "  </script>\n",
              "</div>\n",
              "    </div>\n",
              "  </div>\n"
            ],
            "application/vnd.google.colaboratory.intrinsic+json": {
              "type": "dataframe",
              "summary": "{\n  \"name\": \"gr\",\n  \"rows\": 4,\n  \"fields\": [\n    {\n      \"column\": \"cu_id\",\n      \"properties\": {\n        \"dtype\": \"number\",\n        \"std\": 1,\n        \"min\": 1,\n        \"max\": 4,\n        \"num_unique_values\": 4,\n        \"samples\": [\n          2,\n          4,\n          1\n        ],\n        \"semantic_type\": \"\",\n        \"description\": \"\"\n      }\n    },\n    {\n      \"column\": \"cu_name\",\n      \"properties\": {\n        \"dtype\": \"string\",\n        \"num_unique_values\": 4,\n        \"samples\": [\n          \"john\",\n          \"tianji\",\n          \"wes\"\n        ],\n        \"semantic_type\": \"\",\n        \"description\": \"\"\n      }\n    },\n    {\n      \"column\": \"ord_customer_id\",\n      \"properties\": {\n        \"dtype\": \"number\",\n        \"std\": 1,\n        \"min\": 1,\n        \"max\": 4,\n        \"num_unique_values\": 4,\n        \"samples\": [\n          2,\n          4,\n          1\n        ],\n        \"semantic_type\": \"\",\n        \"description\": \"\"\n      }\n    },\n    {\n      \"column\": \"num_orders\",\n      \"properties\": {\n        \"dtype\": \"number\",\n        \"std\": 1,\n        \"min\": 0,\n        \"max\": 3,\n        \"num_unique_values\": 4,\n        \"samples\": [\n          2,\n          0,\n          3\n        ],\n        \"semantic_type\": \"\",\n        \"description\": \"\"\n      }\n    },\n    {\n      \"column\": \"num_products_ordered\",\n      \"properties\": {\n        \"dtype\": \"number\",\n        \"std\": 4.9916597106239795,\n        \"min\": 0.0,\n        \"max\": 10.0,\n        \"num_unique_values\": 4,\n        \"samples\": [\n          8.0,\n          0.0,\n          10.0\n        ],\n        \"semantic_type\": \"\",\n        \"description\": \"\"\n      }\n    },\n    {\n      \"column\": \"first_order\",\n      \"properties\": {\n        \"dtype\": \"date\",\n        \"min\": \"2022-08-05 00:00:00\",\n        \"max\": \"2024-01-01 00:00:00\",\n        \"num_unique_values\": 4,\n        \"samples\": [\n          \"2022-08-05 00:00:00\",\n          \"2024-01-01 00:00:00\",\n          \"2023-05-12 00:00:00\"\n        ],\n        \"semantic_type\": \"\",\n        \"description\": \"\"\n      }\n    },\n    {\n      \"column\": \"last_order\",\n      \"properties\": {\n        \"dtype\": \"date\",\n        \"min\": \"2023-06-01 00:00:00\",\n        \"max\": \"2024-02-01 00:00:00\",\n        \"num_unique_values\": 4,\n        \"samples\": [\n          \"2023-10-15 00:00:00\",\n          \"2024-02-01 00:00:00\",\n          \"2023-09-02 00:00:00\"\n        ],\n        \"semantic_type\": \"\",\n        \"description\": \"\"\n      }\n    },\n    {\n      \"column\": \"not_customer_id\",\n      \"properties\": {\n        \"dtype\": \"number\",\n        \"std\": 1,\n        \"min\": 1,\n        \"max\": 4,\n        \"num_unique_values\": 4,\n        \"samples\": [\n          2,\n          4,\n          1\n        ],\n        \"semantic_type\": \"\",\n        \"description\": \"\"\n      }\n    },\n    {\n      \"column\": \"num_notifications\",\n      \"properties\": {\n        \"dtype\": \"number\",\n        \"std\": 3,\n        \"min\": 0,\n        \"max\": 6,\n        \"num_unique_values\": 3,\n        \"samples\": [\n          6,\n          4,\n          0\n        ],\n        \"semantic_type\": \"\",\n        \"description\": \"\"\n      }\n    },\n    {\n      \"column\": \"num_interactions\",\n      \"properties\": {\n        \"dtype\": \"number\",\n        \"std\": 6.60807586719967,\n        \"min\": 0.0,\n        \"max\": 14.0,\n        \"num_unique_values\": 3,\n        \"samples\": [\n          14.0,\n          4.0,\n          0.0\n        ],\n        \"semantic_type\": \"\",\n        \"description\": \"\"\n      }\n    },\n    {\n      \"column\": \"first_notification\",\n      \"properties\": {\n        \"dtype\": \"date\",\n        \"min\": \"2022-08-05 00:00:00\",\n        \"max\": \"2024-02-01 00:00:00\",\n        \"num_unique_values\": 4,\n        \"samples\": [\n          \"2022-09-05 00:00:00\",\n          \"2024-02-01 00:00:00\",\n          \"2022-08-05 00:00:00\"\n        ],\n        \"semantic_type\": \"\",\n        \"description\": \"\"\n      }\n    },\n    {\n      \"column\": \"last_notification\",\n      \"properties\": {\n        \"dtype\": \"date\",\n        \"min\": \"2023-05-22 00:00:00\",\n        \"max\": \"2024-02-15 00:00:00\",\n        \"num_unique_values\": 4,\n        \"samples\": [\n          \"2023-05-22 00:00:00\",\n          \"2024-02-15 00:00:00\",\n          \"2023-06-23 00:00:00\"\n        ],\n        \"semantic_type\": \"\",\n        \"description\": \"\"\n      }\n    }\n  ]\n}"
            }
          },
          "metadata": {},
          "execution_count": 29
        }
      ],
      "source": [
        "gr.parent_node.df"
      ]
    },
    {
      "cell_type": "code",
      "execution_count": null,
      "id": "254e48d8",
      "metadata": {
        "id": "254e48d8"
      },
      "outputs": [],
      "source": []
    },
    {
      "cell_type": "code",
      "execution_count": 30,
      "id": "dfd0ccad",
      "metadata": {
        "id": "dfd0ccad"
      },
      "outputs": [],
      "source": [
        "# OPEN NEW NOTEBOOK WITH: https://github.com/wesmadrigal/GraphReduce/blob/master/examples/ODSC_East_2024_ex3.ipynb"
      ]
    }
  ],
  "metadata": {
    "kernelspec": {
      "display_name": "Python 3 (ipykernel)",
      "language": "python",
      "name": "python3"
    },
    "language_info": {
      "codemirror_mode": {
        "name": "ipython",
        "version": 3
      },
      "file_extension": ".py",
      "mimetype": "text/x-python",
      "name": "python",
      "nbconvert_exporter": "python",
      "pygments_lexer": "ipython3",
      "version": "3.9.18"
    },
    "colab": {
      "provenance": []
    }
  },
  "nbformat": 4,
  "nbformat_minor": 5
}
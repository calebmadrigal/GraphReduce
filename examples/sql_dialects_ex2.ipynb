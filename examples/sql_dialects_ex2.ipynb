{
 "cells": [
  {
   "cell_type": "markdown",
   "id": "060d6d45",
   "metadata": {},
   "source": [
    "# Two nodes in a graph and basic aggregation/reduction.\n",
    "## still using `sqlite` as a SQL engine"
   ]
  },
  {
   "cell_type": "code",
   "execution_count": 32,
   "id": "36fef524",
   "metadata": {},
   "outputs": [],
   "source": [
    "import pandas as pd\n",
    "import sqlite3\n",
    "import json\n",
    "import os\n",
    "import typing\n",
    "\n",
    "\n",
    "# examples for using SQL engines and dialects\n",
    "from graphreduce.node import SQLNode\n",
    "from graphreduce.graph_reduce import GraphReduce\n",
    "from graphreduce.enum import SQLOpType, ComputeLayerEnum\n",
    "from graphreduce.models import sqlop"
   ]
  },
  {
   "cell_type": "code",
   "execution_count": 33,
   "id": "1c2ed563",
   "metadata": {},
   "outputs": [
    {
     "name": "stdout",
     "output_type": "stream",
     "text": [
      "cust.csv                      order_events.csv\r\n",
      "cust.db                       order_products.csv\r\n",
      "notification_interactions.csv orders.csv\r\n",
      "notifications.csv             products.csv\r\n"
     ]
    }
   ],
   "source": [
    "!ls dat/"
   ]
  },
  {
   "cell_type": "code",
   "execution_count": 34,
   "id": "f9d85371",
   "metadata": {},
   "outputs": [],
   "source": [
    "!rm dat/cust.db"
   ]
  },
  {
   "cell_type": "code",
   "execution_count": null,
   "id": "fed9d711",
   "metadata": {},
   "outputs": [],
   "source": []
  },
  {
   "cell_type": "code",
   "execution_count": 35,
   "id": "b703ec43",
   "metadata": {},
   "outputs": [],
   "source": [
    "dbfile = 'dat/cust.db'\n",
    "conn = sqlite3.connect(dbfile)"
   ]
  },
  {
   "cell_type": "code",
   "execution_count": 36,
   "id": "f66c9854",
   "metadata": {},
   "outputs": [],
   "source": [
    "files = [x for x in os.listdir('dat/') if x.endswith('.csv')]\n",
    "# add each file to the database\n",
    "for f in files:\n",
    "    df = pd.read_csv(f\"dat/{f}\")\n",
    "    name = f.split('.')[0]\n",
    "    df.to_sql(name, conn, if_exists='replace', index=False)"
   ]
  },
  {
   "cell_type": "code",
   "execution_count": 37,
   "id": "56fd83ef",
   "metadata": {},
   "outputs": [],
   "source": [
    "class CustNode(SQLNode):\n",
    "    def do_annotate(self) -> typing.Union[sqlop, typing.List[sqlop]]:\n",
    "        return [\n",
    "            sqlop(optype=SQLOpType.select, opval=f\"*, LENGTH({self.colabbr('name')}) as {self.colabbr('name_length')}\")\n",
    "        ]\n",
    "    \n",
    "    def do_filters(self) -> typing.Union[sqlop, typing.List[sqlop]]:\n",
    "        return [\n",
    "            sqlop(optype=SQLOpType.where, opval=f\"{self.colabbr('id')} < 3\")\n",
    "        ]\n",
    "    \n",
    "    def do_normalize(self):\n",
    "        pass\n",
    "    \n",
    "    \n",
    "    def do_reduce(self, reduce_key):\n",
    "        pass\n",
    "    \n",
    "    def do_post_join_annotate(self):\n",
    "        pass\n",
    "    \n",
    "    def do_post_join_filters(self):\n",
    "        pass"
   ]
  },
  {
   "cell_type": "code",
   "execution_count": 38,
   "id": "9034f7d3",
   "metadata": {},
   "outputs": [
    {
     "name": "stdout",
     "output_type": "stream",
     "text": [
      "id,customer_id,ts\r\n",
      "101,1,2022-08-05\r\n",
      "102,1,2023-01-01\r\n",
      "103,1,2023-05-05\r\n",
      "104,1,2023-06-01\r\n",
      "105,1,2023-06-02\r\n",
      "106,1,2023-06-23\r\n",
      "107,2,2022-09-05\r\n",
      "108,2,2022-11-01\r\n",
      "109,2,2023-01-01\r\n",
      "110,2,2023-07-01\r\n",
      "111,1,2023-07-15\r\n",
      "112,1,2023-07-18\r\n",
      "113,1,2023-08-01\r\n",
      "114,2,2023-07-18\r\n",
      "115,2,2023-08-01\r\n"
     ]
    }
   ],
   "source": [
    "!cat dat/notifications.csv"
   ]
  },
  {
   "cell_type": "code",
   "execution_count": null,
   "id": "454dce74",
   "metadata": {},
   "outputs": [],
   "source": []
  },
  {
   "cell_type": "code",
   "execution_count": 39,
   "id": "eca4e029",
   "metadata": {},
   "outputs": [],
   "source": [
    "class NotificationNode(SQLNode):\n",
    "    def do_annotate(self) -> typing.List[sqlop]:\n",
    "        return [\n",
    "            sqlop(optype=SQLOpType.select, opval=f\"*, strftime('%m', {self.colabbr('ts')})\")\n",
    "        ]\n",
    "    \n",
    "    def do_filters(self) -> typing.List[sqlop]:\n",
    "        return [\n",
    "            sqlop(optype=SQLOpType.where, opval=f\"{self.colabbr('ts')} > '2022-06-01'\")\n",
    "        ]\n",
    "    \n",
    "    def do_normalize(self):\n",
    "        pass\n",
    "    \n",
    "    def do_reduce(self, reduce_key):\n",
    "        return [\n",
    "            # Shouldn't this just be a select?\n",
    "            sqlop(optype=SQLOpType.aggfunc, opval=f\"count(*) as {self.colabbr('num_custs')}\"),\n",
    "            sqlop(optype=SQLOpType.agg, opval=f\"{self.colabbr(reduce_key)}\"),\n",
    "        ]\n",
    "    \n",
    "    "
   ]
  },
  {
   "cell_type": "code",
   "execution_count": null,
   "id": "7007eb2f",
   "metadata": {},
   "outputs": [],
   "source": []
  },
  {
   "cell_type": "code",
   "execution_count": 40,
   "id": "62aa5e60",
   "metadata": {},
   "outputs": [
    {
     "name": "stdout",
     "output_type": "stream",
     "text": [
      "2024-07-03 13:25:29 [warning  ] no `date_key` set for <GraphReduceNode: fpath=cust fmt=>\n"
     ]
    }
   ],
   "source": [
    "cust = CustNode(fpath='cust',\n",
    "                prefix='cust',\n",
    "                client=conn, \n",
    "                compute_layer=ComputeLayerEnum.sqlite, \n",
    "                columns=['id','name'])"
   ]
  },
  {
   "cell_type": "code",
   "execution_count": 41,
   "id": "5229cd59",
   "metadata": {},
   "outputs": [],
   "source": [
    "notif = NotificationNode(fpath='notifications',\n",
    "                prefix='not',\n",
    "                client=conn, \n",
    "                compute_layer=ComputeLayerEnum.sqlite, \n",
    "                columns=['id', 'customer_id', 'ts'],\n",
    "                date_key='ts'\n",
    "        )"
   ]
  },
  {
   "cell_type": "code",
   "execution_count": 42,
   "id": "6f85c214",
   "metadata": {},
   "outputs": [
    {
     "data": {
      "text/plain": [
       "[sqlop(optype=<SQLOpType.select: 'select'>, opval='id as not_id,customer_id as not_customer_id,ts as not_ts')]"
      ]
     },
     "execution_count": 42,
     "metadata": {},
     "output_type": "execute_result"
    }
   ],
   "source": [
    "notif.do_data()"
   ]
  },
  {
   "cell_type": "code",
   "execution_count": 43,
   "id": "902f6645",
   "metadata": {},
   "outputs": [
    {
     "data": {
      "text/plain": [
       "[sqlop(optype=<SQLOpType.where: 'where'>, opval='not_ts < 2024-07-03 12:59:57.372418'),\n",
       " sqlop(optype=<SQLOpType.where: 'where'>, opval='not_ts > 2023-07-04 12:59:57.372418')]"
      ]
     },
     "execution_count": 43,
     "metadata": {},
     "output_type": "execute_result"
    }
   ],
   "source": [
    "notif.prep_for_features()"
   ]
  },
  {
   "cell_type": "code",
   "execution_count": 44,
   "id": "a1f856d3",
   "metadata": {},
   "outputs": [
    {
     "name": "stdout",
     "output_type": "stream",
     "text": [
      "Help on method create_ref in module graphreduce.node:\n",
      "\n",
      "create_ref(sql: str = '', fn: Union[<built-in function callable>, str] = None, overwrite: bool = False) -> str method of __main__.NotificationNode instance\n",
      "    Gets a temporary table or view name\n",
      "    based on the method being called.\n",
      "\n"
     ]
    }
   ],
   "source": [
    "help(notif.create_ref)"
   ]
  },
  {
   "cell_type": "code",
   "execution_count": 45,
   "id": "2b31f01d",
   "metadata": {},
   "outputs": [
    {
     "data": {
      "text/plain": [
       "[sqlop(optype=<SQLOpType.where: 'where'>, opval='not_ts < 2024-07-03 12:59:57.372418'),\n",
       " sqlop(optype=<SQLOpType.where: 'where'>, opval='not_ts > 2023-07-04 12:59:57.372418')]"
      ]
     },
     "execution_count": 45,
     "metadata": {},
     "output_type": "execute_result"
    }
   ],
   "source": [
    "notif.prep_for_features()"
   ]
  },
  {
   "cell_type": "code",
   "execution_count": 46,
   "id": "e56f0094",
   "metadata": {},
   "outputs": [
    {
     "data": {
      "text/plain": [
       "[sqlop(optype=<SQLOpType.aggfunc: 'aggfunc'>, opval='count(*) as not_num_custs'),\n",
       " sqlop(optype=<SQLOpType.agg: 'group by'>, opval='not_customer_id')]"
      ]
     },
     "execution_count": 46,
     "metadata": {},
     "output_type": "execute_result"
    }
   ],
   "source": [
    "notif.do_reduce('customer_id')"
   ]
  },
  {
   "cell_type": "code",
   "execution_count": 47,
   "id": "d53832ee",
   "metadata": {},
   "outputs": [
    {
     "data": {
      "text/plain": [
       "[sqlop(optype=<SQLOpType.aggfunc: 'aggfunc'>, opval='count(*) as not_num_custs'),\n",
       " sqlop(optype=<SQLOpType.agg: 'group by'>, opval='not_customer_id'),\n",
       " sqlop(optype=<SQLOpType.where: 'where'>, opval='not_ts < 2024-07-03 12:59:57.372418'),\n",
       " sqlop(optype=<SQLOpType.where: 'where'>, opval='not_ts > 2023-07-04 12:59:57.372418')]"
      ]
     },
     "execution_count": 47,
     "metadata": {},
     "output_type": "execute_result"
    }
   ],
   "source": [
    "notif.do_reduce('customer_id') + notif.prep_for_features()"
   ]
  },
  {
   "cell_type": "code",
   "execution_count": 48,
   "id": "d2fb7b1c",
   "metadata": {},
   "outputs": [
    {
     "name": "stdout",
     "output_type": "stream",
     "text": [
      "\n",
      "        SELECT not_customer_id,\n",
      "        count(*) as not_num_custs\n",
      "        FROM notifications\n",
      "        WHERE not_ts < 2024-07-03 12:59:57.372418 and not_ts > 2023-07-04 12:59:57.372418\n",
      "        GROUP BY not_customer_id\n",
      "        \n"
     ]
    }
   ],
   "source": [
    "print(notif.build_query(notif.do_reduce('customer_id') + notif.prep_for_features()))"
   ]
  },
  {
   "cell_type": "code",
   "execution_count": 49,
   "id": "e1389124",
   "metadata": {},
   "outputs": [],
   "source": [
    "op = 'MAX'"
   ]
  },
  {
   "cell_type": "code",
   "execution_count": 50,
   "id": "e78c7608",
   "metadata": {},
   "outputs": [],
   "source": [
    "field = 'customer_id'"
   ]
  },
  {
   "cell_type": "code",
   "execution_count": 51,
   "id": "d5973df2",
   "metadata": {},
   "outputs": [
    {
     "data": {
      "text/plain": [
       "'not'"
      ]
     },
     "execution_count": 51,
     "metadata": {},
     "output_type": "execute_result"
    }
   ],
   "source": [
    "notif.prefix"
   ]
  },
  {
   "cell_type": "code",
   "execution_count": 52,
   "id": "122dbd49",
   "metadata": {},
   "outputs": [
    {
     "data": {
      "text/plain": [
       "'not_customer_id'"
      ]
     },
     "execution_count": 52,
     "metadata": {},
     "output_type": "execute_result"
    }
   ],
   "source": [
    "notif.colabbr(field)"
   ]
  },
  {
   "cell_type": "code",
   "execution_count": 53,
   "id": "329bcc81",
   "metadata": {},
   "outputs": [
    {
     "data": {
      "text/plain": [
       "'MAX(not_customer_id)'"
      ]
     },
     "execution_count": 53,
     "metadata": {},
     "output_type": "execute_result"
    }
   ],
   "source": [
    "#f\"{op(notif.colabbr(field))}\"\n",
    "\n",
    "f\"{op}\" + f\"({notif.colabbr(field)})\""
   ]
  },
  {
   "cell_type": "code",
   "execution_count": null,
   "id": "3594a188",
   "metadata": {},
   "outputs": [],
   "source": []
  },
  {
   "cell_type": "code",
   "execution_count": 54,
   "id": "779210fa",
   "metadata": {},
   "outputs": [],
   "source": [
    "gr = GraphReduce(\n",
    "    name='sql_dialect_example',\n",
    "    parent_node=cust,\n",
    "    compute_layer=ComputeLayerEnum.sqlite,\n",
    "    use_temp_tables=True,\n",
    "    lazy_execution=False\n",
    ")"
   ]
  },
  {
   "cell_type": "code",
   "execution_count": 55,
   "id": "a2dfd280",
   "metadata": {},
   "outputs": [],
   "source": [
    "gr.add_node(cust)\n",
    "gr.add_node(notif)"
   ]
  },
  {
   "cell_type": "code",
   "execution_count": 56,
   "id": "630c53bd",
   "metadata": {},
   "outputs": [],
   "source": [
    "gr.add_entity_edge(\n",
    "    cust,\n",
    "    notif,\n",
    "    parent_key='id',\n",
    "    relation_key='customer_id',\n",
    "    reduce=True\n",
    ")"
   ]
  },
  {
   "cell_type": "code",
   "execution_count": 57,
   "id": "99178053",
   "metadata": {},
   "outputs": [
    {
     "name": "stdout",
     "output_type": "stream",
     "text": [
      "2024-07-03 13:26:22 [info     ] plotted graph at sql_graph.html\n"
     ]
    }
   ],
   "source": [
    "gr.plot_graph('sql_graph.html')"
   ]
  },
  {
   "cell_type": "code",
   "execution_count": 58,
   "id": "521d7c4d",
   "metadata": {},
   "outputs": [],
   "source": [
    "!open sql_graph.html"
   ]
  },
  {
   "cell_type": "code",
   "execution_count": 59,
   "id": "1cbdb5df",
   "metadata": {},
   "outputs": [
    {
     "name": "stdout",
     "output_type": "stream",
     "text": [
      "2024-07-03 13:26:27 [info     ] hydrating graph attributes\n",
      "2024-07-03 13:26:27 [info     ] hydrating attributes for CustNode\n",
      "2024-07-03 13:26:27 [info     ] hydrating attributes for NotificationNode\n",
      "2024-07-03 13:26:27 [info     ] checking for prefix uniqueness\n",
      "2024-07-03 13:26:27 [info     ] no sql was provided for do_normalize so using current data ref\n",
      "2024-07-03 13:26:27 [info     ] no sql was provided for do_normalize so using current data ref\n",
      "2024-07-03 13:26:27 [info     ] depth-first traversal through the graph from source: <GraphReduceNode: fpath=cust fmt=>\n",
      "2024-07-03 13:26:27 [info     ] reducing relation <GraphReduceNode: fpath=notifications fmt=>\n",
      "2024-07-03 13:26:27 [info     ] joining <GraphReduceNode: fpath=notifications fmt=> to <GraphReduceNode: fpath=cust fmt=>\n"
     ]
    }
   ],
   "source": [
    "gr.do_transformations_sql()"
   ]
  },
  {
   "cell_type": "code",
   "execution_count": 60,
   "id": "a7d7d8b8",
   "metadata": {},
   "outputs": [
    {
     "data": {
      "text/plain": [
       "'CustNode_cust_join'"
      ]
     },
     "execution_count": 60,
     "metadata": {},
     "output_type": "execute_result"
    }
   ],
   "source": [
    "gr.parent_node._cur_data_ref"
   ]
  },
  {
   "cell_type": "code",
   "execution_count": 62,
   "id": "93ae9fa5",
   "metadata": {},
   "outputs": [],
   "source": [
    "df = pd.read_sql_query(f\"select * from {gr.parent_node._cur_data_ref}\", conn)"
   ]
  },
  {
   "cell_type": "code",
   "execution_count": 63,
   "id": "f05267df",
   "metadata": {},
   "outputs": [
    {
     "data": {
      "text/html": [
       "<div>\n",
       "<style scoped>\n",
       "    .dataframe tbody tr th:only-of-type {\n",
       "        vertical-align: middle;\n",
       "    }\n",
       "\n",
       "    .dataframe tbody tr th {\n",
       "        vertical-align: top;\n",
       "    }\n",
       "\n",
       "    .dataframe thead th {\n",
       "        text-align: right;\n",
       "    }\n",
       "</style>\n",
       "<table border=\"1\" class=\"dataframe\">\n",
       "  <thead>\n",
       "    <tr style=\"text-align: right;\">\n",
       "      <th></th>\n",
       "      <th>cust_id</th>\n",
       "      <th>cust_name</th>\n",
       "      <th>cust_name_length</th>\n",
       "      <th>not_customer_id</th>\n",
       "      <th>not_num_custs</th>\n",
       "    </tr>\n",
       "  </thead>\n",
       "  <tbody>\n",
       "    <tr>\n",
       "      <th>0</th>\n",
       "      <td>1</td>\n",
       "      <td>wes</td>\n",
       "      <td>3</td>\n",
       "      <td>1</td>\n",
       "      <td>9</td>\n",
       "    </tr>\n",
       "    <tr>\n",
       "      <th>1</th>\n",
       "      <td>2</td>\n",
       "      <td>john</td>\n",
       "      <td>4</td>\n",
       "      <td>2</td>\n",
       "      <td>6</td>\n",
       "    </tr>\n",
       "  </tbody>\n",
       "</table>\n",
       "</div>"
      ],
      "text/plain": [
       "   cust_id cust_name  cust_name_length  not_customer_id  not_num_custs\n",
       "0        1       wes                 3                1              9\n",
       "1        2      john                 4                2              6"
      ]
     },
     "execution_count": 63,
     "metadata": {},
     "output_type": "execute_result"
    }
   ],
   "source": [
    "df"
   ]
  },
  {
   "cell_type": "code",
   "execution_count": 65,
   "id": "9ba01ab5",
   "metadata": {},
   "outputs": [
    {
     "data": {
      "text/plain": [
       "cust_id              int64\n",
       "cust_name           object\n",
       "cust_name_length     int64\n",
       "not_customer_id      int64\n",
       "not_num_custs        int64\n",
       "dtype: object"
      ]
     },
     "execution_count": 65,
     "metadata": {},
     "output_type": "execute_result"
    }
   ],
   "source": [
    "df.dtypes"
   ]
  },
  {
   "cell_type": "code",
   "execution_count": 66,
   "id": "35dbea08",
   "metadata": {},
   "outputs": [],
   "source": [
    "# for comprehensive type usage in automated feature engineering\n",
    "# we need to create a hierarchy of categories, with the top-level\n",
    "# categories being more general.\n",
    "import woodwork as ww"
   ]
  },
  {
   "cell_type": "code",
   "execution_count": 67,
   "id": "043d3064",
   "metadata": {},
   "outputs": [],
   "source": [
    "df.ww.init()"
   ]
  },
  {
   "cell_type": "code",
   "execution_count": 68,
   "id": "02da479e",
   "metadata": {},
   "outputs": [
    {
     "data": {
      "text/html": [
       "<table border=\"1\" class=\"dataframe\">\n",
       "  <thead>\n",
       "    <tr style=\"text-align: right;\">\n",
       "      <th></th>\n",
       "      <th>Physical Type</th>\n",
       "      <th>Logical Type</th>\n",
       "      <th>Semantic Tag(s)</th>\n",
       "    </tr>\n",
       "    <tr>\n",
       "      <th>Column</th>\n",
       "      <th></th>\n",
       "      <th></th>\n",
       "      <th></th>\n",
       "    </tr>\n",
       "  </thead>\n",
       "  <tbody>\n",
       "    <tr>\n",
       "      <th>cust_id</th>\n",
       "      <td>int64</td>\n",
       "      <td>Integer</td>\n",
       "      <td>['numeric']</td>\n",
       "    </tr>\n",
       "    <tr>\n",
       "      <th>cust_name</th>\n",
       "      <td>string</td>\n",
       "      <td>Unknown</td>\n",
       "      <td>[]</td>\n",
       "    </tr>\n",
       "    <tr>\n",
       "      <th>cust_name_length</th>\n",
       "      <td>int64</td>\n",
       "      <td>Integer</td>\n",
       "      <td>['numeric']</td>\n",
       "    </tr>\n",
       "    <tr>\n",
       "      <th>not_customer_id</th>\n",
       "      <td>int64</td>\n",
       "      <td>Integer</td>\n",
       "      <td>['numeric']</td>\n",
       "    </tr>\n",
       "    <tr>\n",
       "      <th>not_num_custs</th>\n",
       "      <td>int64</td>\n",
       "      <td>Integer</td>\n",
       "      <td>['numeric']</td>\n",
       "    </tr>\n",
       "  </tbody>\n",
       "</table>"
      ],
      "text/plain": [
       "                 Physical Type Logical Type Semantic Tag(s)\n",
       "Column                                                     \n",
       "cust_id                  int64      Integer     ['numeric']\n",
       "cust_name               string      Unknown              []\n",
       "cust_name_length         int64      Integer     ['numeric']\n",
       "not_customer_id          int64      Integer     ['numeric']\n",
       "not_num_custs            int64      Integer     ['numeric']"
      ]
     },
     "execution_count": 68,
     "metadata": {},
     "output_type": "execute_result"
    }
   ],
   "source": [
    "df.ww"
   ]
  },
  {
   "cell_type": "code",
   "execution_count": 69,
   "id": "09d2fa43",
   "metadata": {},
   "outputs": [
    {
     "data": {
      "text/plain": [
       "2"
      ]
     },
     "execution_count": 69,
     "metadata": {},
     "output_type": "execute_result"
    }
   ],
   "source": [
    " len(df)"
   ]
  },
  {
   "cell_type": "code",
   "execution_count": 71,
   "id": "7fbe9671",
   "metadata": {},
   "outputs": [],
   "source": [
    "import pandas as pd"
   ]
  },
  {
   "cell_type": "code",
   "execution_count": 73,
   "id": "98725941",
   "metadata": {},
   "outputs": [],
   "source": [
    "na = pd.NamedAgg(column='cust_name', aggfunc='count')"
   ]
  },
  {
   "cell_type": "code",
   "execution_count": 74,
   "id": "b0843dd3",
   "metadata": {},
   "outputs": [
    {
     "data": {
      "text/plain": [
       "['__add__',\n",
       " '__annotations__',\n",
       " '__class__',\n",
       " '__class_getitem__',\n",
       " '__contains__',\n",
       " '__delattr__',\n",
       " '__dir__',\n",
       " '__doc__',\n",
       " '__eq__',\n",
       " '__format__',\n",
       " '__ge__',\n",
       " '__getattribute__',\n",
       " '__getitem__',\n",
       " '__getnewargs__',\n",
       " '__gt__',\n",
       " '__hash__',\n",
       " '__init__',\n",
       " '__init_subclass__',\n",
       " '__iter__',\n",
       " '__le__',\n",
       " '__len__',\n",
       " '__lt__',\n",
       " '__module__',\n",
       " '__mul__',\n",
       " '__ne__',\n",
       " '__new__',\n",
       " '__orig_bases__',\n",
       " '__reduce__',\n",
       " '__reduce_ex__',\n",
       " '__repr__',\n",
       " '__rmul__',\n",
       " '__setattr__',\n",
       " '__sizeof__',\n",
       " '__slots__',\n",
       " '__str__',\n",
       " '__subclasshook__',\n",
       " '_asdict',\n",
       " '_field_defaults',\n",
       " '_fields',\n",
       " '_make',\n",
       " '_replace',\n",
       " 'aggfunc',\n",
       " 'column',\n",
       " 'count',\n",
       " 'index']"
      ]
     },
     "execution_count": 74,
     "metadata": {},
     "output_type": "execute_result"
    }
   ],
   "source": [
    "dir(na)"
   ]
  },
  {
   "cell_type": "code",
   "execution_count": 75,
   "id": "56828d46",
   "metadata": {},
   "outputs": [
    {
     "data": {
      "text/plain": [
       "'count'"
      ]
     },
     "execution_count": 75,
     "metadata": {},
     "output_type": "execute_result"
    }
   ],
   "source": [
    "na.aggfunc"
   ]
  },
  {
   "cell_type": "code",
   "execution_count": 76,
   "id": "f02034e5",
   "metadata": {},
   "outputs": [
    {
     "data": {
      "text/plain": [
       "'cust_name'"
      ]
     },
     "execution_count": 76,
     "metadata": {},
     "output_type": "execute_result"
    }
   ],
   "source": [
    "na.column"
   ]
  },
  {
   "cell_type": "code",
   "execution_count": null,
   "id": "f5068cef",
   "metadata": {},
   "outputs": [],
   "source": []
  }
 ],
 "metadata": {
  "kernelspec": {
   "display_name": "Python 3 (ipykernel)",
   "language": "python",
   "name": "python3"
  },
  "language_info": {
   "codemirror_mode": {
    "name": "ipython",
    "version": 3
   },
   "file_extension": ".py",
   "mimetype": "text/x-python",
   "name": "python",
   "nbconvert_exporter": "python",
   "pygments_lexer": "ipython3",
   "version": "3.9.19"
  }
 },
 "nbformat": 4,
 "nbformat_minor": 5
}

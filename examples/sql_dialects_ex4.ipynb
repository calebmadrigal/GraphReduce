{
 "cells": [
  {
   "cell_type": "markdown",
   "id": "58e437a5",
   "metadata": {},
   "source": [
    "# In this example we'll be focused on automated feature engineering\n",
    "## We will take the same example files, turn them into a `sqlite` \n",
    "## database and perform automated feature engineering relative\n",
    "## to a selected target variable."
   ]
  },
  {
   "cell_type": "code",
   "execution_count": 17,
   "id": "cf4adab2",
   "metadata": {},
   "outputs": [],
   "source": [
    "import pandas as pd\n",
    "import sqlite3\n",
    "import json\n",
    "import os\n",
    "import typing\n",
    "import datetime\n",
    "\n",
    "\n",
    "# examples for using SQL engines and dialects\n",
    "from graphreduce.node import SQLNode\n",
    "from graphreduce.graph_reduce import GraphReduce\n",
    "from graphreduce.enum import SQLOpType, ComputeLayerEnum, PeriodUnit\n",
    "from graphreduce.models import sqlop\n",
    "from graphreduce.context import method_requires"
   ]
  },
  {
   "cell_type": "code",
   "execution_count": 18,
   "id": "2b0e48f6",
   "metadata": {},
   "outputs": [
    {
     "name": "stdout",
     "output_type": "stream",
     "text": [
      "cust.csv                      order_events.csv\r\n",
      "cust.db                       order_products.csv\r\n",
      "notification_interactions.csv orders.csv\r\n",
      "notifications.csv             products.csv\r\n"
     ]
    }
   ],
   "source": [
    "!ls dat/"
   ]
  },
  {
   "cell_type": "code",
   "execution_count": 19,
   "id": "2f8991c6",
   "metadata": {},
   "outputs": [],
   "source": [
    "!rm dat/cust.db"
   ]
  },
  {
   "cell_type": "code",
   "execution_count": 20,
   "id": "0053f076",
   "metadata": {},
   "outputs": [],
   "source": [
    "dbfile = 'dat/cust.db'\n",
    "conn = sqlite3.connect(dbfile)"
   ]
  },
  {
   "cell_type": "code",
   "execution_count": 21,
   "id": "d5ad4304",
   "metadata": {},
   "outputs": [],
   "source": [
    "files = [x for x in os.listdir('dat/') if x.endswith('.csv')]\n",
    "# add each file to the database\n",
    "for f in files:\n",
    "    df = pd.read_csv(f\"dat/{f}\")\n",
    "    name = f.split('.')[0]\n",
    "    df.to_sql(name, conn, if_exists='replace', index=False)"
   ]
  },
  {
   "cell_type": "code",
   "execution_count": 22,
   "id": "e038b363",
   "metadata": {},
   "outputs": [
    {
     "name": "stdout",
     "output_type": "stream",
     "text": [
      "2024-07-05 16:20:39 [warning  ] no `date_key` set for <GraphReduceNode: fpath=cust fmt=>\n"
     ]
    }
   ],
   "source": [
    "cust = SQLNode(fpath='cust',\n",
    "                prefix='cust',\n",
    "                client=conn, \n",
    "                compute_layer=ComputeLayerEnum.sqlite, \n",
    "                columns=['id','name'])\n",
    "order = SQLNode(fpath='orders',\n",
    "               prefix='ord',\n",
    "               client=conn,\n",
    "               compute_layer=ComputeLayerEnum.sqlite,\n",
    "               columns=['id','customer_id','ts','amount'],\n",
    "                date_key='ts')"
   ]
  },
  {
   "cell_type": "code",
   "execution_count": 23,
   "id": "bb4dcfe1",
   "metadata": {},
   "outputs": [],
   "source": [
    "gr = GraphReduce(\n",
    "    name='sql_autofe',\n",
    "    parent_node=cust,\n",
    "    # Cut date for filtering.\n",
    "    cut_date=datetime.datetime(2023, 7, 3),\n",
    "    # Feature parameters.\n",
    "    compute_period_unit=PeriodUnit.day,\n",
    "    compute_period_val=365,\n",
    "    # Label parameters.\n",
    "    label_node=order,\n",
    "    label_field='amount',\n",
    "    label_operation='sum',\n",
    "    label_period_unit=PeriodUnit.day,\n",
    "    label_period_val=30,\n",
    "    compute_layer=ComputeLayerEnum.sqlite,\n",
    "    use_temp_tables=True,\n",
    "    lazy_execution=False,\n",
    "    \n",
    "    # Auto feature engineering params.\n",
    "    auto_features=True,\n",
    "    auto_feature_hops_back=2,\n",
    "    auto_feature_hops_front=1\n",
    ")\n"
   ]
  },
  {
   "cell_type": "code",
   "execution_count": 24,
   "id": "37ba46e4",
   "metadata": {},
   "outputs": [],
   "source": [
    "gr.add_node(cust)\n",
    "gr.add_node(order)\n",
    "gr.add_entity_edge(\n",
    "    cust,\n",
    "    order,\n",
    "    parent_key='id',\n",
    "    relation_key='customer_id',\n",
    "    reduce=True\n",
    ")"
   ]
  },
  {
   "cell_type": "code",
   "execution_count": 25,
   "id": "37843726",
   "metadata": {},
   "outputs": [
    {
     "name": "stdout",
     "output_type": "stream",
     "text": [
      "2024-07-05 16:20:40 [info     ] hydrating graph attributes\n",
      "2024-07-05 16:20:40 [info     ] hydrating attributes for SQLNode\n",
      "2024-07-05 16:20:40 [info     ] hydrating attributes for SQLNode\n",
      "2024-07-05 16:20:40 [info     ] checking for prefix uniqueness\n",
      "2024-07-05 16:20:40 [info     ] no sql was provided for do_annotate so using current data ref\n",
      "2024-07-05 16:20:40 [info     ] no sql was provided for do_filters so using current data ref\n",
      "2024-07-05 16:20:40 [info     ] no sql was provided for do_normalize so using current data ref\n",
      "2024-07-05 16:20:40 [info     ] no sql was provided for do_annotate so using current data ref\n",
      "2024-07-05 16:20:40 [info     ] no sql was provided for do_filters so using current data ref\n",
      "2024-07-05 16:20:40 [info     ] no sql was provided for do_normalize so using current data ref\n",
      "2024-07-05 16:20:40 [info     ] depth-first traversal through the graph from source: <GraphReduceNode: fpath=cust fmt=>\n",
      "2024-07-05 16:20:40 [info     ] reducing relation <GraphReduceNode: fpath=orders fmt=>\n",
      "2024-07-05 16:20:40 [info     ] performing auto_features on node <GraphReduceNode: fpath=orders fmt=>\n",
      "2024-07-05 16:20:40 [info     ] [sqlop(optype=<SQLOpType.where: 'where'>, opval=\"ord_ts < '2023-07-03 00:00:00'\"), sqlop(optype=<SQLOpType.where: 'where'>, opval=\"ord_ts > '2022-07-03 00:00:00'\"), sqlop(optype=<SQLOpType.aggfunc: 'aggfunc'>, opval='count(ord_id) as ord_id_count'), sqlop(optype=<SQLOpType.aggfunc: 'aggfunc'>, opval='count(ord_customer_id) as ord_customer_id_count'), sqlop(optype=<SQLOpType.aggfunc: 'aggfunc'>, opval='count(ord_ts) as ord_ts_count'), sqlop(optype=<SQLOpType.aggfunc: 'aggfunc'>, opval='min(ord_amount) as ord_amount_min'), sqlop(optype=<SQLOpType.aggfunc: 'aggfunc'>, opval='max(ord_amount) as ord_amount_max'), sqlop(optype=<SQLOpType.aggfunc: 'aggfunc'>, opval='sum(ord_amount) as ord_amount_sum'), sqlop(optype=<SQLOpType.agg: 'group by'>, opval='ord_customer_id')]\n",
      "2024-07-05 16:20:40 [info     ] joining <GraphReduceNode: fpath=orders fmt=> to <GraphReduceNode: fpath=cust fmt=>\n",
      "2024-07-05 16:20:40 [info     ] Had label node <GraphReduceNode: fpath=orders fmt=>\n",
      "2024-07-05 16:20:40 [info     ] computed labels for <GraphReduceNode: fpath=orders fmt=>\n",
      "2024-07-05 16:20:40 [info     ] no sql was provided for do_post_join_annotate so using current data ref\n",
      "2024-07-05 16:20:40 [info     ] no sql was provided for do_post_join_filters so using current data ref\n"
     ]
    }
   ],
   "source": [
    "gr.do_transformations_sql()"
   ]
  },
  {
   "cell_type": "code",
   "execution_count": 26,
   "id": "02b7d88f",
   "metadata": {},
   "outputs": [
    {
     "data": {
      "text/plain": [
       "{'do_data': 'SQLNode_cust_do_data',\n",
       " 'do_annotate': 'SQLNode_cust_do_data',\n",
       " 'do_filters': 'SQLNode_cust_do_data',\n",
       " 'do_normalize': 'SQLNode_cust_do_data',\n",
       " 'join': 'SQLNode_cust_join1',\n",
       " 'do_post_join_annotate': 'SQLNode_cust_join1',\n",
       " 'do_post_join_filters': 'SQLNode_cust_join1'}"
      ]
     },
     "execution_count": 26,
     "metadata": {},
     "output_type": "execute_result"
    }
   ],
   "source": [
    "gr.parent_node._temp_refs"
   ]
  },
  {
   "cell_type": "code",
   "execution_count": 27,
   "id": "253f8492",
   "metadata": {},
   "outputs": [
    {
     "data": {
      "text/plain": [
       "{'do_data': 'SQLNode_orders_do_data',\n",
       " 'do_annotate': 'SQLNode_orders_do_data',\n",
       " 'do_filters': 'SQLNode_orders_do_data',\n",
       " 'do_normalize': 'SQLNode_orders_do_data',\n",
       " 'do_reduce': 'SQLNode_orders_do_reduce',\n",
       " 'do_labels': 'SQLNode_orders_do_labels'}"
      ]
     },
     "execution_count": 27,
     "metadata": {},
     "output_type": "execute_result"
    }
   ],
   "source": [
    "order._temp_refs"
   ]
  },
  {
   "cell_type": "code",
   "execution_count": 28,
   "id": "c6a4346d",
   "metadata": {},
   "outputs": [
    {
     "data": {
      "text/plain": [
       "{'int64': ['count'],\n",
       " 'str': ['min', 'max', 'count'],\n",
       " 'object': ['count'],\n",
       " 'float64': ['min', 'max', 'sum'],\n",
       " 'datetime64': ['min', 'max'],\n",
       " 'datetime64[ns]': ['min', 'max']}"
      ]
     },
     "execution_count": 28,
     "metadata": {},
     "output_type": "execute_result"
    }
   ],
   "source": [
    "gr.feature_typefunc_map"
   ]
  },
  {
   "cell_type": "code",
   "execution_count": 29,
   "id": "d553eba0",
   "metadata": {},
   "outputs": [
    {
     "data": {
      "text/plain": [
       "{'do_data': 'SQLNode_orders_do_data',\n",
       " 'do_annotate': 'SQLNode_orders_do_data',\n",
       " 'do_filters': 'SQLNode_orders_do_data',\n",
       " 'do_normalize': 'SQLNode_orders_do_data',\n",
       " 'do_reduce': 'SQLNode_orders_do_reduce',\n",
       " 'do_labels': 'SQLNode_orders_do_labels'}"
      ]
     },
     "execution_count": 29,
     "metadata": {},
     "output_type": "execute_result"
    }
   ],
   "source": [
    "order._temp_refs"
   ]
  },
  {
   "cell_type": "code",
   "execution_count": null,
   "id": "c803a9e0",
   "metadata": {},
   "outputs": [],
   "source": []
  },
  {
   "cell_type": "code",
   "execution_count": 30,
   "id": "e04157bc",
   "metadata": {},
   "outputs": [
    {
     "data": {
      "text/html": [
       "<div>\n",
       "<style scoped>\n",
       "    .dataframe tbody tr th:only-of-type {\n",
       "        vertical-align: middle;\n",
       "    }\n",
       "\n",
       "    .dataframe tbody tr th {\n",
       "        vertical-align: top;\n",
       "    }\n",
       "\n",
       "    .dataframe thead th {\n",
       "        text-align: right;\n",
       "    }\n",
       "</style>\n",
       "<table border=\"1\" class=\"dataframe\">\n",
       "  <thead>\n",
       "    <tr style=\"text-align: right;\">\n",
       "      <th></th>\n",
       "      <th>name</th>\n",
       "    </tr>\n",
       "  </thead>\n",
       "  <tbody>\n",
       "    <tr>\n",
       "      <th>0</th>\n",
       "      <td>SQLNode_cust_do_data</td>\n",
       "    </tr>\n",
       "    <tr>\n",
       "      <th>1</th>\n",
       "      <td>SQLNode_orders_do_data</td>\n",
       "    </tr>\n",
       "    <tr>\n",
       "      <th>2</th>\n",
       "      <td>SQLNode_orders_do_reduce</td>\n",
       "    </tr>\n",
       "    <tr>\n",
       "      <th>3</th>\n",
       "      <td>SQLNode_cust_join</td>\n",
       "    </tr>\n",
       "    <tr>\n",
       "      <th>4</th>\n",
       "      <td>SQLNode_orders_do_labels</td>\n",
       "    </tr>\n",
       "    <tr>\n",
       "      <th>5</th>\n",
       "      <td>SQLNode_cust_join1</td>\n",
       "    </tr>\n",
       "  </tbody>\n",
       "</table>\n",
       "</div>"
      ],
      "text/plain": [
       "                       name\n",
       "0      SQLNode_cust_do_data\n",
       "1    SQLNode_orders_do_data\n",
       "2  SQLNode_orders_do_reduce\n",
       "3         SQLNode_cust_join\n",
       "4  SQLNode_orders_do_labels\n",
       "5        SQLNode_cust_join1"
      ]
     },
     "execution_count": 30,
     "metadata": {},
     "output_type": "execute_result"
    }
   ],
   "source": [
    "pd.read_sql_query(\"SELECT name FROM sqlite_temp_master WHERE type='table'\", conn)"
   ]
  },
  {
   "cell_type": "code",
   "execution_count": 31,
   "id": "65e1c1ac",
   "metadata": {},
   "outputs": [
    {
     "data": {
      "text/html": [
       "<div>\n",
       "<style scoped>\n",
       "    .dataframe tbody tr th:only-of-type {\n",
       "        vertical-align: middle;\n",
       "    }\n",
       "\n",
       "    .dataframe tbody tr th {\n",
       "        vertical-align: top;\n",
       "    }\n",
       "\n",
       "    .dataframe thead th {\n",
       "        text-align: right;\n",
       "    }\n",
       "</style>\n",
       "<table border=\"1\" class=\"dataframe\">\n",
       "  <thead>\n",
       "    <tr style=\"text-align: right;\">\n",
       "      <th></th>\n",
       "      <th>cust_id</th>\n",
       "      <th>cust_name</th>\n",
       "      <th>ord_customer_id</th>\n",
       "      <th>ord_id_count</th>\n",
       "      <th>ord_customer_id_count</th>\n",
       "      <th>ord_ts_count</th>\n",
       "      <th>ord_amount_min</th>\n",
       "      <th>ord_amount_max</th>\n",
       "      <th>ord_amount_sum</th>\n",
       "      <th>ord_customer_id:1</th>\n",
       "      <th>ord_amount_label</th>\n",
       "    </tr>\n",
       "  </thead>\n",
       "  <tbody>\n",
       "    <tr>\n",
       "      <th>0</th>\n",
       "      <td>1</td>\n",
       "      <td>wes</td>\n",
       "      <td>1</td>\n",
       "      <td>3</td>\n",
       "      <td>3</td>\n",
       "      <td>3</td>\n",
       "      <td>10.0</td>\n",
       "      <td>325.0</td>\n",
       "      <td>346.5</td>\n",
       "      <td>1.0</td>\n",
       "      <td>12000.0</td>\n",
       "    </tr>\n",
       "    <tr>\n",
       "      <th>1</th>\n",
       "      <td>2</td>\n",
       "      <td>john</td>\n",
       "      <td>2</td>\n",
       "      <td>3</td>\n",
       "      <td>3</td>\n",
       "      <td>3</td>\n",
       "      <td>23.0</td>\n",
       "      <td>150.0</td>\n",
       "      <td>273.0</td>\n",
       "      <td>NaN</td>\n",
       "      <td>NaN</td>\n",
       "    </tr>\n",
       "  </tbody>\n",
       "</table>\n",
       "</div>"
      ],
      "text/plain": [
       "   cust_id cust_name  ord_customer_id  ord_id_count  ord_customer_id_count  \\\n",
       "0        1       wes                1             3                      3   \n",
       "1        2      john                2             3                      3   \n",
       "\n",
       "   ord_ts_count  ord_amount_min  ord_amount_max  ord_amount_sum  \\\n",
       "0             3            10.0           325.0           346.5   \n",
       "1             3            23.0           150.0           273.0   \n",
       "\n",
       "   ord_customer_id:1  ord_amount_label  \n",
       "0                1.0           12000.0  \n",
       "1                NaN               NaN  "
      ]
     },
     "execution_count": 31,
     "metadata": {},
     "output_type": "execute_result"
    }
   ],
   "source": [
    "pd.read_sql_query(\"select * from SQLNode_cust_join1\", conn)"
   ]
  },
  {
   "cell_type": "code",
   "execution_count": 32,
   "id": "e60991f2",
   "metadata": {},
   "outputs": [
    {
     "data": {
      "text/html": [
       "<div>\n",
       "<style scoped>\n",
       "    .dataframe tbody tr th:only-of-type {\n",
       "        vertical-align: middle;\n",
       "    }\n",
       "\n",
       "    .dataframe tbody tr th {\n",
       "        vertical-align: top;\n",
       "    }\n",
       "\n",
       "    .dataframe thead th {\n",
       "        text-align: right;\n",
       "    }\n",
       "</style>\n",
       "<table border=\"1\" class=\"dataframe\">\n",
       "  <thead>\n",
       "    <tr style=\"text-align: right;\">\n",
       "      <th></th>\n",
       "      <th>ord_id</th>\n",
       "      <th>ord_customer_id</th>\n",
       "      <th>ord_ts</th>\n",
       "      <th>ord_amount</th>\n",
       "    </tr>\n",
       "  </thead>\n",
       "  <tbody>\n",
       "    <tr>\n",
       "      <th>0</th>\n",
       "      <td>1</td>\n",
       "      <td>1</td>\n",
       "      <td>2023-05-12</td>\n",
       "      <td>10.0</td>\n",
       "    </tr>\n",
       "    <tr>\n",
       "      <th>1</th>\n",
       "      <td>2</td>\n",
       "      <td>1</td>\n",
       "      <td>2023-06-01</td>\n",
       "      <td>11.5</td>\n",
       "    </tr>\n",
       "    <tr>\n",
       "      <th>2</th>\n",
       "      <td>3</td>\n",
       "      <td>2</td>\n",
       "      <td>2023-01-01</td>\n",
       "      <td>100.0</td>\n",
       "    </tr>\n",
       "    <tr>\n",
       "      <th>3</th>\n",
       "      <td>4</td>\n",
       "      <td>2</td>\n",
       "      <td>2022-08-05</td>\n",
       "      <td>150.0</td>\n",
       "    </tr>\n",
       "    <tr>\n",
       "      <th>4</th>\n",
       "      <td>5</td>\n",
       "      <td>1</td>\n",
       "      <td>2023-07-01</td>\n",
       "      <td>325.0</td>\n",
       "    </tr>\n",
       "    <tr>\n",
       "      <th>5</th>\n",
       "      <td>6</td>\n",
       "      <td>2</td>\n",
       "      <td>2023-07-02</td>\n",
       "      <td>23.0</td>\n",
       "    </tr>\n",
       "    <tr>\n",
       "      <th>6</th>\n",
       "      <td>7</td>\n",
       "      <td>1</td>\n",
       "      <td>2023-07-14</td>\n",
       "      <td>12000.0</td>\n",
       "    </tr>\n",
       "  </tbody>\n",
       "</table>\n",
       "</div>"
      ],
      "text/plain": [
       "   ord_id  ord_customer_id      ord_ts  ord_amount\n",
       "0       1                1  2023-05-12        10.0\n",
       "1       2                1  2023-06-01        11.5\n",
       "2       3                2  2023-01-01       100.0\n",
       "3       4                2  2022-08-05       150.0\n",
       "4       5                1  2023-07-01       325.0\n",
       "5       6                2  2023-07-02        23.0\n",
       "6       7                1  2023-07-14     12000.0"
      ]
     },
     "execution_count": 32,
     "metadata": {},
     "output_type": "execute_result"
    }
   ],
   "source": [
    "pd.read_sql_query(\"select * from SQLNode_orders_do_data\", conn)"
   ]
  },
  {
   "cell_type": "code",
   "execution_count": null,
   "id": "92e35cfa",
   "metadata": {},
   "outputs": [],
   "source": []
  }
 ],
 "metadata": {
  "kernelspec": {
   "display_name": "Python 3 (ipykernel)",
   "language": "python",
   "name": "python3"
  },
  "language_info": {
   "codemirror_mode": {
    "name": "ipython",
    "version": 3
   },
   "file_extension": ".py",
   "mimetype": "text/x-python",
   "name": "python",
   "nbconvert_exporter": "python",
   "pygments_lexer": "ipython3",
   "version": "3.9.19"
  }
 },
 "nbformat": 4,
 "nbformat_minor": 5
}
